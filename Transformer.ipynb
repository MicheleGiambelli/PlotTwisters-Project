{
  "nbformat": 4,
  "nbformat_minor": 0,
  "metadata": {
    "colab": {
      "provenance": [],
      "gpuType": "T4",
      "include_colab_link": true
    },
    "kernelspec": {
      "name": "python3",
      "display_name": "Python 3"
    },
    "language_info": {
      "name": "python"
    },
    "widgets": {
      "application/vnd.jupyter.widget-state+json": {
        "b2a5ea1cfeae456e9a031bc2bf26404b": {
          "model_module": "@jupyter-widgets/controls",
          "model_name": "HBoxModel",
          "model_module_version": "1.5.0",
          "state": {
            "_dom_classes": [],
            "_model_module": "@jupyter-widgets/controls",
            "_model_module_version": "1.5.0",
            "_model_name": "HBoxModel",
            "_view_count": null,
            "_view_module": "@jupyter-widgets/controls",
            "_view_module_version": "1.5.0",
            "_view_name": "HBoxView",
            "box_style": "",
            "children": [
              "IPY_MODEL_7a3548be3c5541519b06545b0c575362",
              "IPY_MODEL_f815070ce7774e80bf2a400cbba3ce54",
              "IPY_MODEL_eee1150ecfb2444aa454416ad133bd3c"
            ],
            "layout": "IPY_MODEL_ebb132888f424e748f1067950990380b"
          }
        },
        "7a3548be3c5541519b06545b0c575362": {
          "model_module": "@jupyter-widgets/controls",
          "model_name": "HTMLModel",
          "model_module_version": "1.5.0",
          "state": {
            "_dom_classes": [],
            "_model_module": "@jupyter-widgets/controls",
            "_model_module_version": "1.5.0",
            "_model_name": "HTMLModel",
            "_view_count": null,
            "_view_module": "@jupyter-widgets/controls",
            "_view_module_version": "1.5.0",
            "_view_name": "HTMLView",
            "description": "",
            "description_tooltip": null,
            "layout": "IPY_MODEL_5394408a52b64dc7ae28b84772ad19f8",
            "placeholder": "​",
            "style": "IPY_MODEL_28a5579044c84932b6b54ee7c3675c55",
            "value": "tokenizer_config.json: 100%"
          }
        },
        "f815070ce7774e80bf2a400cbba3ce54": {
          "model_module": "@jupyter-widgets/controls",
          "model_name": "FloatProgressModel",
          "model_module_version": "1.5.0",
          "state": {
            "_dom_classes": [],
            "_model_module": "@jupyter-widgets/controls",
            "_model_module_version": "1.5.0",
            "_model_name": "FloatProgressModel",
            "_view_count": null,
            "_view_module": "@jupyter-widgets/controls",
            "_view_module_version": "1.5.0",
            "_view_name": "ProgressView",
            "bar_style": "success",
            "description": "",
            "description_tooltip": null,
            "layout": "IPY_MODEL_4350dc3fc8cd441b92a18fc32f8965ae",
            "max": 49,
            "min": 0,
            "orientation": "horizontal",
            "style": "IPY_MODEL_517bfa4c4d924118808e802afd28f472",
            "value": 49
          }
        },
        "eee1150ecfb2444aa454416ad133bd3c": {
          "model_module": "@jupyter-widgets/controls",
          "model_name": "HTMLModel",
          "model_module_version": "1.5.0",
          "state": {
            "_dom_classes": [],
            "_model_module": "@jupyter-widgets/controls",
            "_model_module_version": "1.5.0",
            "_model_name": "HTMLModel",
            "_view_count": null,
            "_view_module": "@jupyter-widgets/controls",
            "_view_module_version": "1.5.0",
            "_view_name": "HTMLView",
            "description": "",
            "description_tooltip": null,
            "layout": "IPY_MODEL_be9e421e67784ede83145a58ed08feb0",
            "placeholder": "​",
            "style": "IPY_MODEL_3befc9270b224c52a26a46513c6645f5",
            "value": " 49.0/49.0 [00:00&lt;00:00, 1.20kB/s]"
          }
        },
        "ebb132888f424e748f1067950990380b": {
          "model_module": "@jupyter-widgets/base",
          "model_name": "LayoutModel",
          "model_module_version": "1.2.0",
          "state": {
            "_model_module": "@jupyter-widgets/base",
            "_model_module_version": "1.2.0",
            "_model_name": "LayoutModel",
            "_view_count": null,
            "_view_module": "@jupyter-widgets/base",
            "_view_module_version": "1.2.0",
            "_view_name": "LayoutView",
            "align_content": null,
            "align_items": null,
            "align_self": null,
            "border": null,
            "bottom": null,
            "display": null,
            "flex": null,
            "flex_flow": null,
            "grid_area": null,
            "grid_auto_columns": null,
            "grid_auto_flow": null,
            "grid_auto_rows": null,
            "grid_column": null,
            "grid_gap": null,
            "grid_row": null,
            "grid_template_areas": null,
            "grid_template_columns": null,
            "grid_template_rows": null,
            "height": null,
            "justify_content": null,
            "justify_items": null,
            "left": null,
            "margin": null,
            "max_height": null,
            "max_width": null,
            "min_height": null,
            "min_width": null,
            "object_fit": null,
            "object_position": null,
            "order": null,
            "overflow": null,
            "overflow_x": null,
            "overflow_y": null,
            "padding": null,
            "right": null,
            "top": null,
            "visibility": null,
            "width": null
          }
        },
        "5394408a52b64dc7ae28b84772ad19f8": {
          "model_module": "@jupyter-widgets/base",
          "model_name": "LayoutModel",
          "model_module_version": "1.2.0",
          "state": {
            "_model_module": "@jupyter-widgets/base",
            "_model_module_version": "1.2.0",
            "_model_name": "LayoutModel",
            "_view_count": null,
            "_view_module": "@jupyter-widgets/base",
            "_view_module_version": "1.2.0",
            "_view_name": "LayoutView",
            "align_content": null,
            "align_items": null,
            "align_self": null,
            "border": null,
            "bottom": null,
            "display": null,
            "flex": null,
            "flex_flow": null,
            "grid_area": null,
            "grid_auto_columns": null,
            "grid_auto_flow": null,
            "grid_auto_rows": null,
            "grid_column": null,
            "grid_gap": null,
            "grid_row": null,
            "grid_template_areas": null,
            "grid_template_columns": null,
            "grid_template_rows": null,
            "height": null,
            "justify_content": null,
            "justify_items": null,
            "left": null,
            "margin": null,
            "max_height": null,
            "max_width": null,
            "min_height": null,
            "min_width": null,
            "object_fit": null,
            "object_position": null,
            "order": null,
            "overflow": null,
            "overflow_x": null,
            "overflow_y": null,
            "padding": null,
            "right": null,
            "top": null,
            "visibility": null,
            "width": null
          }
        },
        "28a5579044c84932b6b54ee7c3675c55": {
          "model_module": "@jupyter-widgets/controls",
          "model_name": "DescriptionStyleModel",
          "model_module_version": "1.5.0",
          "state": {
            "_model_module": "@jupyter-widgets/controls",
            "_model_module_version": "1.5.0",
            "_model_name": "DescriptionStyleModel",
            "_view_count": null,
            "_view_module": "@jupyter-widgets/base",
            "_view_module_version": "1.2.0",
            "_view_name": "StyleView",
            "description_width": ""
          }
        },
        "4350dc3fc8cd441b92a18fc32f8965ae": {
          "model_module": "@jupyter-widgets/base",
          "model_name": "LayoutModel",
          "model_module_version": "1.2.0",
          "state": {
            "_model_module": "@jupyter-widgets/base",
            "_model_module_version": "1.2.0",
            "_model_name": "LayoutModel",
            "_view_count": null,
            "_view_module": "@jupyter-widgets/base",
            "_view_module_version": "1.2.0",
            "_view_name": "LayoutView",
            "align_content": null,
            "align_items": null,
            "align_self": null,
            "border": null,
            "bottom": null,
            "display": null,
            "flex": null,
            "flex_flow": null,
            "grid_area": null,
            "grid_auto_columns": null,
            "grid_auto_flow": null,
            "grid_auto_rows": null,
            "grid_column": null,
            "grid_gap": null,
            "grid_row": null,
            "grid_template_areas": null,
            "grid_template_columns": null,
            "grid_template_rows": null,
            "height": null,
            "justify_content": null,
            "justify_items": null,
            "left": null,
            "margin": null,
            "max_height": null,
            "max_width": null,
            "min_height": null,
            "min_width": null,
            "object_fit": null,
            "object_position": null,
            "order": null,
            "overflow": null,
            "overflow_x": null,
            "overflow_y": null,
            "padding": null,
            "right": null,
            "top": null,
            "visibility": null,
            "width": null
          }
        },
        "517bfa4c4d924118808e802afd28f472": {
          "model_module": "@jupyter-widgets/controls",
          "model_name": "ProgressStyleModel",
          "model_module_version": "1.5.0",
          "state": {
            "_model_module": "@jupyter-widgets/controls",
            "_model_module_version": "1.5.0",
            "_model_name": "ProgressStyleModel",
            "_view_count": null,
            "_view_module": "@jupyter-widgets/base",
            "_view_module_version": "1.2.0",
            "_view_name": "StyleView",
            "bar_color": null,
            "description_width": ""
          }
        },
        "be9e421e67784ede83145a58ed08feb0": {
          "model_module": "@jupyter-widgets/base",
          "model_name": "LayoutModel",
          "model_module_version": "1.2.0",
          "state": {
            "_model_module": "@jupyter-widgets/base",
            "_model_module_version": "1.2.0",
            "_model_name": "LayoutModel",
            "_view_count": null,
            "_view_module": "@jupyter-widgets/base",
            "_view_module_version": "1.2.0",
            "_view_name": "LayoutView",
            "align_content": null,
            "align_items": null,
            "align_self": null,
            "border": null,
            "bottom": null,
            "display": null,
            "flex": null,
            "flex_flow": null,
            "grid_area": null,
            "grid_auto_columns": null,
            "grid_auto_flow": null,
            "grid_auto_rows": null,
            "grid_column": null,
            "grid_gap": null,
            "grid_row": null,
            "grid_template_areas": null,
            "grid_template_columns": null,
            "grid_template_rows": null,
            "height": null,
            "justify_content": null,
            "justify_items": null,
            "left": null,
            "margin": null,
            "max_height": null,
            "max_width": null,
            "min_height": null,
            "min_width": null,
            "object_fit": null,
            "object_position": null,
            "order": null,
            "overflow": null,
            "overflow_x": null,
            "overflow_y": null,
            "padding": null,
            "right": null,
            "top": null,
            "visibility": null,
            "width": null
          }
        },
        "3befc9270b224c52a26a46513c6645f5": {
          "model_module": "@jupyter-widgets/controls",
          "model_name": "DescriptionStyleModel",
          "model_module_version": "1.5.0",
          "state": {
            "_model_module": "@jupyter-widgets/controls",
            "_model_module_version": "1.5.0",
            "_model_name": "DescriptionStyleModel",
            "_view_count": null,
            "_view_module": "@jupyter-widgets/base",
            "_view_module_version": "1.2.0",
            "_view_name": "StyleView",
            "description_width": ""
          }
        },
        "b7906ac9916945a1a0204e58e2daa045": {
          "model_module": "@jupyter-widgets/controls",
          "model_name": "HBoxModel",
          "model_module_version": "1.5.0",
          "state": {
            "_dom_classes": [],
            "_model_module": "@jupyter-widgets/controls",
            "_model_module_version": "1.5.0",
            "_model_name": "HBoxModel",
            "_view_count": null,
            "_view_module": "@jupyter-widgets/controls",
            "_view_module_version": "1.5.0",
            "_view_name": "HBoxView",
            "box_style": "",
            "children": [
              "IPY_MODEL_7a1ba87bdf4c4261ac3948cfb7d36618",
              "IPY_MODEL_b110783bea00411f8186b79eed479457",
              "IPY_MODEL_cada6416a532440aa5f68690271686b1"
            ],
            "layout": "IPY_MODEL_f8b0e03539b64dd0b408d7b470e4b8a4"
          }
        },
        "7a1ba87bdf4c4261ac3948cfb7d36618": {
          "model_module": "@jupyter-widgets/controls",
          "model_name": "HTMLModel",
          "model_module_version": "1.5.0",
          "state": {
            "_dom_classes": [],
            "_model_module": "@jupyter-widgets/controls",
            "_model_module_version": "1.5.0",
            "_model_name": "HTMLModel",
            "_view_count": null,
            "_view_module": "@jupyter-widgets/controls",
            "_view_module_version": "1.5.0",
            "_view_name": "HTMLView",
            "description": "",
            "description_tooltip": null,
            "layout": "IPY_MODEL_37c30c63b1a54ab19372fffd3d1560bd",
            "placeholder": "​",
            "style": "IPY_MODEL_293f8bc4fafd4ca6abe13b114d338718",
            "value": "config.json: 100%"
          }
        },
        "b110783bea00411f8186b79eed479457": {
          "model_module": "@jupyter-widgets/controls",
          "model_name": "FloatProgressModel",
          "model_module_version": "1.5.0",
          "state": {
            "_dom_classes": [],
            "_model_module": "@jupyter-widgets/controls",
            "_model_module_version": "1.5.0",
            "_model_name": "FloatProgressModel",
            "_view_count": null,
            "_view_module": "@jupyter-widgets/controls",
            "_view_module_version": "1.5.0",
            "_view_name": "ProgressView",
            "bar_style": "success",
            "description": "",
            "description_tooltip": null,
            "layout": "IPY_MODEL_07314778160a405d8c733fadbbb7d5a0",
            "max": 465,
            "min": 0,
            "orientation": "horizontal",
            "style": "IPY_MODEL_f1741ae0cdd64e4bb850b5c4a262d618",
            "value": 465
          }
        },
        "cada6416a532440aa5f68690271686b1": {
          "model_module": "@jupyter-widgets/controls",
          "model_name": "HTMLModel",
          "model_module_version": "1.5.0",
          "state": {
            "_dom_classes": [],
            "_model_module": "@jupyter-widgets/controls",
            "_model_module_version": "1.5.0",
            "_model_name": "HTMLModel",
            "_view_count": null,
            "_view_module": "@jupyter-widgets/controls",
            "_view_module_version": "1.5.0",
            "_view_name": "HTMLView",
            "description": "",
            "description_tooltip": null,
            "layout": "IPY_MODEL_e498953552014db5b99bcb1aee9c2b3c",
            "placeholder": "​",
            "style": "IPY_MODEL_567f4a21c5e643c8b4d94fcecb151dba",
            "value": " 465/465 [00:00&lt;00:00, 34.8kB/s]"
          }
        },
        "f8b0e03539b64dd0b408d7b470e4b8a4": {
          "model_module": "@jupyter-widgets/base",
          "model_name": "LayoutModel",
          "model_module_version": "1.2.0",
          "state": {
            "_model_module": "@jupyter-widgets/base",
            "_model_module_version": "1.2.0",
            "_model_name": "LayoutModel",
            "_view_count": null,
            "_view_module": "@jupyter-widgets/base",
            "_view_module_version": "1.2.0",
            "_view_name": "LayoutView",
            "align_content": null,
            "align_items": null,
            "align_self": null,
            "border": null,
            "bottom": null,
            "display": null,
            "flex": null,
            "flex_flow": null,
            "grid_area": null,
            "grid_auto_columns": null,
            "grid_auto_flow": null,
            "grid_auto_rows": null,
            "grid_column": null,
            "grid_gap": null,
            "grid_row": null,
            "grid_template_areas": null,
            "grid_template_columns": null,
            "grid_template_rows": null,
            "height": null,
            "justify_content": null,
            "justify_items": null,
            "left": null,
            "margin": null,
            "max_height": null,
            "max_width": null,
            "min_height": null,
            "min_width": null,
            "object_fit": null,
            "object_position": null,
            "order": null,
            "overflow": null,
            "overflow_x": null,
            "overflow_y": null,
            "padding": null,
            "right": null,
            "top": null,
            "visibility": null,
            "width": null
          }
        },
        "37c30c63b1a54ab19372fffd3d1560bd": {
          "model_module": "@jupyter-widgets/base",
          "model_name": "LayoutModel",
          "model_module_version": "1.2.0",
          "state": {
            "_model_module": "@jupyter-widgets/base",
            "_model_module_version": "1.2.0",
            "_model_name": "LayoutModel",
            "_view_count": null,
            "_view_module": "@jupyter-widgets/base",
            "_view_module_version": "1.2.0",
            "_view_name": "LayoutView",
            "align_content": null,
            "align_items": null,
            "align_self": null,
            "border": null,
            "bottom": null,
            "display": null,
            "flex": null,
            "flex_flow": null,
            "grid_area": null,
            "grid_auto_columns": null,
            "grid_auto_flow": null,
            "grid_auto_rows": null,
            "grid_column": null,
            "grid_gap": null,
            "grid_row": null,
            "grid_template_areas": null,
            "grid_template_columns": null,
            "grid_template_rows": null,
            "height": null,
            "justify_content": null,
            "justify_items": null,
            "left": null,
            "margin": null,
            "max_height": null,
            "max_width": null,
            "min_height": null,
            "min_width": null,
            "object_fit": null,
            "object_position": null,
            "order": null,
            "overflow": null,
            "overflow_x": null,
            "overflow_y": null,
            "padding": null,
            "right": null,
            "top": null,
            "visibility": null,
            "width": null
          }
        },
        "293f8bc4fafd4ca6abe13b114d338718": {
          "model_module": "@jupyter-widgets/controls",
          "model_name": "DescriptionStyleModel",
          "model_module_version": "1.5.0",
          "state": {
            "_model_module": "@jupyter-widgets/controls",
            "_model_module_version": "1.5.0",
            "_model_name": "DescriptionStyleModel",
            "_view_count": null,
            "_view_module": "@jupyter-widgets/base",
            "_view_module_version": "1.2.0",
            "_view_name": "StyleView",
            "description_width": ""
          }
        },
        "07314778160a405d8c733fadbbb7d5a0": {
          "model_module": "@jupyter-widgets/base",
          "model_name": "LayoutModel",
          "model_module_version": "1.2.0",
          "state": {
            "_model_module": "@jupyter-widgets/base",
            "_model_module_version": "1.2.0",
            "_model_name": "LayoutModel",
            "_view_count": null,
            "_view_module": "@jupyter-widgets/base",
            "_view_module_version": "1.2.0",
            "_view_name": "LayoutView",
            "align_content": null,
            "align_items": null,
            "align_self": null,
            "border": null,
            "bottom": null,
            "display": null,
            "flex": null,
            "flex_flow": null,
            "grid_area": null,
            "grid_auto_columns": null,
            "grid_auto_flow": null,
            "grid_auto_rows": null,
            "grid_column": null,
            "grid_gap": null,
            "grid_row": null,
            "grid_template_areas": null,
            "grid_template_columns": null,
            "grid_template_rows": null,
            "height": null,
            "justify_content": null,
            "justify_items": null,
            "left": null,
            "margin": null,
            "max_height": null,
            "max_width": null,
            "min_height": null,
            "min_width": null,
            "object_fit": null,
            "object_position": null,
            "order": null,
            "overflow": null,
            "overflow_x": null,
            "overflow_y": null,
            "padding": null,
            "right": null,
            "top": null,
            "visibility": null,
            "width": null
          }
        },
        "f1741ae0cdd64e4bb850b5c4a262d618": {
          "model_module": "@jupyter-widgets/controls",
          "model_name": "ProgressStyleModel",
          "model_module_version": "1.5.0",
          "state": {
            "_model_module": "@jupyter-widgets/controls",
            "_model_module_version": "1.5.0",
            "_model_name": "ProgressStyleModel",
            "_view_count": null,
            "_view_module": "@jupyter-widgets/base",
            "_view_module_version": "1.2.0",
            "_view_name": "StyleView",
            "bar_color": null,
            "description_width": ""
          }
        },
        "e498953552014db5b99bcb1aee9c2b3c": {
          "model_module": "@jupyter-widgets/base",
          "model_name": "LayoutModel",
          "model_module_version": "1.2.0",
          "state": {
            "_model_module": "@jupyter-widgets/base",
            "_model_module_version": "1.2.0",
            "_model_name": "LayoutModel",
            "_view_count": null,
            "_view_module": "@jupyter-widgets/base",
            "_view_module_version": "1.2.0",
            "_view_name": "LayoutView",
            "align_content": null,
            "align_items": null,
            "align_self": null,
            "border": null,
            "bottom": null,
            "display": null,
            "flex": null,
            "flex_flow": null,
            "grid_area": null,
            "grid_auto_columns": null,
            "grid_auto_flow": null,
            "grid_auto_rows": null,
            "grid_column": null,
            "grid_gap": null,
            "grid_row": null,
            "grid_template_areas": null,
            "grid_template_columns": null,
            "grid_template_rows": null,
            "height": null,
            "justify_content": null,
            "justify_items": null,
            "left": null,
            "margin": null,
            "max_height": null,
            "max_width": null,
            "min_height": null,
            "min_width": null,
            "object_fit": null,
            "object_position": null,
            "order": null,
            "overflow": null,
            "overflow_x": null,
            "overflow_y": null,
            "padding": null,
            "right": null,
            "top": null,
            "visibility": null,
            "width": null
          }
        },
        "567f4a21c5e643c8b4d94fcecb151dba": {
          "model_module": "@jupyter-widgets/controls",
          "model_name": "DescriptionStyleModel",
          "model_module_version": "1.5.0",
          "state": {
            "_model_module": "@jupyter-widgets/controls",
            "_model_module_version": "1.5.0",
            "_model_name": "DescriptionStyleModel",
            "_view_count": null,
            "_view_module": "@jupyter-widgets/base",
            "_view_module_version": "1.2.0",
            "_view_name": "StyleView",
            "description_width": ""
          }
        },
        "d58992b871d846309b7d61ee8fb28bbc": {
          "model_module": "@jupyter-widgets/controls",
          "model_name": "HBoxModel",
          "model_module_version": "1.5.0",
          "state": {
            "_dom_classes": [],
            "_model_module": "@jupyter-widgets/controls",
            "_model_module_version": "1.5.0",
            "_model_name": "HBoxModel",
            "_view_count": null,
            "_view_module": "@jupyter-widgets/controls",
            "_view_module_version": "1.5.0",
            "_view_name": "HBoxView",
            "box_style": "",
            "children": [
              "IPY_MODEL_3fef0f14efc347178bd9763444e71a72",
              "IPY_MODEL_303f16bc48d84d9a933cfc1ea8e6dc2d",
              "IPY_MODEL_7269241dbb1140a4953208b0e26fedcc"
            ],
            "layout": "IPY_MODEL_20d561dd9d1b42aba79364ef5001f926"
          }
        },
        "3fef0f14efc347178bd9763444e71a72": {
          "model_module": "@jupyter-widgets/controls",
          "model_name": "HTMLModel",
          "model_module_version": "1.5.0",
          "state": {
            "_dom_classes": [],
            "_model_module": "@jupyter-widgets/controls",
            "_model_module_version": "1.5.0",
            "_model_name": "HTMLModel",
            "_view_count": null,
            "_view_module": "@jupyter-widgets/controls",
            "_view_module_version": "1.5.0",
            "_view_name": "HTMLView",
            "description": "",
            "description_tooltip": null,
            "layout": "IPY_MODEL_cc9eb411cc40456b944786c37c5d7f8f",
            "placeholder": "​",
            "style": "IPY_MODEL_a6c59ea108cb47afbaf89ef069ae00bb",
            "value": "vocab.txt: 100%"
          }
        },
        "303f16bc48d84d9a933cfc1ea8e6dc2d": {
          "model_module": "@jupyter-widgets/controls",
          "model_name": "FloatProgressModel",
          "model_module_version": "1.5.0",
          "state": {
            "_dom_classes": [],
            "_model_module": "@jupyter-widgets/controls",
            "_model_module_version": "1.5.0",
            "_model_name": "FloatProgressModel",
            "_view_count": null,
            "_view_module": "@jupyter-widgets/controls",
            "_view_module_version": "1.5.0",
            "_view_name": "ProgressView",
            "bar_style": "success",
            "description": "",
            "description_tooltip": null,
            "layout": "IPY_MODEL_359dc7d254114df39d755934e4cba758",
            "max": 213450,
            "min": 0,
            "orientation": "horizontal",
            "style": "IPY_MODEL_59d91ed667b9421b890e1af54a3933b8",
            "value": 213450
          }
        },
        "7269241dbb1140a4953208b0e26fedcc": {
          "model_module": "@jupyter-widgets/controls",
          "model_name": "HTMLModel",
          "model_module_version": "1.5.0",
          "state": {
            "_dom_classes": [],
            "_model_module": "@jupyter-widgets/controls",
            "_model_module_version": "1.5.0",
            "_model_name": "HTMLModel",
            "_view_count": null,
            "_view_module": "@jupyter-widgets/controls",
            "_view_module_version": "1.5.0",
            "_view_name": "HTMLView",
            "description": "",
            "description_tooltip": null,
            "layout": "IPY_MODEL_bf979f71af154fe3bca777c13b394be7",
            "placeholder": "​",
            "style": "IPY_MODEL_7bcb95b7ff1c4d46858dc543605f383c",
            "value": " 213k/213k [00:00&lt;00:00, 451kB/s]"
          }
        },
        "20d561dd9d1b42aba79364ef5001f926": {
          "model_module": "@jupyter-widgets/base",
          "model_name": "LayoutModel",
          "model_module_version": "1.2.0",
          "state": {
            "_model_module": "@jupyter-widgets/base",
            "_model_module_version": "1.2.0",
            "_model_name": "LayoutModel",
            "_view_count": null,
            "_view_module": "@jupyter-widgets/base",
            "_view_module_version": "1.2.0",
            "_view_name": "LayoutView",
            "align_content": null,
            "align_items": null,
            "align_self": null,
            "border": null,
            "bottom": null,
            "display": null,
            "flex": null,
            "flex_flow": null,
            "grid_area": null,
            "grid_auto_columns": null,
            "grid_auto_flow": null,
            "grid_auto_rows": null,
            "grid_column": null,
            "grid_gap": null,
            "grid_row": null,
            "grid_template_areas": null,
            "grid_template_columns": null,
            "grid_template_rows": null,
            "height": null,
            "justify_content": null,
            "justify_items": null,
            "left": null,
            "margin": null,
            "max_height": null,
            "max_width": null,
            "min_height": null,
            "min_width": null,
            "object_fit": null,
            "object_position": null,
            "order": null,
            "overflow": null,
            "overflow_x": null,
            "overflow_y": null,
            "padding": null,
            "right": null,
            "top": null,
            "visibility": null,
            "width": null
          }
        },
        "cc9eb411cc40456b944786c37c5d7f8f": {
          "model_module": "@jupyter-widgets/base",
          "model_name": "LayoutModel",
          "model_module_version": "1.2.0",
          "state": {
            "_model_module": "@jupyter-widgets/base",
            "_model_module_version": "1.2.0",
            "_model_name": "LayoutModel",
            "_view_count": null,
            "_view_module": "@jupyter-widgets/base",
            "_view_module_version": "1.2.0",
            "_view_name": "LayoutView",
            "align_content": null,
            "align_items": null,
            "align_self": null,
            "border": null,
            "bottom": null,
            "display": null,
            "flex": null,
            "flex_flow": null,
            "grid_area": null,
            "grid_auto_columns": null,
            "grid_auto_flow": null,
            "grid_auto_rows": null,
            "grid_column": null,
            "grid_gap": null,
            "grid_row": null,
            "grid_template_areas": null,
            "grid_template_columns": null,
            "grid_template_rows": null,
            "height": null,
            "justify_content": null,
            "justify_items": null,
            "left": null,
            "margin": null,
            "max_height": null,
            "max_width": null,
            "min_height": null,
            "min_width": null,
            "object_fit": null,
            "object_position": null,
            "order": null,
            "overflow": null,
            "overflow_x": null,
            "overflow_y": null,
            "padding": null,
            "right": null,
            "top": null,
            "visibility": null,
            "width": null
          }
        },
        "a6c59ea108cb47afbaf89ef069ae00bb": {
          "model_module": "@jupyter-widgets/controls",
          "model_name": "DescriptionStyleModel",
          "model_module_version": "1.5.0",
          "state": {
            "_model_module": "@jupyter-widgets/controls",
            "_model_module_version": "1.5.0",
            "_model_name": "DescriptionStyleModel",
            "_view_count": null,
            "_view_module": "@jupyter-widgets/base",
            "_view_module_version": "1.2.0",
            "_view_name": "StyleView",
            "description_width": ""
          }
        },
        "359dc7d254114df39d755934e4cba758": {
          "model_module": "@jupyter-widgets/base",
          "model_name": "LayoutModel",
          "model_module_version": "1.2.0",
          "state": {
            "_model_module": "@jupyter-widgets/base",
            "_model_module_version": "1.2.0",
            "_model_name": "LayoutModel",
            "_view_count": null,
            "_view_module": "@jupyter-widgets/base",
            "_view_module_version": "1.2.0",
            "_view_name": "LayoutView",
            "align_content": null,
            "align_items": null,
            "align_self": null,
            "border": null,
            "bottom": null,
            "display": null,
            "flex": null,
            "flex_flow": null,
            "grid_area": null,
            "grid_auto_columns": null,
            "grid_auto_flow": null,
            "grid_auto_rows": null,
            "grid_column": null,
            "grid_gap": null,
            "grid_row": null,
            "grid_template_areas": null,
            "grid_template_columns": null,
            "grid_template_rows": null,
            "height": null,
            "justify_content": null,
            "justify_items": null,
            "left": null,
            "margin": null,
            "max_height": null,
            "max_width": null,
            "min_height": null,
            "min_width": null,
            "object_fit": null,
            "object_position": null,
            "order": null,
            "overflow": null,
            "overflow_x": null,
            "overflow_y": null,
            "padding": null,
            "right": null,
            "top": null,
            "visibility": null,
            "width": null
          }
        },
        "59d91ed667b9421b890e1af54a3933b8": {
          "model_module": "@jupyter-widgets/controls",
          "model_name": "ProgressStyleModel",
          "model_module_version": "1.5.0",
          "state": {
            "_model_module": "@jupyter-widgets/controls",
            "_model_module_version": "1.5.0",
            "_model_name": "ProgressStyleModel",
            "_view_count": null,
            "_view_module": "@jupyter-widgets/base",
            "_view_module_version": "1.2.0",
            "_view_name": "StyleView",
            "bar_color": null,
            "description_width": ""
          }
        },
        "bf979f71af154fe3bca777c13b394be7": {
          "model_module": "@jupyter-widgets/base",
          "model_name": "LayoutModel",
          "model_module_version": "1.2.0",
          "state": {
            "_model_module": "@jupyter-widgets/base",
            "_model_module_version": "1.2.0",
            "_model_name": "LayoutModel",
            "_view_count": null,
            "_view_module": "@jupyter-widgets/base",
            "_view_module_version": "1.2.0",
            "_view_name": "LayoutView",
            "align_content": null,
            "align_items": null,
            "align_self": null,
            "border": null,
            "bottom": null,
            "display": null,
            "flex": null,
            "flex_flow": null,
            "grid_area": null,
            "grid_auto_columns": null,
            "grid_auto_flow": null,
            "grid_auto_rows": null,
            "grid_column": null,
            "grid_gap": null,
            "grid_row": null,
            "grid_template_areas": null,
            "grid_template_columns": null,
            "grid_template_rows": null,
            "height": null,
            "justify_content": null,
            "justify_items": null,
            "left": null,
            "margin": null,
            "max_height": null,
            "max_width": null,
            "min_height": null,
            "min_width": null,
            "object_fit": null,
            "object_position": null,
            "order": null,
            "overflow": null,
            "overflow_x": null,
            "overflow_y": null,
            "padding": null,
            "right": null,
            "top": null,
            "visibility": null,
            "width": null
          }
        },
        "7bcb95b7ff1c4d46858dc543605f383c": {
          "model_module": "@jupyter-widgets/controls",
          "model_name": "DescriptionStyleModel",
          "model_module_version": "1.5.0",
          "state": {
            "_model_module": "@jupyter-widgets/controls",
            "_model_module_version": "1.5.0",
            "_model_name": "DescriptionStyleModel",
            "_view_count": null,
            "_view_module": "@jupyter-widgets/base",
            "_view_module_version": "1.2.0",
            "_view_name": "StyleView",
            "description_width": ""
          }
        },
        "27a07061a969491cacf9c2f6aa2e697e": {
          "model_module": "@jupyter-widgets/controls",
          "model_name": "HBoxModel",
          "model_module_version": "1.5.0",
          "state": {
            "_dom_classes": [],
            "_model_module": "@jupyter-widgets/controls",
            "_model_module_version": "1.5.0",
            "_model_name": "HBoxModel",
            "_view_count": null,
            "_view_module": "@jupyter-widgets/controls",
            "_view_module_version": "1.5.0",
            "_view_name": "HBoxView",
            "box_style": "",
            "children": [
              "IPY_MODEL_f2f035185e76405d8eb8e9292865618e",
              "IPY_MODEL_1225130035aa4888bac01980bcc66b07",
              "IPY_MODEL_ed3fd41f7aec4513b9b8113212334886"
            ],
            "layout": "IPY_MODEL_0fd6a05a776d4459a26163f2241a67b6"
          }
        },
        "f2f035185e76405d8eb8e9292865618e": {
          "model_module": "@jupyter-widgets/controls",
          "model_name": "HTMLModel",
          "model_module_version": "1.5.0",
          "state": {
            "_dom_classes": [],
            "_model_module": "@jupyter-widgets/controls",
            "_model_module_version": "1.5.0",
            "_model_name": "HTMLModel",
            "_view_count": null,
            "_view_module": "@jupyter-widgets/controls",
            "_view_module_version": "1.5.0",
            "_view_name": "HTMLView",
            "description": "",
            "description_tooltip": null,
            "layout": "IPY_MODEL_d7a750f1bd7442be9291f1a249b368bc",
            "placeholder": "​",
            "style": "IPY_MODEL_810978e875ef4781937c1e693d4861d2",
            "value": "tokenizer.json: 100%"
          }
        },
        "1225130035aa4888bac01980bcc66b07": {
          "model_module": "@jupyter-widgets/controls",
          "model_name": "FloatProgressModel",
          "model_module_version": "1.5.0",
          "state": {
            "_dom_classes": [],
            "_model_module": "@jupyter-widgets/controls",
            "_model_module_version": "1.5.0",
            "_model_name": "FloatProgressModel",
            "_view_count": null,
            "_view_module": "@jupyter-widgets/controls",
            "_view_module_version": "1.5.0",
            "_view_name": "ProgressView",
            "bar_style": "success",
            "description": "",
            "description_tooltip": null,
            "layout": "IPY_MODEL_2648c8566858405c9b8a9b1e99054c5f",
            "max": 435797,
            "min": 0,
            "orientation": "horizontal",
            "style": "IPY_MODEL_66259695b2f4444081b0b186453938b6",
            "value": 435797
          }
        },
        "ed3fd41f7aec4513b9b8113212334886": {
          "model_module": "@jupyter-widgets/controls",
          "model_name": "HTMLModel",
          "model_module_version": "1.5.0",
          "state": {
            "_dom_classes": [],
            "_model_module": "@jupyter-widgets/controls",
            "_model_module_version": "1.5.0",
            "_model_name": "HTMLModel",
            "_view_count": null,
            "_view_module": "@jupyter-widgets/controls",
            "_view_module_version": "1.5.0",
            "_view_name": "HTMLView",
            "description": "",
            "description_tooltip": null,
            "layout": "IPY_MODEL_21a08cc66a814818a5f90e1fd433d722",
            "placeholder": "​",
            "style": "IPY_MODEL_cd54a9750e374f88a4e501f5ae4816f4",
            "value": " 436k/436k [00:01&lt;00:00, 382kB/s]"
          }
        },
        "0fd6a05a776d4459a26163f2241a67b6": {
          "model_module": "@jupyter-widgets/base",
          "model_name": "LayoutModel",
          "model_module_version": "1.2.0",
          "state": {
            "_model_module": "@jupyter-widgets/base",
            "_model_module_version": "1.2.0",
            "_model_name": "LayoutModel",
            "_view_count": null,
            "_view_module": "@jupyter-widgets/base",
            "_view_module_version": "1.2.0",
            "_view_name": "LayoutView",
            "align_content": null,
            "align_items": null,
            "align_self": null,
            "border": null,
            "bottom": null,
            "display": null,
            "flex": null,
            "flex_flow": null,
            "grid_area": null,
            "grid_auto_columns": null,
            "grid_auto_flow": null,
            "grid_auto_rows": null,
            "grid_column": null,
            "grid_gap": null,
            "grid_row": null,
            "grid_template_areas": null,
            "grid_template_columns": null,
            "grid_template_rows": null,
            "height": null,
            "justify_content": null,
            "justify_items": null,
            "left": null,
            "margin": null,
            "max_height": null,
            "max_width": null,
            "min_height": null,
            "min_width": null,
            "object_fit": null,
            "object_position": null,
            "order": null,
            "overflow": null,
            "overflow_x": null,
            "overflow_y": null,
            "padding": null,
            "right": null,
            "top": null,
            "visibility": null,
            "width": null
          }
        },
        "d7a750f1bd7442be9291f1a249b368bc": {
          "model_module": "@jupyter-widgets/base",
          "model_name": "LayoutModel",
          "model_module_version": "1.2.0",
          "state": {
            "_model_module": "@jupyter-widgets/base",
            "_model_module_version": "1.2.0",
            "_model_name": "LayoutModel",
            "_view_count": null,
            "_view_module": "@jupyter-widgets/base",
            "_view_module_version": "1.2.0",
            "_view_name": "LayoutView",
            "align_content": null,
            "align_items": null,
            "align_self": null,
            "border": null,
            "bottom": null,
            "display": null,
            "flex": null,
            "flex_flow": null,
            "grid_area": null,
            "grid_auto_columns": null,
            "grid_auto_flow": null,
            "grid_auto_rows": null,
            "grid_column": null,
            "grid_gap": null,
            "grid_row": null,
            "grid_template_areas": null,
            "grid_template_columns": null,
            "grid_template_rows": null,
            "height": null,
            "justify_content": null,
            "justify_items": null,
            "left": null,
            "margin": null,
            "max_height": null,
            "max_width": null,
            "min_height": null,
            "min_width": null,
            "object_fit": null,
            "object_position": null,
            "order": null,
            "overflow": null,
            "overflow_x": null,
            "overflow_y": null,
            "padding": null,
            "right": null,
            "top": null,
            "visibility": null,
            "width": null
          }
        },
        "810978e875ef4781937c1e693d4861d2": {
          "model_module": "@jupyter-widgets/controls",
          "model_name": "DescriptionStyleModel",
          "model_module_version": "1.5.0",
          "state": {
            "_model_module": "@jupyter-widgets/controls",
            "_model_module_version": "1.5.0",
            "_model_name": "DescriptionStyleModel",
            "_view_count": null,
            "_view_module": "@jupyter-widgets/base",
            "_view_module_version": "1.2.0",
            "_view_name": "StyleView",
            "description_width": ""
          }
        },
        "2648c8566858405c9b8a9b1e99054c5f": {
          "model_module": "@jupyter-widgets/base",
          "model_name": "LayoutModel",
          "model_module_version": "1.2.0",
          "state": {
            "_model_module": "@jupyter-widgets/base",
            "_model_module_version": "1.2.0",
            "_model_name": "LayoutModel",
            "_view_count": null,
            "_view_module": "@jupyter-widgets/base",
            "_view_module_version": "1.2.0",
            "_view_name": "LayoutView",
            "align_content": null,
            "align_items": null,
            "align_self": null,
            "border": null,
            "bottom": null,
            "display": null,
            "flex": null,
            "flex_flow": null,
            "grid_area": null,
            "grid_auto_columns": null,
            "grid_auto_flow": null,
            "grid_auto_rows": null,
            "grid_column": null,
            "grid_gap": null,
            "grid_row": null,
            "grid_template_areas": null,
            "grid_template_columns": null,
            "grid_template_rows": null,
            "height": null,
            "justify_content": null,
            "justify_items": null,
            "left": null,
            "margin": null,
            "max_height": null,
            "max_width": null,
            "min_height": null,
            "min_width": null,
            "object_fit": null,
            "object_position": null,
            "order": null,
            "overflow": null,
            "overflow_x": null,
            "overflow_y": null,
            "padding": null,
            "right": null,
            "top": null,
            "visibility": null,
            "width": null
          }
        },
        "66259695b2f4444081b0b186453938b6": {
          "model_module": "@jupyter-widgets/controls",
          "model_name": "ProgressStyleModel",
          "model_module_version": "1.5.0",
          "state": {
            "_model_module": "@jupyter-widgets/controls",
            "_model_module_version": "1.5.0",
            "_model_name": "ProgressStyleModel",
            "_view_count": null,
            "_view_module": "@jupyter-widgets/base",
            "_view_module_version": "1.2.0",
            "_view_name": "StyleView",
            "bar_color": null,
            "description_width": ""
          }
        },
        "21a08cc66a814818a5f90e1fd433d722": {
          "model_module": "@jupyter-widgets/base",
          "model_name": "LayoutModel",
          "model_module_version": "1.2.0",
          "state": {
            "_model_module": "@jupyter-widgets/base",
            "_model_module_version": "1.2.0",
            "_model_name": "LayoutModel",
            "_view_count": null,
            "_view_module": "@jupyter-widgets/base",
            "_view_module_version": "1.2.0",
            "_view_name": "LayoutView",
            "align_content": null,
            "align_items": null,
            "align_self": null,
            "border": null,
            "bottom": null,
            "display": null,
            "flex": null,
            "flex_flow": null,
            "grid_area": null,
            "grid_auto_columns": null,
            "grid_auto_flow": null,
            "grid_auto_rows": null,
            "grid_column": null,
            "grid_gap": null,
            "grid_row": null,
            "grid_template_areas": null,
            "grid_template_columns": null,
            "grid_template_rows": null,
            "height": null,
            "justify_content": null,
            "justify_items": null,
            "left": null,
            "margin": null,
            "max_height": null,
            "max_width": null,
            "min_height": null,
            "min_width": null,
            "object_fit": null,
            "object_position": null,
            "order": null,
            "overflow": null,
            "overflow_x": null,
            "overflow_y": null,
            "padding": null,
            "right": null,
            "top": null,
            "visibility": null,
            "width": null
          }
        },
        "cd54a9750e374f88a4e501f5ae4816f4": {
          "model_module": "@jupyter-widgets/controls",
          "model_name": "DescriptionStyleModel",
          "model_module_version": "1.5.0",
          "state": {
            "_model_module": "@jupyter-widgets/controls",
            "_model_module_version": "1.5.0",
            "_model_name": "DescriptionStyleModel",
            "_view_count": null,
            "_view_module": "@jupyter-widgets/base",
            "_view_module_version": "1.2.0",
            "_view_name": "StyleView",
            "description_width": ""
          }
        },
        "6f7b0f5277284377b880d79f63542581": {
          "model_module": "@jupyter-widgets/controls",
          "model_name": "HBoxModel",
          "model_module_version": "1.5.0",
          "state": {
            "_dom_classes": [],
            "_model_module": "@jupyter-widgets/controls",
            "_model_module_version": "1.5.0",
            "_model_name": "HBoxModel",
            "_view_count": null,
            "_view_module": "@jupyter-widgets/controls",
            "_view_module_version": "1.5.0",
            "_view_name": "HBoxView",
            "box_style": "",
            "children": [
              "IPY_MODEL_a62a6a82147a4a7387b30b333189da5d",
              "IPY_MODEL_8aca8e4e22ae4e15bf645504d649987f",
              "IPY_MODEL_b64b8478c8a84a63a6ad4316a8e656bc"
            ],
            "layout": "IPY_MODEL_82ba169266e6402ab457e82070720b28"
          }
        },
        "a62a6a82147a4a7387b30b333189da5d": {
          "model_module": "@jupyter-widgets/controls",
          "model_name": "HTMLModel",
          "model_module_version": "1.5.0",
          "state": {
            "_dom_classes": [],
            "_model_module": "@jupyter-widgets/controls",
            "_model_module_version": "1.5.0",
            "_model_name": "HTMLModel",
            "_view_count": null,
            "_view_module": "@jupyter-widgets/controls",
            "_view_module_version": "1.5.0",
            "_view_name": "HTMLView",
            "description": "",
            "description_tooltip": null,
            "layout": "IPY_MODEL_6316149233ff442d947ed224ebac260f",
            "placeholder": "​",
            "style": "IPY_MODEL_20852dd45a474d5c8af2d37820d0ae43",
            "value": "model.safetensors: 100%"
          }
        },
        "8aca8e4e22ae4e15bf645504d649987f": {
          "model_module": "@jupyter-widgets/controls",
          "model_name": "FloatProgressModel",
          "model_module_version": "1.5.0",
          "state": {
            "_dom_classes": [],
            "_model_module": "@jupyter-widgets/controls",
            "_model_module_version": "1.5.0",
            "_model_name": "FloatProgressModel",
            "_view_count": null,
            "_view_module": "@jupyter-widgets/controls",
            "_view_module_version": "1.5.0",
            "_view_name": "ProgressView",
            "bar_style": "success",
            "description": "",
            "description_tooltip": null,
            "layout": "IPY_MODEL_d9209024ebd748cba51bb547f3c875fb",
            "max": 263260784,
            "min": 0,
            "orientation": "horizontal",
            "style": "IPY_MODEL_693aaf6f50964ae9a218147f571dd06e",
            "value": 263260784
          }
        },
        "b64b8478c8a84a63a6ad4316a8e656bc": {
          "model_module": "@jupyter-widgets/controls",
          "model_name": "HTMLModel",
          "model_module_version": "1.5.0",
          "state": {
            "_dom_classes": [],
            "_model_module": "@jupyter-widgets/controls",
            "_model_module_version": "1.5.0",
            "_model_name": "HTMLModel",
            "_view_count": null,
            "_view_module": "@jupyter-widgets/controls",
            "_view_module_version": "1.5.0",
            "_view_name": "HTMLView",
            "description": "",
            "description_tooltip": null,
            "layout": "IPY_MODEL_dce79208654e4970be2c2e76ae27f264",
            "placeholder": "​",
            "style": "IPY_MODEL_e978dd4e25734bd5abe45ee9345f7477",
            "value": " 263M/263M [00:01&lt;00:00, 213MB/s]"
          }
        },
        "82ba169266e6402ab457e82070720b28": {
          "model_module": "@jupyter-widgets/base",
          "model_name": "LayoutModel",
          "model_module_version": "1.2.0",
          "state": {
            "_model_module": "@jupyter-widgets/base",
            "_model_module_version": "1.2.0",
            "_model_name": "LayoutModel",
            "_view_count": null,
            "_view_module": "@jupyter-widgets/base",
            "_view_module_version": "1.2.0",
            "_view_name": "LayoutView",
            "align_content": null,
            "align_items": null,
            "align_self": null,
            "border": null,
            "bottom": null,
            "display": null,
            "flex": null,
            "flex_flow": null,
            "grid_area": null,
            "grid_auto_columns": null,
            "grid_auto_flow": null,
            "grid_auto_rows": null,
            "grid_column": null,
            "grid_gap": null,
            "grid_row": null,
            "grid_template_areas": null,
            "grid_template_columns": null,
            "grid_template_rows": null,
            "height": null,
            "justify_content": null,
            "justify_items": null,
            "left": null,
            "margin": null,
            "max_height": null,
            "max_width": null,
            "min_height": null,
            "min_width": null,
            "object_fit": null,
            "object_position": null,
            "order": null,
            "overflow": null,
            "overflow_x": null,
            "overflow_y": null,
            "padding": null,
            "right": null,
            "top": null,
            "visibility": null,
            "width": null
          }
        },
        "6316149233ff442d947ed224ebac260f": {
          "model_module": "@jupyter-widgets/base",
          "model_name": "LayoutModel",
          "model_module_version": "1.2.0",
          "state": {
            "_model_module": "@jupyter-widgets/base",
            "_model_module_version": "1.2.0",
            "_model_name": "LayoutModel",
            "_view_count": null,
            "_view_module": "@jupyter-widgets/base",
            "_view_module_version": "1.2.0",
            "_view_name": "LayoutView",
            "align_content": null,
            "align_items": null,
            "align_self": null,
            "border": null,
            "bottom": null,
            "display": null,
            "flex": null,
            "flex_flow": null,
            "grid_area": null,
            "grid_auto_columns": null,
            "grid_auto_flow": null,
            "grid_auto_rows": null,
            "grid_column": null,
            "grid_gap": null,
            "grid_row": null,
            "grid_template_areas": null,
            "grid_template_columns": null,
            "grid_template_rows": null,
            "height": null,
            "justify_content": null,
            "justify_items": null,
            "left": null,
            "margin": null,
            "max_height": null,
            "max_width": null,
            "min_height": null,
            "min_width": null,
            "object_fit": null,
            "object_position": null,
            "order": null,
            "overflow": null,
            "overflow_x": null,
            "overflow_y": null,
            "padding": null,
            "right": null,
            "top": null,
            "visibility": null,
            "width": null
          }
        },
        "20852dd45a474d5c8af2d37820d0ae43": {
          "model_module": "@jupyter-widgets/controls",
          "model_name": "DescriptionStyleModel",
          "model_module_version": "1.5.0",
          "state": {
            "_model_module": "@jupyter-widgets/controls",
            "_model_module_version": "1.5.0",
            "_model_name": "DescriptionStyleModel",
            "_view_count": null,
            "_view_module": "@jupyter-widgets/base",
            "_view_module_version": "1.2.0",
            "_view_name": "StyleView",
            "description_width": ""
          }
        },
        "d9209024ebd748cba51bb547f3c875fb": {
          "model_module": "@jupyter-widgets/base",
          "model_name": "LayoutModel",
          "model_module_version": "1.2.0",
          "state": {
            "_model_module": "@jupyter-widgets/base",
            "_model_module_version": "1.2.0",
            "_model_name": "LayoutModel",
            "_view_count": null,
            "_view_module": "@jupyter-widgets/base",
            "_view_module_version": "1.2.0",
            "_view_name": "LayoutView",
            "align_content": null,
            "align_items": null,
            "align_self": null,
            "border": null,
            "bottom": null,
            "display": null,
            "flex": null,
            "flex_flow": null,
            "grid_area": null,
            "grid_auto_columns": null,
            "grid_auto_flow": null,
            "grid_auto_rows": null,
            "grid_column": null,
            "grid_gap": null,
            "grid_row": null,
            "grid_template_areas": null,
            "grid_template_columns": null,
            "grid_template_rows": null,
            "height": null,
            "justify_content": null,
            "justify_items": null,
            "left": null,
            "margin": null,
            "max_height": null,
            "max_width": null,
            "min_height": null,
            "min_width": null,
            "object_fit": null,
            "object_position": null,
            "order": null,
            "overflow": null,
            "overflow_x": null,
            "overflow_y": null,
            "padding": null,
            "right": null,
            "top": null,
            "visibility": null,
            "width": null
          }
        },
        "693aaf6f50964ae9a218147f571dd06e": {
          "model_module": "@jupyter-widgets/controls",
          "model_name": "ProgressStyleModel",
          "model_module_version": "1.5.0",
          "state": {
            "_model_module": "@jupyter-widgets/controls",
            "_model_module_version": "1.5.0",
            "_model_name": "ProgressStyleModel",
            "_view_count": null,
            "_view_module": "@jupyter-widgets/base",
            "_view_module_version": "1.2.0",
            "_view_name": "StyleView",
            "bar_color": null,
            "description_width": ""
          }
        },
        "dce79208654e4970be2c2e76ae27f264": {
          "model_module": "@jupyter-widgets/base",
          "model_name": "LayoutModel",
          "model_module_version": "1.2.0",
          "state": {
            "_model_module": "@jupyter-widgets/base",
            "_model_module_version": "1.2.0",
            "_model_name": "LayoutModel",
            "_view_count": null,
            "_view_module": "@jupyter-widgets/base",
            "_view_module_version": "1.2.0",
            "_view_name": "LayoutView",
            "align_content": null,
            "align_items": null,
            "align_self": null,
            "border": null,
            "bottom": null,
            "display": null,
            "flex": null,
            "flex_flow": null,
            "grid_area": null,
            "grid_auto_columns": null,
            "grid_auto_flow": null,
            "grid_auto_rows": null,
            "grid_column": null,
            "grid_gap": null,
            "grid_row": null,
            "grid_template_areas": null,
            "grid_template_columns": null,
            "grid_template_rows": null,
            "height": null,
            "justify_content": null,
            "justify_items": null,
            "left": null,
            "margin": null,
            "max_height": null,
            "max_width": null,
            "min_height": null,
            "min_width": null,
            "object_fit": null,
            "object_position": null,
            "order": null,
            "overflow": null,
            "overflow_x": null,
            "overflow_y": null,
            "padding": null,
            "right": null,
            "top": null,
            "visibility": null,
            "width": null
          }
        },
        "e978dd4e25734bd5abe45ee9345f7477": {
          "model_module": "@jupyter-widgets/controls",
          "model_name": "DescriptionStyleModel",
          "model_module_version": "1.5.0",
          "state": {
            "_model_module": "@jupyter-widgets/controls",
            "_model_module_version": "1.5.0",
            "_model_name": "DescriptionStyleModel",
            "_view_count": null,
            "_view_module": "@jupyter-widgets/base",
            "_view_module_version": "1.2.0",
            "_view_name": "StyleView",
            "description_width": ""
          }
        },
        "7b2a31a8d18745bdb8b7af7fffc0d0ee": {
          "model_module": "@jupyter-widgets/controls",
          "model_name": "HBoxModel",
          "model_module_version": "1.5.0",
          "state": {
            "_dom_classes": [],
            "_model_module": "@jupyter-widgets/controls",
            "_model_module_version": "1.5.0",
            "_model_name": "HBoxModel",
            "_view_count": null,
            "_view_module": "@jupyter-widgets/controls",
            "_view_module_version": "1.5.0",
            "_view_name": "HBoxView",
            "box_style": "",
            "children": [
              "IPY_MODEL_bc90b1d03ba64d28bfe7c3aa250a69d0",
              "IPY_MODEL_5f7d747418624d33b5e0b79f477a53d3",
              "IPY_MODEL_a3255844a86e4b4496563169de092446"
            ],
            "layout": "IPY_MODEL_199ee9edd1124f629b455b1959c39fdb"
          }
        },
        "bc90b1d03ba64d28bfe7c3aa250a69d0": {
          "model_module": "@jupyter-widgets/controls",
          "model_name": "HTMLModel",
          "model_module_version": "1.5.0",
          "state": {
            "_dom_classes": [],
            "_model_module": "@jupyter-widgets/controls",
            "_model_module_version": "1.5.0",
            "_model_name": "HTMLModel",
            "_view_count": null,
            "_view_module": "@jupyter-widgets/controls",
            "_view_module_version": "1.5.0",
            "_view_name": "HTMLView",
            "description": "",
            "description_tooltip": null,
            "layout": "IPY_MODEL_40a99666ad324572bd67378d9f4f7d51",
            "placeholder": "​",
            "style": "IPY_MODEL_f0e99517bec34038bb157bf668c915ed",
            "value": "Map: 100%"
          }
        },
        "5f7d747418624d33b5e0b79f477a53d3": {
          "model_module": "@jupyter-widgets/controls",
          "model_name": "FloatProgressModel",
          "model_module_version": "1.5.0",
          "state": {
            "_dom_classes": [],
            "_model_module": "@jupyter-widgets/controls",
            "_model_module_version": "1.5.0",
            "_model_name": "FloatProgressModel",
            "_view_count": null,
            "_view_module": "@jupyter-widgets/controls",
            "_view_module_version": "1.5.0",
            "_view_name": "ProgressView",
            "bar_style": "success",
            "description": "",
            "description_tooltip": null,
            "layout": "IPY_MODEL_995c0fffd09e4265bcdd9f90e1861046",
            "max": 2993,
            "min": 0,
            "orientation": "horizontal",
            "style": "IPY_MODEL_f6482516ea8843088f26986cb9da7626",
            "value": 2993
          }
        },
        "a3255844a86e4b4496563169de092446": {
          "model_module": "@jupyter-widgets/controls",
          "model_name": "HTMLModel",
          "model_module_version": "1.5.0",
          "state": {
            "_dom_classes": [],
            "_model_module": "@jupyter-widgets/controls",
            "_model_module_version": "1.5.0",
            "_model_name": "HTMLModel",
            "_view_count": null,
            "_view_module": "@jupyter-widgets/controls",
            "_view_module_version": "1.5.0",
            "_view_name": "HTMLView",
            "description": "",
            "description_tooltip": null,
            "layout": "IPY_MODEL_965924fcfc6c42bd8f51d6cf13354923",
            "placeholder": "​",
            "style": "IPY_MODEL_1a03856034ba44b18a6e8ffe3d844529",
            "value": " 2993/2993 [00:01&lt;00:00, 2793.06 examples/s]"
          }
        },
        "199ee9edd1124f629b455b1959c39fdb": {
          "model_module": "@jupyter-widgets/base",
          "model_name": "LayoutModel",
          "model_module_version": "1.2.0",
          "state": {
            "_model_module": "@jupyter-widgets/base",
            "_model_module_version": "1.2.0",
            "_model_name": "LayoutModel",
            "_view_count": null,
            "_view_module": "@jupyter-widgets/base",
            "_view_module_version": "1.2.0",
            "_view_name": "LayoutView",
            "align_content": null,
            "align_items": null,
            "align_self": null,
            "border": null,
            "bottom": null,
            "display": null,
            "flex": null,
            "flex_flow": null,
            "grid_area": null,
            "grid_auto_columns": null,
            "grid_auto_flow": null,
            "grid_auto_rows": null,
            "grid_column": null,
            "grid_gap": null,
            "grid_row": null,
            "grid_template_areas": null,
            "grid_template_columns": null,
            "grid_template_rows": null,
            "height": null,
            "justify_content": null,
            "justify_items": null,
            "left": null,
            "margin": null,
            "max_height": null,
            "max_width": null,
            "min_height": null,
            "min_width": null,
            "object_fit": null,
            "object_position": null,
            "order": null,
            "overflow": null,
            "overflow_x": null,
            "overflow_y": null,
            "padding": null,
            "right": null,
            "top": null,
            "visibility": null,
            "width": null
          }
        },
        "40a99666ad324572bd67378d9f4f7d51": {
          "model_module": "@jupyter-widgets/base",
          "model_name": "LayoutModel",
          "model_module_version": "1.2.0",
          "state": {
            "_model_module": "@jupyter-widgets/base",
            "_model_module_version": "1.2.0",
            "_model_name": "LayoutModel",
            "_view_count": null,
            "_view_module": "@jupyter-widgets/base",
            "_view_module_version": "1.2.0",
            "_view_name": "LayoutView",
            "align_content": null,
            "align_items": null,
            "align_self": null,
            "border": null,
            "bottom": null,
            "display": null,
            "flex": null,
            "flex_flow": null,
            "grid_area": null,
            "grid_auto_columns": null,
            "grid_auto_flow": null,
            "grid_auto_rows": null,
            "grid_column": null,
            "grid_gap": null,
            "grid_row": null,
            "grid_template_areas": null,
            "grid_template_columns": null,
            "grid_template_rows": null,
            "height": null,
            "justify_content": null,
            "justify_items": null,
            "left": null,
            "margin": null,
            "max_height": null,
            "max_width": null,
            "min_height": null,
            "min_width": null,
            "object_fit": null,
            "object_position": null,
            "order": null,
            "overflow": null,
            "overflow_x": null,
            "overflow_y": null,
            "padding": null,
            "right": null,
            "top": null,
            "visibility": null,
            "width": null
          }
        },
        "f0e99517bec34038bb157bf668c915ed": {
          "model_module": "@jupyter-widgets/controls",
          "model_name": "DescriptionStyleModel",
          "model_module_version": "1.5.0",
          "state": {
            "_model_module": "@jupyter-widgets/controls",
            "_model_module_version": "1.5.0",
            "_model_name": "DescriptionStyleModel",
            "_view_count": null,
            "_view_module": "@jupyter-widgets/base",
            "_view_module_version": "1.2.0",
            "_view_name": "StyleView",
            "description_width": ""
          }
        },
        "995c0fffd09e4265bcdd9f90e1861046": {
          "model_module": "@jupyter-widgets/base",
          "model_name": "LayoutModel",
          "model_module_version": "1.2.0",
          "state": {
            "_model_module": "@jupyter-widgets/base",
            "_model_module_version": "1.2.0",
            "_model_name": "LayoutModel",
            "_view_count": null,
            "_view_module": "@jupyter-widgets/base",
            "_view_module_version": "1.2.0",
            "_view_name": "LayoutView",
            "align_content": null,
            "align_items": null,
            "align_self": null,
            "border": null,
            "bottom": null,
            "display": null,
            "flex": null,
            "flex_flow": null,
            "grid_area": null,
            "grid_auto_columns": null,
            "grid_auto_flow": null,
            "grid_auto_rows": null,
            "grid_column": null,
            "grid_gap": null,
            "grid_row": null,
            "grid_template_areas": null,
            "grid_template_columns": null,
            "grid_template_rows": null,
            "height": null,
            "justify_content": null,
            "justify_items": null,
            "left": null,
            "margin": null,
            "max_height": null,
            "max_width": null,
            "min_height": null,
            "min_width": null,
            "object_fit": null,
            "object_position": null,
            "order": null,
            "overflow": null,
            "overflow_x": null,
            "overflow_y": null,
            "padding": null,
            "right": null,
            "top": null,
            "visibility": null,
            "width": null
          }
        },
        "f6482516ea8843088f26986cb9da7626": {
          "model_module": "@jupyter-widgets/controls",
          "model_name": "ProgressStyleModel",
          "model_module_version": "1.5.0",
          "state": {
            "_model_module": "@jupyter-widgets/controls",
            "_model_module_version": "1.5.0",
            "_model_name": "ProgressStyleModel",
            "_view_count": null,
            "_view_module": "@jupyter-widgets/base",
            "_view_module_version": "1.2.0",
            "_view_name": "StyleView",
            "bar_color": null,
            "description_width": ""
          }
        },
        "965924fcfc6c42bd8f51d6cf13354923": {
          "model_module": "@jupyter-widgets/base",
          "model_name": "LayoutModel",
          "model_module_version": "1.2.0",
          "state": {
            "_model_module": "@jupyter-widgets/base",
            "_model_module_version": "1.2.0",
            "_model_name": "LayoutModel",
            "_view_count": null,
            "_view_module": "@jupyter-widgets/base",
            "_view_module_version": "1.2.0",
            "_view_name": "LayoutView",
            "align_content": null,
            "align_items": null,
            "align_self": null,
            "border": null,
            "bottom": null,
            "display": null,
            "flex": null,
            "flex_flow": null,
            "grid_area": null,
            "grid_auto_columns": null,
            "grid_auto_flow": null,
            "grid_auto_rows": null,
            "grid_column": null,
            "grid_gap": null,
            "grid_row": null,
            "grid_template_areas": null,
            "grid_template_columns": null,
            "grid_template_rows": null,
            "height": null,
            "justify_content": null,
            "justify_items": null,
            "left": null,
            "margin": null,
            "max_height": null,
            "max_width": null,
            "min_height": null,
            "min_width": null,
            "object_fit": null,
            "object_position": null,
            "order": null,
            "overflow": null,
            "overflow_x": null,
            "overflow_y": null,
            "padding": null,
            "right": null,
            "top": null,
            "visibility": null,
            "width": null
          }
        },
        "1a03856034ba44b18a6e8ffe3d844529": {
          "model_module": "@jupyter-widgets/controls",
          "model_name": "DescriptionStyleModel",
          "model_module_version": "1.5.0",
          "state": {
            "_model_module": "@jupyter-widgets/controls",
            "_model_module_version": "1.5.0",
            "_model_name": "DescriptionStyleModel",
            "_view_count": null,
            "_view_module": "@jupyter-widgets/base",
            "_view_module_version": "1.2.0",
            "_view_name": "StyleView",
            "description_width": ""
          }
        },
        "a50020cc58ca417fae02a695b6076542": {
          "model_module": "@jupyter-widgets/controls",
          "model_name": "HBoxModel",
          "model_module_version": "1.5.0",
          "state": {
            "_dom_classes": [],
            "_model_module": "@jupyter-widgets/controls",
            "_model_module_version": "1.5.0",
            "_model_name": "HBoxModel",
            "_view_count": null,
            "_view_module": "@jupyter-widgets/controls",
            "_view_module_version": "1.5.0",
            "_view_name": "HBoxView",
            "box_style": "",
            "children": [
              "IPY_MODEL_3b4026022f894f28a026b4a66eb16270",
              "IPY_MODEL_388d2f437027464f98c45b3db80f09b8",
              "IPY_MODEL_fe999f0929ca4888ab993123f4969a84"
            ],
            "layout": "IPY_MODEL_72d404f426f24700866208405aa1bb02"
          }
        },
        "3b4026022f894f28a026b4a66eb16270": {
          "model_module": "@jupyter-widgets/controls",
          "model_name": "HTMLModel",
          "model_module_version": "1.5.0",
          "state": {
            "_dom_classes": [],
            "_model_module": "@jupyter-widgets/controls",
            "_model_module_version": "1.5.0",
            "_model_name": "HTMLModel",
            "_view_count": null,
            "_view_module": "@jupyter-widgets/controls",
            "_view_module_version": "1.5.0",
            "_view_name": "HTMLView",
            "description": "",
            "description_tooltip": null,
            "layout": "IPY_MODEL_a8fe19e097cc4b8a97ab18c54ee0dd59",
            "placeholder": "​",
            "style": "IPY_MODEL_152faf3a308044268f1e70554764ee7f",
            "value": "Map: 100%"
          }
        },
        "388d2f437027464f98c45b3db80f09b8": {
          "model_module": "@jupyter-widgets/controls",
          "model_name": "FloatProgressModel",
          "model_module_version": "1.5.0",
          "state": {
            "_dom_classes": [],
            "_model_module": "@jupyter-widgets/controls",
            "_model_module_version": "1.5.0",
            "_model_name": "FloatProgressModel",
            "_view_count": null,
            "_view_module": "@jupyter-widgets/controls",
            "_view_module_version": "1.5.0",
            "_view_name": "ProgressView",
            "bar_style": "success",
            "description": "",
            "description_tooltip": null,
            "layout": "IPY_MODEL_801db8e2577b4cdc89f4e90d8c18937c",
            "max": 855,
            "min": 0,
            "orientation": "horizontal",
            "style": "IPY_MODEL_fefa586dec81457bbdf1fc561ac28432",
            "value": 855
          }
        },
        "fe999f0929ca4888ab993123f4969a84": {
          "model_module": "@jupyter-widgets/controls",
          "model_name": "HTMLModel",
          "model_module_version": "1.5.0",
          "state": {
            "_dom_classes": [],
            "_model_module": "@jupyter-widgets/controls",
            "_model_module_version": "1.5.0",
            "_model_name": "HTMLModel",
            "_view_count": null,
            "_view_module": "@jupyter-widgets/controls",
            "_view_module_version": "1.5.0",
            "_view_name": "HTMLView",
            "description": "",
            "description_tooltip": null,
            "layout": "IPY_MODEL_7635868e9395436bb76678a29fa82bea",
            "placeholder": "​",
            "style": "IPY_MODEL_b972bde9ba754c6b869eebfef311e9db",
            "value": " 855/855 [00:00&lt;00:00, 3790.09 examples/s]"
          }
        },
        "72d404f426f24700866208405aa1bb02": {
          "model_module": "@jupyter-widgets/base",
          "model_name": "LayoutModel",
          "model_module_version": "1.2.0",
          "state": {
            "_model_module": "@jupyter-widgets/base",
            "_model_module_version": "1.2.0",
            "_model_name": "LayoutModel",
            "_view_count": null,
            "_view_module": "@jupyter-widgets/base",
            "_view_module_version": "1.2.0",
            "_view_name": "LayoutView",
            "align_content": null,
            "align_items": null,
            "align_self": null,
            "border": null,
            "bottom": null,
            "display": null,
            "flex": null,
            "flex_flow": null,
            "grid_area": null,
            "grid_auto_columns": null,
            "grid_auto_flow": null,
            "grid_auto_rows": null,
            "grid_column": null,
            "grid_gap": null,
            "grid_row": null,
            "grid_template_areas": null,
            "grid_template_columns": null,
            "grid_template_rows": null,
            "height": null,
            "justify_content": null,
            "justify_items": null,
            "left": null,
            "margin": null,
            "max_height": null,
            "max_width": null,
            "min_height": null,
            "min_width": null,
            "object_fit": null,
            "object_position": null,
            "order": null,
            "overflow": null,
            "overflow_x": null,
            "overflow_y": null,
            "padding": null,
            "right": null,
            "top": null,
            "visibility": null,
            "width": null
          }
        },
        "a8fe19e097cc4b8a97ab18c54ee0dd59": {
          "model_module": "@jupyter-widgets/base",
          "model_name": "LayoutModel",
          "model_module_version": "1.2.0",
          "state": {
            "_model_module": "@jupyter-widgets/base",
            "_model_module_version": "1.2.0",
            "_model_name": "LayoutModel",
            "_view_count": null,
            "_view_module": "@jupyter-widgets/base",
            "_view_module_version": "1.2.0",
            "_view_name": "LayoutView",
            "align_content": null,
            "align_items": null,
            "align_self": null,
            "border": null,
            "bottom": null,
            "display": null,
            "flex": null,
            "flex_flow": null,
            "grid_area": null,
            "grid_auto_columns": null,
            "grid_auto_flow": null,
            "grid_auto_rows": null,
            "grid_column": null,
            "grid_gap": null,
            "grid_row": null,
            "grid_template_areas": null,
            "grid_template_columns": null,
            "grid_template_rows": null,
            "height": null,
            "justify_content": null,
            "justify_items": null,
            "left": null,
            "margin": null,
            "max_height": null,
            "max_width": null,
            "min_height": null,
            "min_width": null,
            "object_fit": null,
            "object_position": null,
            "order": null,
            "overflow": null,
            "overflow_x": null,
            "overflow_y": null,
            "padding": null,
            "right": null,
            "top": null,
            "visibility": null,
            "width": null
          }
        },
        "152faf3a308044268f1e70554764ee7f": {
          "model_module": "@jupyter-widgets/controls",
          "model_name": "DescriptionStyleModel",
          "model_module_version": "1.5.0",
          "state": {
            "_model_module": "@jupyter-widgets/controls",
            "_model_module_version": "1.5.0",
            "_model_name": "DescriptionStyleModel",
            "_view_count": null,
            "_view_module": "@jupyter-widgets/base",
            "_view_module_version": "1.2.0",
            "_view_name": "StyleView",
            "description_width": ""
          }
        },
        "801db8e2577b4cdc89f4e90d8c18937c": {
          "model_module": "@jupyter-widgets/base",
          "model_name": "LayoutModel",
          "model_module_version": "1.2.0",
          "state": {
            "_model_module": "@jupyter-widgets/base",
            "_model_module_version": "1.2.0",
            "_model_name": "LayoutModel",
            "_view_count": null,
            "_view_module": "@jupyter-widgets/base",
            "_view_module_version": "1.2.0",
            "_view_name": "LayoutView",
            "align_content": null,
            "align_items": null,
            "align_self": null,
            "border": null,
            "bottom": null,
            "display": null,
            "flex": null,
            "flex_flow": null,
            "grid_area": null,
            "grid_auto_columns": null,
            "grid_auto_flow": null,
            "grid_auto_rows": null,
            "grid_column": null,
            "grid_gap": null,
            "grid_row": null,
            "grid_template_areas": null,
            "grid_template_columns": null,
            "grid_template_rows": null,
            "height": null,
            "justify_content": null,
            "justify_items": null,
            "left": null,
            "margin": null,
            "max_height": null,
            "max_width": null,
            "min_height": null,
            "min_width": null,
            "object_fit": null,
            "object_position": null,
            "order": null,
            "overflow": null,
            "overflow_x": null,
            "overflow_y": null,
            "padding": null,
            "right": null,
            "top": null,
            "visibility": null,
            "width": null
          }
        },
        "fefa586dec81457bbdf1fc561ac28432": {
          "model_module": "@jupyter-widgets/controls",
          "model_name": "ProgressStyleModel",
          "model_module_version": "1.5.0",
          "state": {
            "_model_module": "@jupyter-widgets/controls",
            "_model_module_version": "1.5.0",
            "_model_name": "ProgressStyleModel",
            "_view_count": null,
            "_view_module": "@jupyter-widgets/base",
            "_view_module_version": "1.2.0",
            "_view_name": "StyleView",
            "bar_color": null,
            "description_width": ""
          }
        },
        "7635868e9395436bb76678a29fa82bea": {
          "model_module": "@jupyter-widgets/base",
          "model_name": "LayoutModel",
          "model_module_version": "1.2.0",
          "state": {
            "_model_module": "@jupyter-widgets/base",
            "_model_module_version": "1.2.0",
            "_model_name": "LayoutModel",
            "_view_count": null,
            "_view_module": "@jupyter-widgets/base",
            "_view_module_version": "1.2.0",
            "_view_name": "LayoutView",
            "align_content": null,
            "align_items": null,
            "align_self": null,
            "border": null,
            "bottom": null,
            "display": null,
            "flex": null,
            "flex_flow": null,
            "grid_area": null,
            "grid_auto_columns": null,
            "grid_auto_flow": null,
            "grid_auto_rows": null,
            "grid_column": null,
            "grid_gap": null,
            "grid_row": null,
            "grid_template_areas": null,
            "grid_template_columns": null,
            "grid_template_rows": null,
            "height": null,
            "justify_content": null,
            "justify_items": null,
            "left": null,
            "margin": null,
            "max_height": null,
            "max_width": null,
            "min_height": null,
            "min_width": null,
            "object_fit": null,
            "object_position": null,
            "order": null,
            "overflow": null,
            "overflow_x": null,
            "overflow_y": null,
            "padding": null,
            "right": null,
            "top": null,
            "visibility": null,
            "width": null
          }
        },
        "b972bde9ba754c6b869eebfef311e9db": {
          "model_module": "@jupyter-widgets/controls",
          "model_name": "DescriptionStyleModel",
          "model_module_version": "1.5.0",
          "state": {
            "_model_module": "@jupyter-widgets/controls",
            "_model_module_version": "1.5.0",
            "_model_name": "DescriptionStyleModel",
            "_view_count": null,
            "_view_module": "@jupyter-widgets/base",
            "_view_module_version": "1.2.0",
            "_view_name": "StyleView",
            "description_width": ""
          }
        },
        "cf2d96d5d8f849b3b64fc658474c7d53": {
          "model_module": "@jupyter-widgets/controls",
          "model_name": "HBoxModel",
          "model_module_version": "1.5.0",
          "state": {
            "_dom_classes": [],
            "_model_module": "@jupyter-widgets/controls",
            "_model_module_version": "1.5.0",
            "_model_name": "HBoxModel",
            "_view_count": null,
            "_view_module": "@jupyter-widgets/controls",
            "_view_module_version": "1.5.0",
            "_view_name": "HBoxView",
            "box_style": "",
            "children": [
              "IPY_MODEL_a85716327db04300beed39aa6899bff1",
              "IPY_MODEL_fd850ea4663d40108ec15713a7d0cb2e",
              "IPY_MODEL_93ca4cc718b3491fb77e42b6ec077ca4"
            ],
            "layout": "IPY_MODEL_c219f76cc3db498a99363ec1f3734035"
          }
        },
        "a85716327db04300beed39aa6899bff1": {
          "model_module": "@jupyter-widgets/controls",
          "model_name": "HTMLModel",
          "model_module_version": "1.5.0",
          "state": {
            "_dom_classes": [],
            "_model_module": "@jupyter-widgets/controls",
            "_model_module_version": "1.5.0",
            "_model_name": "HTMLModel",
            "_view_count": null,
            "_view_module": "@jupyter-widgets/controls",
            "_view_module_version": "1.5.0",
            "_view_name": "HTMLView",
            "description": "",
            "description_tooltip": null,
            "layout": "IPY_MODEL_4bda323612a7467f9893c87b30775cd7",
            "placeholder": "​",
            "style": "IPY_MODEL_6dbbe9fe7e0f48d8951b51ca92d9e0be",
            "value": "Map: 100%"
          }
        },
        "fd850ea4663d40108ec15713a7d0cb2e": {
          "model_module": "@jupyter-widgets/controls",
          "model_name": "FloatProgressModel",
          "model_module_version": "1.5.0",
          "state": {
            "_dom_classes": [],
            "_model_module": "@jupyter-widgets/controls",
            "_model_module_version": "1.5.0",
            "_model_name": "FloatProgressModel",
            "_view_count": null,
            "_view_module": "@jupyter-widgets/controls",
            "_view_module_version": "1.5.0",
            "_view_name": "ProgressView",
            "bar_style": "success",
            "description": "",
            "description_tooltip": null,
            "layout": "IPY_MODEL_02d535158afc444dae31b6fb777a02d3",
            "max": 428,
            "min": 0,
            "orientation": "horizontal",
            "style": "IPY_MODEL_c2c81fe813ac40ef8dc9e2191ba6d726",
            "value": 428
          }
        },
        "93ca4cc718b3491fb77e42b6ec077ca4": {
          "model_module": "@jupyter-widgets/controls",
          "model_name": "HTMLModel",
          "model_module_version": "1.5.0",
          "state": {
            "_dom_classes": [],
            "_model_module": "@jupyter-widgets/controls",
            "_model_module_version": "1.5.0",
            "_model_name": "HTMLModel",
            "_view_count": null,
            "_view_module": "@jupyter-widgets/controls",
            "_view_module_version": "1.5.0",
            "_view_name": "HTMLView",
            "description": "",
            "description_tooltip": null,
            "layout": "IPY_MODEL_48c0b5ca81974683a065645e9819a833",
            "placeholder": "​",
            "style": "IPY_MODEL_f0a5cc8bd6f54501a9bbd5d4b833671b",
            "value": " 428/428 [00:00&lt;00:00, 2903.25 examples/s]"
          }
        },
        "c219f76cc3db498a99363ec1f3734035": {
          "model_module": "@jupyter-widgets/base",
          "model_name": "LayoutModel",
          "model_module_version": "1.2.0",
          "state": {
            "_model_module": "@jupyter-widgets/base",
            "_model_module_version": "1.2.0",
            "_model_name": "LayoutModel",
            "_view_count": null,
            "_view_module": "@jupyter-widgets/base",
            "_view_module_version": "1.2.0",
            "_view_name": "LayoutView",
            "align_content": null,
            "align_items": null,
            "align_self": null,
            "border": null,
            "bottom": null,
            "display": null,
            "flex": null,
            "flex_flow": null,
            "grid_area": null,
            "grid_auto_columns": null,
            "grid_auto_flow": null,
            "grid_auto_rows": null,
            "grid_column": null,
            "grid_gap": null,
            "grid_row": null,
            "grid_template_areas": null,
            "grid_template_columns": null,
            "grid_template_rows": null,
            "height": null,
            "justify_content": null,
            "justify_items": null,
            "left": null,
            "margin": null,
            "max_height": null,
            "max_width": null,
            "min_height": null,
            "min_width": null,
            "object_fit": null,
            "object_position": null,
            "order": null,
            "overflow": null,
            "overflow_x": null,
            "overflow_y": null,
            "padding": null,
            "right": null,
            "top": null,
            "visibility": null,
            "width": null
          }
        },
        "4bda323612a7467f9893c87b30775cd7": {
          "model_module": "@jupyter-widgets/base",
          "model_name": "LayoutModel",
          "model_module_version": "1.2.0",
          "state": {
            "_model_module": "@jupyter-widgets/base",
            "_model_module_version": "1.2.0",
            "_model_name": "LayoutModel",
            "_view_count": null,
            "_view_module": "@jupyter-widgets/base",
            "_view_module_version": "1.2.0",
            "_view_name": "LayoutView",
            "align_content": null,
            "align_items": null,
            "align_self": null,
            "border": null,
            "bottom": null,
            "display": null,
            "flex": null,
            "flex_flow": null,
            "grid_area": null,
            "grid_auto_columns": null,
            "grid_auto_flow": null,
            "grid_auto_rows": null,
            "grid_column": null,
            "grid_gap": null,
            "grid_row": null,
            "grid_template_areas": null,
            "grid_template_columns": null,
            "grid_template_rows": null,
            "height": null,
            "justify_content": null,
            "justify_items": null,
            "left": null,
            "margin": null,
            "max_height": null,
            "max_width": null,
            "min_height": null,
            "min_width": null,
            "object_fit": null,
            "object_position": null,
            "order": null,
            "overflow": null,
            "overflow_x": null,
            "overflow_y": null,
            "padding": null,
            "right": null,
            "top": null,
            "visibility": null,
            "width": null
          }
        },
        "6dbbe9fe7e0f48d8951b51ca92d9e0be": {
          "model_module": "@jupyter-widgets/controls",
          "model_name": "DescriptionStyleModel",
          "model_module_version": "1.5.0",
          "state": {
            "_model_module": "@jupyter-widgets/controls",
            "_model_module_version": "1.5.0",
            "_model_name": "DescriptionStyleModel",
            "_view_count": null,
            "_view_module": "@jupyter-widgets/base",
            "_view_module_version": "1.2.0",
            "_view_name": "StyleView",
            "description_width": ""
          }
        },
        "02d535158afc444dae31b6fb777a02d3": {
          "model_module": "@jupyter-widgets/base",
          "model_name": "LayoutModel",
          "model_module_version": "1.2.0",
          "state": {
            "_model_module": "@jupyter-widgets/base",
            "_model_module_version": "1.2.0",
            "_model_name": "LayoutModel",
            "_view_count": null,
            "_view_module": "@jupyter-widgets/base",
            "_view_module_version": "1.2.0",
            "_view_name": "LayoutView",
            "align_content": null,
            "align_items": null,
            "align_self": null,
            "border": null,
            "bottom": null,
            "display": null,
            "flex": null,
            "flex_flow": null,
            "grid_area": null,
            "grid_auto_columns": null,
            "grid_auto_flow": null,
            "grid_auto_rows": null,
            "grid_column": null,
            "grid_gap": null,
            "grid_row": null,
            "grid_template_areas": null,
            "grid_template_columns": null,
            "grid_template_rows": null,
            "height": null,
            "justify_content": null,
            "justify_items": null,
            "left": null,
            "margin": null,
            "max_height": null,
            "max_width": null,
            "min_height": null,
            "min_width": null,
            "object_fit": null,
            "object_position": null,
            "order": null,
            "overflow": null,
            "overflow_x": null,
            "overflow_y": null,
            "padding": null,
            "right": null,
            "top": null,
            "visibility": null,
            "width": null
          }
        },
        "c2c81fe813ac40ef8dc9e2191ba6d726": {
          "model_module": "@jupyter-widgets/controls",
          "model_name": "ProgressStyleModel",
          "model_module_version": "1.5.0",
          "state": {
            "_model_module": "@jupyter-widgets/controls",
            "_model_module_version": "1.5.0",
            "_model_name": "ProgressStyleModel",
            "_view_count": null,
            "_view_module": "@jupyter-widgets/base",
            "_view_module_version": "1.2.0",
            "_view_name": "StyleView",
            "bar_color": null,
            "description_width": ""
          }
        },
        "48c0b5ca81974683a065645e9819a833": {
          "model_module": "@jupyter-widgets/base",
          "model_name": "LayoutModel",
          "model_module_version": "1.2.0",
          "state": {
            "_model_module": "@jupyter-widgets/base",
            "_model_module_version": "1.2.0",
            "_model_name": "LayoutModel",
            "_view_count": null,
            "_view_module": "@jupyter-widgets/base",
            "_view_module_version": "1.2.0",
            "_view_name": "LayoutView",
            "align_content": null,
            "align_items": null,
            "align_self": null,
            "border": null,
            "bottom": null,
            "display": null,
            "flex": null,
            "flex_flow": null,
            "grid_area": null,
            "grid_auto_columns": null,
            "grid_auto_flow": null,
            "grid_auto_rows": null,
            "grid_column": null,
            "grid_gap": null,
            "grid_row": null,
            "grid_template_areas": null,
            "grid_template_columns": null,
            "grid_template_rows": null,
            "height": null,
            "justify_content": null,
            "justify_items": null,
            "left": null,
            "margin": null,
            "max_height": null,
            "max_width": null,
            "min_height": null,
            "min_width": null,
            "object_fit": null,
            "object_position": null,
            "order": null,
            "overflow": null,
            "overflow_x": null,
            "overflow_y": null,
            "padding": null,
            "right": null,
            "top": null,
            "visibility": null,
            "width": null
          }
        },
        "f0a5cc8bd6f54501a9bbd5d4b833671b": {
          "model_module": "@jupyter-widgets/controls",
          "model_name": "DescriptionStyleModel",
          "model_module_version": "1.5.0",
          "state": {
            "_model_module": "@jupyter-widgets/controls",
            "_model_module_version": "1.5.0",
            "_model_name": "DescriptionStyleModel",
            "_view_count": null,
            "_view_module": "@jupyter-widgets/base",
            "_view_module_version": "1.2.0",
            "_view_name": "StyleView",
            "description_width": ""
          }
        },
        "63e63fa23df34d37aa578ab669da6257": {
          "model_module": "@jupyter-widgets/controls",
          "model_name": "HBoxModel",
          "model_module_version": "1.5.0",
          "state": {
            "_dom_classes": [],
            "_model_module": "@jupyter-widgets/controls",
            "_model_module_version": "1.5.0",
            "_model_name": "HBoxModel",
            "_view_count": null,
            "_view_module": "@jupyter-widgets/controls",
            "_view_module_version": "1.5.0",
            "_view_name": "HBoxView",
            "box_style": "",
            "children": [
              "IPY_MODEL_1e773415174845708f4d962990aa74db",
              "IPY_MODEL_01b2b19925cc44588a96f80892cba155",
              "IPY_MODEL_0811f46add1143c7b7bc82e16b1e5786"
            ],
            "layout": "IPY_MODEL_49635de2466e4c408ca75b4ac5087c4e"
          }
        },
        "1e773415174845708f4d962990aa74db": {
          "model_module": "@jupyter-widgets/controls",
          "model_name": "HTMLModel",
          "model_module_version": "1.5.0",
          "state": {
            "_dom_classes": [],
            "_model_module": "@jupyter-widgets/controls",
            "_model_module_version": "1.5.0",
            "_model_name": "HTMLModel",
            "_view_count": null,
            "_view_module": "@jupyter-widgets/controls",
            "_view_module_version": "1.5.0",
            "_view_name": "HTMLView",
            "description": "",
            "description_tooltip": null,
            "layout": "IPY_MODEL_43ffe5dbf740404aa999023d9cebfdbc",
            "placeholder": "​",
            "style": "IPY_MODEL_c9488c387e814cd6943cf01046ed1353",
            "value": "Downloading builder script: 100%"
          }
        },
        "01b2b19925cc44588a96f80892cba155": {
          "model_module": "@jupyter-widgets/controls",
          "model_name": "FloatProgressModel",
          "model_module_version": "1.5.0",
          "state": {
            "_dom_classes": [],
            "_model_module": "@jupyter-widgets/controls",
            "_model_module_version": "1.5.0",
            "_model_name": "FloatProgressModel",
            "_view_count": null,
            "_view_module": "@jupyter-widgets/controls",
            "_view_module_version": "1.5.0",
            "_view_name": "ProgressView",
            "bar_style": "success",
            "description": "",
            "description_tooltip": null,
            "layout": "IPY_MODEL_2fec4315000343d0b2994a63d4f93bcf",
            "max": 6338,
            "min": 0,
            "orientation": "horizontal",
            "style": "IPY_MODEL_22c391a1f17a4e5fad352d2edd76fb0f",
            "value": 6338
          }
        },
        "0811f46add1143c7b7bc82e16b1e5786": {
          "model_module": "@jupyter-widgets/controls",
          "model_name": "HTMLModel",
          "model_module_version": "1.5.0",
          "state": {
            "_dom_classes": [],
            "_model_module": "@jupyter-widgets/controls",
            "_model_module_version": "1.5.0",
            "_model_name": "HTMLModel",
            "_view_count": null,
            "_view_module": "@jupyter-widgets/controls",
            "_view_module_version": "1.5.0",
            "_view_name": "HTMLView",
            "description": "",
            "description_tooltip": null,
            "layout": "IPY_MODEL_350e06d05f5a4d718bb68dbe183db668",
            "placeholder": "​",
            "style": "IPY_MODEL_bc59115d01e342b0b52c5f7f7fb603be",
            "value": " 6.34k/6.34k [00:00&lt;00:00, 454kB/s]"
          }
        },
        "49635de2466e4c408ca75b4ac5087c4e": {
          "model_module": "@jupyter-widgets/base",
          "model_name": "LayoutModel",
          "model_module_version": "1.2.0",
          "state": {
            "_model_module": "@jupyter-widgets/base",
            "_model_module_version": "1.2.0",
            "_model_name": "LayoutModel",
            "_view_count": null,
            "_view_module": "@jupyter-widgets/base",
            "_view_module_version": "1.2.0",
            "_view_name": "LayoutView",
            "align_content": null,
            "align_items": null,
            "align_self": null,
            "border": null,
            "bottom": null,
            "display": null,
            "flex": null,
            "flex_flow": null,
            "grid_area": null,
            "grid_auto_columns": null,
            "grid_auto_flow": null,
            "grid_auto_rows": null,
            "grid_column": null,
            "grid_gap": null,
            "grid_row": null,
            "grid_template_areas": null,
            "grid_template_columns": null,
            "grid_template_rows": null,
            "height": null,
            "justify_content": null,
            "justify_items": null,
            "left": null,
            "margin": null,
            "max_height": null,
            "max_width": null,
            "min_height": null,
            "min_width": null,
            "object_fit": null,
            "object_position": null,
            "order": null,
            "overflow": null,
            "overflow_x": null,
            "overflow_y": null,
            "padding": null,
            "right": null,
            "top": null,
            "visibility": null,
            "width": null
          }
        },
        "43ffe5dbf740404aa999023d9cebfdbc": {
          "model_module": "@jupyter-widgets/base",
          "model_name": "LayoutModel",
          "model_module_version": "1.2.0",
          "state": {
            "_model_module": "@jupyter-widgets/base",
            "_model_module_version": "1.2.0",
            "_model_name": "LayoutModel",
            "_view_count": null,
            "_view_module": "@jupyter-widgets/base",
            "_view_module_version": "1.2.0",
            "_view_name": "LayoutView",
            "align_content": null,
            "align_items": null,
            "align_self": null,
            "border": null,
            "bottom": null,
            "display": null,
            "flex": null,
            "flex_flow": null,
            "grid_area": null,
            "grid_auto_columns": null,
            "grid_auto_flow": null,
            "grid_auto_rows": null,
            "grid_column": null,
            "grid_gap": null,
            "grid_row": null,
            "grid_template_areas": null,
            "grid_template_columns": null,
            "grid_template_rows": null,
            "height": null,
            "justify_content": null,
            "justify_items": null,
            "left": null,
            "margin": null,
            "max_height": null,
            "max_width": null,
            "min_height": null,
            "min_width": null,
            "object_fit": null,
            "object_position": null,
            "order": null,
            "overflow": null,
            "overflow_x": null,
            "overflow_y": null,
            "padding": null,
            "right": null,
            "top": null,
            "visibility": null,
            "width": null
          }
        },
        "c9488c387e814cd6943cf01046ed1353": {
          "model_module": "@jupyter-widgets/controls",
          "model_name": "DescriptionStyleModel",
          "model_module_version": "1.5.0",
          "state": {
            "_model_module": "@jupyter-widgets/controls",
            "_model_module_version": "1.5.0",
            "_model_name": "DescriptionStyleModel",
            "_view_count": null,
            "_view_module": "@jupyter-widgets/base",
            "_view_module_version": "1.2.0",
            "_view_name": "StyleView",
            "description_width": ""
          }
        },
        "2fec4315000343d0b2994a63d4f93bcf": {
          "model_module": "@jupyter-widgets/base",
          "model_name": "LayoutModel",
          "model_module_version": "1.2.0",
          "state": {
            "_model_module": "@jupyter-widgets/base",
            "_model_module_version": "1.2.0",
            "_model_name": "LayoutModel",
            "_view_count": null,
            "_view_module": "@jupyter-widgets/base",
            "_view_module_version": "1.2.0",
            "_view_name": "LayoutView",
            "align_content": null,
            "align_items": null,
            "align_self": null,
            "border": null,
            "bottom": null,
            "display": null,
            "flex": null,
            "flex_flow": null,
            "grid_area": null,
            "grid_auto_columns": null,
            "grid_auto_flow": null,
            "grid_auto_rows": null,
            "grid_column": null,
            "grid_gap": null,
            "grid_row": null,
            "grid_template_areas": null,
            "grid_template_columns": null,
            "grid_template_rows": null,
            "height": null,
            "justify_content": null,
            "justify_items": null,
            "left": null,
            "margin": null,
            "max_height": null,
            "max_width": null,
            "min_height": null,
            "min_width": null,
            "object_fit": null,
            "object_position": null,
            "order": null,
            "overflow": null,
            "overflow_x": null,
            "overflow_y": null,
            "padding": null,
            "right": null,
            "top": null,
            "visibility": null,
            "width": null
          }
        },
        "22c391a1f17a4e5fad352d2edd76fb0f": {
          "model_module": "@jupyter-widgets/controls",
          "model_name": "ProgressStyleModel",
          "model_module_version": "1.5.0",
          "state": {
            "_model_module": "@jupyter-widgets/controls",
            "_model_module_version": "1.5.0",
            "_model_name": "ProgressStyleModel",
            "_view_count": null,
            "_view_module": "@jupyter-widgets/base",
            "_view_module_version": "1.2.0",
            "_view_name": "StyleView",
            "bar_color": null,
            "description_width": ""
          }
        },
        "350e06d05f5a4d718bb68dbe183db668": {
          "model_module": "@jupyter-widgets/base",
          "model_name": "LayoutModel",
          "model_module_version": "1.2.0",
          "state": {
            "_model_module": "@jupyter-widgets/base",
            "_model_module_version": "1.2.0",
            "_model_name": "LayoutModel",
            "_view_count": null,
            "_view_module": "@jupyter-widgets/base",
            "_view_module_version": "1.2.0",
            "_view_name": "LayoutView",
            "align_content": null,
            "align_items": null,
            "align_self": null,
            "border": null,
            "bottom": null,
            "display": null,
            "flex": null,
            "flex_flow": null,
            "grid_area": null,
            "grid_auto_columns": null,
            "grid_auto_flow": null,
            "grid_auto_rows": null,
            "grid_column": null,
            "grid_gap": null,
            "grid_row": null,
            "grid_template_areas": null,
            "grid_template_columns": null,
            "grid_template_rows": null,
            "height": null,
            "justify_content": null,
            "justify_items": null,
            "left": null,
            "margin": null,
            "max_height": null,
            "max_width": null,
            "min_height": null,
            "min_width": null,
            "object_fit": null,
            "object_position": null,
            "order": null,
            "overflow": null,
            "overflow_x": null,
            "overflow_y": null,
            "padding": null,
            "right": null,
            "top": null,
            "visibility": null,
            "width": null
          }
        },
        "bc59115d01e342b0b52c5f7f7fb603be": {
          "model_module": "@jupyter-widgets/controls",
          "model_name": "DescriptionStyleModel",
          "model_module_version": "1.5.0",
          "state": {
            "_model_module": "@jupyter-widgets/controls",
            "_model_module_version": "1.5.0",
            "_model_name": "DescriptionStyleModel",
            "_view_count": null,
            "_view_module": "@jupyter-widgets/base",
            "_view_module_version": "1.2.0",
            "_view_name": "StyleView",
            "description_width": ""
          }
        }
      }
    },
    "accelerator": "GPU"
  },
  "cells": [
    {
      "cell_type": "markdown",
      "metadata": {
        "id": "view-in-github",
        "colab_type": "text"
      },
      "source": [
        "<a href=\"https://colab.research.google.com/github/MicheleGiambelli/PlotTwisters-Project/blob/main/Transformer.ipynb\" target=\"_parent\"><img src=\"https://colab.research.google.com/assets/colab-badge.svg\" alt=\"Open In Colab\"/></a>"
      ]
    },
    {
      "cell_type": "markdown",
      "source": [
        "# **Loading of required libraries**"
      ],
      "metadata": {
        "id": "A09-g-0QhqxH"
      }
    },
    {
      "cell_type": "code",
      "source": [
        "import pandas as pd\n",
        "import numpy as np\n",
        "import string\n",
        "import torch\n",
        "import matplotlib.pyplot as plt\n",
        "import seaborn as sns\n",
        "import warnings\n",
        "warnings.filterwarnings('ignore')\n",
        "\n",
        "!pip install transformers datasets evaluate\n",
        "!pip install transformers datasets evaluate seqeval\n",
        "\n",
        "import os\n",
        "\n",
        "\n",
        "from transformers import AutoTokenizer, AutoModelForTokenClassification, Trainer, TrainingArguments, DataCollatorForTokenClassification, pipeline\n",
        "from tensorflow.keras.callbacks import ModelCheckpoint, EarlyStopping\n",
        "from datasets import Dataset, DatasetDict\n",
        "import evaluate\n",
        "from sklearn.model_selection import train_test_split\n",
        "\n",
        "import spacy\n",
        "from collections import Counter, defaultdict\n",
        "from wordcloud import WordCloud, STOPWORDS\n",
        "import plotly.express as px\n",
        "import networkx as nx\n",
        "from PIL import Image\n",
        "import random\n",
        "from itertools import combinations\n",
        "from scipy.interpolate import make_interp_spline\n",
        "from numpy.random import seed\n",
        "from sklearn.metrics import confusion_matrix, ConfusionMatrixDisplay\n",
        "import matplotlib.pyplot as plt\n",
        "\n"
      ],
      "metadata": {
        "colab": {
          "base_uri": "https://localhost:8080/"
        },
        "collapsed": true,
        "id": "M2OQAw6jtPOJ",
        "outputId": "bf7cebb4-86ab-4955-9e42-e8c9ad710a97"
      },
      "execution_count": null,
      "outputs": [
        {
          "output_type": "stream",
          "name": "stdout",
          "text": [
            "Requirement already satisfied: transformers in /usr/local/lib/python3.10/dist-packages (4.46.2)\n",
            "Collecting datasets\n",
            "  Downloading datasets-3.1.0-py3-none-any.whl.metadata (20 kB)\n",
            "Collecting evaluate\n",
            "  Downloading evaluate-0.4.3-py3-none-any.whl.metadata (9.2 kB)\n",
            "Requirement already satisfied: filelock in /usr/local/lib/python3.10/dist-packages (from transformers) (3.16.1)\n",
            "Requirement already satisfied: huggingface-hub<1.0,>=0.23.2 in /usr/local/lib/python3.10/dist-packages (from transformers) (0.26.2)\n",
            "Requirement already satisfied: numpy>=1.17 in /usr/local/lib/python3.10/dist-packages (from transformers) (1.26.4)\n",
            "Requirement already satisfied: packaging>=20.0 in /usr/local/lib/python3.10/dist-packages (from transformers) (24.2)\n",
            "Requirement already satisfied: pyyaml>=5.1 in /usr/local/lib/python3.10/dist-packages (from transformers) (6.0.2)\n",
            "Requirement already satisfied: regex!=2019.12.17 in /usr/local/lib/python3.10/dist-packages (from transformers) (2024.9.11)\n",
            "Requirement already satisfied: requests in /usr/local/lib/python3.10/dist-packages (from transformers) (2.32.3)\n",
            "Requirement already satisfied: safetensors>=0.4.1 in /usr/local/lib/python3.10/dist-packages (from transformers) (0.4.5)\n",
            "Requirement already satisfied: tokenizers<0.21,>=0.20 in /usr/local/lib/python3.10/dist-packages (from transformers) (0.20.3)\n",
            "Requirement already satisfied: tqdm>=4.27 in /usr/local/lib/python3.10/dist-packages (from transformers) (4.66.6)\n",
            "Requirement already satisfied: pyarrow>=15.0.0 in /usr/local/lib/python3.10/dist-packages (from datasets) (17.0.0)\n",
            "Collecting dill<0.3.9,>=0.3.0 (from datasets)\n",
            "  Downloading dill-0.3.8-py3-none-any.whl.metadata (10 kB)\n",
            "Requirement already satisfied: pandas in /usr/local/lib/python3.10/dist-packages (from datasets) (2.2.2)\n",
            "Collecting xxhash (from datasets)\n",
            "  Downloading xxhash-3.5.0-cp310-cp310-manylinux_2_17_x86_64.manylinux2014_x86_64.whl.metadata (12 kB)\n",
            "Collecting multiprocess<0.70.17 (from datasets)\n",
            "  Downloading multiprocess-0.70.16-py310-none-any.whl.metadata (7.2 kB)\n",
            "Collecting fsspec<=2024.9.0,>=2023.1.0 (from fsspec[http]<=2024.9.0,>=2023.1.0->datasets)\n",
            "  Downloading fsspec-2024.9.0-py3-none-any.whl.metadata (11 kB)\n",
            "Requirement already satisfied: aiohttp in /usr/local/lib/python3.10/dist-packages (from datasets) (3.11.2)\n",
            "Requirement already satisfied: aiohappyeyeballs>=2.3.0 in /usr/local/lib/python3.10/dist-packages (from aiohttp->datasets) (2.4.3)\n",
            "Requirement already satisfied: aiosignal>=1.1.2 in /usr/local/lib/python3.10/dist-packages (from aiohttp->datasets) (1.3.1)\n",
            "Requirement already satisfied: attrs>=17.3.0 in /usr/local/lib/python3.10/dist-packages (from aiohttp->datasets) (24.2.0)\n",
            "Requirement already satisfied: frozenlist>=1.1.1 in /usr/local/lib/python3.10/dist-packages (from aiohttp->datasets) (1.5.0)\n",
            "Requirement already satisfied: multidict<7.0,>=4.5 in /usr/local/lib/python3.10/dist-packages (from aiohttp->datasets) (6.1.0)\n",
            "Requirement already satisfied: propcache>=0.2.0 in /usr/local/lib/python3.10/dist-packages (from aiohttp->datasets) (0.2.0)\n",
            "Requirement already satisfied: yarl<2.0,>=1.17.0 in /usr/local/lib/python3.10/dist-packages (from aiohttp->datasets) (1.17.2)\n",
            "Requirement already satisfied: async-timeout<6.0,>=4.0 in /usr/local/lib/python3.10/dist-packages (from aiohttp->datasets) (4.0.3)\n",
            "Requirement already satisfied: typing-extensions>=3.7.4.3 in /usr/local/lib/python3.10/dist-packages (from huggingface-hub<1.0,>=0.23.2->transformers) (4.12.2)\n",
            "Requirement already satisfied: charset-normalizer<4,>=2 in /usr/local/lib/python3.10/dist-packages (from requests->transformers) (3.4.0)\n",
            "Requirement already satisfied: idna<4,>=2.5 in /usr/local/lib/python3.10/dist-packages (from requests->transformers) (3.10)\n",
            "Requirement already satisfied: urllib3<3,>=1.21.1 in /usr/local/lib/python3.10/dist-packages (from requests->transformers) (2.2.3)\n",
            "Requirement already satisfied: certifi>=2017.4.17 in /usr/local/lib/python3.10/dist-packages (from requests->transformers) (2024.8.30)\n",
            "Requirement already satisfied: python-dateutil>=2.8.2 in /usr/local/lib/python3.10/dist-packages (from pandas->datasets) (2.8.2)\n",
            "Requirement already satisfied: pytz>=2020.1 in /usr/local/lib/python3.10/dist-packages (from pandas->datasets) (2024.2)\n",
            "Requirement already satisfied: tzdata>=2022.7 in /usr/local/lib/python3.10/dist-packages (from pandas->datasets) (2024.2)\n",
            "Requirement already satisfied: six>=1.5 in /usr/local/lib/python3.10/dist-packages (from python-dateutil>=2.8.2->pandas->datasets) (1.16.0)\n",
            "Downloading datasets-3.1.0-py3-none-any.whl (480 kB)\n",
            "\u001b[2K   \u001b[90m━━━━━━━━━━━━━━━━━━━━━━━━━━━━━━━━━━━━━━━━\u001b[0m \u001b[32m480.6/480.6 kB\u001b[0m \u001b[31m24.9 MB/s\u001b[0m eta \u001b[36m0:00:00\u001b[0m\n",
            "\u001b[?25hDownloading evaluate-0.4.3-py3-none-any.whl (84 kB)\n",
            "\u001b[2K   \u001b[90m━━━━━━━━━━━━━━━━━━━━━━━━━━━━━━━━━━━━━━━━\u001b[0m \u001b[32m84.0/84.0 kB\u001b[0m \u001b[31m6.8 MB/s\u001b[0m eta \u001b[36m0:00:00\u001b[0m\n",
            "\u001b[?25hDownloading dill-0.3.8-py3-none-any.whl (116 kB)\n",
            "\u001b[2K   \u001b[90m━━━━━━━━━━━━━━━━━━━━━━━━━━━━━━━━━━━━━━━━\u001b[0m \u001b[32m116.3/116.3 kB\u001b[0m \u001b[31m8.5 MB/s\u001b[0m eta \u001b[36m0:00:00\u001b[0m\n",
            "\u001b[?25hDownloading fsspec-2024.9.0-py3-none-any.whl (179 kB)\n",
            "\u001b[2K   \u001b[90m━━━━━━━━━━━━━━━━━━━━━━━━━━━━━━━━━━━━━━━━\u001b[0m \u001b[32m179.3/179.3 kB\u001b[0m \u001b[31m14.5 MB/s\u001b[0m eta \u001b[36m0:00:00\u001b[0m\n",
            "\u001b[?25hDownloading multiprocess-0.70.16-py310-none-any.whl (134 kB)\n",
            "\u001b[2K   \u001b[90m━━━━━━━━━━━━━━━━━━━━━━━━━━━━━━━━━━━━━━━━\u001b[0m \u001b[32m134.8/134.8 kB\u001b[0m \u001b[31m12.3 MB/s\u001b[0m eta \u001b[36m0:00:00\u001b[0m\n",
            "\u001b[?25hDownloading xxhash-3.5.0-cp310-cp310-manylinux_2_17_x86_64.manylinux2014_x86_64.whl (194 kB)\n",
            "\u001b[2K   \u001b[90m━━━━━━━━━━━━━━━━━━━━━━━━━━━━━━━━━━━━━━━━\u001b[0m \u001b[32m194.1/194.1 kB\u001b[0m \u001b[31m17.9 MB/s\u001b[0m eta \u001b[36m0:00:00\u001b[0m\n",
            "\u001b[?25hInstalling collected packages: xxhash, fsspec, dill, multiprocess, datasets, evaluate\n",
            "  Attempting uninstall: fsspec\n",
            "    Found existing installation: fsspec 2024.10.0\n",
            "    Uninstalling fsspec-2024.10.0:\n",
            "      Successfully uninstalled fsspec-2024.10.0\n",
            "\u001b[31mERROR: pip's dependency resolver does not currently take into account all the packages that are installed. This behaviour is the source of the following dependency conflicts.\n",
            "gcsfs 2024.10.0 requires fsspec==2024.10.0, but you have fsspec 2024.9.0 which is incompatible.\u001b[0m\u001b[31m\n",
            "\u001b[0mSuccessfully installed datasets-3.1.0 dill-0.3.8 evaluate-0.4.3 fsspec-2024.9.0 multiprocess-0.70.16 xxhash-3.5.0\n",
            "Requirement already satisfied: transformers in /usr/local/lib/python3.10/dist-packages (4.46.2)\n",
            "Requirement already satisfied: datasets in /usr/local/lib/python3.10/dist-packages (3.1.0)\n",
            "Requirement already satisfied: evaluate in /usr/local/lib/python3.10/dist-packages (0.4.3)\n",
            "Collecting seqeval\n",
            "  Downloading seqeval-1.2.2.tar.gz (43 kB)\n",
            "\u001b[2K     \u001b[90m━━━━━━━━━━━━━━━━━━━━━━━━━━━━━━━━━━━━━━━━\u001b[0m \u001b[32m43.6/43.6 kB\u001b[0m \u001b[31m3.3 MB/s\u001b[0m eta \u001b[36m0:00:00\u001b[0m\n",
            "\u001b[?25h  Preparing metadata (setup.py) ... \u001b[?25l\u001b[?25hdone\n",
            "Requirement already satisfied: filelock in /usr/local/lib/python3.10/dist-packages (from transformers) (3.16.1)\n",
            "Requirement already satisfied: huggingface-hub<1.0,>=0.23.2 in /usr/local/lib/python3.10/dist-packages (from transformers) (0.26.2)\n",
            "Requirement already satisfied: numpy>=1.17 in /usr/local/lib/python3.10/dist-packages (from transformers) (1.26.4)\n",
            "Requirement already satisfied: packaging>=20.0 in /usr/local/lib/python3.10/dist-packages (from transformers) (24.2)\n",
            "Requirement already satisfied: pyyaml>=5.1 in /usr/local/lib/python3.10/dist-packages (from transformers) (6.0.2)\n",
            "Requirement already satisfied: regex!=2019.12.17 in /usr/local/lib/python3.10/dist-packages (from transformers) (2024.9.11)\n",
            "Requirement already satisfied: requests in /usr/local/lib/python3.10/dist-packages (from transformers) (2.32.3)\n",
            "Requirement already satisfied: safetensors>=0.4.1 in /usr/local/lib/python3.10/dist-packages (from transformers) (0.4.5)\n",
            "Requirement already satisfied: tokenizers<0.21,>=0.20 in /usr/local/lib/python3.10/dist-packages (from transformers) (0.20.3)\n",
            "Requirement already satisfied: tqdm>=4.27 in /usr/local/lib/python3.10/dist-packages (from transformers) (4.66.6)\n",
            "Requirement already satisfied: pyarrow>=15.0.0 in /usr/local/lib/python3.10/dist-packages (from datasets) (17.0.0)\n",
            "Requirement already satisfied: dill<0.3.9,>=0.3.0 in /usr/local/lib/python3.10/dist-packages (from datasets) (0.3.8)\n",
            "Requirement already satisfied: pandas in /usr/local/lib/python3.10/dist-packages (from datasets) (2.2.2)\n",
            "Requirement already satisfied: xxhash in /usr/local/lib/python3.10/dist-packages (from datasets) (3.5.0)\n",
            "Requirement already satisfied: multiprocess<0.70.17 in /usr/local/lib/python3.10/dist-packages (from datasets) (0.70.16)\n",
            "Requirement already satisfied: fsspec<=2024.9.0,>=2023.1.0 in /usr/local/lib/python3.10/dist-packages (from fsspec[http]<=2024.9.0,>=2023.1.0->datasets) (2024.9.0)\n",
            "Requirement already satisfied: aiohttp in /usr/local/lib/python3.10/dist-packages (from datasets) (3.11.2)\n",
            "Requirement already satisfied: scikit-learn>=0.21.3 in /usr/local/lib/python3.10/dist-packages (from seqeval) (1.5.2)\n",
            "Requirement already satisfied: aiohappyeyeballs>=2.3.0 in /usr/local/lib/python3.10/dist-packages (from aiohttp->datasets) (2.4.3)\n",
            "Requirement already satisfied: aiosignal>=1.1.2 in /usr/local/lib/python3.10/dist-packages (from aiohttp->datasets) (1.3.1)\n",
            "Requirement already satisfied: attrs>=17.3.0 in /usr/local/lib/python3.10/dist-packages (from aiohttp->datasets) (24.2.0)\n",
            "Requirement already satisfied: frozenlist>=1.1.1 in /usr/local/lib/python3.10/dist-packages (from aiohttp->datasets) (1.5.0)\n",
            "Requirement already satisfied: multidict<7.0,>=4.5 in /usr/local/lib/python3.10/dist-packages (from aiohttp->datasets) (6.1.0)\n",
            "Requirement already satisfied: propcache>=0.2.0 in /usr/local/lib/python3.10/dist-packages (from aiohttp->datasets) (0.2.0)\n",
            "Requirement already satisfied: yarl<2.0,>=1.17.0 in /usr/local/lib/python3.10/dist-packages (from aiohttp->datasets) (1.17.2)\n",
            "Requirement already satisfied: async-timeout<6.0,>=4.0 in /usr/local/lib/python3.10/dist-packages (from aiohttp->datasets) (4.0.3)\n",
            "Requirement already satisfied: typing-extensions>=3.7.4.3 in /usr/local/lib/python3.10/dist-packages (from huggingface-hub<1.0,>=0.23.2->transformers) (4.12.2)\n",
            "Requirement already satisfied: charset-normalizer<4,>=2 in /usr/local/lib/python3.10/dist-packages (from requests->transformers) (3.4.0)\n",
            "Requirement already satisfied: idna<4,>=2.5 in /usr/local/lib/python3.10/dist-packages (from requests->transformers) (3.10)\n",
            "Requirement already satisfied: urllib3<3,>=1.21.1 in /usr/local/lib/python3.10/dist-packages (from requests->transformers) (2.2.3)\n",
            "Requirement already satisfied: certifi>=2017.4.17 in /usr/local/lib/python3.10/dist-packages (from requests->transformers) (2024.8.30)\n",
            "Requirement already satisfied: scipy>=1.6.0 in /usr/local/lib/python3.10/dist-packages (from scikit-learn>=0.21.3->seqeval) (1.13.1)\n",
            "Requirement already satisfied: joblib>=1.2.0 in /usr/local/lib/python3.10/dist-packages (from scikit-learn>=0.21.3->seqeval) (1.4.2)\n",
            "Requirement already satisfied: threadpoolctl>=3.1.0 in /usr/local/lib/python3.10/dist-packages (from scikit-learn>=0.21.3->seqeval) (3.5.0)\n",
            "Requirement already satisfied: python-dateutil>=2.8.2 in /usr/local/lib/python3.10/dist-packages (from pandas->datasets) (2.8.2)\n",
            "Requirement already satisfied: pytz>=2020.1 in /usr/local/lib/python3.10/dist-packages (from pandas->datasets) (2024.2)\n",
            "Requirement already satisfied: tzdata>=2022.7 in /usr/local/lib/python3.10/dist-packages (from pandas->datasets) (2024.2)\n",
            "Requirement already satisfied: six>=1.5 in /usr/local/lib/python3.10/dist-packages (from python-dateutil>=2.8.2->pandas->datasets) (1.16.0)\n",
            "Building wheels for collected packages: seqeval\n",
            "  Building wheel for seqeval (setup.py) ... \u001b[?25l\u001b[?25hdone\n",
            "  Created wheel for seqeval: filename=seqeval-1.2.2-py3-none-any.whl size=16161 sha256=295d14d84fdf579034fefd97aab9d7000e41058ac8cadabef45f56070ade6cf6\n",
            "  Stored in directory: /root/.cache/pip/wheels/1a/67/4a/ad4082dd7dfc30f2abfe4d80a2ed5926a506eb8a972b4767fa\n",
            "Successfully built seqeval\n",
            "Installing collected packages: seqeval\n",
            "Successfully installed seqeval-1.2.2\n"
          ]
        }
      ]
    },
    {
      "cell_type": "markdown",
      "source": [
        "# **Loading data**"
      ],
      "metadata": {
        "id": "kbzqTRkfq7Fh"
      }
    },
    {
      "cell_type": "markdown",
      "source": [
        "In the following we have implemented the steps already present in the **DEA file**, we have included some comments but for further clarification it's recommended to read the mentioned file.\n",
        "\n",
        "The changes from the initial file begin with the split of the dataset (see few scripts below)\n",
        "\n",
        "\n",
        "Here in the below are read text rows containing tokens and NER tags, assigning a unique ID to each sentence. We remove empty or invalid rows, concatenating the data into a single clean DataFrame and convert IDs to integers, preparing the dataset for later processing."
      ],
      "metadata": {
        "id": "_ayMu4ZaijEo"
      }
    },
    {
      "cell_type": "code",
      "source": [
        "def file_to_dataframe(file_path):\n",
        "    data = []\n",
        "    with open(file_path, 'r') as file:\n",
        "        lines = file.readlines()  # Leggi tutte le righe del file\n",
        "        for i, line in enumerate(lines):\n",
        "            line = line.strip()  # Rimuove spazi e newline extra\n",
        "            if not line:  # Linea vuota, segna come fine frase\n",
        "                data.append((\"end\", \"end\"))\n",
        "                continue\n",
        "\n",
        "            # Controlla se la riga contiene '\\t' per separare token e tag\n",
        "            if '\\t' in line:\n",
        "                parts = line.split('\\t')\n",
        "                if len(parts) == 2:  # La riga è valida con 2 parti\n",
        "                    token, ner_tag = parts\n",
        "                    data.append((token, ner_tag))\n",
        "                else:  # Riga malformata\n",
        "                    print(f\"Riga malformata alla linea {i + 1}: {line}\")\n",
        "            else:  # Riga senza '\\t'\n",
        "                print(f\"Riga senza tabulazione alla linea {i + 1}: {line}\")\n",
        "                # data.append((\"end\", \"end\"))\n",
        "\n",
        "    return pd.DataFrame(data, columns=['token', 'ner_tag'])\n",
        "\n",
        "# Converte entrambi i file in DataFrame\n",
        "df1 = file_to_dataframe('sample_data/file5.txt')\n",
        "df2 = file_to_dataframe('sample_data/file5.txt')\n",
        "\n",
        "\n",
        "# Assegna id di frase a file6\n",
        "sentence_id = 0\n",
        "for idx, row in df1.iterrows():\n",
        "  df1.loc[idx, 'id'] = sentence_id\n",
        "  if row['token'] == 'end' and row[\"ner_tag\"]==\"end\":\n",
        "    sentence_id += 1\n",
        "\n",
        "for idx, row in df2.iterrows():\n",
        "  df2.loc[idx, 'id'] = sentence_id\n",
        "  if row['token'] == 'end' and row[\"ner_tag\"]==\"end\":\n",
        "    sentence_id += 1\n",
        "\n",
        "\n",
        "df1 = df1[df1[\"ner_tag\"] != \"end\"]\n",
        "df2 = df2[df2[\"ner_tag\"] != \"end\"]\n",
        "\n",
        "combined_df = pd.concat([df1, df2], ignore_index=True)\n",
        "\n",
        "# Convertire la colonna id da float a int\n",
        "combined_df['id'] = combined_df['id'].astype(int)\n",
        "\n",
        "\n",
        "combined_df = combined_df.dropna(subset=['token']).reset_index(drop=True) # con questo medodo possiamo rimuovere le righe del dataframe il cui valore è mancante\n",
        "\n",
        "# Verifichiamo la presenza di righe vuote (serve più avanti per un problema al codice altrimenti)\n",
        "invalid_tokens = combined_df[~combined_df['token'].apply(lambda x: isinstance(x, str))]\n",
        "\n",
        "# Eliminare le righe con valori non stringa nella colonna 'token'\n",
        "combined_df = combined_df[combined_df['token'].apply(lambda x: isinstance(x, str))].reset_index(drop=True)"
      ],
      "metadata": {
        "id": "kVwwBzpcxTbc"
      },
      "execution_count": null,
      "outputs": []
    },
    {
      "cell_type": "markdown",
      "source": [
        "We used ***SpaCy*** with the pre-trained *en_core_web_sm* template to identify and remove stopwords and punctuation (except @) from the dataset. We implemented a function to clean tokens, remove empty rows, retweets (“rt”) and non-string values."
      ],
      "metadata": {
        "id": "SCoPpSeErds7"
      }
    },
    {
      "cell_type": "code",
      "execution_count": null,
      "metadata": {
        "id": "QuRYwbRmtEds"
      },
      "outputs": [],
      "source": [
        "# Modello di lingua inglese di Spacy\n",
        "nlp = spacy.load('en_core_web_sm')  # en_core_web_sm è un modello pre addestrato di spacy (small model).\n",
        "stopwords = nlp.Defaults.stop_words\n",
        "# Punteggiatura da rimuovere eslusa @\n",
        "punctuation = set(string.punctuation) - {'@'}\n",
        "\n",
        "# Funzione per eliminare stopwords e punteggiatura\n",
        "def remove_stopwords_and_punctuation(df):\n",
        "    df['token_cleaned'] = df['token'].apply(lambda x: x if x.lower() not in stopwords and x not in punctuation else '') # se è un carattere da rimuovere si crea riga vuota\n",
        "    df = df[df['token_cleaned'] != '']  # Rimuove le righe con token vuoti\n",
        "    return df.drop(columns=['token']).rename(columns={'token_cleaned': 'token'}) # si toglie la vecchia colonna \"token\" e si cambia il nome della nuova colonna \"toen_cleaned\" con \"token\"\n",
        "\n",
        "# Applicare la funzione al dataset combinato\n",
        "combined_df = remove_stopwords_and_punctuation(combined_df)\n",
        "\n",
        "# Elimina le righe in cui il token è \"rt\"\n",
        "combined_df = combined_df[combined_df['token'] != 'rt']  # \"rt\" sta per retweet\n",
        "\n",
        "# Reset dell'indice per un DataFrame pulito (siccome prima abbiamo eliminato righe)\n",
        "combined_df.reset_index(drop=True, inplace=True)\n",
        "\n",
        "# Rimuovere eventuali NaN o valori non stringa nella colonna \"token\"\n",
        "combined_df = combined_df.dropna(subset=['token']).reset_index(drop=True)\n",
        "combined_df = combined_df[combined_df['token'].apply(lambda x: isinstance(x, str))].reset_index(drop=True) # manteniamo solo i valori stringa e togliamo il resto"
      ]
    },
    {
      "cell_type": "markdown",
      "source": [
        "This is where the changes from the DEA file begin.\n",
        "\n",
        "Let's now divide our *combine_df* into *training* (70%), *test* (10% ) and *validation* (20%) such that *tokens* with the same sentence *id* shall remain in the same order and in the same dataset."
      ],
      "metadata": {
        "id": "4lChJTGJHCGl"
      }
    },
    {
      "cell_type": "code",
      "source": [
        "# Dividere il dataset in train, validation e test\n",
        "unique_ids = combined_df['id'].unique()\n",
        "# seed(42) inutile perchè abbiamo già random_state=42 alla riga sotto\n",
        "shuffled_ids = pd.Series(unique_ids).sample(frac=1, random_state=42).values\n",
        "train_ids, temp_ids = train_test_split(shuffled_ids, test_size=0.3, random_state=42)\n",
        "val_ids, test_ids = train_test_split(temp_ids, test_size=1/3, random_state=42)\n",
        "train_df = combined_df[combined_df['id'].isin(train_ids)]\n",
        "val_df = combined_df[combined_df['id'].isin(val_ids)]\n",
        "test_df = combined_df[combined_df['id'].isin(test_ids)]"
      ],
      "metadata": {
        "id": "Qd8tk6MgG9j0"
      },
      "execution_count": null,
      "outputs": []
    },
    {
      "cell_type": "markdown",
      "source": [
        "# **NER-TAG Classification with Transformers**"
      ],
      "metadata": {
        "id": "HsyNcgcXIyCo"
      }
    },
    {
      "cell_type": "markdown",
      "source": [
        "We defined a path so that we could save the model later (in case we were not using Google Colab)."
      ],
      "metadata": {
        "id": "2AkUegOzLpg0"
      }
    },
    {
      "cell_type": "code",
      "source": [
        "# Per salvataggio modello\n",
        "save_directory = r'C:\\Users\\capel\\OneDrive\\Desktop\\Data Visualization and Text Mining\\Assignment'\n",
        "if not os.path.exists(save_directory):\n",
        "    os.makedirs(save_directory)"
      ],
      "metadata": {
        "id": "lFPjMhvgL0fP"
      },
      "execution_count": null,
      "outputs": []
    },
    {
      "cell_type": "markdown",
      "source": [
        "To prevent the occurrence of a request for an authentication API key to wandb we wrote this line of code:"
      ],
      "metadata": {
        "id": "r3LgCNNFMjut"
      }
    },
    {
      "cell_type": "code",
      "source": [
        "# Disabilitare wandb per evitare richieste di API key\n",
        "os.environ[\"WANDB_DISABLED\"] = \"true\"   # Disabilitare wandb (Weights and Biases): evita richieste di autenticazione a Weights and Biases, uno strumento di monitoraggio delle esperienze di machine learning.\n"
      ],
      "metadata": {
        "id": "JM5Cm9wMMkOx"
      },
      "execution_count": null,
      "outputs": []
    },
    {
      "cell_type": "markdown",
      "source": [
        "## **Mapping NER labels to unique IDs**\n"
      ],
      "metadata": {
        "id": "KD0l2wu7Kqe3"
      }
    },
    {
      "cell_type": "markdown",
      "source": [
        "After identifying all unique NER labels in the data we created two map dictionaries:\n",
        "- ***tag2id***: associates each NER label with a unique numeric ID\n",
        "- ***id2tag***: this does the reverse (numeric ID to NER label).\n",
        "\n",
        "Finally, we apply the tag2id mapping to the three datasets thereby replacing the NER labels with their respective numeric IDs to make the data compatible with the *Hugging* *Face* model."
      ],
      "metadata": {
        "id": "8amtA92rNdSN"
      }
    },
    {
      "cell_type": "code",
      "source": [
        "# step 1: Mappare le etichette NER a ID unici\n",
        "all_df = pd.concat([train_df, val_df, test_df])                     # si poteva utilizzare direttamente combined_df\n",
        "unique_tags = all_df['ner_tag'].unique().tolist()                   # .tolist() converte l'array NumPy restituito da .unique() in una lista Python.\n",
        "tag2id = {tag: idx for idx, tag in enumerate(unique_tags)}          # dizionario in cui la chiave è il NER e il valore è un numero\n",
        "id2tag = {idx: tag for tag, idx in tag2id.items()}                  # viceversa\n",
        "train_df['ner_tag_id'] = train_df['ner_tag'].map(tag2id)            # ogni NER viene sostituito dal corrispondente id numerico presente nel dizionario tag2id\n",
        "val_df['ner_tag_id'] = val_df['ner_tag'].map(tag2id)\n",
        "test_df['ner_tag_id'] = test_df['ner_tag'].map(tag2id)"
      ],
      "metadata": {
        "id": "rNr8vmPIG_Y0"
      },
      "execution_count": null,
      "outputs": []
    },
    {
      "cell_type": "markdown",
      "source": [
        "## **Preparing Data for Hugging Face**"
      ],
      "metadata": {
        "id": "9bkfYrWKOW1w"
      }
    },
    {
      "cell_type": "markdown",
      "source": [
        "\n",
        "The multiple datasets are reorganized using Pandas *groupby*. The data are grouped by sentence by ID, aggregating tokens and NER numeric labels into lists. This format is required for Hugging Face, since models like BERT work on sentence-level input.\n",
        "\n",
        "In the end, we get three DataFrames (train, val, test), each with one row per complete sentence and its columns with associated tokens and tags."
      ],
      "metadata": {
        "id": "cLPvg17nMtCy"
      }
    },
    {
      "cell_type": "code",
      "source": [
        "####   *step 2: Preparare i dati per Hugging Face**  ########\n",
        "\n",
        "# Raggruppare i token e le etichette per frase utilizzando 'id' come identificatore siccome  modelli tipo BERT operano su frasi complete.\n",
        "def group_data(df):\n",
        "    return df.groupby('id').agg({'token': list, 'ner_tag_id': list}).reset_index()\n",
        "\n",
        "train_dataset = group_data(train_df)\n",
        "val_dataset = group_data(val_df)\n",
        "test_dataset = group_data(test_df)"
      ],
      "metadata": {
        "id": "1xOqCpwtMtL1"
      },
      "execution_count": null,
      "outputs": []
    },
    {
      "cell_type": "markdown",
      "source": [
        "## **Ensuring the proper alignment between tokens and labels**"
      ],
      "metadata": {
        "id": "HEMrZ5YROsIz"
      }
    },
    {
      "cell_type": "markdown",
      "source": [
        "To be on the safe side, we double checked that the previous step was successful i.e., we checked that the number of tokens and NER labels for each phrase in the three datasets are aligned. The function uses *.str.len()* from Pandas to compare the length of the token lists and labels in each row of the DataFrame. If there are mismatches, the problematic sentences will be printed, otherwise the check passes successfully."
      ],
      "metadata": {
        "id": "DlX1NNQTOsTg"
      }
    },
    {
      "cell_type": "code",
      "source": [
        "####   **step 3: Verificare l'allineamento tra token e etichette**   #####\n",
        "\n",
        "def check_token_label_alignment(df_grouped):\n",
        "    misaligned = df_grouped[\n",
        "        df_grouped['token'].str.len() != df_grouped['ner_tag_id'].str.len()\n",
        "    ]\n",
        "    if not misaligned.empty:\n",
        "        print(\"Frasi con disallineamento tra token e etichette:\")\n",
        "        print(misaligned)\n",
        "    return misaligned.empty\n",
        "\n",
        "assert check_token_label_alignment(train_dataset), \"Disallineamento nel train set\"\n",
        "assert check_token_label_alignment(val_dataset), \"Disallineamento nel validation set\"\n",
        "assert check_token_label_alignment(test_dataset), \"Disallineamento nel test set\""
      ],
      "metadata": {
        "id": "ML1qcgvROsdG"
      },
      "execution_count": null,
      "outputs": []
    },
    {
      "cell_type": "markdown",
      "source": [
        "## **Creating the datasets for Hugging Face**"
      ],
      "metadata": {
        "id": "lCS0h_xkQA85"
      }
    },
    {
      "cell_type": "markdown",
      "source": [
        "Training, validation, and test datasets are converted from Pandas DataFrame format to Hugging Face's Dataset format using the *Dataset.from_pandas()* function.  Finally, the three datasets are grouped into a DatasetDict object, which organizes the data into a single structure, facilitating access and integration with the Hugging Face API."
      ],
      "metadata": {
        "id": "mOX_0XTBQBEo"
      }
    },
    {
      "cell_type": "code",
      "source": [
        "####    *step 4: Creare i dataset per Hugging Face*    #####\n",
        "\n",
        "train_dataset = Dataset.from_pandas(train_dataset)  # siccome hugging face utilizza specifici formati utilizziamo \"Dataset\" per convertire un DataFrame Pandas in un formato compatibile\n",
        "val_dataset = Dataset.from_pandas(val_dataset)\n",
        "test_dataset = Dataset.from_pandas(test_dataset)\n",
        "\n",
        "datasets = DatasetDict({   # raggruppiamo tutto insieme per facilita l'uso delle API di hugging face.\n",
        "    'train': train_dataset,\n",
        "    'validation': val_dataset,\n",
        "    'test': test_dataset\n",
        "})"
      ],
      "metadata": {
        "id": "pOYT8bVRQBOG"
      },
      "execution_count": null,
      "outputs": []
    },
    {
      "cell_type": "markdown",
      "source": [
        "## **Loading the tokenizer and the pre-trained model**"
      ],
      "metadata": {
        "id": "26irRfyQQrqq"
      }
    },
    {
      "cell_type": "markdown",
      "source": [
        "- **Pre-trained model**: The model selected is “***distilbert-base-cased***,” a lightweight version of BERT (Bidirectional Encoder Representations from Transformers) designed to be faster and less memory-intensive than the full BERT. It is case-sensitive.\n",
        "\n",
        "- **Tokenizer**: The ***AutoTokenizer.from_pretrained()*** function automatically loads the tokenizer associated with the pre-trained template.\n",
        "The tokenizer is responsible for splitting the text into tokens and mapping them to numeric IDs compatible with the template. It also handles the addition of special tokens (e.g., [CLS], [SEP]) and padding/truncation.  An interesting aspect of this tokenizer is its large vocabulary size, which exceeds 28,000 tokens. This wide coverage allows the tokenizer to represent a wide variety of words, characters and sub-words, thus ensuring excellent generalization capability even on complex or non-standardized texts.\n",
        "\n",
        "- **Purpose**: The pre-trained model serves as the base and is adapted (fine-tuned) to the specific data of our NER project.\n",
        "\n",
        "Some additional information on ***distilbert-base-cased*** can be found at the following link:\n",
        "\n",
        " https://huggingface.co/distilbert/distilbert-base-cased\n",
        "\n",
        "\n",
        "Below we cite some of the features of the model.\n",
        "- Distillation loss: the model was trained to return the same probabilities as the BERT base model.\n",
        "- Masked language modeling (MLM): this is part of the original training loss of the BERT base model. When taking a sentence, the model randomly masks 15% of the words in the input then run the entire masked sentence through the model and has to predict the masked words. This is different from traditional recurrent neural networks (RNNs) that usually see the words one after the other, or from autoregressive models like GPT which internally mask the future tokens. It allows the model to learn a bidirectional representation of the sentence.\n",
        "- Cosine embedding loss: the model was also trained to generate hidden states as close as possible as the BERT base model.\n",
        "\n",
        "- Even if the training data used for this model could be characterized as fairly neutral, this model can have biased predictions. It also inherits some of the bias of its teacher model.\n",
        "- DistilBERT pretrained on the same data as BERT, which is BookCorpus, a dataset consisting of 11,038 unpublished books and English Wikipedia (excluding lists, tables and headers).\n",
        "- Small size: DistilBERT has about 40 percent fewer parameters than basic BERT.\n",
        "- Performance: Despite being smaller, DistilBERT maintains about 97% of BERT's performance on several NLP benchmarks.\n",
        "- Advantages:\n",
        "  1. Computational efficiency:Requires less memory and computational resources.\n",
        "  2. Speed: Faster during both training and inference.\n",
        "  3. Suitable for resource-limited environments: Ideal for applications that need lightweight models.\n"
      ],
      "metadata": {
        "id": "_HA89qFKQrwh"
      }
    },
    {
      "cell_type": "code",
      "source": [
        "####  **step 5: Caricare il tokenizer e il modello pre-addestrato**  #######\n",
        "\n",
        "model_name = \"distilbert-base-cased\"                   # Modello leggero e case-sensitive\n",
        "tokenizer = AutoTokenizer.from_pretrained(model_name)  # AutoModelForTokenClassification è il modello pre-addestrato, configurato per il task di token classification (NER).\n",
        "model = AutoModelForTokenClassification.from_pretrained(\n",
        "    model_name, num_labels=len(tag2id)                 # specificare il numero di token unici con num_labels=len(tag2id)\n",
        ")\n"
      ],
      "metadata": {
        "id": "XwYRPv-iQr6O",
        "outputId": "05a8aa49-c9d5-4223-f0e8-9e7830621987",
        "colab": {
          "base_uri": "https://localhost:8080/",
          "height": 232,
          "referenced_widgets": [
            "b2a5ea1cfeae456e9a031bc2bf26404b",
            "7a3548be3c5541519b06545b0c575362",
            "f815070ce7774e80bf2a400cbba3ce54",
            "eee1150ecfb2444aa454416ad133bd3c",
            "ebb132888f424e748f1067950990380b",
            "5394408a52b64dc7ae28b84772ad19f8",
            "28a5579044c84932b6b54ee7c3675c55",
            "4350dc3fc8cd441b92a18fc32f8965ae",
            "517bfa4c4d924118808e802afd28f472",
            "be9e421e67784ede83145a58ed08feb0",
            "3befc9270b224c52a26a46513c6645f5",
            "b7906ac9916945a1a0204e58e2daa045",
            "7a1ba87bdf4c4261ac3948cfb7d36618",
            "b110783bea00411f8186b79eed479457",
            "cada6416a532440aa5f68690271686b1",
            "f8b0e03539b64dd0b408d7b470e4b8a4",
            "37c30c63b1a54ab19372fffd3d1560bd",
            "293f8bc4fafd4ca6abe13b114d338718",
            "07314778160a405d8c733fadbbb7d5a0",
            "f1741ae0cdd64e4bb850b5c4a262d618",
            "e498953552014db5b99bcb1aee9c2b3c",
            "567f4a21c5e643c8b4d94fcecb151dba",
            "d58992b871d846309b7d61ee8fb28bbc",
            "3fef0f14efc347178bd9763444e71a72",
            "303f16bc48d84d9a933cfc1ea8e6dc2d",
            "7269241dbb1140a4953208b0e26fedcc",
            "20d561dd9d1b42aba79364ef5001f926",
            "cc9eb411cc40456b944786c37c5d7f8f",
            "a6c59ea108cb47afbaf89ef069ae00bb",
            "359dc7d254114df39d755934e4cba758",
            "59d91ed667b9421b890e1af54a3933b8",
            "bf979f71af154fe3bca777c13b394be7",
            "7bcb95b7ff1c4d46858dc543605f383c",
            "27a07061a969491cacf9c2f6aa2e697e",
            "f2f035185e76405d8eb8e9292865618e",
            "1225130035aa4888bac01980bcc66b07",
            "ed3fd41f7aec4513b9b8113212334886",
            "0fd6a05a776d4459a26163f2241a67b6",
            "d7a750f1bd7442be9291f1a249b368bc",
            "810978e875ef4781937c1e693d4861d2",
            "2648c8566858405c9b8a9b1e99054c5f",
            "66259695b2f4444081b0b186453938b6",
            "21a08cc66a814818a5f90e1fd433d722",
            "cd54a9750e374f88a4e501f5ae4816f4",
            "6f7b0f5277284377b880d79f63542581",
            "a62a6a82147a4a7387b30b333189da5d",
            "8aca8e4e22ae4e15bf645504d649987f",
            "b64b8478c8a84a63a6ad4316a8e656bc",
            "82ba169266e6402ab457e82070720b28",
            "6316149233ff442d947ed224ebac260f",
            "20852dd45a474d5c8af2d37820d0ae43",
            "d9209024ebd748cba51bb547f3c875fb",
            "693aaf6f50964ae9a218147f571dd06e",
            "dce79208654e4970be2c2e76ae27f264",
            "e978dd4e25734bd5abe45ee9345f7477"
          ]
        }
      },
      "execution_count": null,
      "outputs": [
        {
          "output_type": "display_data",
          "data": {
            "text/plain": [
              "tokenizer_config.json:   0%|          | 0.00/49.0 [00:00<?, ?B/s]"
            ],
            "application/vnd.jupyter.widget-view+json": {
              "version_major": 2,
              "version_minor": 0,
              "model_id": "b2a5ea1cfeae456e9a031bc2bf26404b"
            }
          },
          "metadata": {}
        },
        {
          "output_type": "display_data",
          "data": {
            "text/plain": [
              "config.json:   0%|          | 0.00/465 [00:00<?, ?B/s]"
            ],
            "application/vnd.jupyter.widget-view+json": {
              "version_major": 2,
              "version_minor": 0,
              "model_id": "b7906ac9916945a1a0204e58e2daa045"
            }
          },
          "metadata": {}
        },
        {
          "output_type": "display_data",
          "data": {
            "text/plain": [
              "vocab.txt:   0%|          | 0.00/213k [00:00<?, ?B/s]"
            ],
            "application/vnd.jupyter.widget-view+json": {
              "version_major": 2,
              "version_minor": 0,
              "model_id": "d58992b871d846309b7d61ee8fb28bbc"
            }
          },
          "metadata": {}
        },
        {
          "output_type": "display_data",
          "data": {
            "text/plain": [
              "tokenizer.json:   0%|          | 0.00/436k [00:00<?, ?B/s]"
            ],
            "application/vnd.jupyter.widget-view+json": {
              "version_major": 2,
              "version_minor": 0,
              "model_id": "27a07061a969491cacf9c2f6aa2e697e"
            }
          },
          "metadata": {}
        },
        {
          "output_type": "display_data",
          "data": {
            "text/plain": [
              "model.safetensors:   0%|          | 0.00/263M [00:00<?, ?B/s]"
            ],
            "application/vnd.jupyter.widget-view+json": {
              "version_major": 2,
              "version_minor": 0,
              "model_id": "6f7b0f5277284377b880d79f63542581"
            }
          },
          "metadata": {}
        },
        {
          "output_type": "stream",
          "name": "stderr",
          "text": [
            "Some weights of DistilBertForTokenClassification were not initialized from the model checkpoint at distilbert-base-cased and are newly initialized: ['classifier.bias', 'classifier.weight']\n",
            "You should probably TRAIN this model on a down-stream task to be able to use it for predictions and inference.\n"
          ]
        }
      ]
    },
    {
      "cell_type": "markdown",
      "source": [
        "## **Tokenization and label alignment**"
      ],
      "metadata": {
        "id": "y-P3lTrRSGsa"
      }
    },
    {
      "cell_type": "markdown",
      "source": [
        "The *tokenize_and_align_labels* function tokenizes sequences using the Hugging Face tokenizer, maintaining alignment between generated tokens and NER labels. Main tokens retain their original labels, while special tokens and sub-tokens are ignored by assigning -100.\n",
        "\n",
        "Tokenization includes padding to equalize sequences to a maximum length of 28 tokens (which is be the maximum length of a sentence in our dataset) .\n",
        "\n",
        "The function is applied to the datasets using *datasets.map()*, removing unnecessary columns and producing training-ready datasets."
      ],
      "metadata": {
        "id": "nFrSNezQSGyT"
      }
    },
    {
      "cell_type": "code",
      "source": [
        "####   **step 6: Tokenizzazione e allineamento delle etichette**   ######\n",
        "\n",
        "def tokenize_and_align_labels(examples):\n",
        "    tokenized_inputs = tokenizer(\n",
        "        examples['token'],\n",
        "        is_split_into_words=True,  # token già divisi in parole (e non frasi)\n",
        "        truncation=True,           # troncare token che superano la lunghezza massima (non ci dovrebbero essere token da 65 in ogni caso)\n",
        "        padding='max_length',      # ricordarsi: il padding è una tecnica utilizzata per gestire input di lunghezza differente. aggiunge token speciali ([PAD]) alle sequenze più corte per uniformarne la lunghezza.\n",
        "        max_length=28              # Lunghezza massima pari a 28\n",
        "    )\n",
        "\n",
        "    labels = []\n",
        "    for i, label in enumerate(examples['ner_tag_id']):\n",
        "        word_ids = tokenized_inputs.word_ids(batch_index=i) # restituisce None per i token speciali come [PAD], [CLS] e [SEP]\n",
        "                                                            # ogni elemento della lista rappresenta l'indice della parola originale a cui il token appartiene oppure None\n",
        "        label_ids = []\n",
        "        previous_word_idx = None\n",
        "        for word_idx in word_ids:\n",
        "            if word_idx is None:                   # si controlla token speciali tipo [CLS], [SEP] e nel caso gli si assegna un etichetta particolare per ignorarli\n",
        "                label_ids.append(-100)\n",
        "            elif word_idx != previous_word_idx:\n",
        "                label_ids.append(label[word_idx])  # Token principali\n",
        "            else:                                  # Gestisce i sotto-token, cioè i token che appartengono alla stessa parola (per sicurezza)\n",
        "                label_ids.append(-100)             # Sotto-token\n",
        "            previous_word_idx = word_idx\n",
        "        labels.append(label_ids)\n",
        "\n",
        "    tokenized_inputs[\"labels\"] = labels\n",
        "    return tokenized_inputs\n",
        "\n",
        "# Applicare la tokenizzazione ai dataset\n",
        "print(\"Tokenizzazione in corso...\")\n",
        "tokenized_datasets = datasets.map(\n",
        "    tokenize_and_align_labels,                    # è la funzione definita prima\n",
        "    batched=True,                                 # più frasi in contemporanea\n",
        "    remove_columns=['id', 'token', 'ner_tag_id']\n",
        ")\n"
      ],
      "metadata": {
        "id": "0Nsfy7IKSG8x",
        "outputId": "6904762e-07b4-446a-fc72-c6c4c2666178",
        "colab": {
          "base_uri": "https://localhost:8080/",
          "height": 130,
          "referenced_widgets": [
            "7b2a31a8d18745bdb8b7af7fffc0d0ee",
            "bc90b1d03ba64d28bfe7c3aa250a69d0",
            "5f7d747418624d33b5e0b79f477a53d3",
            "a3255844a86e4b4496563169de092446",
            "199ee9edd1124f629b455b1959c39fdb",
            "40a99666ad324572bd67378d9f4f7d51",
            "f0e99517bec34038bb157bf668c915ed",
            "995c0fffd09e4265bcdd9f90e1861046",
            "f6482516ea8843088f26986cb9da7626",
            "965924fcfc6c42bd8f51d6cf13354923",
            "1a03856034ba44b18a6e8ffe3d844529",
            "a50020cc58ca417fae02a695b6076542",
            "3b4026022f894f28a026b4a66eb16270",
            "388d2f437027464f98c45b3db80f09b8",
            "fe999f0929ca4888ab993123f4969a84",
            "72d404f426f24700866208405aa1bb02",
            "a8fe19e097cc4b8a97ab18c54ee0dd59",
            "152faf3a308044268f1e70554764ee7f",
            "801db8e2577b4cdc89f4e90d8c18937c",
            "fefa586dec81457bbdf1fc561ac28432",
            "7635868e9395436bb76678a29fa82bea",
            "b972bde9ba754c6b869eebfef311e9db",
            "cf2d96d5d8f849b3b64fc658474c7d53",
            "a85716327db04300beed39aa6899bff1",
            "fd850ea4663d40108ec15713a7d0cb2e",
            "93ca4cc718b3491fb77e42b6ec077ca4",
            "c219f76cc3db498a99363ec1f3734035",
            "4bda323612a7467f9893c87b30775cd7",
            "6dbbe9fe7e0f48d8951b51ca92d9e0be",
            "02d535158afc444dae31b6fb777a02d3",
            "c2c81fe813ac40ef8dc9e2191ba6d726",
            "48c0b5ca81974683a065645e9819a833",
            "f0a5cc8bd6f54501a9bbd5d4b833671b"
          ]
        },
        "collapsed": true
      },
      "execution_count": null,
      "outputs": [
        {
          "output_type": "stream",
          "name": "stdout",
          "text": [
            "Tokenizzazione in corso...\n"
          ]
        },
        {
          "output_type": "display_data",
          "data": {
            "text/plain": [
              "Map:   0%|          | 0/2993 [00:00<?, ? examples/s]"
            ],
            "application/vnd.jupyter.widget-view+json": {
              "version_major": 2,
              "version_minor": 0,
              "model_id": "7b2a31a8d18745bdb8b7af7fffc0d0ee"
            }
          },
          "metadata": {}
        },
        {
          "output_type": "display_data",
          "data": {
            "text/plain": [
              "Map:   0%|          | 0/855 [00:00<?, ? examples/s]"
            ],
            "application/vnd.jupyter.widget-view+json": {
              "version_major": 2,
              "version_minor": 0,
              "model_id": "a50020cc58ca417fae02a695b6076542"
            }
          },
          "metadata": {}
        },
        {
          "output_type": "display_data",
          "data": {
            "text/plain": [
              "Map:   0%|          | 0/428 [00:00<?, ? examples/s]"
            ],
            "application/vnd.jupyter.widget-view+json": {
              "version_major": 2,
              "version_minor": 0,
              "model_id": "cf2d96d5d8f849b3b64fc658474c7d53"
            }
          },
          "metadata": {}
        }
      ]
    },
    {
      "cell_type": "markdown",
      "source": [
        "## **Preparing for training**"
      ],
      "metadata": {
        "id": "rXk24Kp8S1Tp"
      }
    },
    {
      "cell_type": "markdown",
      "source": [
        "**Data Collator**: Hugging Face's *DataCollatorForTokenClassification* is used to handle dynamic padding during batch creation. This ensures that all sequences in a batch have the same length as the longest token, improving efficiency and memory management.\n",
        "\n",
        "We also computed some metrics to evaluate model performance. This is done by converting probabilistic model predictions to final labels using *np.argmax*.\n",
        "Excluding tokens with -100 label to focus only on relevant tokens.\n",
        "To compute the metrix we used ***seqeval***  that is specific for NER tasks; the metrixs are:\n",
        "- Precision: Percentage of correct entities among those predicted.\n",
        "- Recall: Percentage of correct entities among those present.\n",
        "- F1-Score: Harmonic mean between precision and recall.\n",
        "- Accuracy: Percentage of tokens classified correctly.\n"
      ],
      "metadata": {
        "id": "Uel6QIMTS1aB"
      }
    },
    {
      "cell_type": "code",
      "source": [
        "### **step 7: Preparare per l'addestramento**  ######\n",
        "\n",
        "data_collator = DataCollatorForTokenClassification(tokenizer)  # Data Collator: gestisce il padding dinamico durante la creazione dei batch, in modo che ogni batch sia della stessa lunghezza del token più lungo presente. Questo aumenta l'efficienza e la gestione della memoria.\n",
        "\n",
        "# Definire la funzione per calcolare le metriche\n",
        "def compute_metrics(p):\n",
        "    predictions, labels = p                                    # Rappresenta le predizioni del modello e le etichette vere\n",
        "    predictions = np.argmax(predictions, axis=2)               # Converte le predizioni probabilistiche del modello in etichette finali\n",
        "\n",
        "    true_predictions = [\n",
        "        [id2tag[pred] for (pred, label_id) in zip(prediction, label) if label_id != -100]    # escludiamo i lable -100 ovvero caratteri speciali\n",
        "        for prediction, label in zip(predictions, labels)\n",
        "    ]\n",
        "    true_labels = [\n",
        "        [id2tag[label_id] for (pred, label_id) in zip(prediction, label) if label_id != -100]\n",
        "        for prediction, label in zip(predictions, labels)\n",
        "    ]\n",
        "\n",
        "    # Sequeval per il calcolo delle metriche\n",
        "    seqeval = evaluate.load(\"seqeval\")                       # SEQUEVAL:  è una libreria Python progettata per calcolare metriche di valutazione per il NER.\n",
        "    results = seqeval.compute(predictions=true_predictions, references=true_labels)\n",
        "    return {\n",
        "        \"precision\": results.get(\"overall_precision\", 0.0),  #  Percentuale di entità rilevate correttamente rispetto a tutte quelle predette.\n",
        "        \"recall\": results.get(\"overall_recall\", 0.0),        # Percentuale di entità rilevate correttamente rispetto a tutte quelle effettivamente presenti.\n",
        "        \"f1\": results.get(\"overall_f1\", 0.0),                # Media armonica tra precisione e richiamo\n",
        "        \"accuracy\": results.get(\"overall_accuracy\", 0.0),    # Percentuale di token classificati correttamente (nel validation)\n",
        "\n",
        "    }"
      ],
      "metadata": {
        "id": "Qb5vtZfQS1po"
      },
      "execution_count": null,
      "outputs": []
    },
    {
      "cell_type": "markdown",
      "source": [
        "## **Setting the training parameters**"
      ],
      "metadata": {
        "id": "_u782RGqURnD"
      }
    },
    {
      "cell_type": "markdown",
      "source": [
        "We defined the training parameters using ***TrainingArguments*** from Hugging Face. Among them, we specified:\n",
        "\n",
        "- The directory where we want to save the model.\n",
        "- The number of training epochs (20).\n",
        "- The batch size for both training and evaluation.\n",
        "- The evaluation and saving strategy (at each epoch).\n",
        "- The logging every 50 steps to monitor progress.\n",
        "- The automatic loading of the best model at the end of training.\n",
        "- The use of mixed-precision calculations (FP16) if we have a GPU with CUDA support, to optimize performance and memory."
      ],
      "metadata": {
        "id": "HVV3OGhZURrO"
      }
    },
    {
      "cell_type": "code",
      "source": [
        "##    **step 8: Impostare i parametri di addestramento* ######à\n",
        "\n",
        "training_args = TrainingArguments(\n",
        "    output_dir=save_directory,        # Directory in cui vorrei salvare il modello (definita in precedenza)\n",
        "    num_train_epochs=20,               # il modello farà (potenzialmente) 20 volte il giro del trainig set\n",
        "    per_device_train_batch_size=32,   # numero di campioni processati in parallelo durante l'addestramento e la valutazione.\n",
        "    per_device_eval_batch_size=32,\n",
        "    evaluation_strategy=\"epoch\",      # valutare il modello al termine di ogni epoca\n",
        "    save_strategy=\"epoch\",\n",
        "    logging_dir='./logs',\n",
        "    logging_steps=50,                # Specifica dove salvare i log e ogni quanti step loggare le informazioni di addestramento (50 dovrebbe essere la prassi)\n",
        "    load_best_model_at_end=True,     # Dopo l'addestramento, carica automaticamente il modello con le migliori prestazioni sulla validation set\n",
        "    report_to=\"none\",\n",
        "    fp16=torch.cuda.is_available(),  # Utilizza calcoli a precisione mista (FP16) se una GPU con supporto CUDA è disponibile, per migliorare la velocità e ridurre il consumo di memoria.\n",
        ")\n"
      ],
      "metadata": {
        "id": "3jrWpouFUR4C"
      },
      "execution_count": null,
      "outputs": []
    },
    {
      "cell_type": "markdown",
      "source": [
        "## **Creating the trainer**"
      ],
      "metadata": {
        "id": "JhHYYtNqVWlh"
      }
    },
    {
      "cell_type": "markdown",
      "source": [
        "Prior to creating the trainer, we decided to implement **Early Stopping**. It is a technique used to improve the efficiency and effectiveness of model training. It is used to monitor the model's performance on the validation set during training, stopping the process if no significant improvement in metrics is observed for a number of consecutive epochs. This prevents the model from continuing to train unnecessarily, saving computational time and preventing overfitting, which is when the model overfits the training data and loses generalization to the test data.\n",
        "\n",
        "We decided to implement Early Stopping for two main reasons:\n",
        "\n",
        "- Avoiding overtraining (overfitting): By stopping training when performance on the validation set stops improving, we reduce the risk of the model learning specific details of the training set at the expense of generalization.\n",
        "- Optimizing computational resources: Since training can be a long and intensive process, Early Stopping allows us to end training once the best possible result is achieved, saving time and resources."
      ],
      "metadata": {
        "id": "4Q2cGH7nr-HP"
      }
    },
    {
      "cell_type": "code",
      "source": [
        "# Early Stopping\n",
        "from transformers import EarlyStoppingCallback\n",
        "\n",
        "early_stopping = EarlyStoppingCallback(\n",
        "    early_stopping_patience=2,       # Numero di epoche senza miglioramento prima di fermare\n",
        "    early_stopping_threshold=0.01,   # Miglioramento minimo richiesto per continuare\n",
        ")"
      ],
      "metadata": {
        "id": "LZ-sdUvwrnpd"
      },
      "execution_count": null,
      "outputs": []
    },
    {
      "cell_type": "markdown",
      "source": [
        "We created a trainer using Hugging Face's ***Trainer*** class, which simplifies model training and evaluation. Specifically:\n",
        "\n",
        "- We passed the pre-trained model and previously defined training parameters.\n",
        "- We specified the already tokenized training and validation datasets.\n",
        "- The *tokenizer* and *data_collator* are used to properly handle batch and padding.\n",
        "- The *compute_metrics* function computes evaluation metrics specific to the NER task.\n",
        "- The trainer handles loss automatically, excluding tokens with a -100 label (like padding), making the training process more efficient."
      ],
      "metadata": {
        "id": "qcFuTh71VWsh"
      }
    },
    {
      "cell_type": "code",
      "source": [
        "#####  **step 9: Creare il trainer**  ######\n",
        "\n",
        "trainer = Trainer(                                    # \"Trainer\" in hugging face che include una variante della Cross Entropy Loss la quale ignora automaticamente i token con etichetta -100 (quindi ad esempio i padding)\n",
        "    model=model,                                      # modello pre addestrato\n",
        "    args=training_args,\n",
        "    train_dataset=tokenized_datasets['train'],        # TRAINING SET UTILIZZATO QUI, ricordarsi che contiene sequenze di stringe e -100\n",
        "    eval_dataset=tokenized_datasets['validation'],    # VALIDATION SET UTILIZZATO QUI\n",
        "    tokenizer=tokenizer,\n",
        "    data_collator=data_collator,\n",
        "    compute_metrics=compute_metrics,\n",
        "    callbacks=[early_stopping],\n",
        ")"
      ],
      "metadata": {
        "id": "NbShktObVW1m"
      },
      "execution_count": null,
      "outputs": []
    },
    {
      "cell_type": "markdown",
      "source": [
        "## **Initiating training**"
      ],
      "metadata": {
        "id": "b8rwkbUuV9jl"
      }
    },
    {
      "cell_type": "markdown",
      "source": [
        "We started training the model using the ***.train()*** method of the Trainer. This step uses the previously defined parameters, the tokenized datasets, and the pre-trained model. During training, the trainer automatically handles batch splitting, loss calculation and optimization, recording progress and saving the best model at the end of each epoch."
      ],
      "metadata": {
        "id": "HWlCgWqaV9mX"
      }
    },
    {
      "cell_type": "code",
      "source": [
        "###  step 10: Avviare l'addestramento  ###\n",
        "\n",
        "print(\"Inizio dell'addestramento...\")\n",
        "trainer.train()"
      ],
      "metadata": {
        "colab": {
          "base_uri": "https://localhost:8080/",
          "height": 333,
          "referenced_widgets": [
            "63e63fa23df34d37aa578ab669da6257",
            "1e773415174845708f4d962990aa74db",
            "01b2b19925cc44588a96f80892cba155",
            "0811f46add1143c7b7bc82e16b1e5786",
            "49635de2466e4c408ca75b4ac5087c4e",
            "43ffe5dbf740404aa999023d9cebfdbc",
            "c9488c387e814cd6943cf01046ed1353",
            "2fec4315000343d0b2994a63d4f93bcf",
            "22c391a1f17a4e5fad352d2edd76fb0f",
            "350e06d05f5a4d718bb68dbe183db668",
            "bc59115d01e342b0b52c5f7f7fb603be"
          ]
        },
        "id": "16bYjotv0MMi",
        "outputId": "7bbecc6c-6537-4812-c246-cc22654e88b4"
      },
      "execution_count": null,
      "outputs": [
        {
          "output_type": "stream",
          "name": "stdout",
          "text": [
            "Inizio dell'addestramento...\n"
          ]
        },
        {
          "output_type": "display_data",
          "data": {
            "text/plain": [
              "<IPython.core.display.HTML object>"
            ],
            "text/html": [
              "\n",
              "    <div>\n",
              "      \n",
              "      <progress value='470' max='1880' style='width:300px; height:20px; vertical-align: middle;'></progress>\n",
              "      [ 470/1880 01:07 < 03:24, 6.88 it/s, Epoch 5/20]\n",
              "    </div>\n",
              "    <table border=\"1\" class=\"dataframe\">\n",
              "  <thead>\n",
              " <tr style=\"text-align: left;\">\n",
              "      <th>Epoch</th>\n",
              "      <th>Training Loss</th>\n",
              "      <th>Validation Loss</th>\n",
              "      <th>Precision</th>\n",
              "      <th>Recall</th>\n",
              "      <th>F1</th>\n",
              "      <th>Accuracy</th>\n",
              "    </tr>\n",
              "  </thead>\n",
              "  <tbody>\n",
              "    <tr>\n",
              "      <td>1</td>\n",
              "      <td>0.709100</td>\n",
              "      <td>0.193596</td>\n",
              "      <td>0.812107</td>\n",
              "      <td>0.793527</td>\n",
              "      <td>0.802710</td>\n",
              "      <td>0.935959</td>\n",
              "    </tr>\n",
              "    <tr>\n",
              "      <td>2</td>\n",
              "      <td>0.140100</td>\n",
              "      <td>0.121843</td>\n",
              "      <td>0.873247</td>\n",
              "      <td>0.903460</td>\n",
              "      <td>0.888097</td>\n",
              "      <td>0.963012</td>\n",
              "    </tr>\n",
              "    <tr>\n",
              "      <td>3</td>\n",
              "      <td>0.060500</td>\n",
              "      <td>0.105817</td>\n",
              "      <td>0.903298</td>\n",
              "      <td>0.901786</td>\n",
              "      <td>0.902541</td>\n",
              "      <td>0.969356</td>\n",
              "    </tr>\n",
              "    <tr>\n",
              "      <td>4</td>\n",
              "      <td>0.032300</td>\n",
              "      <td>0.098879</td>\n",
              "      <td>0.920417</td>\n",
              "      <td>0.935826</td>\n",
              "      <td>0.928058</td>\n",
              "      <td>0.975940</td>\n",
              "    </tr>\n",
              "    <tr>\n",
              "      <td>5</td>\n",
              "      <td>0.023100</td>\n",
              "      <td>0.097625</td>\n",
              "      <td>0.932703</td>\n",
              "      <td>0.935826</td>\n",
              "      <td>0.934262</td>\n",
              "      <td>0.978693</td>\n",
              "    </tr>\n",
              "  </tbody>\n",
              "</table><p>"
            ]
          },
          "metadata": {}
        },
        {
          "output_type": "display_data",
          "data": {
            "text/plain": [
              "Downloading builder script:   0%|          | 0.00/6.34k [00:00<?, ?B/s]"
            ],
            "application/vnd.jupyter.widget-view+json": {
              "version_major": 2,
              "version_minor": 0,
              "model_id": "63e63fa23df34d37aa578ab669da6257"
            }
          },
          "metadata": {}
        },
        {
          "output_type": "execute_result",
          "data": {
            "text/plain": [
              "TrainOutput(global_step=470, training_loss=0.15051123924711918, metrics={'train_runtime': 70.7606, 'train_samples_per_second': 845.951, 'train_steps_per_second': 26.568, 'total_flos': 106935959712120.0, 'train_loss': 0.15051123924711918, 'epoch': 5.0})"
            ]
          },
          "metadata": {},
          "execution_count": 17
        }
      ]
    },
    {
      "cell_type": "markdown",
      "source": [
        "**Metrics by Epoch during Training**:\n",
        "In the table, we can see the progress of the model in terms of loss and evaluation metrics during the three training epochs.\n",
        "\n",
        "1. **Training Loss and Validation Loss**:\n",
        "\n",
        "Training Loss and Validation Loss progressively decrease for each epoch. This indicates that the model is improving its ability to learn patterns from the data, reducing both the error on the training data and the error on the validation data. A consistent decrease in Validation Loss suggests that the model is not overfitting, but is generalizing well on unseen data.  To specify that since we used early stopping, our model will automatically take the weights generated in the best epoch, in our case the fourth.\n",
        "\n",
        "2. **Precision, Recall, F1, and Accuracy**:\n",
        "\n",
        "- Precision: Represents the percentage of correct predictions among all predictions made. We see that precision improves from 0.81 in the first epoch to 0.92 in the third epoch.\n",
        "\n",
        "- Recall: It indicates the percentage of correct entities that the model was able to detect. Recall also increases from 0.79 to 0.93, indicating that the model was able to recognize more entities correctly as training progressed.\n",
        "\n",
        "- F1 Score: The harmonic mean of precision and recall, representing a good compromise between the two metrics.\n",
        "\n",
        "- Accuracy: The overall Accuracy goes up showing a steady increase in the accuracy of the model, till an accuracy of 97,8%.\n",
        "\n",
        "Overall, we can see that the values of all metrics improve during the epochs, indicating that the model was able to learn and improve effectively."
      ],
      "metadata": {
        "id": "NiY94rCIXfzU"
      }
    },
    {
      "cell_type": "markdown",
      "source": [
        "## **Saving the model**"
      ],
      "metadata": {
        "id": "2JiZF08aZpyL"
      }
    },
    {
      "cell_type": "markdown",
      "source": [
        "Below we have given the option of saving the model in two different ways depending on whether you use Colab or Visual Studio Code."
      ],
      "metadata": {
        "id": "DvmoWlgEZp_W"
      }
    },
    {
      "cell_type": "code",
      "source": [
        "#### **step 12: Salvare il modello addestrato**  ####\n",
        "\n",
        "#questo codice è utile per salvare il modello sul pc se non si sta usando colab\n",
        "#trainer.save_model(save_directory)\n",
        "#tokenizer.save_pretrained(save_directory)\n",
        "\n",
        "\n",
        "####### SALVARE IL MODELLO  sul drive  #######\n",
        "\n",
        "from google.colab import drive\n",
        "drive.mount('/content/drive')\n",
        "\n",
        "save_directory = '/content/drive/MyDrive/Assignment'\n",
        "if not os.path.exists(save_directory):\n",
        "    os.makedirs(save_directory)\n",
        "\n",
        "model.save_pretrained(save_directory)\n",
        "tokenizer.save_pretrained(save_directory)\n",
        "print(f\"Modello e tokenizer salvati correttamente nella directory: {save_directory}\")"
      ],
      "metadata": {
        "colab": {
          "base_uri": "https://localhost:8080/"
        },
        "id": "49RQMvvevzUk",
        "outputId": "91fd2454-e1bc-4be7-bc11-c5ba2f9fe6b7"
      },
      "execution_count": null,
      "outputs": [
        {
          "output_type": "stream",
          "name": "stdout",
          "text": [
            "Mounted at /content/drive\n",
            "Modello e tokenizer salvati correttamente nella directory: /content/drive/MyDrive/Assignment\n"
          ]
        }
      ]
    },
    {
      "cell_type": "markdown",
      "source": [
        "## **Appraising the fine-tuned model on the various sets**"
      ],
      "metadata": {
        "id": "5ArUW3NpYOfI"
      }
    },
    {
      "cell_type": "markdown",
      "source": [
        "We wanted to evaluate the performance of the model on the validation and test datasets using the *.evaluate()* method.\n",
        "\n",
        "In detail:\n",
        "\n",
        "- Evaluation on the validation set: We computed metrics to monitor how the model performs on unseen data during training.\n",
        "- Evaluation on the test set: We computed the final metrics to measure the overall performance of the model.\n",
        "\n",
        "We collected the key metrics (loss, precision, recall, F1-score, and accuracy) and organized them in a Pandas DataFrame for clear visualization. This allows us to easily compare the results between the validation set and the test set."
      ],
      "metadata": {
        "id": "clPmWKkUYOm8"
      }
    },
    {
      "cell_type": "code",
      "source": [
        "#### step 11: Valutare il modello sui vari set  ####\n",
        "\n",
        "# Specifica la directory dove abbiamo salvato il modello\n",
        "save_directory = '/content/drive/MyDrive/Assignment'\n",
        "\n",
        "# Carica il modello fine-tunato\n",
        "model_fine_tuned = AutoModelForTokenClassification.from_pretrained(save_directory)\n",
        "\n",
        "# Crea un Trainer per il modello fine-tunato\n",
        "trainer_fine_tuned = Trainer(\n",
        "    model=model_fine_tuned,  # Modello fine-tunato\n",
        "    args=training_args,      # Argomenti di addestramento già definiti\n",
        "    train_dataset=tokenized_datasets['train'],\n",
        "    eval_dataset=tokenized_datasets['validation'],\n",
        "    tokenizer=tokenizer,\n",
        "    data_collator=data_collator,\n",
        "    compute_metrics=compute_metrics,\n",
        ")\n",
        "\n",
        "# Valutare il modello fine-tunato sul set di validazione\n",
        "print(\"Valutazione del modello fine-tunato sul validation set...\")\n",
        "validation_metrics_fine_tuned = trainer_fine_tuned.evaluate(tokenized_datasets['validation'])\n",
        "print(\"Metriche sul validation set (modello fine-tunato):\")\n",
        "print(validation_metrics_fine_tuned)\n",
        "\n",
        "# Valutare il modello fine-tunato sul set di test\n",
        "print(\"Valutazione del modello fine-tunato sul test set...\")\n",
        "test_metrics_fine_tuned = trainer_fine_tuned.evaluate(tokenized_datasets['test'])\n",
        "print(\"Metriche sul test set (modello fine-tunato):\")\n",
        "print(test_metrics_fine_tuned)\n",
        "\n",
        "# Raccolta metriche\n",
        "data_fine_tuned = {\n",
        "    \"Set\": [\"Validation\", \"Test\"],\n",
        "    \"Loss\": [validation_metrics_fine_tuned['eval_loss'], test_metrics_fine_tuned['eval_loss']],\n",
        "    \"Precision\": [validation_metrics_fine_tuned.get('eval_precision', 0.0), test_metrics_fine_tuned.get('eval_precision', 0.0)],\n",
        "    \"Recall\": [validation_metrics_fine_tuned.get('eval_recall', 0.0), test_metrics_fine_tuned.get('eval_recall', 0.0)],\n",
        "    \"F1\": [validation_metrics_fine_tuned.get('eval_f1', 0.0), test_metrics_fine_tuned.get('eval_f1', 0.0)],\n",
        "    \"Accuracy\": [validation_metrics_fine_tuned.get('eval_accuracy', 0.0), test_metrics_fine_tuned.get('eval_accuracy', 0.0)]\n",
        "}\n",
        "\n",
        "# Creazione di un DataFrame Pandas per creare tabella leggibile\n",
        "metrics_df_fine_tuned = pd.DataFrame(data_fine_tuned)\n",
        "print(\"\\nTabella riassuntiva delle metriche per il modello fine-tunato:\")\n",
        "print(metrics_df_fine_tuned)\n"
      ],
      "metadata": {
        "colab": {
          "base_uri": "https://localhost:8080/",
          "height": 248
        },
        "id": "OwDAnCXVAqhe",
        "outputId": "ae112cad-3dc1-47fb-935d-ab70d9b51636"
      },
      "execution_count": null,
      "outputs": [
        {
          "output_type": "stream",
          "name": "stdout",
          "text": [
            "Valutazione del modello fine-tunato sul validation set...\n"
          ]
        },
        {
          "output_type": "display_data",
          "data": {
            "text/plain": [
              "<IPython.core.display.HTML object>"
            ],
            "text/html": [
              "\n",
              "    <div>\n",
              "      \n",
              "      <progress value='41' max='27' style='width:300px; height:20px; vertical-align: middle;'></progress>\n",
              "      [27/27 00:02]\n",
              "    </div>\n",
              "    "
            ]
          },
          "metadata": {}
        },
        {
          "output_type": "stream",
          "name": "stdout",
          "text": [
            "Metriche sul validation set (modello fine-tunato):\n",
            "{'eval_loss': 0.09762521833181381, 'eval_model_preparation_time': 0.0017, 'eval_precision': 0.9327030033370411, 'eval_recall': 0.9358258928571429, 'eval_f1': 0.9342618384401113, 'eval_accuracy': 0.978692841752454, 'eval_runtime': 1.8389, 'eval_samples_per_second': 464.948, 'eval_steps_per_second': 14.683}\n",
            "Valutazione del modello fine-tunato sul test set...\n",
            "Metriche sul test set (modello fine-tunato):\n",
            "{'eval_loss': 0.1014331579208374, 'eval_model_preparation_time': 0.0017, 'eval_precision': 0.9324009324009324, 'eval_recall': 0.9237875288683602, 'eval_f1': 0.9280742459396751, 'eval_accuracy': 0.9751374611522831, 'eval_runtime': 1.5063, 'eval_samples_per_second': 284.131, 'eval_steps_per_second': 9.294}\n",
            "\n",
            "Tabella riassuntiva delle metriche per il modello fine-tunato:\n",
            "          Set      Loss  Precision    Recall        F1  Accuracy\n",
            "0  Validation  0.097625   0.932703  0.935826  0.934262  0.978693\n",
            "1        Test  0.101433   0.932401  0.923788  0.928074  0.975137\n"
          ]
        }
      ]
    },
    {
      "cell_type": "markdown",
      "source": [
        "#### **Summary Table of Metrics for Validation and Testing**\n",
        "\n",
        "In the table, metrics calculated on the validation and test sets after the completion of the three training epochs are represented.\n",
        "\n",
        "***Validation Set:*** The values suggest that the model was able to generalize very well, with good precision and recall.\n",
        "\n",
        "\n",
        "***Test Set:***  Values very similar to validation.\n",
        "\n",
        "\n",
        "Overall Interpretation:\n",
        "- In general, we observe that the model shows good results on both validation and test data. The relatively high accuracy and F1 score suggest that the model has learned to recognize named entities reliably and that the risk of overfitting is low.\n",
        "- The relatively high Recall compared to Precision suggests that the model is rather “inclusive,” trying to identify most entities, although this means that it may occasionally make less accurate predictions (i.e., predict an entity where there is none).\n",
        "- Consistency between validation and test metrics is a good sign, indicating that the model has sufficient generalization ability on data never seen before, without having learned too specific patterns of the training set."
      ],
      "metadata": {
        "id": "UXac_vjkDkK4"
      }
    },
    {
      "cell_type": "markdown",
      "source": [
        "#### **Confusion matrix**"
      ],
      "metadata": {
        "id": "DH0Z0F7dvsRt"
      }
    },
    {
      "cell_type": "markdown",
      "source": [
        "We decided to create the confusion matrix to analyze in detail how the model predicts different NER tags compared to the actual tags.\n",
        "This helps us easily identify areas where the model makes mistakes."
      ],
      "metadata": {
        "id": "XT33TGFuvxx0"
      }
    },
    {
      "cell_type": "code",
      "source": [
        "# Funzione per calcolare le predizioni e le etichette vere dal validation set\n",
        "def get_predictions_and_labels(trainer, dataset):\n",
        "    #  predizioni dal modello\n",
        "    predictions, labels, _ = trainer.predict(dataset)\n",
        "\n",
        "    # Convertire le predizioni probabilistiche in etichette\n",
        "    predictions = np.argmax(predictions, axis=2)\n",
        "\n",
        "    # Filtrare i token speciali (-100) dalle etichette\n",
        "    true_labels = [\n",
        "        [label for label in label_seq if label != -100]\n",
        "        for label_seq in labels\n",
        "    ]\n",
        "    pred_labels = [\n",
        "        [pred for pred, label in zip(pred_seq, label_seq) if label != -100]\n",
        "        for pred_seq, label_seq in zip(predictions, labels)\n",
        "    ]\n",
        "\n",
        "    # Appiattire le liste per calcolare la matrice di confusione\n",
        "    true_labels = [item for sublist in true_labels for item in sublist]\n",
        "    pred_labels = [item for sublist in pred_labels for item in sublist]\n",
        "\n",
        "    return true_labels, pred_labels\n",
        "\n",
        "#  etichette vere e predette dal validation set\n",
        "true_labels, pred_labels = get_predictions_and_labels(trainer_fine_tuned, tokenized_datasets['test'])\n",
        "\n",
        "# Calcolare la matrice di confusione\n",
        "conf_matrix = confusion_matrix(true_labels, pred_labels, labels=list(tag2id.values()))\n",
        "\n",
        "# Mappare gli ID delle etichette ai nomi dei tag NER\n",
        "labels = [id2tag[id_] for id_ in tag2id.values()]\n",
        "\n",
        "# matrice di confusione\n",
        "plt.figure(figsize=(10, 8))\n",
        "disp = ConfusionMatrixDisplay(confusion_matrix=conf_matrix, display_labels=labels)\n",
        "disp.plot(cmap='Blues', xticks_rotation=45)\n",
        "plt.title(\"Confusion Matrix\")\n",
        "plt.show()\n"
      ],
      "metadata": {
        "colab": {
          "base_uri": "https://localhost:8080/",
          "height": 517
        },
        "id": "ci1_jCL5uzAG",
        "outputId": "bd243c99-74b3-4251-f043-a8342bb9359b"
      },
      "execution_count": null,
      "outputs": [
        {
          "output_type": "display_data",
          "data": {
            "text/plain": [
              "<IPython.core.display.HTML object>"
            ],
            "text/html": []
          },
          "metadata": {}
        },
        {
          "output_type": "display_data",
          "data": {
            "text/plain": [
              "<Figure size 1000x800 with 0 Axes>"
            ]
          },
          "metadata": {}
        },
        {
          "output_type": "display_data",
          "data": {
            "text/plain": [
              "<Figure size 640x480 with 2 Axes>"
            ],
            "image/png": "[encoded data removed]"
          },
          "metadata": {}
        }
      ]
    },
    {
      "cell_type": "markdown",
      "source": [
        "From the confusion matrix, we can observe the following key points:\n",
        "\n",
        "- Class “O” has the highest number of correct predictions, indicating that the model is effective in recognizing tokens that do not belong to any entity.\n",
        "- The classes “B-PER” and “I-PER” show good performance of correct predictions, but there are some confusions with other classes, such as “B-ORG.”\n",
        "- “B-LOC” and ‘I-ORG’ are two other well-predicted classes.\n",
        "- The “I-LOC” and “B-ORG” classes show some confounding, with few errors distributed among neighboring classes.\n",
        "\n",
        "In general, the model shows a good level of accuracy on the main classes, but some confounding suggests that the training data could be improved or that it would be useful to add additional features to better distinguish similar tags."
      ],
      "metadata": {
        "id": "M__-Hlfk0dmg"
      }
    },
    {
      "cell_type": "markdown",
      "source": [
        "# **Testing the NER label prediction model**\n",
        "\n"
      ],
      "metadata": {
        "id": "fShR92jfeS1f"
      }
    },
    {
      "cell_type": "markdown",
      "source": [
        "We decided to test the model on ner tag predictions on both the fine-tuned model.\n",
        "\n",
        "\n",
        "We loaded the fine-tuned model and tokenizer from the *./sample_data directory*. The *predict_ner function* allows us to tokenize a sentence, obtain predictions from the model, and reconstruct words with their respective NER labels, ignoring special tokens.\n",
        "\n",
        "Finally, we tested the model on novel sentences to verify its ability to correctly identify and classify entities such as proper names, places, and organizations."
      ],
      "metadata": {
        "id": "XGoUONhSa1Ca"
      }
    },
    {
      "cell_type": "code",
      "source": [
        "# Specificare la directory dove sono salvati i file (\"./sample_data\" è la mia ad esmpio)\n",
        "model_directory = \"/content/drive/MyDrive/Assignment\"\n",
        "\n",
        "# Caricare il modello fine-tunato e il tokenizer\n",
        "model = AutoModelForTokenClassification.from_pretrained(model_directory)  # Carica il modello fine-tunato\n",
        "                                                                          # config: Per configurare il modello.\n",
        "                                                                          # model.safetensors: Per caricare i pesi addestrati.\n",
        "                                                                          # tokenizer_config, special_tokens_map, vocab: Per configurare il tokenizer e mappare i token ai rispettivi ID\n",
        "tokenizer = AutoTokenizer.from_pretrained(model_directory)                # Carica il tokenizer\n",
        "\n",
        "# Funzione di predizione\n",
        "def predict_ner(sentence):\n",
        "    # Tokenizzare la frase\n",
        "    inputs = tokenizer.encode_plus(\n",
        "        sentence,\n",
        "        return_tensors='pt',             # Restituisce l'output come tensori PyTorch\n",
        "        is_split_into_words=False,       # Input è una frase completa\n",
        "        truncation=True,\n",
        "        max_length=28                    # Lunghezza max usata durante l'addestramento\n",
        "    )\n",
        "    input_ids = inputs['input_ids']\n",
        "\n",
        "    model.eval()                         # Modello in modalità valutazione per evitare modifiche ai pesi\n",
        "\n",
        "    # Ottenere le predizioni\n",
        "    with torch.no_grad():                # Disabilita il calcolo del gradiente\n",
        "        outputs = model(**inputs)       # Si ottengono i logits\n",
        "    predictions = torch.argmax(outputs.logits, dim=2)[0].numpy()    # Per ogni token si seleziona l'indice della classe con la probabilità più alta\n",
        "\n",
        "    # Convertire input_ids in token\n",
        "    tokens = tokenizer.convert_ids_to_tokens(input_ids[0])\n",
        "\n",
        "    # Ricostruire le parole dai sub-token e assegnare le etichette\n",
        "    words = []\n",
        "    labels = []\n",
        "    for idx, (token, pred) in enumerate(zip(tokens, predictions)):\n",
        "        if token in [tokenizer.cls_token, tokenizer.sep_token, tokenizer.pad_token]:\n",
        "            continue\n",
        "        if token.startswith('##'):\n",
        "            words[-1] += token[2:]\n",
        "        else:\n",
        "            words.append(token)\n",
        "            labels.append(id2tag[pred])\n",
        "\n",
        "    # Stampare le parole e le relative etichette\n",
        "    print(\"\\nPredizione:\")\n",
        "    print(\"Parola\\tEtichetta\")\n",
        "    for word, label in zip(words, labels):\n",
        "        print(f\"{word}\\t{label}\")\n",
        "\n",
        "\n",
        "print(\"\\nEsempio di predizione:\")\n",
        "test_sentence = \"let's see if the predictions of @Plottwisters are correct and look if Emma has done a great job here in milan.\"\n",
        "predict_ner(test_sentence)\n",
        "test_sentence = \"Hi Emma in Milan, !!! America, Obama, Trump and NATO @Plottwister is predicting pretty well.\"\n",
        "predict_ner(test_sentence)\n"
      ],
      "metadata": {
        "colab": {
          "base_uri": "https://localhost:8080/"
        },
        "id": "DVShVUrcaREr",
        "outputId": "ea300de6-a67e-4085-bb39-2f3f485ad7c8"
      },
      "execution_count": null,
      "outputs": [
        {
          "output_type": "stream",
          "name": "stdout",
          "text": [
            "\n",
            "Esempio di predizione:\n",
            "\n",
            "Predizione:\n",
            "Parola\tEtichetta\n",
            "let\tO\n",
            "'\tO\n",
            "s\tO\n",
            "see\tO\n",
            "if\tO\n",
            "the\tO\n",
            "predictions\tO\n",
            "of\tO\n",
            "@\tB-PER\n",
            "Plottwisters\tB-PER\n",
            "are\tO\n",
            "correct\tO\n",
            "and\tO\n",
            "look\tO\n",
            "if\tO\n",
            "Emma\tB-PER\n",
            "has\tO\n",
            "done\tO\n",
            "a\tO\n",
            "great\tO\n",
            "job\tO\n",
            "here\tO\n",
            "in\tO\n",
            "milan\tB-LOC\n",
            ".\tO\n",
            "\n",
            "Predizione:\n",
            "Parola\tEtichetta\n",
            "Hi\tO\n",
            "Emma\tB-PER\n",
            "in\tO\n",
            "Milan\tB-LOC\n",
            ",\tO\n",
            "!\tO\n",
            "!\tO\n",
            "!\tO\n",
            "America\tB-PER\n",
            ",\tO\n",
            "Obama\tB-PER\n",
            ",\tO\n",
            "Trump\tB-PER\n",
            "and\tO\n",
            "NATO\tB-PER\n",
            "@\tB-PER\n",
            "Plottwister\tB-PER\n",
            "is\tO\n",
            "predicting\tO\n",
            "pretty\tO\n",
            "well\tO\n",
            ".\tO\n"
          ]
        }
      ]
    },
    {
      "cell_type": "markdown",
      "source": [
        "# **Comparison of Fine-Tuned Transformer and GRU Models for Named Entity Recognition**"
      ],
      "metadata": {
        "id": "gbDlOc3LABBk"
      }
    },
    {
      "cell_type": "markdown",
      "source": [
        "This section provides a detailed comparison between two approaches to the Named Entity Recognition (NER) task: a fine-tuned transformer model and a GRU-based neural network.\n",
        "\n",
        "The transformer model, built on the advanced architectures of DistilBERT, is designed to capture complex contextual relationships within text data.\n",
        "In contrast, the GRU model, a simpler recurrent neural network, focuses on learning sequential dependencies efficiently.\n",
        "\n",
        "The aim of this comparison is to evaluate the performance of both models in terms of accuracy, precision, recall, and computational efficiency. By analysing their strengths and weaknesses, we seek to identify which approach is better suited for handling the diverse and informal nature of text data in our dataset. This analysis provides valuable insights into model selection for future applications in text mining and natural language processing.\n",
        "\n",
        "\n",
        "\n",
        "---\n",
        "\n",
        "\n",
        "## Analysis\n",
        "\n",
        "1. Accuracy: The fine-tuned transformer achieves an accuracy of 97.51%, significantly outperforming the GRU model (88.76%). This highlights the transformer’s ability to generalize well and produce reliable predictions on the test set.\n",
        "\n",
        "2. F1 Score: The transformer records an F1 score of 0.928, compared to the GRU’s 0.652. This indicates the transformer’s superior balance between precision and recall across all NER classes, making it more effective at handling both frequent and rare entities.\n",
        "\n",
        "3. Recall: The recall of the transformer (0.924) is notably higher than that of the GRU (0.614). This shows that the transformer is better at identifying relevant entities and minimizing false negatives.\n",
        "\n",
        "4. Precision: While the transformer has a precision of 0.932, the GRU achieves a respectable 0.736, indicating its ability to reduce false positives effectively. However, the transformer still outperforms the GRU significantly in this metric.\n",
        "\n",
        "\n",
        "---\n",
        "\n",
        "\n",
        "## Possible Explanation for the Differences\n",
        "\n",
        "1. Contextual Understanding\n",
        "\n",
        "   - The transformer model uses the self attention mechanisms to capture relationships between tokens, even when they are far apart in a sentence. This allows it to understand the global context of each token, which is especially important for tasks like NER. In contrast, the GRU processes sequences linearly, relying on hidden states to retain information. This can lead to a loss of long-term dependencies, particularly in longer or more complex sentences.\n",
        "\n",
        "2. Pretraining on Large Datasets\n",
        "\n",
        "   - The transformer benefits from pretraining on massive corpora during its initial training phase (DistilBERT). This gives it a strong foundation in understanding language patterns, idioms, and structures, which it refines further during fine-tuning. The GRU, being trained from scratch on the NER dataset, lacks this prior knowledge and needs to learn all patterns solely from the training data.\n",
        "\n",
        "3. Tokenization Differences\n",
        "\n",
        "   - The fine-tuned transformer uses a sophisticated tokenization approach (e.g., subword tokenization via AutoTokenizer), which splits words into smaller, meaningful subunits. This helps the model handle rare or unseen words more effectively. On the other hand, the GRU model uses the Keras tokenizer, which may not handle rare tokens or unknown words as efficiently, potentially impacting its performance.\n",
        "\n",
        "4. Model Complexity and Capacity\n",
        "\n",
        "   - Transformers have a higher model capacity due to their attention layers, allowing them to model complex relationships. GRUs, while simpler and computationally efficient, have fewer parameters and may struggle with the complexity of NER tasks, particularly for entities with ambiguous or overlapping contexts.\n",
        "\n",
        "5. Error Propagation\n",
        "\n",
        "   - Recurrent models like GRU are prone to error propagation over long sequences because the prediction for a token depends heavily on the accuracy of prior states. Transformers avoid this limitation by using self-attention, which computes relationships independently for each token.\n",
        "\n",
        "\n",
        "---\n",
        "\n",
        "\n",
        "## Conclusion\n",
        "\n",
        "The fine-tuned transformer’s superior performance can be attributed to its ability to capture global context, its pretraining on large corpora, and its advanced tokenization. The GRU model, while less effective, remains a viable option for environments with limited computational resources, offering a simpler and faster alternative with respectable precision."
      ],
      "metadata": {
        "id": "Y-Cpfwd4AAD5"
      }
    }
  ]
}