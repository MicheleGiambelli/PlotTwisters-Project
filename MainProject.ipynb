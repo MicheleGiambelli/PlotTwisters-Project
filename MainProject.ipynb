{
  "cells": [
    {
      "cell_type": "code",
      "execution_count": null,
      "metadata": {
        "id": "mjQWXMutUR6A"
      },
      "outputs": [],
      "source": [
        "#PROVA"
      ]
    },
    {
      "cell_type": "code",
      "source": [
        "#LA BARISTA\n"
      ],
      "metadata": {
        "id": "Oagn4PR9UWLs"
      },
      "execution_count": null,
      "outputs": []
    },
    {
      "cell_type": "code",
      "source": [
        "# hola\n",
        "# ciaoooo"
      ],
      "metadata": {
        "id": "tTENkD6nUbk-"
      },
      "execution_count": 1,
      "outputs": []
    }
  ],
  "metadata": {
    "language_info": {
      "name": "python"
    },
    "colab": {
      "provenance": []
    },
    "kernelspec": {
      "name": "python3",
      "display_name": "Python 3"
    }
  },
  "nbformat": 4,
  "nbformat_minor": 0
}