{
  "cells": [
    {
      "cell_type": "code",
      "execution_count": null,
      "metadata": {
        "id": "mjQWXMutUR6A"
      },
      "outputs": [],
      "source": [
        "#PROVA"
      ]
    },
    {
      "cell_type": "code",
      "source": [
        "#LA BARISTA\n"
      ],
      "metadata": {
        "id": "Oagn4PR9UWLs"
      },
      "execution_count": null,
      "outputs": []
    },
    {
      "cell_type": "code",
      "source": [],
      "metadata": {
        "id": "tTENkD6nUbk-"
      },
      "execution_count": null,
      "outputs": []
    }
  ],
  "metadata": {
    "language_info": {
      "name": "python"
    },
    "colab": {
      "provenance": []
    }
  },
  "nbformat": 4,
  "nbformat_minor": 0
}