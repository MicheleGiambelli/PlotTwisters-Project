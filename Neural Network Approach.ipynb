{
  "nbformat": 4,
  "nbformat_minor": 0,
  "metadata": {
    "colab": {
      "provenance": [],
      "gpuType": "T4",
      "mount_file_id": "https://github.com/MicheleGiambelli/PlotTwisters-Project/blob/Michele/Algorithm2.ipynb",
      "authorship_tag": "ABX9TyNbMkphSzEw9yP7oOqzTS0S",
      "include_colab_link": true
    },
    "kernelspec": {
      "name": "python3",
      "display_name": "Python 3"
    },
    "language_info": {
      "name": "python"
    },
    "accelerator": "GPU"
  },
  "cells": [
    {
      "cell_type": "markdown",
      "metadata": {
        "id": "view-in-github",
        "colab_type": "text"
      },
      "source": [
        "<a href=\"https://colab.research.google.com/github/MicheleGiambelli/PlotTwisters-Project/blob/main/Neural%20Network%20Approach.ipynb\" target=\"_parent\"><img src=\"https://colab.research.google.com/assets/colab-badge.svg\" alt=\"Open In Colab\"/></a>"
      ]
    },
    {
      "cell_type": "code",
      "source": [
        "import numpy as np\n",
        "import pandas as pd\n",
        "import matplotlib.pyplot as plt\n",
        "import string\n",
        "import spacy\n",
        "import tensorflow as tf\n",
        "from tensorflow.keras.preprocessing.text import Tokenizer\n",
        "from tensorflow.keras.preprocessing.sequence import pad_sequences\n",
        "from tensorflow.keras.utils import to_categorical\n",
        "from sklearn.model_selection import train_test_split\n",
        "from sklearn.naive_bayes import MultinomialNB\n",
        "from tensorflow.keras.models import Sequential\n",
        "from tensorflow.keras.layers import Embedding, LSTM, Dense, TimeDistributed, Dropout, Bidirectional, GRU\n",
        "from keras.callbacks import ModelCheckpoint, EarlyStopping\n",
        "from tensorflow.keras.models import load_model\n",
        "from sklearn.metrics import classification_report, accuracy_score\n",
        "from sklearn.metrics import confusion_matrix, ConfusionMatrixDisplay\n",
        "from sklearn.metrics import precision_score, recall_score, f1_score"
      ],
      "metadata": {
        "id": "orAZ67rYi5WN"
      },
      "execution_count": 203,
      "outputs": []
    },
    {
      "cell_type": "markdown",
      "source": [
        "# Upload Dataset"
      ],
      "metadata": {
        "id": "YlB-Ag2bjCWB"
      }
    },
    {
      "cell_type": "markdown",
      "source": [
        "The following steps are the same did in the notebook of DEA. Check only the correct path of the two files, \"file5.txt\" and \"file6.txt\"."
      ],
      "metadata": {
        "id": "5pxZ7GY6PSJx"
      }
    },
    {
      "cell_type": "code",
      "source": [
        "# Function to upload the csv files and store them in a pandas dataframe\n",
        "def file_to_dataframe(file_path):\n",
        "    data = []\n",
        "    with open(file_path, 'r') as file:\n",
        "        lines = file.readlines()\n",
        "        for i, line in enumerate(lines):\n",
        "            line = line.strip()  # Remove space and newline extra\n",
        "            if not line:  # A empty line is the end of a sentence\n",
        "                data.append((\"end\", \"end\")) # We replace it with \"end\" so later is easier to identfy the sentences\n",
        "                continue\n",
        "\n",
        "            # Check if the line is well formatted, this means checking if the '\\t' for separating token and tag exist\n",
        "            if '\\t' in line:\n",
        "                parts = line.split('\\t')\n",
        "                if len(parts) == 2:  # The split produce 2 parts: token and label\n",
        "                    token, ner_tag = parts\n",
        "                    data.append((token, ner_tag))\n",
        "                else:  # Security condition if the line is malformed\n",
        "                    print(f\"Line {i + 1} malformed\")\n",
        "            else:  # If a row does not have '\\t'\n",
        "                print(f\"Row without tabulation: {i + 1}\")\n",
        "    # Return a pandas dataframe with two columns: token, ner_tag\n",
        "    return pd.DataFrame(data, columns=['token', 'ner_tag'])\n",
        "\n",
        "# Upload and create the DataFrame form file5 and file6\n",
        "### INSERT HERE THE CORRECT PATH OF THE 2 FILES ###\n",
        "df1 = file_to_dataframe('/content/drive/MyDrive/Librerie/file5.txt')\n",
        "df2 = file_to_dataframe('/content/drive/MyDrive/Librerie/file6.txt')\n",
        "\n",
        "# Assign and id to each token. Token in the same sentence will have the same id.\n",
        "sentence_id = 0\n",
        "for idx, row in df1.iterrows():\n",
        "  df1.loc[idx, 'id'] = sentence_id\n",
        "  if row['token'] == 'end' and row[\"ner_tag\"]==\"end\": # \"end\" both for row and ner_tag means the end of the sentence\n",
        "    sentence_id += 1 # new sentence\n",
        "\n",
        "# Same process, but for df2\n",
        "for idx, row in df2.iterrows():\n",
        "  df2.loc[idx, 'id'] = sentence_id\n",
        "  if row['token'] == 'end' and row[\"ner_tag\"]==\"end\":\n",
        "    sentence_id += 1\n",
        "\n",
        "# Remove the (end, end) line once the sentences are defined\n",
        "df1 = df1[df1[\"ner_tag\"] != \"end\"]\n",
        "df2 = df2[df2[\"ner_tag\"] != \"end\"]\n",
        "\n",
        "# Merge the two dataset in only one\n",
        "combined_df = pd.concat([df1, df2], ignore_index=True)\n",
        "\n",
        "# Convertire la colonna id da float a int\n",
        "combined_df['id'] = combined_df['id'].astype(int)\n",
        "\n",
        "# Remove rows with NaN\n",
        "combined_df = combined_df.dropna(subset=['token']).reset_index(drop=True)\n",
        "\n",
        "# Verifichiamo la presenza di righe vuote (serve più avanti per un problema al codice)\n",
        "invalid_tokens = combined_df[~combined_df['token'].apply(lambda x: isinstance(x, str))]\n",
        "\n",
        "# Eliminare le righe con valori non stringa nella colonna 'token'\n",
        "combined_df = combined_df[combined_df['token'].apply(lambda x: isinstance(x, str))].reset_index(drop=True)"
      ],
      "metadata": {
        "colab": {
          "base_uri": "https://localhost:8080/"
        },
        "id": "ORjx_pUli8iW",
        "outputId": "8a95f148-8c7e-4095-fcd8-c7d0494da239"
      },
      "execution_count": 204,
      "outputs": [
        {
          "output_type": "stream",
          "name": "stdout",
          "text": [
            "Row without tabulation: 22918\n",
            "Row without tabulation: 30879\n",
            "Row without tabulation: 30881\n",
            "Row without tabulation: 30888\n"
          ]
        }
      ]
    },
    {
      "cell_type": "code",
      "source": [
        "# Caricare il modello di lingua inglese\n",
        "nlp = spacy.load('en_core_web_sm')\n",
        "stopwords = nlp.Defaults.stop_words\n",
        "# Punteggiatura da rimuovere\n",
        "punctuation = set(string.punctuation) - {'@'}\n",
        "\n",
        "# Funzione per eliminare stopwords e punteggiatura\n",
        "def remove_stopwords_and_punctuation(df):\n",
        "    df['token_cleaned'] = df['token'].apply(lambda x: x if x.lower() not in stopwords and x not in punctuation else '')\n",
        "    df = df[df['token_cleaned'] != '']  # Rimuove le righe con token vuoti\n",
        "    return df.drop(columns=['token']).rename(columns={'token_cleaned': 'token'})  # Sostituisce token con token_cleaned\n",
        "\n",
        "# Applicare la funzione al dataset\n",
        "combined_df = remove_stopwords_and_punctuation(combined_df)\n",
        "\n",
        "# Lowercase all the 'tokens'\n",
        "combined_df['token'] = combined_df['token'].str.lower()\n",
        "\n",
        "# Elimina le righe in cui il token è \"rt\"\n",
        "combined_df = combined_df[combined_df['token'] != 'rt']\n",
        "\n",
        "# Rimuovere eventuali NaN o valori non stringa nella colonna \"token\"\n",
        "combined_df = combined_df.dropna(subset=['token']).reset_index(drop=True)\n",
        "combined_df = combined_df[combined_df['token'].apply(lambda x: isinstance(x, str))].reset_index(drop=True) # manteniamo solo i valori stringa e togliamo il resto"
      ],
      "metadata": {
        "id": "4PqAHmFzjma0"
      },
      "execution_count": 205,
      "outputs": []
    },
    {
      "cell_type": "markdown",
      "source": [
        "# Data pre processing"
      ],
      "metadata": {
        "id": "Gv2W3lwllFqM"
      }
    },
    {
      "cell_type": "markdown",
      "source": [
        "From this moments the code changes from before, we start the pre processing of the dat for the task.\n",
        "\n",
        "From the dataset we build two list one with the tweets and the other one with ner tags."
      ],
      "metadata": {
        "id": "1S8rcpZwnhWT"
      }
    },
    {
      "cell_type": "code",
      "source": [
        "# Build sentences combining tokens\n",
        "sentences = combined_df.groupby('id')['token'].apply(list).tolist()\n",
        "# The same with ner_tag\n",
        "ner_tag = combined_df.groupby('id')['ner_tag'].apply(list).tolist()\n",
        "print(\"Number of tweet: \", len(sentences)) # Number of sentences in the dataset"
      ],
      "metadata": {
        "id": "1MG1nYXVkZ2h",
        "colab": {
          "base_uri": "https://localhost:8080/"
        },
        "outputId": "24113e03-5c8f-41c9-ee88-17585ca02a98"
      },
      "execution_count": 206,
      "outputs": [
        {
          "output_type": "stream",
          "name": "stdout",
          "text": [
            "Number of tweet:  4133\n"
          ]
        }
      ]
    },
    {
      "cell_type": "markdown",
      "source": [
        "Then, we use Tokenizer to build a vocabulary from the words in the dataset. Later we will use it to vectorize and convert text into sequences so the Network can deal with it as input.\n",
        "\n",
        "Also, we mapped each label to an unique id.  "
      ],
      "metadata": {
        "id": "6VR0ji5wJdSF"
      }
    },
    {
      "cell_type": "code",
      "source": [
        "#Building a vocabulary\n",
        "tokenizer = Tokenizer(oov_token=\"<OOV>\")\n",
        "tokenizer.fit_on_texts(sentences)\n",
        "\n",
        "vocabulary_size = len(tokenizer.word_counts)\n",
        "print(\"Vocabulary size: \", vocabulary_size)\n",
        "\n",
        "# Dictionary for ner_tag\n",
        "tags = combined_df['ner_tag'].unique() # Taking the unique labels\n",
        "tags_id = {tag:i+1 for i, tag in enumerate(tags)} #i+1 because the 0 id is reserved for \"PAD\"\n",
        "tags_id['PAD'] = 0\n",
        "id_to_tag = {i: t for t, i in tags_id.items()} # Inverse dictionary from id to label\n",
        "\n",
        "print(\"\\nTags and ID\")\n",
        "print(tags_id)"
      ],
      "metadata": {
        "colab": {
          "base_uri": "https://localhost:8080/"
        },
        "id": "B9TtMEy9k9Zt",
        "outputId": "b653dc99-5efe-43d4-fdb8-ba8897556101"
      },
      "execution_count": 207,
      "outputs": [
        {
          "output_type": "stream",
          "name": "stdout",
          "text": [
            "Vocabulary size:  14577\n",
            "\n",
            "Tags and ID\n",
            "{'O': 1, 'B-ORG': 2, 'B-PER': 3, 'I-PER': 4, 'B-LOC': 5, 'I-ORG': 6, 'I-LOC': 7, 'PAD': 0}\n"
          ]
        }
      ]
    },
    {
      "cell_type": "code",
      "source": [
        "#Encoding of tokens and ner_tag\n",
        "sequences = tokenizer.texts_to_sequences(sentences)\n",
        "Y = [[tags_id[tag] for tag in sentence] for sentence in ner_tag]"
      ],
      "metadata": {
        "id": "NlcDJznlmej2"
      },
      "execution_count": 208,
      "outputs": []
    },
    {
      "cell_type": "markdown",
      "source": [
        "#### Padding"
      ],
      "metadata": {
        "id": "9_plak-PoFCV"
      }
    },
    {
      "cell_type": "markdown",
      "source": [
        "Before chosing the standard length of the sentence we check the sentence with max length and the distribution of the sentences length.   "
      ],
      "metadata": {
        "id": "6c2ha5KDRGh_"
      }
    },
    {
      "cell_type": "code",
      "source": [
        "sequence_len = np.array([len(s) for s in sequences])\n",
        "longest_sequence = sequence_len.max()\n",
        "print(f'Longest sequence: {longest_sequence}')\n",
        "mean_length = np.mean(sequence_len)\n",
        "\n",
        "print(\"Mean length: \", round(mean_length, 3))\n",
        "print([(str(p) + '%', np.percentile(sequence_len, p)) for p in range(75,101, 5)])"
      ],
      "metadata": {
        "colab": {
          "base_uri": "https://localhost:8080/"
        },
        "id": "rV6IAIlgoJoD",
        "outputId": "4e804d4d-6fb2-4d89-93b2-350ba1870e0d"
      },
      "execution_count": 209,
      "outputs": [
        {
          "output_type": "stream",
          "name": "stdout",
          "text": [
            "Longest sequence: 28\n",
            "Mean length:  8.864\n",
            "[('75%', 12.0), ('80%', 12.0), ('85%', 13.0), ('90%', 14.0), ('95%', 15.0), ('100%', 28.0)]\n"
          ]
        }
      ]
    },
    {
      "cell_type": "markdown",
      "source": [
        "We decided to use a maximum length of 28 because the majority of sentences (75%) are close to this length. Additionally, a length of 28 is computationally manageable. This approach ensures that no sentences are truncated, preserving all information without loss."
      ],
      "metadata": {
        "id": "pwfPAX7pobIh"
      }
    },
    {
      "cell_type": "code",
      "source": [
        "#Padding sequences\n",
        "max_sequence_len = int(np.percentile(sequence_len, 100))\n",
        "X = pad_sequences(sequences, maxlen=max_sequence_len)\n",
        "Y = pad_sequences(Y, maxlen=max_sequence_len)\n",
        "\n",
        "#Adding to the vocabulary the id 0 for _PAD_\n",
        "tokenizer.index_word[0] = '_PAD_'"
      ],
      "metadata": {
        "id": "1apESPsKopIN"
      },
      "execution_count": 210,
      "outputs": []
    },
    {
      "cell_type": "markdown",
      "source": [
        "Last step before splitting the dataset is to encode the labels. Since we are in a multilabel classification we used a one hot encoding. Each label will be rapresented as a sparse vector."
      ],
      "metadata": {
        "id": "SrAxV_A1poP4"
      }
    },
    {
      "cell_type": "code",
      "source": [
        "Y = np.array([to_categorical(seq, num_classes=len(tags_id)) for seq in Y])"
      ],
      "metadata": {
        "id": "U2AnPmeqpweY"
      },
      "execution_count": 211,
      "outputs": []
    },
    {
      "cell_type": "markdown",
      "source": [
        "## Splitting datset (Training, Validation, Test)"
      ],
      "metadata": {
        "id": "XXn51HWyrNlc"
      }
    },
    {
      "cell_type": "markdown",
      "source": [
        "Now, we split the dataset in training, validation and test. Since the dataset is small we decided to store 70% for the training, 20% for the validation and 10% for the test."
      ],
      "metadata": {
        "id": "V5Diul0DOn5k"
      }
    },
    {
      "cell_type": "code",
      "source": [
        "X_temp, X_test, Y_temp, Y_test = train_test_split(X, Y, test_size = 0.1, random_state = 42)\n",
        "X_train, X_val, Y_train, Y_val = train_test_split(X_temp, Y_temp, test_size = 0.2, random_state = 42)\n",
        "print(\"Train set: \", X_train.shape,Y_train.shape)\n",
        "print(\"Validation set: \", X_val.shape,Y_val.shape)\n",
        "print(\"Test set: \", X_test.shape,Y_test.shape)"
      ],
      "metadata": {
        "colab": {
          "base_uri": "https://localhost:8080/"
        },
        "id": "9k9dchchrStJ",
        "outputId": "e464ae76-df78-42ae-a3c3-f7d34cd24fdf"
      },
      "execution_count": 212,
      "outputs": [
        {
          "output_type": "stream",
          "name": "stdout",
          "text": [
            "Train set:  (2975, 28) (2975, 28, 8)\n",
            "Validation set:  (744, 28) (744, 28, 8)\n",
            "Test set:  (414, 28) (414, 28, 8)\n"
          ]
        }
      ]
    },
    {
      "cell_type": "markdown",
      "source": [
        "# Naive Bayes Model"
      ],
      "metadata": {
        "id": "eFQ1o2_eawjh"
      }
    },
    {
      "cell_type": "markdown",
      "source": [
        "We create a **Naive Bayes Model** as baseline. It is a banchmark for more complex models. If an advanced model, for example LSTM, does not overperform the Naive Bayes, than the complexity that we add is not necessary.\n",
        "\n",
        "**Multinomial Naive Bayes** (MultinomialNB) is a probabilistic model for multi clasification tasks. It is a variant of Naive Bayes. Since the model assumes that the features are conditionally independent, it requires as input one token at time. The model considers the input as one independent observation. So we have to prepare the features in a flat structure, where the sentences are splitted into tokens and each token is the input of the model with the correlated label.\n"
      ],
      "metadata": {
        "id": "hORM37FxP8xi"
      }
    },
    {
      "cell_type": "code",
      "source": [
        "tokens_flat = [tag for sequence in sequences for tag in sequence ] # Flatting the sentences into singular tokens\n",
        "tokens_flat = np.array(tokens_flat).reshape(-1, 1) # Necessary reshaping for the input of MultinomialNB. It requires a 2D array. So it transform the 1D array into a 2D array with only one column.\n",
        "\n",
        "tags_nb = [[tags_id[tag] for tag in sentence] for sentence in ner_tag]\n",
        "tags_flat = [tag for seq in tags_nb for tag in seq]"
      ],
      "metadata": {
        "id": "YCcyPUIHa4ux"
      },
      "execution_count": 213,
      "outputs": []
    },
    {
      "cell_type": "code",
      "source": [
        "# Specific splitting in training and test only for the MultinomialNB\n",
        "X_train_NB, X_test_NB, Y_train_NB, Y_test_NB = train_test_split(tokens_flat, tags_flat, test_size = 0.3, random_state = 42)\n",
        "print(\"Train set: \", len(X_train_NB), len(Y_train_NB))\n",
        "print(\"Test set: \", len(X_test_NB), len(Y_test_NB))"
      ],
      "metadata": {
        "id": "exRo8yBzawBr",
        "outputId": "9a2bc8bf-73d3-4e61-a6e6-635f58d2002f",
        "colab": {
          "base_uri": "https://localhost:8080/"
        }
      },
      "execution_count": 214,
      "outputs": [
        {
          "output_type": "stream",
          "name": "stdout",
          "text": [
            "Train set:  25643 25643\n",
            "Test set:  10990 10990\n"
          ]
        }
      ]
    },
    {
      "cell_type": "code",
      "source": [
        "# Upload and train the model\n",
        "naive = MultinomialNB()\n",
        "naive.fit(X_train_NB, Y_train_NB)"
      ],
      "metadata": {
        "id": "dbcPttZccgNK",
        "outputId": "fb3e52b7-0f23-4761-ae38-9ab42effd9a6",
        "colab": {
          "base_uri": "https://localhost:8080/",
          "height": 100
        }
      },
      "execution_count": 215,
      "outputs": [
        {
          "output_type": "execute_result",
          "data": {
            "text/plain": [
              "MultinomialNB()"
            ],
            "text/html": [
              "<style>#sk-container-id-1 {\n",
              "  /* Definition of color scheme common for light and dark mode */\n",
              "  --sklearn-color-text: black;\n",
              "  --sklearn-color-line: gray;\n",
              "  /* Definition of color scheme for unfitted estimators */\n",
              "  --sklearn-color-unfitted-level-0: #fff5e6;\n",
              "  --sklearn-color-unfitted-level-1: #f6e4d2;\n",
              "  --sklearn-color-unfitted-level-2: #ffe0b3;\n",
              "  --sklearn-color-unfitted-level-3: chocolate;\n",
              "  /* Definition of color scheme for fitted estimators */\n",
              "  --sklearn-color-fitted-level-0: #f0f8ff;\n",
              "  --sklearn-color-fitted-level-1: #d4ebff;\n",
              "  --sklearn-color-fitted-level-2: #b3dbfd;\n",
              "  --sklearn-color-fitted-level-3: cornflowerblue;\n",
              "\n",
              "  /* Specific color for light theme */\n",
              "  --sklearn-color-text-on-default-background: var(--sg-text-color, var(--theme-code-foreground, var(--jp-content-font-color1, black)));\n",
              "  --sklearn-color-background: var(--sg-background-color, var(--theme-background, var(--jp-layout-color0, white)));\n",
              "  --sklearn-color-border-box: var(--sg-text-color, var(--theme-code-foreground, var(--jp-content-font-color1, black)));\n",
              "  --sklearn-color-icon: #696969;\n",
              "\n",
              "  @media (prefers-color-scheme: dark) {\n",
              "    /* Redefinition of color scheme for dark theme */\n",
              "    --sklearn-color-text-on-default-background: var(--sg-text-color, var(--theme-code-foreground, var(--jp-content-font-color1, white)));\n",
              "    --sklearn-color-background: var(--sg-background-color, var(--theme-background, var(--jp-layout-color0, #111)));\n",
              "    --sklearn-color-border-box: var(--sg-text-color, var(--theme-code-foreground, var(--jp-content-font-color1, white)));\n",
              "    --sklearn-color-icon: #878787;\n",
              "  }\n",
              "}\n",
              "\n",
              "#sk-container-id-1 {\n",
              "  color: var(--sklearn-color-text);\n",
              "}\n",
              "\n",
              "#sk-container-id-1 pre {\n",
              "  padding: 0;\n",
              "}\n",
              "\n",
              "#sk-container-id-1 input.sk-hidden--visually {\n",
              "  border: 0;\n",
              "  clip: rect(1px 1px 1px 1px);\n",
              "  clip: rect(1px, 1px, 1px, 1px);\n",
              "  height: 1px;\n",
              "  margin: -1px;\n",
              "  overflow: hidden;\n",
              "  padding: 0;\n",
              "  position: absolute;\n",
              "  width: 1px;\n",
              "}\n",
              "\n",
              "#sk-container-id-1 div.sk-dashed-wrapped {\n",
              "  border: 1px dashed var(--sklearn-color-line);\n",
              "  margin: 0 0.4em 0.5em 0.4em;\n",
              "  box-sizing: border-box;\n",
              "  padding-bottom: 0.4em;\n",
              "  background-color: var(--sklearn-color-background);\n",
              "}\n",
              "\n",
              "#sk-container-id-1 div.sk-container {\n",
              "  /* jupyter's `normalize.less` sets `[hidden] { display: none; }`\n",
              "     but bootstrap.min.css set `[hidden] { display: none !important; }`\n",
              "     so we also need the `!important` here to be able to override the\n",
              "     default hidden behavior on the sphinx rendered scikit-learn.org.\n",
              "     See: https://github.com/scikit-learn/scikit-learn/issues/21755 */\n",
              "  display: inline-block !important;\n",
              "  position: relative;\n",
              "}\n",
              "\n",
              "#sk-container-id-1 div.sk-text-repr-fallback {\n",
              "  display: none;\n",
              "}\n",
              "\n",
              "div.sk-parallel-item,\n",
              "div.sk-serial,\n",
              "div.sk-item {\n",
              "  /* draw centered vertical line to link estimators */\n",
              "  background-image: linear-gradient(var(--sklearn-color-text-on-default-background), var(--sklearn-color-text-on-default-background));\n",
              "  background-size: 2px 100%;\n",
              "  background-repeat: no-repeat;\n",
              "  background-position: center center;\n",
              "}\n",
              "\n",
              "/* Parallel-specific style estimator block */\n",
              "\n",
              "#sk-container-id-1 div.sk-parallel-item::after {\n",
              "  content: \"\";\n",
              "  width: 100%;\n",
              "  border-bottom: 2px solid var(--sklearn-color-text-on-default-background);\n",
              "  flex-grow: 1;\n",
              "}\n",
              "\n",
              "#sk-container-id-1 div.sk-parallel {\n",
              "  display: flex;\n",
              "  align-items: stretch;\n",
              "  justify-content: center;\n",
              "  background-color: var(--sklearn-color-background);\n",
              "  position: relative;\n",
              "}\n",
              "\n",
              "#sk-container-id-1 div.sk-parallel-item {\n",
              "  display: flex;\n",
              "  flex-direction: column;\n",
              "}\n",
              "\n",
              "#sk-container-id-1 div.sk-parallel-item:first-child::after {\n",
              "  align-self: flex-end;\n",
              "  width: 50%;\n",
              "}\n",
              "\n",
              "#sk-container-id-1 div.sk-parallel-item:last-child::after {\n",
              "  align-self: flex-start;\n",
              "  width: 50%;\n",
              "}\n",
              "\n",
              "#sk-container-id-1 div.sk-parallel-item:only-child::after {\n",
              "  width: 0;\n",
              "}\n",
              "\n",
              "/* Serial-specific style estimator block */\n",
              "\n",
              "#sk-container-id-1 div.sk-serial {\n",
              "  display: flex;\n",
              "  flex-direction: column;\n",
              "  align-items: center;\n",
              "  background-color: var(--sklearn-color-background);\n",
              "  padding-right: 1em;\n",
              "  padding-left: 1em;\n",
              "}\n",
              "\n",
              "\n",
              "/* Toggleable style: style used for estimator/Pipeline/ColumnTransformer box that is\n",
              "clickable and can be expanded/collapsed.\n",
              "- Pipeline and ColumnTransformer use this feature and define the default style\n",
              "- Estimators will overwrite some part of the style using the `sk-estimator` class\n",
              "*/\n",
              "\n",
              "/* Pipeline and ColumnTransformer style (default) */\n",
              "\n",
              "#sk-container-id-1 div.sk-toggleable {\n",
              "  /* Default theme specific background. It is overwritten whether we have a\n",
              "  specific estimator or a Pipeline/ColumnTransformer */\n",
              "  background-color: var(--sklearn-color-background);\n",
              "}\n",
              "\n",
              "/* Toggleable label */\n",
              "#sk-container-id-1 label.sk-toggleable__label {\n",
              "  cursor: pointer;\n",
              "  display: block;\n",
              "  width: 100%;\n",
              "  margin-bottom: 0;\n",
              "  padding: 0.5em;\n",
              "  box-sizing: border-box;\n",
              "  text-align: center;\n",
              "}\n",
              "\n",
              "#sk-container-id-1 label.sk-toggleable__label-arrow:before {\n",
              "  /* Arrow on the left of the label */\n",
              "  content: \"▸\";\n",
              "  float: left;\n",
              "  margin-right: 0.25em;\n",
              "  color: var(--sklearn-color-icon);\n",
              "}\n",
              "\n",
              "#sk-container-id-1 label.sk-toggleable__label-arrow:hover:before {\n",
              "  color: var(--sklearn-color-text);\n",
              "}\n",
              "\n",
              "/* Toggleable content - dropdown */\n",
              "\n",
              "#sk-container-id-1 div.sk-toggleable__content {\n",
              "  max-height: 0;\n",
              "  max-width: 0;\n",
              "  overflow: hidden;\n",
              "  text-align: left;\n",
              "  /* unfitted */\n",
              "  background-color: var(--sklearn-color-unfitted-level-0);\n",
              "}\n",
              "\n",
              "#sk-container-id-1 div.sk-toggleable__content.fitted {\n",
              "  /* fitted */\n",
              "  background-color: var(--sklearn-color-fitted-level-0);\n",
              "}\n",
              "\n",
              "#sk-container-id-1 div.sk-toggleable__content pre {\n",
              "  margin: 0.2em;\n",
              "  border-radius: 0.25em;\n",
              "  color: var(--sklearn-color-text);\n",
              "  /* unfitted */\n",
              "  background-color: var(--sklearn-color-unfitted-level-0);\n",
              "}\n",
              "\n",
              "#sk-container-id-1 div.sk-toggleable__content.fitted pre {\n",
              "  /* unfitted */\n",
              "  background-color: var(--sklearn-color-fitted-level-0);\n",
              "}\n",
              "\n",
              "#sk-container-id-1 input.sk-toggleable__control:checked~div.sk-toggleable__content {\n",
              "  /* Expand drop-down */\n",
              "  max-height: 200px;\n",
              "  max-width: 100%;\n",
              "  overflow: auto;\n",
              "}\n",
              "\n",
              "#sk-container-id-1 input.sk-toggleable__control:checked~label.sk-toggleable__label-arrow:before {\n",
              "  content: \"▾\";\n",
              "}\n",
              "\n",
              "/* Pipeline/ColumnTransformer-specific style */\n",
              "\n",
              "#sk-container-id-1 div.sk-label input.sk-toggleable__control:checked~label.sk-toggleable__label {\n",
              "  color: var(--sklearn-color-text);\n",
              "  background-color: var(--sklearn-color-unfitted-level-2);\n",
              "}\n",
              "\n",
              "#sk-container-id-1 div.sk-label.fitted input.sk-toggleable__control:checked~label.sk-toggleable__label {\n",
              "  background-color: var(--sklearn-color-fitted-level-2);\n",
              "}\n",
              "\n",
              "/* Estimator-specific style */\n",
              "\n",
              "/* Colorize estimator box */\n",
              "#sk-container-id-1 div.sk-estimator input.sk-toggleable__control:checked~label.sk-toggleable__label {\n",
              "  /* unfitted */\n",
              "  background-color: var(--sklearn-color-unfitted-level-2);\n",
              "}\n",
              "\n",
              "#sk-container-id-1 div.sk-estimator.fitted input.sk-toggleable__control:checked~label.sk-toggleable__label {\n",
              "  /* fitted */\n",
              "  background-color: var(--sklearn-color-fitted-level-2);\n",
              "}\n",
              "\n",
              "#sk-container-id-1 div.sk-label label.sk-toggleable__label,\n",
              "#sk-container-id-1 div.sk-label label {\n",
              "  /* The background is the default theme color */\n",
              "  color: var(--sklearn-color-text-on-default-background);\n",
              "}\n",
              "\n",
              "/* On hover, darken the color of the background */\n",
              "#sk-container-id-1 div.sk-label:hover label.sk-toggleable__label {\n",
              "  color: var(--sklearn-color-text);\n",
              "  background-color: var(--sklearn-color-unfitted-level-2);\n",
              "}\n",
              "\n",
              "/* Label box, darken color on hover, fitted */\n",
              "#sk-container-id-1 div.sk-label.fitted:hover label.sk-toggleable__label.fitted {\n",
              "  color: var(--sklearn-color-text);\n",
              "  background-color: var(--sklearn-color-fitted-level-2);\n",
              "}\n",
              "\n",
              "/* Estimator label */\n",
              "\n",
              "#sk-container-id-1 div.sk-label label {\n",
              "  font-family: monospace;\n",
              "  font-weight: bold;\n",
              "  display: inline-block;\n",
              "  line-height: 1.2em;\n",
              "}\n",
              "\n",
              "#sk-container-id-1 div.sk-label-container {\n",
              "  text-align: center;\n",
              "}\n",
              "\n",
              "/* Estimator-specific */\n",
              "#sk-container-id-1 div.sk-estimator {\n",
              "  font-family: monospace;\n",
              "  border: 1px dotted var(--sklearn-color-border-box);\n",
              "  border-radius: 0.25em;\n",
              "  box-sizing: border-box;\n",
              "  margin-bottom: 0.5em;\n",
              "  /* unfitted */\n",
              "  background-color: var(--sklearn-color-unfitted-level-0);\n",
              "}\n",
              "\n",
              "#sk-container-id-1 div.sk-estimator.fitted {\n",
              "  /* fitted */\n",
              "  background-color: var(--sklearn-color-fitted-level-0);\n",
              "}\n",
              "\n",
              "/* on hover */\n",
              "#sk-container-id-1 div.sk-estimator:hover {\n",
              "  /* unfitted */\n",
              "  background-color: var(--sklearn-color-unfitted-level-2);\n",
              "}\n",
              "\n",
              "#sk-container-id-1 div.sk-estimator.fitted:hover {\n",
              "  /* fitted */\n",
              "  background-color: var(--sklearn-color-fitted-level-2);\n",
              "}\n",
              "\n",
              "/* Specification for estimator info (e.g. \"i\" and \"?\") */\n",
              "\n",
              "/* Common style for \"i\" and \"?\" */\n",
              "\n",
              ".sk-estimator-doc-link,\n",
              "a:link.sk-estimator-doc-link,\n",
              "a:visited.sk-estimator-doc-link {\n",
              "  float: right;\n",
              "  font-size: smaller;\n",
              "  line-height: 1em;\n",
              "  font-family: monospace;\n",
              "  background-color: var(--sklearn-color-background);\n",
              "  border-radius: 1em;\n",
              "  height: 1em;\n",
              "  width: 1em;\n",
              "  text-decoration: none !important;\n",
              "  margin-left: 1ex;\n",
              "  /* unfitted */\n",
              "  border: var(--sklearn-color-unfitted-level-1) 1pt solid;\n",
              "  color: var(--sklearn-color-unfitted-level-1);\n",
              "}\n",
              "\n",
              ".sk-estimator-doc-link.fitted,\n",
              "a:link.sk-estimator-doc-link.fitted,\n",
              "a:visited.sk-estimator-doc-link.fitted {\n",
              "  /* fitted */\n",
              "  border: var(--sklearn-color-fitted-level-1) 1pt solid;\n",
              "  color: var(--sklearn-color-fitted-level-1);\n",
              "}\n",
              "\n",
              "/* On hover */\n",
              "div.sk-estimator:hover .sk-estimator-doc-link:hover,\n",
              ".sk-estimator-doc-link:hover,\n",
              "div.sk-label-container:hover .sk-estimator-doc-link:hover,\n",
              ".sk-estimator-doc-link:hover {\n",
              "  /* unfitted */\n",
              "  background-color: var(--sklearn-color-unfitted-level-3);\n",
              "  color: var(--sklearn-color-background);\n",
              "  text-decoration: none;\n",
              "}\n",
              "\n",
              "div.sk-estimator.fitted:hover .sk-estimator-doc-link.fitted:hover,\n",
              ".sk-estimator-doc-link.fitted:hover,\n",
              "div.sk-label-container:hover .sk-estimator-doc-link.fitted:hover,\n",
              ".sk-estimator-doc-link.fitted:hover {\n",
              "  /* fitted */\n",
              "  background-color: var(--sklearn-color-fitted-level-3);\n",
              "  color: var(--sklearn-color-background);\n",
              "  text-decoration: none;\n",
              "}\n",
              "\n",
              "/* Span, style for the box shown on hovering the info icon */\n",
              ".sk-estimator-doc-link span {\n",
              "  display: none;\n",
              "  z-index: 9999;\n",
              "  position: relative;\n",
              "  font-weight: normal;\n",
              "  right: .2ex;\n",
              "  padding: .5ex;\n",
              "  margin: .5ex;\n",
              "  width: min-content;\n",
              "  min-width: 20ex;\n",
              "  max-width: 50ex;\n",
              "  color: var(--sklearn-color-text);\n",
              "  box-shadow: 2pt 2pt 4pt #999;\n",
              "  /* unfitted */\n",
              "  background: var(--sklearn-color-unfitted-level-0);\n",
              "  border: .5pt solid var(--sklearn-color-unfitted-level-3);\n",
              "}\n",
              "\n",
              ".sk-estimator-doc-link.fitted span {\n",
              "  /* fitted */\n",
              "  background: var(--sklearn-color-fitted-level-0);\n",
              "  border: var(--sklearn-color-fitted-level-3);\n",
              "}\n",
              "\n",
              ".sk-estimator-doc-link:hover span {\n",
              "  display: block;\n",
              "}\n",
              "\n",
              "/* \"?\"-specific style due to the `<a>` HTML tag */\n",
              "\n",
              "#sk-container-id-1 a.estimator_doc_link {\n",
              "  float: right;\n",
              "  font-size: 1rem;\n",
              "  line-height: 1em;\n",
              "  font-family: monospace;\n",
              "  background-color: var(--sklearn-color-background);\n",
              "  border-radius: 1rem;\n",
              "  height: 1rem;\n",
              "  width: 1rem;\n",
              "  text-decoration: none;\n",
              "  /* unfitted */\n",
              "  color: var(--sklearn-color-unfitted-level-1);\n",
              "  border: var(--sklearn-color-unfitted-level-1) 1pt solid;\n",
              "}\n",
              "\n",
              "#sk-container-id-1 a.estimator_doc_link.fitted {\n",
              "  /* fitted */\n",
              "  border: var(--sklearn-color-fitted-level-1) 1pt solid;\n",
              "  color: var(--sklearn-color-fitted-level-1);\n",
              "}\n",
              "\n",
              "/* On hover */\n",
              "#sk-container-id-1 a.estimator_doc_link:hover {\n",
              "  /* unfitted */\n",
              "  background-color: var(--sklearn-color-unfitted-level-3);\n",
              "  color: var(--sklearn-color-background);\n",
              "  text-decoration: none;\n",
              "}\n",
              "\n",
              "#sk-container-id-1 a.estimator_doc_link.fitted:hover {\n",
              "  /* fitted */\n",
              "  background-color: var(--sklearn-color-fitted-level-3);\n",
              "}\n",
              "</style><div id=\"sk-container-id-1\" class=\"sk-top-container\"><div class=\"sk-text-repr-fallback\"><pre>MultinomialNB()</pre><b>In a Jupyter environment, please rerun this cell to show the HTML representation or trust the notebook. <br />On GitHub, the HTML representation is unable to render, please try loading this page with nbviewer.org.</b></div><div class=\"sk-container\" hidden><div class=\"sk-item\"><div class=\"sk-estimator fitted sk-toggleable\"><input class=\"sk-toggleable__control sk-hidden--visually\" id=\"sk-estimator-id-1\" type=\"checkbox\" checked><label for=\"sk-estimator-id-1\" class=\"sk-toggleable__label fitted sk-toggleable__label-arrow fitted\">&nbsp;&nbsp;MultinomialNB<a class=\"sk-estimator-doc-link fitted\" rel=\"noreferrer\" target=\"_blank\" href=\"https://scikit-learn.org/1.5/modules/generated/sklearn.naive_bayes.MultinomialNB.html\">?<span>Documentation for MultinomialNB</span></a><span class=\"sk-estimator-doc-link fitted\">i<span>Fitted</span></span></label><div class=\"sk-toggleable__content fitted\"><pre>MultinomialNB()</pre></div> </div></div></div></div>"
            ]
          },
          "metadata": {},
          "execution_count": 215
        }
      ]
    },
    {
      "cell_type": "code",
      "source": [
        "#Generate predictions\n",
        "pred_NB = naive.predict(X_test_NB)\n",
        "# Model evaluation\n",
        "print(classification_report(Y_test_NB, pred_NB))"
      ],
      "metadata": {
        "id": "RTdKR2uZcuC7",
        "outputId": "f641df01-5846-46b1-9f6b-df2146526a28",
        "colab": {
          "base_uri": "https://localhost:8080/"
        }
      },
      "execution_count": 314,
      "outputs": [
        {
          "output_type": "stream",
          "name": "stdout",
          "text": [
            "              precision    recall  f1-score   support\n",
            "\n",
            "           1       0.74      1.00      0.85      8078\n",
            "           2       0.00      0.00      0.00       656\n",
            "           3       0.00      0.00      0.00      1219\n",
            "           4       0.00      0.00      0.00       267\n",
            "           5       0.00      0.00      0.00       489\n",
            "           6       0.00      0.00      0.00       164\n",
            "           7       0.00      0.00      0.00       117\n",
            "\n",
            "    accuracy                           0.74     10990\n",
            "   macro avg       0.11      0.14      0.12     10990\n",
            "weighted avg       0.54      0.74      0.62     10990\n",
            "\n"
          ]
        },
        {
          "output_type": "stream",
          "name": "stderr",
          "text": [
            "/usr/local/lib/python3.10/dist-packages/sklearn/metrics/_classification.py:1531: UndefinedMetricWarning: Precision is ill-defined and being set to 0.0 in labels with no predicted samples. Use `zero_division` parameter to control this behavior.\n",
            "  _warn_prf(average, modifier, f\"{metric.capitalize()} is\", len(result))\n",
            "/usr/local/lib/python3.10/dist-packages/sklearn/metrics/_classification.py:1531: UndefinedMetricWarning: Precision is ill-defined and being set to 0.0 in labels with no predicted samples. Use `zero_division` parameter to control this behavior.\n",
            "  _warn_prf(average, modifier, f\"{metric.capitalize()} is\", len(result))\n",
            "/usr/local/lib/python3.10/dist-packages/sklearn/metrics/_classification.py:1531: UndefinedMetricWarning: Precision is ill-defined and being set to 0.0 in labels with no predicted samples. Use `zero_division` parameter to control this behavior.\n",
            "  _warn_prf(average, modifier, f\"{metric.capitalize()} is\", len(result))\n"
          ]
        }
      ]
    },
    {
      "cell_type": "markdown",
      "source": [
        "So the MultinomialNB has an accuracy of 74%. However, accuracy alone is not an raliable metrics, inparticular in a situation with an inbalance dataset as here. Infact, looking at the other metrics is possible to se that the naive bayes has good performance on the majority class 'O' (above the class number 1) but it fails to capture the performance for minority classes. Precision, recall and F1 score for the other classes are 0. The model completely fails to classify these classes correctly.\n",
        "\n",
        "From a first analysis, the naive bayes works well because it predicts mostly 'O' and since we have an inbalance dataset it returns an high accuracy. However, words that should be classified differently are missclassified. Below there is an example with the word 'Obama'. This token should be 'B-PER' but instead is classified 'O'."
      ],
      "metadata": {
        "id": "VJEEWWGMc3co"
      }
    },
    {
      "cell_type": "code",
      "source": [
        "#Example\n",
        "twt = ['Obama']\n",
        "twt_sequence = tokenizer.texts_to_sequences(twt)\n",
        "twt_sequence = np.array(twt_sequence).reshape(-1, 1)\n",
        "\n",
        "pred = naive.predict(twt_sequence)\n",
        "class_to_tag = id_to_tag[pred[0]]\n",
        "print(f\"Token: {twt[0]}\")\n",
        "print(f\"Prediction: '{class_to_tag}'\")"
      ],
      "metadata": {
        "id": "9SSDQoejdVn7",
        "outputId": "ebff3d86-f1e6-41c8-9c44-02ea2bf2e75c",
        "colab": {
          "base_uri": "https://localhost:8080/"
        }
      },
      "execution_count": 217,
      "outputs": [
        {
          "output_type": "stream",
          "name": "stdout",
          "text": [
            "Token: Obama\n",
            "Prediction: 'O'\n"
          ]
        }
      ]
    },
    {
      "cell_type": "markdown",
      "source": [
        "Now we will try seqeuntial models for keeping the sentences intact. We expect that this models are able to understand the context or the relationship between tokens within the same sentence."
      ],
      "metadata": {
        "id": "eW5yVnsF-QV-"
      }
    },
    {
      "cell_type": "markdown",
      "source": [
        "# Neural Network Approach"
      ],
      "metadata": {
        "id": "uumQlQrgT1-7"
      }
    },
    {
      "cell_type": "markdown",
      "source": [
        "### Embedding\n",
        "Machine learning algorithms require input as numbers and not text.\n",
        "We already encoded the sentences with Tokenizer. However, the embedding step add informations on the word similarity and relationship. Embedding is a dense numerical representation that seeks to capture semantic meanings and relationships between inputs. Words similar in meaning will have neighbouring vectors in the embedding space.\n",
        "\n",
        "We use a pre-trained embedding called GloVe. Useful in our case to exploit prior linguistic knowledge as we have a limited dataset, only 14689 words.\n",
        "In particular GloVe 100, were each word is rappresentend by a dense vector of dimension 100."
      ],
      "metadata": {
        "id": "13QyVmXjEZm5"
      }
    },
    {
      "cell_type": "code",
      "source": [
        "def load_glove(word_index, embed_dim, path):\n",
        "  embeddings_index = {}\n",
        "  with open(path, encoding=\"utf-8\") as f:\n",
        "      for line in f:\n",
        "          values = line.split()\n",
        "          word = values[0]\n",
        "          coefs = np.asarray(values[1:], dtype=\"float32\")\n",
        "          embeddings_index[word] = coefs\n",
        "\n",
        "  embedding_matrix = np.zeros((len(word_index) + 1, embed_dim))\n",
        "  for word, i in word_index.items():\n",
        "      embedding_vector = embeddings_index.get(word)\n",
        "      if embedding_vector is not None:\n",
        "          embedding_matrix[i] = embedding_vector\n",
        "  return embedding_matrix"
      ],
      "metadata": {
        "id": "09IpkcB3ww-H"
      },
      "execution_count": 218,
      "outputs": []
    },
    {
      "cell_type": "code",
      "source": [
        "path_embedding = '/content/glove.6B.100d.txt' # Path of the Glove file selected\n",
        "embedding_dim = 100   # Dimension of the dense vector (selected GloVe)\n",
        "glove_matrix = load_glove(tokenizer.word_index, embedding_dim, path_embedding)"
      ],
      "metadata": {
        "id": "ZHFogcTgIEUY"
      },
      "execution_count": 219,
      "outputs": []
    },
    {
      "cell_type": "markdown",
      "source": [
        "## LSTM Model"
      ],
      "metadata": {
        "id": "Kj4dTbWNIP6k"
      }
    },
    {
      "cell_type": "markdown",
      "source": [
        "Long Short-Term Memory (LSTM) is a particular Recurrent Neural Network (RNN). RNN are build to process sequential data as text. The difference between a  normal neuron (e.g. Feed Forward) and the recurrent neuron is that the second one send back its ouput as input. So it creates a memory of the previous stage. In othe words, it remembers some information about a sequence.\n",
        "\n",
        "After a while RNN start to forget the previous information.\n",
        "LSTM improve the RNN increasing the \"memory\" of the networks. Infact, LSTM create a sort of long-term memory. It has four neural network layer, instead of only one, that interacts in special way.\n",
        "\n",
        "Below there is the implementation of the LSTM model.\n",
        "\n",
        "The model consists of three layers:\n",
        "- Embedding Layer:\n",
        "The first layer is an embedding layer that uses pretrained GloVe embeddings. It maps each token in the input sequence into a dense vector of fixed size 100. The embedding is trainable, allowing the model to refine the embeddings during training. The padding tokens are ignored by the mask_zero parameter.\n",
        "- LSTM layer: with 50 units. It includes a dropout which randomly drops neurons during training to prevent overfitting. Also, a recurrent dropout which applies dropout to the recurrent connections in the LSTM layer. The last parameter \"return_sequences=True\" ensures that the LSTM outputs a sequence of predictions.\n",
        "- Fully connected dense layer: The final layer is a fully connected dense layer with a softmax activation function. This layer outputs a probability distribution over the classes, indicating the likelihood of each token belonging to a specific class.\n",
        "\n",
        "THe model loss function is the categorical cross entropy that is perfect for multiclass classification. In addition, the optimizer that is used is Adam."
      ],
      "metadata": {
        "id": "3bDTTK3L_BcI"
      }
    },
    {
      "cell_type": "code",
      "source": [
        "#Model parameters\n",
        "vocab_size_embedding = len(tokenizer.word_index) + 1 #+1 for the padding element\n",
        "lstm_out = 50 #number of units in the LSTM layer\n",
        "num_classes = len(tags_id) #number of output classes\n",
        "\n",
        "model_LSTM = Sequential() #building a sequential model with keras\n",
        "# Embedding layer\n",
        "model_LSTM.add(Embedding(input_dim=vocab_size_embedding , output_dim=embedding_dim, weights=[glove_matrix], mask_zero=True,\n",
        "              input_length=max_sequence_len, trainable=True))  # \"trainable = True\" because we want that the model improves the embedding\n",
        "# Adding LSTM layer\n",
        "model_LSTM.add(LSTM(units=lstm_out, dropout = 0.2, recurrent_dropout=0.2, return_sequences=True))\n",
        "                #recurrent_dropout = Dropout probability also on recurring connections in the LSTM layer.\n",
        "\n",
        "# Fully connected last layer with a softmax function that gives for each class a probability of belonging\n",
        "model_LSTM.add(Dense(num_classes, activation='softmax'))\n",
        "\n",
        "model_LSTM.compile(loss='categorical_crossentropy', optimizer='adam', metrics=['accuracy'])\n",
        "model_LSTM.summary()"
      ],
      "metadata": {
        "id": "VRZ2H2ioa1Ft",
        "outputId": "6fe38d76-2872-4d8e-bc86-87012cfcc78d",
        "colab": {
          "base_uri": "https://localhost:8080/",
          "height": 256
        }
      },
      "execution_count": 278,
      "outputs": [
        {
          "output_type": "display_data",
          "data": {
            "text/plain": [
              "\u001b[1mModel: \"sequential_15\"\u001b[0m\n"
            ],
            "text/html": [
              "<pre style=\"white-space:pre;overflow-x:auto;line-height:normal;font-family:Menlo,'DejaVu Sans Mono',consolas,'Courier New',monospace\"><span style=\"font-weight: bold\">Model: \"sequential_15\"</span>\n",
              "</pre>\n"
            ]
          },
          "metadata": {}
        },
        {
          "output_type": "display_data",
          "data": {
            "text/plain": [
              "┏━━━━━━━━━━━━━━━━━━━━━━━━━━━━━━━━━━━━━━┳━━━━━━━━━━━━━━━━━━━━━━━━━━━━━┳━━━━━━━━━━━━━━━━━┓\n",
              "┃\u001b[1m \u001b[0m\u001b[1mLayer (type)                        \u001b[0m\u001b[1m \u001b[0m┃\u001b[1m \u001b[0m\u001b[1mOutput Shape               \u001b[0m\u001b[1m \u001b[0m┃\u001b[1m \u001b[0m\u001b[1m        Param #\u001b[0m\u001b[1m \u001b[0m┃\n",
              "┡━━━━━━━━━━━━━━━━━━━━━━━━━━━━━━━━━━━━━━╇━━━━━━━━━━━━━━━━━━━━━━━━━━━━━╇━━━━━━━━━━━━━━━━━┩\n",
              "│ embedding_15 (\u001b[38;5;33mEmbedding\u001b[0m)             │ ?                           │       \u001b[38;5;34m1,457,900\u001b[0m │\n",
              "├──────────────────────────────────────┼─────────────────────────────┼─────────────────┤\n",
              "│ lstm_9 (\u001b[38;5;33mLSTM\u001b[0m)                        │ ?                           │     \u001b[38;5;34m0\u001b[0m (unbuilt) │\n",
              "├──────────────────────────────────────┼─────────────────────────────┼─────────────────┤\n",
              "│ dense_15 (\u001b[38;5;33mDense\u001b[0m)                     │ ?                           │     \u001b[38;5;34m0\u001b[0m (unbuilt) │\n",
              "└──────────────────────────────────────┴─────────────────────────────┴─────────────────┘\n"
            ],
            "text/html": [
              "<pre style=\"white-space:pre;overflow-x:auto;line-height:normal;font-family:Menlo,'DejaVu Sans Mono',consolas,'Courier New',monospace\">┏━━━━━━━━━━━━━━━━━━━━━━━━━━━━━━━━━━━━━━┳━━━━━━━━━━━━━━━━━━━━━━━━━━━━━┳━━━━━━━━━━━━━━━━━┓\n",
              "┃<span style=\"font-weight: bold\"> Layer (type)                         </span>┃<span style=\"font-weight: bold\"> Output Shape                </span>┃<span style=\"font-weight: bold\">         Param # </span>┃\n",
              "┡━━━━━━━━━━━━━━━━━━━━━━━━━━━━━━━━━━━━━━╇━━━━━━━━━━━━━━━━━━━━━━━━━━━━━╇━━━━━━━━━━━━━━━━━┩\n",
              "│ embedding_15 (<span style=\"color: #0087ff; text-decoration-color: #0087ff\">Embedding</span>)             │ ?                           │       <span style=\"color: #00af00; text-decoration-color: #00af00\">1,457,900</span> │\n",
              "├──────────────────────────────────────┼─────────────────────────────┼─────────────────┤\n",
              "│ lstm_9 (<span style=\"color: #0087ff; text-decoration-color: #0087ff\">LSTM</span>)                        │ ?                           │     <span style=\"color: #00af00; text-decoration-color: #00af00\">0</span> (unbuilt) │\n",
              "├──────────────────────────────────────┼─────────────────────────────┼─────────────────┤\n",
              "│ dense_15 (<span style=\"color: #0087ff; text-decoration-color: #0087ff\">Dense</span>)                     │ ?                           │     <span style=\"color: #00af00; text-decoration-color: #00af00\">0</span> (unbuilt) │\n",
              "└──────────────────────────────────────┴─────────────────────────────┴─────────────────┘\n",
              "</pre>\n"
            ]
          },
          "metadata": {}
        },
        {
          "output_type": "display_data",
          "data": {
            "text/plain": [
              "\u001b[1m Total params: \u001b[0m\u001b[38;5;34m1,457,900\u001b[0m (5.56 MB)\n"
            ],
            "text/html": [
              "<pre style=\"white-space:pre;overflow-x:auto;line-height:normal;font-family:Menlo,'DejaVu Sans Mono',consolas,'Courier New',monospace\"><span style=\"font-weight: bold\"> Total params: </span><span style=\"color: #00af00; text-decoration-color: #00af00\">1,457,900</span> (5.56 MB)\n",
              "</pre>\n"
            ]
          },
          "metadata": {}
        },
        {
          "output_type": "display_data",
          "data": {
            "text/plain": [
              "\u001b[1m Trainable params: \u001b[0m\u001b[38;5;34m1,457,900\u001b[0m (5.56 MB)\n"
            ],
            "text/html": [
              "<pre style=\"white-space:pre;overflow-x:auto;line-height:normal;font-family:Menlo,'DejaVu Sans Mono',consolas,'Courier New',monospace\"><span style=\"font-weight: bold\"> Trainable params: </span><span style=\"color: #00af00; text-decoration-color: #00af00\">1,457,900</span> (5.56 MB)\n",
              "</pre>\n"
            ]
          },
          "metadata": {}
        },
        {
          "output_type": "display_data",
          "data": {
            "text/plain": [
              "\u001b[1m Non-trainable params: \u001b[0m\u001b[38;5;34m0\u001b[0m (0.00 B)\n"
            ],
            "text/html": [
              "<pre style=\"white-space:pre;overflow-x:auto;line-height:normal;font-family:Menlo,'DejaVu Sans Mono',consolas,'Courier New',monospace\"><span style=\"font-weight: bold\"> Non-trainable params: </span><span style=\"color: #00af00; text-decoration-color: #00af00\">0</span> (0.00 B)\n",
              "</pre>\n"
            ]
          },
          "metadata": {}
        }
      ]
    },
    {
      "cell_type": "markdown",
      "source": [
        "**ModelCheckpoint** callback save the model during training, based on the val_loss. The entire model will be saved.\n",
        "\n",
        "**EarlyStopping**: stops the training process early if the model’s performance on the validation set stops improving. It prevents overfitting and saves time. It checks the validation loss during training and requires a minimum improving delta of 0.001. After 3 consecutive epochs without an improvement it stops training. After stopping the training, it restore the best weights. In other words, the weights of the epoch with the minimum val_loss.\n",
        "mode=\"min\": indicates that the goal is to minimize val_loss."
      ],
      "metadata": {
        "id": "O1S14o197O8I"
      }
    },
    {
      "cell_type": "code",
      "source": [
        "best_model_file = 'lstm-best-model.keras' # Name of the file\n",
        "\n",
        "# Callback: save the best model\n",
        "checkpoint = ModelCheckpoint(\n",
        "    best_model_file,\n",
        "    save_weights_only=False,                   # Save all the architecture\n",
        "    save_best_only=True,                       # Save only the best model\n",
        "    monitor='val_loss',                        # Monitoring validation loss\n",
        "    # verbose=1\n",
        ")\n",
        "\n",
        "# Callback: early stopping\n",
        "early_stopping = EarlyStopping(\n",
        "    monitor=\"val_loss\",          # Monitoring validation loss\n",
        "    min_delta=0.001,             # Minimum improvement required to continue\n",
        "    patience=3,                  # Stop the training after 3 epochs without improvement\n",
        "    verbose=1,                   # Print messages\n",
        "    mode=\"min\",                  # Indicates that the model attempts to minimise the monitored metric\n",
        "    restore_best_weights=True    # Restore the best weights\n",
        ")"
      ],
      "metadata": {
        "id": "izzVM2Y1JbYF"
      },
      "execution_count": 279,
      "outputs": []
    },
    {
      "cell_type": "code",
      "source": [
        "# Training\n",
        "history_LSTM = model_LSTM.fit(\n",
        "    X_train, Y_train,\n",
        "    validation_data=(X_val, Y_val),\n",
        "    epochs=20,\n",
        "    batch_size=32,\n",
        "    verbose=2,\n",
        "    callbacks=[checkpoint, early_stopping]\n",
        ")"
      ],
      "metadata": {
        "id": "tKrRxb47JoNq",
        "outputId": "79c62547-bf36-4274-c422-eac0ef665475",
        "colab": {
          "base_uri": "https://localhost:8080/"
        }
      },
      "execution_count": 280,
      "outputs": [
        {
          "output_type": "stream",
          "name": "stdout",
          "text": [
            "Epoch 1/20\n",
            "93/93 - 8s - 88ms/step - accuracy: 0.2367 - loss: 1.0875 - val_accuracy: 0.2483 - val_loss: 0.7500\n",
            "Epoch 2/20\n",
            "93/93 - 3s - 33ms/step - accuracy: 0.2556 - loss: 0.6677 - val_accuracy: 0.2620 - val_loss: 0.5720\n",
            "Epoch 3/20\n",
            "93/93 - 3s - 33ms/step - accuracy: 0.2682 - loss: 0.5219 - val_accuracy: 0.2716 - val_loss: 0.4737\n",
            "Epoch 4/20\n",
            "93/93 - 3s - 33ms/step - accuracy: 0.2755 - loss: 0.4221 - val_accuracy: 0.2755 - val_loss: 0.4194\n",
            "Epoch 5/20\n",
            "93/93 - 6s - 65ms/step - accuracy: 0.2813 - loss: 0.3538 - val_accuracy: 0.2783 - val_loss: 0.3891\n",
            "Epoch 6/20\n",
            "93/93 - 5s - 55ms/step - accuracy: 0.2861 - loss: 0.3017 - val_accuracy: 0.2799 - val_loss: 0.3700\n",
            "Epoch 7/20\n",
            "93/93 - 7s - 79ms/step - accuracy: 0.2904 - loss: 0.2585 - val_accuracy: 0.2803 - val_loss: 0.3599\n",
            "Epoch 8/20\n",
            "93/93 - 6s - 63ms/step - accuracy: 0.2938 - loss: 0.2247 - val_accuracy: 0.2815 - val_loss: 0.3537\n",
            "Epoch 9/20\n",
            "93/93 - 5s - 59ms/step - accuracy: 0.2956 - loss: 0.2004 - val_accuracy: 0.2815 - val_loss: 0.3529\n",
            "Epoch 10/20\n",
            "93/93 - 8s - 83ms/step - accuracy: 0.2976 - loss: 0.1808 - val_accuracy: 0.2820 - val_loss: 0.3505\n",
            "Epoch 11/20\n",
            "93/93 - 5s - 54ms/step - accuracy: 0.2989 - loss: 0.1608 - val_accuracy: 0.2812 - val_loss: 0.3526\n",
            "Epoch 12/20\n",
            "93/93 - 6s - 63ms/step - accuracy: 0.3001 - loss: 0.1515 - val_accuracy: 0.2819 - val_loss: 0.3529\n",
            "Epoch 13/20\n",
            "93/93 - 4s - 47ms/step - accuracy: 0.3009 - loss: 0.1373 - val_accuracy: 0.2817 - val_loss: 0.3566\n",
            "Epoch 13: early stopping\n",
            "Restoring model weights from the end of the best epoch: 10.\n"
          ]
        }
      ]
    },
    {
      "cell_type": "code",
      "source": [
        "# Plotting the accuracy and loss during the training\n",
        "fig, axes = plt.subplots(1, 2, figsize=(11, 5))\n",
        "\n",
        "# Loss\n",
        "axes[0].plot(history_LSTM.history['loss'], label='Training Loss')\n",
        "axes[0].plot(history_LSTM.history['val_loss'], label='Validation Loss')\n",
        "axes[0].set_title('Training and Validation Loss')\n",
        "axes[0].set_xlabel('Epochs')\n",
        "axes[0].set_ylabel('Loss')\n",
        "axes[0].legend()\n",
        "\n",
        "# Accuracy\n",
        "axes[1].plot(history_LSTM.history['accuracy'], label='Training Accuracy')\n",
        "axes[1].plot(history_LSTM.history['val_accuracy'], label='Validation Accuracy')\n",
        "axes[1].set_title('Training and Validation Accuracy')\n",
        "axes[1].set_xlabel('Epochs')\n",
        "axes[1].set_ylabel('Accuracy')\n",
        "axes[1].legend()"
      ],
      "metadata": {
        "id": "I9TockQNnCV7",
        "outputId": "aae17f4e-cf13-4f1f-96a7-231f6c51bd2a",
        "colab": {
          "base_uri": "https://localhost:8080/",
          "height": 524
        }
      },
      "execution_count": 281,
      "outputs": [
        {
          "output_type": "execute_result",
          "data": {
            "text/plain": [
              "<matplotlib.legend.Legend at 0x7e725bc761a0>"
            ]
          },
          "metadata": {},
          "execution_count": 281
        },
        {
          "output_type": "display_data",
          "data": {
            "text/plain": [
              "<Figure size 1100x500 with 2 Axes>"
            ],
            "image/png": "[encoded data removed]"
          },
          "metadata": {}
        }
      ]
    },
    {
      "cell_type": "markdown",
      "source": [
        "### Evaluation"
      ],
      "metadata": {
        "id": "ZpvuuLwXm8zJ"
      }
    },
    {
      "cell_type": "code",
      "source": [
        "def predictions(model, X_test, y_true=[], no_padding=\"True\"):\n",
        "\n",
        "  if no_padding == \"True\":\n",
        "\n",
        "    X_decoded = [[tokenizer.index_word[token] for token in sentence if token != 0] for sentence in X_test]\n",
        "    if len(y_true) > 0:\n",
        "      # Decoded the true labels\n",
        "      y_true = np.argmax(y_true, axis=-1)\n",
        "      real_labels = []\n",
        "      for i, sentence in enumerate(y_true):\n",
        "          sentence_real_label = [] # Temporary list for single sentence tags\n",
        "          for tag in sentence[-len(X_decoded[i]):]:   # Exclude the padding at the beginning of each sentence\n",
        "            sentence_real_label.append(id_to_tag[tag])\n",
        "          real_labels.append(sentence_real_label)\n",
        "    else:\n",
        "      real_labels = \"_empty_\"\n",
        "\n",
        "    # Generate predictions\n",
        "    predictions = model.predict(X_test, verbose=0)\n",
        "    predictions = np.argmax(predictions, axis=-1)\n",
        "\n",
        "    predicted_labels = [] # List containing the tags of all sentences\n",
        "    # Decoded the predictions\n",
        "    for i, sentence in enumerate(predictions):\n",
        "        sentence_labels = []  # Temporary list for single sentence tags\n",
        "        for tag in sentence[-len(X_decoded[i]):]:   # Exclude the padding at the beginning of each sentence\n",
        "          sentence_labels.append(id_to_tag[tag])\n",
        "        predicted_labels.append(sentence_labels)\n",
        "\n",
        "  else:\n",
        "\n",
        "    X_decoded = [[tokenizer.index_word[token] for token in sentence] for sentence in X_test]\n",
        "    real_labels = [[id_to_tag[tag] for tag in sentence] for sentence in np.argmax(Y_test, axis=-1)]\n",
        "    predictions = model.predict(X_test, verbose=0)\n",
        "    predictions = np.argmax(predictions, axis=-1)\n",
        "    predicted_labels = [[id_to_tag[tag] for tag in sentence] for sentence in predictions]\n",
        "\n",
        "  return X_decoded, real_labels, predicted_labels"
      ],
      "metadata": {
        "id": "0jyMdv5lVerg"
      },
      "execution_count": 282,
      "outputs": []
    },
    {
      "cell_type": "code",
      "source": [
        "def compute_metrics(model, X, y_true, id_to_tag):\n",
        "\n",
        "  # Generate predictions\n",
        "  X, y_true, y_pred = predictions(model, X, y_true, no_padding=\"True\")\n",
        "\n",
        "  # Flat the results because the following metrics does not support multiclass-multioutput\n",
        "  y_preds_flat = [tag for sentence in y_pred for tag in sentence]\n",
        "  y_true_flat = [label_true for y in y_true for label_true in y]\n",
        "\n",
        "  #COMPUTE ACCURACY\n",
        "  accuracy = accuracy_score(y_true_flat, y_preds_flat)\n",
        "\n",
        "  # COMPUTE PRECISION, RECALL F1-SCORE INDIVIDUALLY\n",
        "  # Create a dictionary for saving the metrics for each label\n",
        "  metrics = {\"Recall\": [], \"Precision\": [], \"F1 Score\": []}\n",
        "\n",
        "  # Compute metrics for each class\n",
        "  for tag_id in range(1, len(id_to_tag)):  # iterate all the id off the classes\n",
        "      tag_name = id_to_tag[tag_id]  # Take the name of the current class\n",
        "      # Compute Precision, Recall e F1 score for the current class tag_name\n",
        "      precision = precision_score(y_true_flat, y_preds_flat, labels=[tag_name], average=\"micro\")\n",
        "      recall = recall_score(y_true_flat, y_preds_flat, labels=[tag_name], average=\"micro\")\n",
        "      f1 = f1_score(y_true_flat, y_preds_flat, labels=[tag_name], average=\"micro\")\n",
        "\n",
        "      # Add the results to the metrics dictionary\n",
        "      metrics[\"Precision\"].append((tag_name, precision))\n",
        "      metrics[\"Recall\"].append((tag_name, recall))\n",
        "      metrics[\"F1 Score\"].append((tag_name, f1))\n",
        "\n",
        "  # Return accuracy, the other metrics and the classification report\n",
        "  return accuracy, metrics, classification_report(y_true_flat, y_preds_flat)"
      ],
      "metadata": {
        "id": "esQhuXdib2xP"
      },
      "execution_count": 283,
      "outputs": []
    },
    {
      "cell_type": "code",
      "source": [
        "accuracy_LSTM, metrics_LSTM, report_LSTM = compute_metrics(model_LSTM, X_test, Y_test, id_to_tag)\n",
        "print(f\"Test Accuracy: {round(accuracy_LSTM * 100, 2)}%\\n\")\n",
        "print(report_LSTM)"
      ],
      "metadata": {
        "id": "RR6ajEhTfn4o",
        "outputId": "c018eb93-f82d-4319-aedd-b9f5d6086bc0",
        "colab": {
          "base_uri": "https://localhost:8080/"
        }
      },
      "execution_count": 284,
      "outputs": [
        {
          "output_type": "stream",
          "name": "stdout",
          "text": [
            "Test Accuracy: 88.55%\n",
            "\n",
            "              precision    recall  f1-score   support\n",
            "\n",
            "       B-LOC       0.70      0.66      0.68       173\n",
            "       B-ORG       0.64      0.42      0.51       237\n",
            "       B-PER       0.76      0.90      0.82       392\n",
            "       I-LOC       0.47      0.35      0.40        49\n",
            "       I-ORG       0.52      0.18      0.27        82\n",
            "       I-PER       0.85      0.78      0.82        88\n",
            "           O       0.94      0.97      0.95      2857\n",
            "\n",
            "    accuracy                           0.89      3878\n",
            "   macro avg       0.70      0.61      0.64      3878\n",
            "weighted avg       0.87      0.89      0.88      3878\n",
            "\n"
          ]
        }
      ]
    },
    {
      "cell_type": "markdown",
      "source": [
        "The model achieves a test accuracy of 89%, which indicates that it classifies most tokens correctly. However, as mentioned previously, accuracy alone can be misleading, especially with an unbalanced dataset. So, it's essential to examine other metrics in the table.\n",
        "\n",
        "**Macro average** is a metric that measures the performance of a model on a dataset with several classes, giving equal weight to all classes, regardless of their frequency. Instead, the **weighted avg** takes the support into account. This means that classes with more examples will have more weight.\n",
        "\n",
        "The weighted average precision, recall, and F1-score are still high. These results are influenced by the dominant class ('O'). The dominance of this class explains the overall strong performance.\n",
        "\n",
        "However, looking at the macro average F1-score is considerably lower (64%). This suggests that the model struggles with the minority classes and does not generalize well across all entity types.\n",
        "\n",
        "The model demonstrates:\n",
        "\n",
        "- Excellent performance on the majority class ('O').\n",
        "- Good performance on person-related entities ('B-PER' and 'I-PER').\n",
        "- Poor performance on other entity types ('B-LOC', 'B-ORG', 'I-LOC', and 'I-ORG')."
      ],
      "metadata": {
        "id": "U5ltWHSpha1N"
      }
    },
    {
      "cell_type": "code",
      "source": [
        "def plot_confusion_matrix(X, y_true, model, id_to_tag):\n",
        "\n",
        "    X_decoded = [[tokenizer.index_word[token] for token in sentence if token != 0] for sentence in X_test]\n",
        "    y_true = np.argmax(y_true, axis=-1)\n",
        "\n",
        "    real_labels = []\n",
        "    # Decoded the true labels\n",
        "    for i, sentence in enumerate(y_true):\n",
        "        sentence_real_label = [] # Temporary list for single sentence tags\n",
        "        for tag in sentence[-len(X_decoded[i]):]:   # Exclude the padding at the beginning of each sentence\n",
        "          sentence_real_label.append(tag)\n",
        "        real_labels.append(sentence_real_label)\n",
        "\n",
        "    # Generate predictions\n",
        "    predictions = model.predict(X_test, verbose=0)\n",
        "    predictions = np.argmax(predictions, axis=-1)\n",
        "\n",
        "    predicted_labels = [] # List containing the tags of all sentences\n",
        "    # Decoded the predictions\n",
        "    for i, sentence in enumerate(predictions):\n",
        "        sentence_labels = []  # Temporary list for single sentence tags\n",
        "        for tag in sentence[-len(X_decoded[i]):]:   # Exclude the padding at the beginning of each sentence\n",
        "          sentence_labels.append(tag)\n",
        "        predicted_labels.append(sentence_labels)\n",
        "\n",
        "    # Flat the results because the following metrics does not support multiclass-multioutput\n",
        "    flat_pred = [tag for sentence in predicted_labels for tag in sentence]\n",
        "    flat_true = [label_true for y in real_labels for label_true in y]\n",
        "\n",
        "    # Get labels from the id_to_tag dictionary\n",
        "    labels = [id_to_tag[i] for i in range(len(id_to_tag)) if i != 0]\n",
        "\n",
        "    # Building confusion matrix\n",
        "    cm = confusion_matrix(flat_true, flat_pred)\n",
        "    disp = ConfusionMatrixDisplay(confusion_matrix=cm, display_labels=labels)\n",
        "    disp.plot(cmap=plt.cm.Blues)\n",
        "\n",
        "    plt.title(f\"Confusion Matrix\")\n",
        "    plt.show()"
      ],
      "metadata": {
        "id": "W1_ZiOBOJowN"
      },
      "execution_count": 285,
      "outputs": []
    },
    {
      "cell_type": "code",
      "source": [
        "plot_confusion_matrix(X_test, Y_test, model_LSTM, id_to_tag)"
      ],
      "metadata": {
        "id": "wpXM2ppfL5po",
        "outputId": "cda9c5b4-e789-4330-8d36-c0eacbbf04f2",
        "colab": {
          "base_uri": "https://localhost:8080/",
          "height": 492
        }
      },
      "execution_count": 286,
      "outputs": [
        {
          "output_type": "display_data",
          "data": {
            "text/plain": [
              "<Figure size 640x480 with 2 Axes>"
            ],
            "image/png": "[encoded data removed]"
          },
          "metadata": {}
        }
      ]
    },
    {
      "cell_type": "markdown",
      "source": [
        "### Predictions"
      ],
      "metadata": {
        "id": "JNJJI9OQPBeu"
      }
    },
    {
      "cell_type": "code",
      "source": [
        "tweets, labels, model_preds = predictions(model_LSTM, X_test, Y_test)\n",
        "for i, (tweet, label, model_pred) in enumerate(zip(tweets, labels, model_preds)):\n",
        "  print(\"Tweet:\", i+1)\n",
        "  print(tweet)\n",
        "  print(label)\n",
        "  print(model_pred)\n",
        "  print(\"\\n\")\n",
        "  if i == 5:\n",
        "    break"
      ],
      "metadata": {
        "id": "Y0QU1gcbgFQz",
        "colab": {
          "base_uri": "https://localhost:8080/"
        },
        "outputId": "b98e5cc1-cf35-40a8-c1f6-1339171533aa"
      },
      "execution_count": 229,
      "outputs": [
        {
          "output_type": "stream",
          "name": "stdout",
          "text": [
            "Tweet: 1\n",
            "['fda', 'discourages', 'use', 'laparoscopic', 'morcellator', 'devices', 'removing', 'uterine', 'fibroids', 'http://t.co/wdy2sygsqt']\n",
            "['B-ORG', 'O', 'O', 'O', 'O', 'O', 'O', 'O', 'O', 'O']\n",
            "['O', 'O', 'O', 'O', 'O', 'O', 'O', 'O', 'O', 'O']\n",
            "\n",
            "\n",
            "Tweet: 2\n",
            "['uk', 'unemployment', 'fell', '133', '000', '2', '2m', '6', '8', '%)', 'january', 'march', '@', 'ons', 'says', '@', 'bbcbreaking', 'http://t.co/9zmactn71u']\n",
            "['B-LOC', 'O', 'O', 'O', 'O', 'O', 'O', 'O', 'O', 'O', 'O', 'O', 'B-ORG', 'B-ORG', 'O', 'B-ORG', 'B-ORG', 'O']\n",
            "['B-LOC', 'O', 'O', 'O', 'O', 'O', 'O', 'O', 'O', 'O', 'O', 'O', 'B-ORG', 'B-ORG', 'O', 'B-PER', 'B-ORG', 'O']\n",
            "\n",
            "\n",
            "Tweet: 3\n",
            "['australia', 'says', 'ocean', 'shield', 'reacquired', 'possible', 'black', 'box', 'signals', 'twice', 'http://t.co/7qnxn5btup']\n",
            "['B-LOC', 'O', 'O', 'O', 'O', 'O', 'O', 'O', 'O', 'O', 'O']\n",
            "['B-LOC', 'O', 'O', 'O', 'O', 'O', 'O', 'O', 'O', 'O', 'O']\n",
            "\n",
            "\n",
            "Tweet: 4\n",
            "['second', 'boat', 'days', 'sank', 'coast', 'malaysia', 'http://t.co/jinlro0nah']\n",
            "['O', 'O', 'O', 'O', 'O', 'B-LOC', 'O']\n",
            "['O', 'O', 'O', 'O', 'O', 'B-LOC', 'O']\n",
            "\n",
            "\n",
            "Tweet: 5\n",
            "['briton', 'infected', 'ebola', 'sierra', 'leone', 'evacuated', 'uk', 'african', 'country', 'health', 'ministry', 'says', 'http://t.co/ixkeujyoaj']\n",
            "['B-LOC', 'O', 'O', 'B-LOC', 'I-LOC', 'O', 'B-LOC', 'B-LOC', 'O', 'O', 'O', 'O', 'O']\n",
            "['B-PER', 'O', 'O', 'B-LOC', 'I-LOC', 'O', 'B-LOC', 'I-LOC', 'O', 'O', 'O', 'O', 'O']\n",
            "\n",
            "\n",
            "Tweet: 6\n",
            "['gladis', 'ridgeway', 'arms', 'uncovered', 'black', 'board', 'spooky', 'http://t.co/x1bafql9pt']\n",
            "['B-PER', 'B-LOC', 'I-LOC', 'O', 'O', 'O', 'O', 'O']\n",
            "['B-PER', 'I-PER', 'O', 'O', 'O', 'O', 'O', 'O']\n",
            "\n",
            "\n"
          ]
        }
      ]
    },
    {
      "cell_type": "markdown",
      "source": [
        "## Bidirectional LSTM model"
      ],
      "metadata": {
        "id": "WbWUDav9rtLh"
      }
    },
    {
      "cell_type": "markdown",
      "source": [
        "The Bidirectional LSTM (BiLSTM) captures information from both the past and the future in the sequence. It looks both to the left and right of the input.\n",
        "For the NER task of this project could be powerful. Indeed, the context to the left and right of the token is important for label assignment.\n",
        "\n",
        "The model is build with the same strcture of the previous LSTM. The only difference is in the Bidirectional LSTM layer. It process the input sequence in both forward and backward directions, capturing context from both sides of the sequence."
      ],
      "metadata": {
        "id": "YcK1rTQR2RMV"
      }
    },
    {
      "cell_type": "code",
      "source": [
        "#Model parameters\n",
        "vocab_size_embedding = len(tokenizer.word_index) + 1\n",
        "lstm_out = 50\n",
        "num_classes = len(tags_id)\n",
        "\n",
        "model_Bilstm = Sequential()\n",
        "model_Bilstm.add(Embedding(input_dim=vocab_size_embedding , output_dim=embedding_dim, weights=[glove_matrix], mask_zero=True,\n",
        "              input_length=max_sequence_len, trainable=True))\n",
        "model_Bilstm.add(Bidirectional(LSTM(units=lstm_out, dropout = 0.2, recurrent_dropout=0.2, return_sequences=True)))\n",
        "model_Bilstm.add(Dense(num_classes, activation='softmax'))\n",
        "\n",
        "model_Bilstm.compile(loss='categorical_crossentropy', optimizer='adam', metrics = ['accuracy'])\n",
        "model_Bilstm.summary()"
      ],
      "metadata": {
        "id": "DPMHvzAm0ZFB",
        "outputId": "a2936ba3-a5ac-40a5-bb1a-ded3ada70267",
        "colab": {
          "base_uri": "https://localhost:8080/",
          "height": 291
        }
      },
      "execution_count": 292,
      "outputs": [
        {
          "output_type": "stream",
          "name": "stderr",
          "text": [
            "/usr/local/lib/python3.10/dist-packages/keras/src/layers/core/embedding.py:90: UserWarning: Argument `input_length` is deprecated. Just remove it.\n",
            "  warnings.warn(\n"
          ]
        },
        {
          "output_type": "display_data",
          "data": {
            "text/plain": [
              "\u001b[1mModel: \"sequential_17\"\u001b[0m\n"
            ],
            "text/html": [
              "<pre style=\"white-space:pre;overflow-x:auto;line-height:normal;font-family:Menlo,'DejaVu Sans Mono',consolas,'Courier New',monospace\"><span style=\"font-weight: bold\">Model: \"sequential_17\"</span>\n",
              "</pre>\n"
            ]
          },
          "metadata": {}
        },
        {
          "output_type": "display_data",
          "data": {
            "text/plain": [
              "┏━━━━━━━━━━━━━━━━━━━━━━━━━━━━━━━━━━━━━━┳━━━━━━━━━━━━━━━━━━━━━━━━━━━━━┳━━━━━━━━━━━━━━━━━┓\n",
              "┃\u001b[1m \u001b[0m\u001b[1mLayer (type)                        \u001b[0m\u001b[1m \u001b[0m┃\u001b[1m \u001b[0m\u001b[1mOutput Shape               \u001b[0m\u001b[1m \u001b[0m┃\u001b[1m \u001b[0m\u001b[1m        Param #\u001b[0m\u001b[1m \u001b[0m┃\n",
              "┡━━━━━━━━━━━━━━━━━━━━━━━━━━━━━━━━━━━━━━╇━━━━━━━━━━━━━━━━━━━━━━━━━━━━━╇━━━━━━━━━━━━━━━━━┩\n",
              "│ embedding_17 (\u001b[38;5;33mEmbedding\u001b[0m)             │ ?                           │       \u001b[38;5;34m1,457,900\u001b[0m │\n",
              "├──────────────────────────────────────┼─────────────────────────────┼─────────────────┤\n",
              "│ bidirectional_6 (\u001b[38;5;33mBidirectional\u001b[0m)      │ ?                           │     \u001b[38;5;34m0\u001b[0m (unbuilt) │\n",
              "├──────────────────────────────────────┼─────────────────────────────┼─────────────────┤\n",
              "│ dense_17 (\u001b[38;5;33mDense\u001b[0m)                     │ ?                           │     \u001b[38;5;34m0\u001b[0m (unbuilt) │\n",
              "└──────────────────────────────────────┴─────────────────────────────┴─────────────────┘\n"
            ],
            "text/html": [
              "<pre style=\"white-space:pre;overflow-x:auto;line-height:normal;font-family:Menlo,'DejaVu Sans Mono',consolas,'Courier New',monospace\">┏━━━━━━━━━━━━━━━━━━━━━━━━━━━━━━━━━━━━━━┳━━━━━━━━━━━━━━━━━━━━━━━━━━━━━┳━━━━━━━━━━━━━━━━━┓\n",
              "┃<span style=\"font-weight: bold\"> Layer (type)                         </span>┃<span style=\"font-weight: bold\"> Output Shape                </span>┃<span style=\"font-weight: bold\">         Param # </span>┃\n",
              "┡━━━━━━━━━━━━━━━━━━━━━━━━━━━━━━━━━━━━━━╇━━━━━━━━━━━━━━━━━━━━━━━━━━━━━╇━━━━━━━━━━━━━━━━━┩\n",
              "│ embedding_17 (<span style=\"color: #0087ff; text-decoration-color: #0087ff\">Embedding</span>)             │ ?                           │       <span style=\"color: #00af00; text-decoration-color: #00af00\">1,457,900</span> │\n",
              "├──────────────────────────────────────┼─────────────────────────────┼─────────────────┤\n",
              "│ bidirectional_6 (<span style=\"color: #0087ff; text-decoration-color: #0087ff\">Bidirectional</span>)      │ ?                           │     <span style=\"color: #00af00; text-decoration-color: #00af00\">0</span> (unbuilt) │\n",
              "├──────────────────────────────────────┼─────────────────────────────┼─────────────────┤\n",
              "│ dense_17 (<span style=\"color: #0087ff; text-decoration-color: #0087ff\">Dense</span>)                     │ ?                           │     <span style=\"color: #00af00; text-decoration-color: #00af00\">0</span> (unbuilt) │\n",
              "└──────────────────────────────────────┴─────────────────────────────┴─────────────────┘\n",
              "</pre>\n"
            ]
          },
          "metadata": {}
        },
        {
          "output_type": "display_data",
          "data": {
            "text/plain": [
              "\u001b[1m Total params: \u001b[0m\u001b[38;5;34m1,457,900\u001b[0m (5.56 MB)\n"
            ],
            "text/html": [
              "<pre style=\"white-space:pre;overflow-x:auto;line-height:normal;font-family:Menlo,'DejaVu Sans Mono',consolas,'Courier New',monospace\"><span style=\"font-weight: bold\"> Total params: </span><span style=\"color: #00af00; text-decoration-color: #00af00\">1,457,900</span> (5.56 MB)\n",
              "</pre>\n"
            ]
          },
          "metadata": {}
        },
        {
          "output_type": "display_data",
          "data": {
            "text/plain": [
              "\u001b[1m Trainable params: \u001b[0m\u001b[38;5;34m1,457,900\u001b[0m (5.56 MB)\n"
            ],
            "text/html": [
              "<pre style=\"white-space:pre;overflow-x:auto;line-height:normal;font-family:Menlo,'DejaVu Sans Mono',consolas,'Courier New',monospace\"><span style=\"font-weight: bold\"> Trainable params: </span><span style=\"color: #00af00; text-decoration-color: #00af00\">1,457,900</span> (5.56 MB)\n",
              "</pre>\n"
            ]
          },
          "metadata": {}
        },
        {
          "output_type": "display_data",
          "data": {
            "text/plain": [
              "\u001b[1m Non-trainable params: \u001b[0m\u001b[38;5;34m0\u001b[0m (0.00 B)\n"
            ],
            "text/html": [
              "<pre style=\"white-space:pre;overflow-x:auto;line-height:normal;font-family:Menlo,'DejaVu Sans Mono',consolas,'Courier New',monospace\"><span style=\"font-weight: bold\"> Non-trainable params: </span><span style=\"color: #00af00; text-decoration-color: #00af00\">0</span> (0.00 B)\n",
              "</pre>\n"
            ]
          },
          "metadata": {}
        }
      ]
    },
    {
      "cell_type": "code",
      "source": [
        "best_model_file= 'Bilstm-best-model.keras'  # Name of the file\n",
        "\n",
        "# Callback: save the best model\n",
        "checkpoint = ModelCheckpoint(\n",
        "    best_model_file,\n",
        "    save_weights_only=False,\n",
        "    save_best_only=True,\n",
        "    monitor='val_loss',\n",
        ")\n",
        "\n",
        "# Callback: early stopping\n",
        "early_stopping = EarlyStopping(\n",
        "    monitor=\"val_loss\",\n",
        "    min_delta=0.001,\n",
        "    patience=3,\n",
        "    verbose=1,\n",
        "    mode=\"min\",\n",
        "    restore_best_weights=True\n",
        ")"
      ],
      "metadata": {
        "id": "cF5o_AETya9T"
      },
      "execution_count": 293,
      "outputs": []
    },
    {
      "cell_type": "code",
      "source": [
        "history_Bilstm = model_Bilstm.fit(X_train, Y_train,\n",
        "                    validation_data=(X_val, Y_val),\n",
        "                    batch_size=32,\n",
        "                    epochs=20,\n",
        "                    verbose=1,\n",
        "                    callbacks=[checkpoint, early_stopping])"
      ],
      "metadata": {
        "colab": {
          "base_uri": "https://localhost:8080/"
        },
        "id": "NeBipUgWsgL_",
        "outputId": "484aa4d2-ff01-4994-eab9-24ac14d8c22e"
      },
      "execution_count": 294,
      "outputs": [
        {
          "output_type": "stream",
          "name": "stdout",
          "text": [
            "Epoch 1/20\n",
            "\u001b[1m93/93\u001b[0m \u001b[32m━━━━━━━━━━━━━━━━━━━━\u001b[0m\u001b[37m\u001b[0m \u001b[1m13s\u001b[0m 83ms/step - accuracy: 0.2381 - loss: 1.3096 - val_accuracy: 0.2501 - val_loss: 0.6783\n",
            "Epoch 2/20\n",
            "\u001b[1m93/93\u001b[0m \u001b[32m━━━━━━━━━━━━━━━━━━━━\u001b[0m\u001b[37m\u001b[0m \u001b[1m10s\u001b[0m 80ms/step - accuracy: 0.2565 - loss: 0.6240 - val_accuracy: 0.2672 - val_loss: 0.5028\n",
            "Epoch 3/20\n",
            "\u001b[1m93/93\u001b[0m \u001b[32m━━━━━━━━━━━━━━━━━━━━\u001b[0m\u001b[37m\u001b[0m \u001b[1m8s\u001b[0m 56ms/step - accuracy: 0.2700 - loss: 0.4685 - val_accuracy: 0.2750 - val_loss: 0.4245\n",
            "Epoch 4/20\n",
            "\u001b[1m93/93\u001b[0m \u001b[32m━━━━━━━━━━━━━━━━━━━━\u001b[0m\u001b[37m\u001b[0m \u001b[1m12s\u001b[0m 80ms/step - accuracy: 0.2780 - loss: 0.3728 - val_accuracy: 0.2776 - val_loss: 0.3870\n",
            "Epoch 5/20\n",
            "\u001b[1m93/93\u001b[0m \u001b[32m━━━━━━━━━━━━━━━━━━━━\u001b[0m\u001b[37m\u001b[0m \u001b[1m7s\u001b[0m 70ms/step - accuracy: 0.2871 - loss: 0.2898 - val_accuracy: 0.2799 - val_loss: 0.3654\n",
            "Epoch 6/20\n",
            "\u001b[1m93/93\u001b[0m \u001b[32m━━━━━━━━━━━━━━━━━━━━\u001b[0m\u001b[37m\u001b[0m \u001b[1m10s\u001b[0m 72ms/step - accuracy: 0.2950 - loss: 0.2387 - val_accuracy: 0.2812 - val_loss: 0.3611\n",
            "Epoch 7/20\n",
            "\u001b[1m93/93\u001b[0m \u001b[32m━━━━━━━━━━━━━━━━━━━━\u001b[0m\u001b[37m\u001b[0m \u001b[1m13s\u001b[0m 106ms/step - accuracy: 0.2954 - loss: 0.1932 - val_accuracy: 0.2813 - val_loss: 0.3580\n",
            "Epoch 8/20\n",
            "\u001b[1m93/93\u001b[0m \u001b[32m━━━━━━━━━━━━━━━━━━━━\u001b[0m\u001b[37m\u001b[0m \u001b[1m7s\u001b[0m 73ms/step - accuracy: 0.3039 - loss: 0.1554 - val_accuracy: 0.2821 - val_loss: 0.3576\n",
            "Epoch 9/20\n",
            "\u001b[1m93/93\u001b[0m \u001b[32m━━━━━━━━━━━━━━━━━━━━\u001b[0m\u001b[37m\u001b[0m \u001b[1m9s\u001b[0m 57ms/step - accuracy: 0.3041 - loss: 0.1384 - val_accuracy: 0.2811 - val_loss: 0.3623\n",
            "Epoch 10/20\n",
            "\u001b[1m93/93\u001b[0m \u001b[32m━━━━━━━━━━━━━━━━━━━━\u001b[0m\u001b[37m\u001b[0m \u001b[1m12s\u001b[0m 79ms/step - accuracy: 0.3036 - loss: 0.1100 - val_accuracy: 0.2810 - val_loss: 0.3685\n",
            "Epoch 10: early stopping\n",
            "Restoring model weights from the end of the best epoch: 7.\n"
          ]
        }
      ]
    },
    {
      "cell_type": "code",
      "source": [
        "fig, axes = plt.subplots(1, 2, figsize=(11, 5))\n",
        "\n",
        "# Loss\n",
        "axes[0].plot(history_Bilstm.history['loss'], label='Training Loss')\n",
        "axes[0].plot(history_Bilstm.history['val_loss'], label='Validation Loss')\n",
        "axes[0].set_title('Training and Validation Loss')\n",
        "axes[0].set_xlabel('Epochs')\n",
        "axes[0].set_ylabel('Loss')\n",
        "axes[0].legend()\n",
        "\n",
        "# Accuracy\n",
        "axes[1].plot(history_Bilstm.history['accuracy'], label='Training Accuracy')\n",
        "axes[1].plot(history_Bilstm.history['val_accuracy'], label='Validation Accuracy')\n",
        "axes[1].set_title('Training and Validation Accuracy')\n",
        "axes[1].set_xlabel('Epochs')\n",
        "axes[1].set_ylabel('Accuracy')\n",
        "axes[1].legend()"
      ],
      "metadata": {
        "colab": {
          "base_uri": "https://localhost:8080/",
          "height": 524
        },
        "id": "Uj6bZN43nurN",
        "outputId": "30b849eb-fef6-467b-b0e2-c3edbf7b055f"
      },
      "execution_count": 295,
      "outputs": [
        {
          "output_type": "execute_result",
          "data": {
            "text/plain": [
              "<matplotlib.legend.Legend at 0x7e72651d1c60>"
            ]
          },
          "metadata": {},
          "execution_count": 295
        },
        {
          "output_type": "display_data",
          "data": {
            "text/plain": [
              "<Figure size 1100x500 with 2 Axes>"
            ],
            "image/png": "[encoded data removed]"
          },
          "metadata": {}
        }
      ]
    },
    {
      "cell_type": "markdown",
      "source": [
        "### Evaluation"
      ],
      "metadata": {
        "id": "GP1c5eb1RFXP"
      }
    },
    {
      "cell_type": "code",
      "source": [
        "accuracy_BiLSTM, metrics_BiLSTM, report_BiLSTM = compute_metrics(model_Bilstm, X_test, Y_test, id_to_tag)\n",
        "print(f\"Test Accuracy: {round(accuracy_BiLSTM * 100, 2)}%\\n\")\n",
        "print(report_BiLSTM)"
      ],
      "metadata": {
        "id": "aW2HJ8heRZoA",
        "outputId": "1bd1eca6-6ff0-4288-e3b1-b360d4551cc2",
        "colab": {
          "base_uri": "https://localhost:8080/"
        }
      },
      "execution_count": 296,
      "outputs": [
        {
          "output_type": "stream",
          "name": "stdout",
          "text": [
            "Test Accuracy: 88.73%\n",
            "\n",
            "              precision    recall  f1-score   support\n",
            "\n",
            "       B-LOC       0.75      0.66      0.70       173\n",
            "       B-ORG       0.64      0.54      0.59       237\n",
            "       B-PER       0.78      0.86      0.82       392\n",
            "       I-LOC       0.42      0.22      0.29        49\n",
            "       I-ORG       0.64      0.22      0.33        82\n",
            "       I-PER       0.82      0.73      0.77        88\n",
            "           O       0.93      0.97      0.95      2857\n",
            "\n",
            "    accuracy                           0.89      3878\n",
            "   macro avg       0.71      0.60      0.64      3878\n",
            "weighted avg       0.88      0.89      0.88      3878\n",
            "\n"
          ]
        }
      ]
    },
    {
      "cell_type": "markdown",
      "source": [
        "The model achieves a great test accuracy of 88.91%. However as in the LSTM the macro average results are not good as the weighted. So also for this model has weaker performance on minority labels."
      ],
      "metadata": {
        "id": "8ZtoWGwj10rx"
      }
    },
    {
      "cell_type": "code",
      "source": [
        "plot_confusion_matrix(X_test, Y_test, model_Bilstm, id_to_tag)"
      ],
      "metadata": {
        "colab": {
          "base_uri": "https://localhost:8080/",
          "height": 492
        },
        "id": "lx6ZMyLpoZXw",
        "outputId": "06ebeab2-0d25-4013-d5af-4a3bc7ad454e"
      },
      "execution_count": 297,
      "outputs": [
        {
          "output_type": "display_data",
          "data": {
            "text/plain": [
              "<Figure size 640x480 with 2 Axes>"
            ],
            "image/png": "[encoded data removed]"
          },
          "metadata": {}
        }
      ]
    },
    {
      "cell_type": "markdown",
      "source": [
        "#### Predictions"
      ],
      "metadata": {
        "id": "u6HwVa2wdo5b"
      }
    },
    {
      "cell_type": "code",
      "source": [
        "tweets, labels, model_preds = predictions(model_Bilstm, X_test, Y_test)\n",
        "for i, (tweet, label, model_pred) in enumerate(zip(tweets, labels, model_preds)):\n",
        "  print(\"Tweet:\", i+1)\n",
        "  print(tweet)\n",
        "  print(label)\n",
        "  print(model_pred)\n",
        "  print(\"\\n\")\n",
        "  if i == 5:\n",
        "    break"
      ],
      "metadata": {
        "id": "5wus8BFSgBa-",
        "colab": {
          "base_uri": "https://localhost:8080/"
        },
        "outputId": "471f5d9b-8c81-4d18-8bc7-e57a31940d03"
      },
      "execution_count": 241,
      "outputs": [
        {
          "output_type": "stream",
          "name": "stdout",
          "text": [
            "Tweet: 1\n",
            "['fda', 'discourages', 'use', 'laparoscopic', 'morcellator', 'devices', 'removing', 'uterine', 'fibroids', 'http://t.co/wdy2sygsqt']\n",
            "['B-ORG', 'O', 'O', 'O', 'O', 'O', 'O', 'O', 'O', 'O']\n",
            "['O', 'O', 'O', 'O', 'O', 'O', 'O', 'O', 'O', 'O']\n",
            "\n",
            "\n",
            "Tweet: 2\n",
            "['uk', 'unemployment', 'fell', '133', '000', '2', '2m', '6', '8', '%)', 'january', 'march', '@', 'ons', 'says', '@', 'bbcbreaking', 'http://t.co/9zmactn71u']\n",
            "['B-LOC', 'O', 'O', 'O', 'O', 'O', 'O', 'O', 'O', 'O', 'O', 'O', 'B-ORG', 'B-ORG', 'O', 'B-ORG', 'B-ORG', 'O']\n",
            "['B-LOC', 'O', 'O', 'O', 'O', 'O', 'O', 'O', 'O', 'O', 'O', 'O', 'B-ORG', 'B-ORG', 'O', 'B-PER', 'B-ORG', 'O']\n",
            "\n",
            "\n",
            "Tweet: 3\n",
            "['australia', 'says', 'ocean', 'shield', 'reacquired', 'possible', 'black', 'box', 'signals', 'twice', 'http://t.co/7qnxn5btup']\n",
            "['B-LOC', 'O', 'O', 'O', 'O', 'O', 'O', 'O', 'O', 'O', 'O']\n",
            "['B-LOC', 'O', 'O', 'O', 'O', 'O', 'O', 'O', 'O', 'O', 'O']\n",
            "\n",
            "\n",
            "Tweet: 4\n",
            "['second', 'boat', 'days', 'sank', 'coast', 'malaysia', 'http://t.co/jinlro0nah']\n",
            "['O', 'O', 'O', 'O', 'O', 'B-LOC', 'O']\n",
            "['O', 'O', 'O', 'O', 'O', 'B-LOC', 'O']\n",
            "\n",
            "\n",
            "Tweet: 5\n",
            "['briton', 'infected', 'ebola', 'sierra', 'leone', 'evacuated', 'uk', 'african', 'country', 'health', 'ministry', 'says', 'http://t.co/ixkeujyoaj']\n",
            "['B-LOC', 'O', 'O', 'B-LOC', 'I-LOC', 'O', 'B-LOC', 'B-LOC', 'O', 'O', 'O', 'O', 'O']\n",
            "['B-PER', 'O', 'O', 'B-LOC', 'I-LOC', 'O', 'B-LOC', 'I-LOC', 'O', 'O', 'O', 'O', 'O']\n",
            "\n",
            "\n",
            "Tweet: 6\n",
            "['gladis', 'ridgeway', 'arms', 'uncovered', 'black', 'board', 'spooky', 'http://t.co/x1bafql9pt']\n",
            "['B-PER', 'B-LOC', 'I-LOC', 'O', 'O', 'O', 'O', 'O']\n",
            "['B-PER', 'I-PER', 'O', 'O', 'O', 'O', 'O', 'O']\n",
            "\n",
            "\n"
          ]
        }
      ]
    },
    {
      "cell_type": "markdown",
      "source": [
        "## Gated Recurrent Unit (GRU)"
      ],
      "metadata": {
        "id": "BuWdGBY0gcxZ"
      }
    },
    {
      "cell_type": "markdown",
      "source": [
        "Gated Recurrent Unit (GRU) is very similar to LSTM, except that input and update layer are combined. LSTM has three cells: Forget, Input and Output gate. In the GRU the first two layers are combined and this reduce the computational time. Indeed, it is easier than LSTM because has less parameters and also should performs better on small dataset.  \n",
        "\n",
        "The structure of this neural network is the same of the previous one, only the GRU layer is different."
      ],
      "metadata": {
        "id": "md8r48hjSVqY"
      }
    },
    {
      "cell_type": "code",
      "source": [
        "#Model parameters\n",
        "vocab_size_embedding = len(tokenizer.word_index) + 1\n",
        "num_units = 50\n",
        "num_classes = len(tags_id)\n",
        "\n",
        "model_GRU = Sequential()\n",
        "model_GRU.add(Embedding(input_dim=vocab_size_embedding , output_dim=embedding_dim, weights=[glove_matrix], mask_zero = True,\n",
        "              input_length=max_sequence_len, trainable=True))\n",
        "model_GRU.add(GRU(units=num_units, dropout=0.2, recurrent_dropout=0.2, return_sequences=True))\n",
        "model_GRU.add(Dense(num_classes, activation='softmax'))\n",
        "\n",
        "model_GRU.compile(loss='categorical_crossentropy', optimizer='adam', metrics=['accuracy'])\n",
        "model_GRU.summary()"
      ],
      "metadata": {
        "id": "_cXitPyHgevl",
        "outputId": "ace02120-1df2-443b-e250-8fc366fd3b3c",
        "colab": {
          "base_uri": "https://localhost:8080/",
          "height": 256
        }
      },
      "execution_count": 252,
      "outputs": [
        {
          "output_type": "display_data",
          "data": {
            "text/plain": [
              "\u001b[1mModel: \"sequential_10\"\u001b[0m\n"
            ],
            "text/html": [
              "<pre style=\"white-space:pre;overflow-x:auto;line-height:normal;font-family:Menlo,'DejaVu Sans Mono',consolas,'Courier New',monospace\"><span style=\"font-weight: bold\">Model: \"sequential_10\"</span>\n",
              "</pre>\n"
            ]
          },
          "metadata": {}
        },
        {
          "output_type": "display_data",
          "data": {
            "text/plain": [
              "┏━━━━━━━━━━━━━━━━━━━━━━━━━━━━━━━━━━━━━━┳━━━━━━━━━━━━━━━━━━━━━━━━━━━━━┳━━━━━━━━━━━━━━━━━┓\n",
              "┃\u001b[1m \u001b[0m\u001b[1mLayer (type)                        \u001b[0m\u001b[1m \u001b[0m┃\u001b[1m \u001b[0m\u001b[1mOutput Shape               \u001b[0m\u001b[1m \u001b[0m┃\u001b[1m \u001b[0m\u001b[1m        Param #\u001b[0m\u001b[1m \u001b[0m┃\n",
              "┡━━━━━━━━━━━━━━━━━━━━━━━━━━━━━━━━━━━━━━╇━━━━━━━━━━━━━━━━━━━━━━━━━━━━━╇━━━━━━━━━━━━━━━━━┩\n",
              "│ embedding_10 (\u001b[38;5;33mEmbedding\u001b[0m)             │ ?                           │       \u001b[38;5;34m1,457,900\u001b[0m │\n",
              "├──────────────────────────────────────┼─────────────────────────────┼─────────────────┤\n",
              "│ gru_5 (\u001b[38;5;33mGRU\u001b[0m)                          │ ?                           │     \u001b[38;5;34m0\u001b[0m (unbuilt) │\n",
              "├──────────────────────────────────────┼─────────────────────────────┼─────────────────┤\n",
              "│ dense_10 (\u001b[38;5;33mDense\u001b[0m)                     │ ?                           │     \u001b[38;5;34m0\u001b[0m (unbuilt) │\n",
              "└──────────────────────────────────────┴─────────────────────────────┴─────────────────┘\n"
            ],
            "text/html": [
              "<pre style=\"white-space:pre;overflow-x:auto;line-height:normal;font-family:Menlo,'DejaVu Sans Mono',consolas,'Courier New',monospace\">┏━━━━━━━━━━━━━━━━━━━━━━━━━━━━━━━━━━━━━━┳━━━━━━━━━━━━━━━━━━━━━━━━━━━━━┳━━━━━━━━━━━━━━━━━┓\n",
              "┃<span style=\"font-weight: bold\"> Layer (type)                         </span>┃<span style=\"font-weight: bold\"> Output Shape                </span>┃<span style=\"font-weight: bold\">         Param # </span>┃\n",
              "┡━━━━━━━━━━━━━━━━━━━━━━━━━━━━━━━━━━━━━━╇━━━━━━━━━━━━━━━━━━━━━━━━━━━━━╇━━━━━━━━━━━━━━━━━┩\n",
              "│ embedding_10 (<span style=\"color: #0087ff; text-decoration-color: #0087ff\">Embedding</span>)             │ ?                           │       <span style=\"color: #00af00; text-decoration-color: #00af00\">1,457,900</span> │\n",
              "├──────────────────────────────────────┼─────────────────────────────┼─────────────────┤\n",
              "│ gru_5 (<span style=\"color: #0087ff; text-decoration-color: #0087ff\">GRU</span>)                          │ ?                           │     <span style=\"color: #00af00; text-decoration-color: #00af00\">0</span> (unbuilt) │\n",
              "├──────────────────────────────────────┼─────────────────────────────┼─────────────────┤\n",
              "│ dense_10 (<span style=\"color: #0087ff; text-decoration-color: #0087ff\">Dense</span>)                     │ ?                           │     <span style=\"color: #00af00; text-decoration-color: #00af00\">0</span> (unbuilt) │\n",
              "└──────────────────────────────────────┴─────────────────────────────┴─────────────────┘\n",
              "</pre>\n"
            ]
          },
          "metadata": {}
        },
        {
          "output_type": "display_data",
          "data": {
            "text/plain": [
              "\u001b[1m Total params: \u001b[0m\u001b[38;5;34m1,457,900\u001b[0m (5.56 MB)\n"
            ],
            "text/html": [
              "<pre style=\"white-space:pre;overflow-x:auto;line-height:normal;font-family:Menlo,'DejaVu Sans Mono',consolas,'Courier New',monospace\"><span style=\"font-weight: bold\"> Total params: </span><span style=\"color: #00af00; text-decoration-color: #00af00\">1,457,900</span> (5.56 MB)\n",
              "</pre>\n"
            ]
          },
          "metadata": {}
        },
        {
          "output_type": "display_data",
          "data": {
            "text/plain": [
              "\u001b[1m Trainable params: \u001b[0m\u001b[38;5;34m1,457,900\u001b[0m (5.56 MB)\n"
            ],
            "text/html": [
              "<pre style=\"white-space:pre;overflow-x:auto;line-height:normal;font-family:Menlo,'DejaVu Sans Mono',consolas,'Courier New',monospace\"><span style=\"font-weight: bold\"> Trainable params: </span><span style=\"color: #00af00; text-decoration-color: #00af00\">1,457,900</span> (5.56 MB)\n",
              "</pre>\n"
            ]
          },
          "metadata": {}
        },
        {
          "output_type": "display_data",
          "data": {
            "text/plain": [
              "\u001b[1m Non-trainable params: \u001b[0m\u001b[38;5;34m0\u001b[0m (0.00 B)\n"
            ],
            "text/html": [
              "<pre style=\"white-space:pre;overflow-x:auto;line-height:normal;font-family:Menlo,'DejaVu Sans Mono',consolas,'Courier New',monospace\"><span style=\"font-weight: bold\"> Non-trainable params: </span><span style=\"color: #00af00; text-decoration-color: #00af00\">0</span> (0.00 B)\n",
              "</pre>\n"
            ]
          },
          "metadata": {}
        }
      ]
    },
    {
      "cell_type": "code",
      "source": [
        "best_model_file= 'GRU-best-model.keras' # Name of the file\n",
        "\n",
        "# Callback: save the best model\n",
        "checkpoint = ModelCheckpoint(\n",
        "    best_model_file,\n",
        "    save_weights_only=False,\n",
        "    save_best_only=True,\n",
        "    monitor='val_loss',\n",
        ")\n",
        "\n",
        "# Callback: early stopping\n",
        "early_stopping = EarlyStopping(\n",
        "    monitor=\"val_loss\",\n",
        "    min_delta=0.001,\n",
        "    patience=3,\n",
        "    verbose=1,\n",
        "    mode=\"min\",\n",
        "    restore_best_weights=True\n",
        ")"
      ],
      "metadata": {
        "id": "yZxkqgBgjnhe"
      },
      "execution_count": 253,
      "outputs": []
    },
    {
      "cell_type": "code",
      "source": [
        "history_GRU = model_GRU.fit(\n",
        "    X_train, Y_train,\n",
        "    validation_data=(X_val, Y_val),\n",
        "    batch_size=32,\n",
        "    epochs=20,\n",
        "    verbose=1,\n",
        "    callbacks=[checkpoint, early_stopping]\n",
        ")"
      ],
      "metadata": {
        "id": "kfu71wA8jSUV",
        "outputId": "31795591-9ea8-47ef-fbe2-dd8a7edee172",
        "colab": {
          "base_uri": "https://localhost:8080/"
        }
      },
      "execution_count": 254,
      "outputs": [
        {
          "output_type": "stream",
          "name": "stdout",
          "text": [
            "Epoch 1/20\n",
            "\u001b[1m93/93\u001b[0m \u001b[32m━━━━━━━━━━━━━━━━━━━━\u001b[0m\u001b[37m\u001b[0m \u001b[1m11s\u001b[0m 73ms/step - accuracy: 0.2530 - loss: 1.2333 - val_accuracy: 0.2566 - val_loss: 0.6713\n",
            "Epoch 2/20\n",
            "\u001b[1m93/93\u001b[0m \u001b[32m━━━━━━━━━━━━━━━━━━━━\u001b[0m\u001b[37m\u001b[0m \u001b[1m8s\u001b[0m 53ms/step - accuracy: 0.2615 - loss: 0.6329 - val_accuracy: 0.2692 - val_loss: 0.5144\n",
            "Epoch 3/20\n",
            "\u001b[1m93/93\u001b[0m \u001b[32m━━━━━━━━━━━━━━━━━━━━\u001b[0m\u001b[37m\u001b[0m \u001b[1m5s\u001b[0m 46ms/step - accuracy: 0.2685 - loss: 0.4920 - val_accuracy: 0.2749 - val_loss: 0.4459\n",
            "Epoch 4/20\n",
            "\u001b[1m93/93\u001b[0m \u001b[32m━━━━━━━━━━━━━━━━━━━━\u001b[0m\u001b[37m\u001b[0m \u001b[1m4s\u001b[0m 38ms/step - accuracy: 0.2756 - loss: 0.4128 - val_accuracy: 0.2776 - val_loss: 0.4025\n",
            "Epoch 5/20\n",
            "\u001b[1m93/93\u001b[0m \u001b[32m━━━━━━━━━━━━━━━━━━━━\u001b[0m\u001b[37m\u001b[0m \u001b[1m7s\u001b[0m 58ms/step - accuracy: 0.2823 - loss: 0.3411 - val_accuracy: 0.2790 - val_loss: 0.3785\n",
            "Epoch 6/20\n",
            "\u001b[1m93/93\u001b[0m \u001b[32m━━━━━━━━━━━━━━━━━━━━\u001b[0m\u001b[37m\u001b[0m \u001b[1m8s\u001b[0m 37ms/step - accuracy: 0.2837 - loss: 0.2982 - val_accuracy: 0.2805 - val_loss: 0.3627\n",
            "Epoch 7/20\n",
            "\u001b[1m93/93\u001b[0m \u001b[32m━━━━━━━━━━━━━━━━━━━━\u001b[0m\u001b[37m\u001b[0m \u001b[1m7s\u001b[0m 61ms/step - accuracy: 0.2872 - loss: 0.2457 - val_accuracy: 0.2810 - val_loss: 0.3528\n",
            "Epoch 8/20\n",
            "\u001b[1m93/93\u001b[0m \u001b[32m━━━━━━━━━━━━━━━━━━━━\u001b[0m\u001b[37m\u001b[0m \u001b[1m8s\u001b[0m 37ms/step - accuracy: 0.2934 - loss: 0.2243 - val_accuracy: 0.2823 - val_loss: 0.3475\n",
            "Epoch 9/20\n",
            "\u001b[1m93/93\u001b[0m \u001b[32m━━━━━━━━━━━━━━━━━━━━\u001b[0m\u001b[37m\u001b[0m \u001b[1m4s\u001b[0m 45ms/step - accuracy: 0.2982 - loss: 0.2012 - val_accuracy: 0.2825 - val_loss: 0.3476\n",
            "Epoch 10/20\n",
            "\u001b[1m93/93\u001b[0m \u001b[32m━━━━━━━━━━━━━━━━━━━━\u001b[0m\u001b[37m\u001b[0m \u001b[1m5s\u001b[0m 52ms/step - accuracy: 0.2990 - loss: 0.1743 - val_accuracy: 0.2825 - val_loss: 0.3461\n",
            "Epoch 11/20\n",
            "\u001b[1m93/93\u001b[0m \u001b[32m━━━━━━━━━━━━━━━━━━━━\u001b[0m\u001b[37m\u001b[0m \u001b[1m4s\u001b[0m 40ms/step - accuracy: 0.3018 - loss: 0.1509 - val_accuracy: 0.2830 - val_loss: 0.3455\n",
            "Epoch 12/20\n",
            "\u001b[1m93/93\u001b[0m \u001b[32m━━━━━━━━━━━━━━━━━━━━\u001b[0m\u001b[37m\u001b[0m \u001b[1m5s\u001b[0m 35ms/step - accuracy: 0.3015 - loss: 0.1418 - val_accuracy: 0.2826 - val_loss: 0.3474\n",
            "Epoch 13/20\n",
            "\u001b[1m93/93\u001b[0m \u001b[32m━━━━━━━━━━━━━━━━━━━━\u001b[0m\u001b[37m\u001b[0m \u001b[1m5s\u001b[0m 58ms/step - accuracy: 0.3004 - loss: 0.1348 - val_accuracy: 0.2828 - val_loss: 0.3493\n",
            "Epoch 13: early stopping\n",
            "Restoring model weights from the end of the best epoch: 10.\n"
          ]
        }
      ]
    },
    {
      "cell_type": "code",
      "source": [
        "fig, axes = plt.subplots(1, 2, figsize=(11, 5))\n",
        "\n",
        "# Loss\n",
        "axes[0].plot(history_GRU.history['loss'], label='Training Loss')\n",
        "axes[0].plot(history_GRU.history['val_loss'], label='Validation Loss')\n",
        "axes[0].set_title('Training and Validation Loss')\n",
        "axes[0].set_xlabel('Epochs')\n",
        "axes[0].set_ylabel('Loss')\n",
        "axes[0].legend()\n",
        "\n",
        "# Accuracy\n",
        "axes[1].plot(history_GRU.history['accuracy'], label='Training Accuracy')\n",
        "axes[1].plot(history_GRU.history['val_accuracy'], label='Validation Accuracy')\n",
        "axes[1].set_title('Training and Validation Accuracy')\n",
        "axes[1].set_xlabel('Epochs')\n",
        "axes[1].set_ylabel('Accuracy')\n",
        "axes[1].legend()"
      ],
      "metadata": {
        "id": "fc0nDd--o0Ol",
        "outputId": "7b7fde50-1724-4b7d-d8c4-88c92b607f4c",
        "colab": {
          "base_uri": "https://localhost:8080/",
          "height": 524
        }
      },
      "execution_count": 255,
      "outputs": [
        {
          "output_type": "execute_result",
          "data": {
            "text/plain": [
              "<matplotlib.legend.Legend at 0x7e72616a3a00>"
            ]
          },
          "metadata": {},
          "execution_count": 255
        },
        {
          "output_type": "display_data",
          "data": {
            "text/plain": [
              "<Figure size 1100x500 with 2 Axes>"
            ],
            "image/png": "[encoded data removed]"
          },
          "metadata": {}
        }
      ]
    },
    {
      "cell_type": "markdown",
      "source": [
        "### Evaluation"
      ],
      "metadata": {
        "id": "UuUWnNzpRO4O"
      }
    },
    {
      "cell_type": "code",
      "source": [
        "accuracy_GRU, metrics_GRU, a = compute_metrics(model_GRU, X_test, Y_test, id_to_tag)\n",
        "print(f\"Test Accuracy: {round(accuracy_GRU * 100, 2)}%\\n\")\n",
        "print(a)"
      ],
      "metadata": {
        "id": "vB2eCR5NkKKH",
        "outputId": "70c334ff-d324-4dec-83a1-cf5cf0e7d909",
        "colab": {
          "base_uri": "https://localhost:8080/"
        }
      },
      "execution_count": 265,
      "outputs": [
        {
          "output_type": "stream",
          "name": "stdout",
          "text": [
            "Test Accuracy: 88.76%\n",
            "\n",
            "              precision    recall  f1-score   support\n",
            "\n",
            "       B-LOC       0.72      0.66      0.69       173\n",
            "       B-ORG       0.68      0.42      0.52       237\n",
            "       B-PER       0.75      0.91      0.82       392\n",
            "       I-LOC       0.57      0.35      0.43        49\n",
            "       I-ORG       0.63      0.23      0.34        82\n",
            "       I-PER       0.87      0.76      0.81        88\n",
            "           O       0.94      0.97      0.95      2857\n",
            "\n",
            "    accuracy                           0.89      3878\n",
            "   macro avg       0.74      0.61      0.65      3878\n",
            "weighted avg       0.88      0.89      0.88      3878\n",
            "\n"
          ]
        }
      ]
    },
    {
      "cell_type": "markdown",
      "source": [
        "GRU has smilar overall performance of the other two models. High accuracy, but low macro average metrics."
      ],
      "metadata": {
        "id": "XoanKm-A3vSt"
      }
    },
    {
      "cell_type": "code",
      "source": [
        "plot_confusion_matrix(X_test, Y_test, model_GRU, id_to_tag)"
      ],
      "metadata": {
        "colab": {
          "base_uri": "https://localhost:8080/",
          "height": 492
        },
        "id": "kiqN2z470ltp",
        "outputId": "5e75bba0-b9e5-4fff-944d-5a00cfa6b36a"
      },
      "execution_count": 257,
      "outputs": [
        {
          "output_type": "display_data",
          "data": {
            "text/plain": [
              "<Figure size 640x480 with 2 Axes>"
            ],
            "image/png": "[encoded data removed]"
          },
          "metadata": {}
        }
      ]
    },
    {
      "cell_type": "markdown",
      "source": [
        "#### Predicitons"
      ],
      "metadata": {
        "id": "akQcs14C1FAD"
      }
    },
    {
      "cell_type": "code",
      "source": [
        "tweets, labels, model_preds = predictions(model_GRU, X_test, Y_test)\n",
        "for i, (tweet, label, model_pred) in enumerate(zip(tweets, labels, model_preds)):\n",
        "  print(\"Tweet:\", i+1)\n",
        "  print(tweet)\n",
        "  print(label)\n",
        "  print(model_pred)\n",
        "  print(\"\\n\")\n",
        "  if i == 5:\n",
        "    break"
      ],
      "metadata": {
        "id": "WWVFrSwxkMj4",
        "colab": {
          "base_uri": "https://localhost:8080/"
        },
        "outputId": "08223a65-ba74-4e4a-f55e-f96976dd7a4c"
      },
      "execution_count": 258,
      "outputs": [
        {
          "output_type": "stream",
          "name": "stdout",
          "text": [
            "Tweet: 1\n",
            "['fda', 'discourages', 'use', 'laparoscopic', 'morcellator', 'devices', 'removing', 'uterine', 'fibroids', 'http://t.co/wdy2sygsqt']\n",
            "['B-ORG', 'O', 'O', 'O', 'O', 'O', 'O', 'O', 'O', 'O']\n",
            "['O', 'O', 'O', 'O', 'O', 'O', 'O', 'O', 'O', 'O']\n",
            "\n",
            "\n",
            "Tweet: 2\n",
            "['uk', 'unemployment', 'fell', '133', '000', '2', '2m', '6', '8', '%)', 'january', 'march', '@', 'ons', 'says', '@', 'bbcbreaking', 'http://t.co/9zmactn71u']\n",
            "['B-LOC', 'O', 'O', 'O', 'O', 'O', 'O', 'O', 'O', 'O', 'O', 'O', 'B-ORG', 'B-ORG', 'O', 'B-ORG', 'B-ORG', 'O']\n",
            "['B-LOC', 'O', 'O', 'O', 'O', 'O', 'O', 'O', 'O', 'O', 'O', 'O', 'B-ORG', 'B-ORG', 'O', 'B-PER', 'B-ORG', 'O']\n",
            "\n",
            "\n",
            "Tweet: 3\n",
            "['australia', 'says', 'ocean', 'shield', 'reacquired', 'possible', 'black', 'box', 'signals', 'twice', 'http://t.co/7qnxn5btup']\n",
            "['B-LOC', 'O', 'O', 'O', 'O', 'O', 'O', 'O', 'O', 'O', 'O']\n",
            "['B-LOC', 'O', 'O', 'O', 'O', 'O', 'O', 'O', 'O', 'O', 'O']\n",
            "\n",
            "\n",
            "Tweet: 4\n",
            "['second', 'boat', 'days', 'sank', 'coast', 'malaysia', 'http://t.co/jinlro0nah']\n",
            "['O', 'O', 'O', 'O', 'O', 'B-LOC', 'O']\n",
            "['O', 'O', 'O', 'O', 'O', 'B-LOC', 'O']\n",
            "\n",
            "\n",
            "Tweet: 5\n",
            "['briton', 'infected', 'ebola', 'sierra', 'leone', 'evacuated', 'uk', 'african', 'country', 'health', 'ministry', 'says', 'http://t.co/ixkeujyoaj']\n",
            "['B-LOC', 'O', 'O', 'B-LOC', 'I-LOC', 'O', 'B-LOC', 'B-LOC', 'O', 'O', 'O', 'O', 'O']\n",
            "['B-PER', 'O', 'O', 'B-LOC', 'I-LOC', 'O', 'B-LOC', 'I-LOC', 'O', 'O', 'O', 'O', 'O']\n",
            "\n",
            "\n",
            "Tweet: 6\n",
            "['gladis', 'ridgeway', 'arms', 'uncovered', 'black', 'board', 'spooky', 'http://t.co/x1bafql9pt']\n",
            "['B-PER', 'B-LOC', 'I-LOC', 'O', 'O', 'O', 'O', 'O']\n",
            "['B-PER', 'I-PER', 'O', 'O', 'O', 'O', 'O', 'O']\n",
            "\n",
            "\n"
          ]
        }
      ]
    },
    {
      "cell_type": "markdown",
      "source": [
        "## COMPARING MODELS"
      ],
      "metadata": {
        "id": "fb4chzQTmNKY"
      }
    },
    {
      "cell_type": "code",
      "source": [
        "# Metrics for multinomial naive bayes\n",
        "accuracy_nb = accuracy_score(Y_test_NB, pred_NB)\n",
        "f1_score_macro_nb = f1_score(Y_test_NB, pred_NB, average='macro')\n",
        "precision_macro_nb = precision_score(Y_test_NB, pred_NB, average='macro')\n",
        "recall_macro_nb = recall_score(Y_test_NB, pred_NB, average='macro')\n",
        "\n",
        "# Compute the F1 score macro average for the 3 models\n",
        "f1_score_macro_LSTM = np.mean([i[1] for i in metrics_LSTM[\"F1 Score\"]])\n",
        "f1_score_macro_BiLSTM = np.mean([i[1] for i in metrics_BiLSTM[\"F1 Score\"]])\n",
        "f1_score_macro_GRU = np.mean([i[1] for i in metrics_GRU[\"F1 Score\"]])\n",
        "\n",
        "# Compute the Recall macro average for the 3 models\n",
        "recall_macro_LSTM = np.mean([i[1] for i in metrics_LSTM[\"Recall\"]])\n",
        "recall_macro_BiLSTM = np.mean([i[1] for i in metrics_BiLSTM[\"Recall\"]])\n",
        "recall_macro_GRU = np.mean([i[1] for i in metrics_GRU[\"Recall\"]])\n",
        "\n",
        "# Compute the Precision macro average for the 3 models\n",
        "precision_macro_LSTM = np.mean([i[1] for i in metrics_LSTM[\"Precision\"]])\n",
        "precision_macro_BiLSTM = np.mean([i[1] for i in metrics_BiLSTM[\"Precision\"]])\n",
        "precision_macro_GRU = np.mean([i[1] for i in metrics_GRU[\"Precision\"]])"
      ],
      "metadata": {
        "id": "OcwzKVSiA92d",
        "colab": {
          "base_uri": "https://localhost:8080/"
        },
        "outputId": "97dddf8d-8ac3-4879-c484-353e8daf6969"
      },
      "execution_count": 317,
      "outputs": [
        {
          "output_type": "stream",
          "name": "stderr",
          "text": [
            "/usr/local/lib/python3.10/dist-packages/sklearn/metrics/_classification.py:1531: UndefinedMetricWarning: Precision is ill-defined and being set to 0.0 in labels with no predicted samples. Use `zero_division` parameter to control this behavior.\n",
            "  _warn_prf(average, modifier, f\"{metric.capitalize()} is\", len(result))\n"
          ]
        }
      ]
    },
    {
      "cell_type": "code",
      "source": [
        "# Make a table for an overview of the performances\n",
        "data = {\n",
        "    'Metric': ['Accuracy', 'F1 Score Macro', 'Recall Macro', 'Precision Macro',],\n",
        "    'MultinomialNB': [accuracy_nb, f1_score_macro_nb, recall_macro_nb, precision_macro_nb],\n",
        "    'LSTM': [accuracy_LSTM, f1_score_macro_LSTM, recall_macro_LSTM,  precision_macro_LSTM],\n",
        "    'GRU': [accuracy_GRU, f1_score_macro_GRU, recall_macro_GRU, precision_macro_GRU],\n",
        "    'BiLSTM': [accuracy_BiLSTM, f1_score_macro_BiLSTM, recall_macro_BiLSTM, precision_macro_BiLSTM]\n",
        "}\n",
        "\n",
        "evaluation_tab = pd.DataFrame(data)\n",
        "evaluation_tab"
      ],
      "metadata": {
        "id": "hAdU4OBcmRV-",
        "outputId": "ccdb7c79-018b-45ab-d78f-26034235c4aa",
        "colab": {
          "base_uri": "https://localhost:8080/",
          "height": 195
        }
      },
      "execution_count": 318,
      "outputs": [
        {
          "output_type": "execute_result",
          "data": {
            "text/plain": [
              "            Metric  MultinomialNB      LSTM       GRU    BiLSTM\n",
              "0         Accuracy       0.735032  0.885508  0.887571  0.887313\n",
              "1   F1 Score Macro       0.121040  0.636252  0.651607  0.636343\n",
              "2     Recall Macro       0.142857  0.608445  0.613801  0.601216\n",
              "3  Precision Macro       0.105005  0.698210  0.736233  0.713099"
            ],
            "text/html": [
              "\n",
              "  <div id=\"df-5e2b27a8-892b-4ce5-9523-3a41680c82a8\" class=\"colab-df-container\">\n",
              "    <div>\n",
              "<style scoped>\n",
              "    .dataframe tbody tr th:only-of-type {\n",
              "        vertical-align: middle;\n",
              "    }\n",
              "\n",
              "    .dataframe tbody tr th {\n",
              "        vertical-align: top;\n",
              "    }\n",
              "\n",
              "    .dataframe thead th {\n",
              "        text-align: right;\n",
              "    }\n",
              "</style>\n",
              "<table border=\"1\" class=\"dataframe\">\n",
              "  <thead>\n",
              "    <tr style=\"text-align: right;\">\n",
              "      <th></th>\n",
              "      <th>Metric</th>\n",
              "      <th>MultinomialNB</th>\n",
              "      <th>LSTM</th>\n",
              "      <th>GRU</th>\n",
              "      <th>BiLSTM</th>\n",
              "    </tr>\n",
              "  </thead>\n",
              "  <tbody>\n",
              "    <tr>\n",
              "      <th>0</th>\n",
              "      <td>Accuracy</td>\n",
              "      <td>0.735032</td>\n",
              "      <td>0.885508</td>\n",
              "      <td>0.887571</td>\n",
              "      <td>0.887313</td>\n",
              "    </tr>\n",
              "    <tr>\n",
              "      <th>1</th>\n",
              "      <td>F1 Score Macro</td>\n",
              "      <td>0.121040</td>\n",
              "      <td>0.636252</td>\n",
              "      <td>0.651607</td>\n",
              "      <td>0.636343</td>\n",
              "    </tr>\n",
              "    <tr>\n",
              "      <th>2</th>\n",
              "      <td>Recall Macro</td>\n",
              "      <td>0.142857</td>\n",
              "      <td>0.608445</td>\n",
              "      <td>0.613801</td>\n",
              "      <td>0.601216</td>\n",
              "    </tr>\n",
              "    <tr>\n",
              "      <th>3</th>\n",
              "      <td>Precision Macro</td>\n",
              "      <td>0.105005</td>\n",
              "      <td>0.698210</td>\n",
              "      <td>0.736233</td>\n",
              "      <td>0.713099</td>\n",
              "    </tr>\n",
              "  </tbody>\n",
              "</table>\n",
              "</div>\n",
              "    <div class=\"colab-df-buttons\">\n",
              "\n",
              "  <div class=\"colab-df-container\">\n",
              "    <button class=\"colab-df-convert\" onclick=\"convertToInteractive('df-5e2b27a8-892b-4ce5-9523-3a41680c82a8')\"\n",
              "            title=\"Convert this dataframe to an interactive table.\"\n",
              "            style=\"display:none;\">\n",
              "\n",
              "  <svg xmlns=\"http://www.w3.org/2000/svg\" height=\"24px\" viewBox=\"0 -960 960 960\">\n",
              "    <path d=\"M120-120v-720h720v720H120Zm60-500h600v-160H180v160Zm220 220h160v-160H400v160Zm0 220h160v-160H400v160ZM180-400h160v-160H180v160Zm440 0h160v-160H620v160ZM180-180h160v-160H180v160Zm440 0h160v-160H620v160Z\"/>\n",
              "  </svg>\n",
              "    </button>\n",
              "\n",
              "  <style>\n",
              "    .colab-df-container {\n",
              "      display:flex;\n",
              "      gap: 12px;\n",
              "    }\n",
              "\n",
              "    .colab-df-convert {\n",
              "      background-color: #E8F0FE;\n",
              "      border: none;\n",
              "      border-radius: 50%;\n",
              "      cursor: pointer;\n",
              "      display: none;\n",
              "      fill: #1967D2;\n",
              "      height: 32px;\n",
              "      padding: 0 0 0 0;\n",
              "      width: 32px;\n",
              "    }\n",
              "\n",
              "    .colab-df-convert:hover {\n",
              "      background-color: #E2EBFA;\n",
              "      box-shadow: 0px 1px 2px rgba(60, 64, 67, 0.3), 0px 1px 3px 1px rgba(60, 64, 67, 0.15);\n",
              "      fill: #174EA6;\n",
              "    }\n",
              "\n",
              "    .colab-df-buttons div {\n",
              "      margin-bottom: 4px;\n",
              "    }\n",
              "\n",
              "    [theme=dark] .colab-df-convert {\n",
              "      background-color: #3B4455;\n",
              "      fill: #D2E3FC;\n",
              "    }\n",
              "\n",
              "    [theme=dark] .colab-df-convert:hover {\n",
              "      background-color: #434B5C;\n",
              "      box-shadow: 0px 1px 3px 1px rgba(0, 0, 0, 0.15);\n",
              "      filter: drop-shadow(0px 1px 2px rgba(0, 0, 0, 0.3));\n",
              "      fill: #FFFFFF;\n",
              "    }\n",
              "  </style>\n",
              "\n",
              "    <script>\n",
              "      const buttonEl =\n",
              "        document.querySelector('#df-5e2b27a8-892b-4ce5-9523-3a41680c82a8 button.colab-df-convert');\n",
              "      buttonEl.style.display =\n",
              "        google.colab.kernel.accessAllowed ? 'block' : 'none';\n",
              "\n",
              "      async function convertToInteractive(key) {\n",
              "        const element = document.querySelector('#df-5e2b27a8-892b-4ce5-9523-3a41680c82a8');\n",
              "        const dataTable =\n",
              "          await google.colab.kernel.invokeFunction('convertToInteractive',\n",
              "                                                    [key], {});\n",
              "        if (!dataTable) return;\n",
              "\n",
              "        const docLinkHtml = 'Like what you see? Visit the ' +\n",
              "          '<a target=\"_blank\" href=https://colab.research.google.com/notebooks/data_table.ipynb>data table notebook</a>'\n",
              "          + ' to learn more about interactive tables.';\n",
              "        element.innerHTML = '';\n",
              "        dataTable['output_type'] = 'display_data';\n",
              "        await google.colab.output.renderOutput(dataTable, element);\n",
              "        const docLink = document.createElement('div');\n",
              "        docLink.innerHTML = docLinkHtml;\n",
              "        element.appendChild(docLink);\n",
              "      }\n",
              "    </script>\n",
              "  </div>\n",
              "\n",
              "\n",
              "<div id=\"df-ea0e2a36-00d1-41ec-8325-827e632260db\">\n",
              "  <button class=\"colab-df-quickchart\" onclick=\"quickchart('df-ea0e2a36-00d1-41ec-8325-827e632260db')\"\n",
              "            title=\"Suggest charts\"\n",
              "            style=\"display:none;\">\n",
              "\n",
              "<svg xmlns=\"http://www.w3.org/2000/svg\" height=\"24px\"viewBox=\"0 0 24 24\"\n",
              "     width=\"24px\">\n",
              "    <g>\n",
              "        <path d=\"M19 3H5c-1.1 0-2 .9-2 2v14c0 1.1.9 2 2 2h14c1.1 0 2-.9 2-2V5c0-1.1-.9-2-2-2zM9 17H7v-7h2v7zm4 0h-2V7h2v10zm4 0h-2v-4h2v4z\"/>\n",
              "    </g>\n",
              "</svg>\n",
              "  </button>\n",
              "\n",
              "<style>\n",
              "  .colab-df-quickchart {\n",
              "      --bg-color: #E8F0FE;\n",
              "      --fill-color: #1967D2;\n",
              "      --hover-bg-color: #E2EBFA;\n",
              "      --hover-fill-color: #174EA6;\n",
              "      --disabled-fill-color: #AAA;\n",
              "      --disabled-bg-color: #DDD;\n",
              "  }\n",
              "\n",
              "  [theme=dark] .colab-df-quickchart {\n",
              "      --bg-color: #3B4455;\n",
              "      --fill-color: #D2E3FC;\n",
              "      --hover-bg-color: #434B5C;\n",
              "      --hover-fill-color: #FFFFFF;\n",
              "      --disabled-bg-color: #3B4455;\n",
              "      --disabled-fill-color: #666;\n",
              "  }\n",
              "\n",
              "  .colab-df-quickchart {\n",
              "    background-color: var(--bg-color);\n",
              "    border: none;\n",
              "    border-radius: 50%;\n",
              "    cursor: pointer;\n",
              "    display: none;\n",
              "    fill: var(--fill-color);\n",
              "    height: 32px;\n",
              "    padding: 0;\n",
              "    width: 32px;\n",
              "  }\n",
              "\n",
              "  .colab-df-quickchart:hover {\n",
              "    background-color: var(--hover-bg-color);\n",
              "    box-shadow: 0 1px 2px rgba(60, 64, 67, 0.3), 0 1px 3px 1px rgba(60, 64, 67, 0.15);\n",
              "    fill: var(--button-hover-fill-color);\n",
              "  }\n",
              "\n",
              "  .colab-df-quickchart-complete:disabled,\n",
              "  .colab-df-quickchart-complete:disabled:hover {\n",
              "    background-color: var(--disabled-bg-color);\n",
              "    fill: var(--disabled-fill-color);\n",
              "    box-shadow: none;\n",
              "  }\n",
              "\n",
              "  .colab-df-spinner {\n",
              "    border: 2px solid var(--fill-color);\n",
              "    border-color: transparent;\n",
              "    border-bottom-color: var(--fill-color);\n",
              "    animation:\n",
              "      spin 1s steps(1) infinite;\n",
              "  }\n",
              "\n",
              "  @keyframes spin {\n",
              "    0% {\n",
              "      border-color: transparent;\n",
              "      border-bottom-color: var(--fill-color);\n",
              "      border-left-color: var(--fill-color);\n",
              "    }\n",
              "    20% {\n",
              "      border-color: transparent;\n",
              "      border-left-color: var(--fill-color);\n",
              "      border-top-color: var(--fill-color);\n",
              "    }\n",
              "    30% {\n",
              "      border-color: transparent;\n",
              "      border-left-color: var(--fill-color);\n",
              "      border-top-color: var(--fill-color);\n",
              "      border-right-color: var(--fill-color);\n",
              "    }\n",
              "    40% {\n",
              "      border-color: transparent;\n",
              "      border-right-color: var(--fill-color);\n",
              "      border-top-color: var(--fill-color);\n",
              "    }\n",
              "    60% {\n",
              "      border-color: transparent;\n",
              "      border-right-color: var(--fill-color);\n",
              "    }\n",
              "    80% {\n",
              "      border-color: transparent;\n",
              "      border-right-color: var(--fill-color);\n",
              "      border-bottom-color: var(--fill-color);\n",
              "    }\n",
              "    90% {\n",
              "      border-color: transparent;\n",
              "      border-bottom-color: var(--fill-color);\n",
              "    }\n",
              "  }\n",
              "</style>\n",
              "\n",
              "  <script>\n",
              "    async function quickchart(key) {\n",
              "      const quickchartButtonEl =\n",
              "        document.querySelector('#' + key + ' button');\n",
              "      quickchartButtonEl.disabled = true;  // To prevent multiple clicks.\n",
              "      quickchartButtonEl.classList.add('colab-df-spinner');\n",
              "      try {\n",
              "        const charts = await google.colab.kernel.invokeFunction(\n",
              "            'suggestCharts', [key], {});\n",
              "      } catch (error) {\n",
              "        console.error('Error during call to suggestCharts:', error);\n",
              "      }\n",
              "      quickchartButtonEl.classList.remove('colab-df-spinner');\n",
              "      quickchartButtonEl.classList.add('colab-df-quickchart-complete');\n",
              "    }\n",
              "    (() => {\n",
              "      let quickchartButtonEl =\n",
              "        document.querySelector('#df-ea0e2a36-00d1-41ec-8325-827e632260db button');\n",
              "      quickchartButtonEl.style.display =\n",
              "        google.colab.kernel.accessAllowed ? 'block' : 'none';\n",
              "    })();\n",
              "  </script>\n",
              "</div>\n",
              "\n",
              "  <div id=\"id_dd0eae21-d89e-4cd7-9421-728755e1d53a\">\n",
              "    <style>\n",
              "      .colab-df-generate {\n",
              "        background-color: #E8F0FE;\n",
              "        border: none;\n",
              "        border-radius: 50%;\n",
              "        cursor: pointer;\n",
              "        display: none;\n",
              "        fill: #1967D2;\n",
              "        height: 32px;\n",
              "        padding: 0 0 0 0;\n",
              "        width: 32px;\n",
              "      }\n",
              "\n",
              "      .colab-df-generate:hover {\n",
              "        background-color: #E2EBFA;\n",
              "        box-shadow: 0px 1px 2px rgba(60, 64, 67, 0.3), 0px 1px 3px 1px rgba(60, 64, 67, 0.15);\n",
              "        fill: #174EA6;\n",
              "      }\n",
              "\n",
              "      [theme=dark] .colab-df-generate {\n",
              "        background-color: #3B4455;\n",
              "        fill: #D2E3FC;\n",
              "      }\n",
              "\n",
              "      [theme=dark] .colab-df-generate:hover {\n",
              "        background-color: #434B5C;\n",
              "        box-shadow: 0px 1px 3px 1px rgba(0, 0, 0, 0.15);\n",
              "        filter: drop-shadow(0px 1px 2px rgba(0, 0, 0, 0.3));\n",
              "        fill: #FFFFFF;\n",
              "      }\n",
              "    </style>\n",
              "    <button class=\"colab-df-generate\" onclick=\"generateWithVariable('evaluation_tab')\"\n",
              "            title=\"Generate code using this dataframe.\"\n",
              "            style=\"display:none;\">\n",
              "\n",
              "  <svg xmlns=\"http://www.w3.org/2000/svg\" height=\"24px\"viewBox=\"0 0 24 24\"\n",
              "       width=\"24px\">\n",
              "    <path d=\"M7,19H8.4L18.45,9,17,7.55,7,17.6ZM5,21V16.75L18.45,3.32a2,2,0,0,1,2.83,0l1.4,1.43a1.91,1.91,0,0,1,.58,1.4,1.91,1.91,0,0,1-.58,1.4L9.25,21ZM18.45,9,17,7.55Zm-12,3A5.31,5.31,0,0,0,4.9,8.1,5.31,5.31,0,0,0,1,6.5,5.31,5.31,0,0,0,4.9,4.9,5.31,5.31,0,0,0,6.5,1,5.31,5.31,0,0,0,8.1,4.9,5.31,5.31,0,0,0,12,6.5,5.46,5.46,0,0,0,6.5,12Z\"/>\n",
              "  </svg>\n",
              "    </button>\n",
              "    <script>\n",
              "      (() => {\n",
              "      const buttonEl =\n",
              "        document.querySelector('#id_dd0eae21-d89e-4cd7-9421-728755e1d53a button.colab-df-generate');\n",
              "      buttonEl.style.display =\n",
              "        google.colab.kernel.accessAllowed ? 'block' : 'none';\n",
              "\n",
              "      buttonEl.onclick = () => {\n",
              "        google.colab.notebook.generateWithVariable('evaluation_tab');\n",
              "      }\n",
              "      })();\n",
              "    </script>\n",
              "  </div>\n",
              "\n",
              "    </div>\n",
              "  </div>\n"
            ],
            "application/vnd.google.colaboratory.intrinsic+json": {
              "type": "dataframe",
              "variable_name": "evaluation_tab",
              "summary": "{\n  \"name\": \"evaluation_tab\",\n  \"rows\": 4,\n  \"fields\": [\n    {\n      \"column\": \"Metric\",\n      \"properties\": {\n        \"dtype\": \"string\",\n        \"num_unique_values\": 4,\n        \"samples\": [\n          \"F1 Score Macro\",\n          \"Precision Macro\",\n          \"Accuracy\"\n        ],\n        \"semantic_type\": \"\",\n        \"description\": \"\"\n      }\n    },\n    {\n      \"column\": \"MultinomialNB\",\n      \"properties\": {\n        \"dtype\": \"number\",\n        \"std\": 0.3064251680440089,\n        \"min\": 0.10500454959053684,\n        \"max\": 0.7350318471337579,\n        \"num_unique_values\": 4,\n        \"samples\": [\n          0.1210404866792532,\n          0.10500454959053684,\n          0.7350318471337579\n        ],\n        \"semantic_type\": \"\",\n        \"description\": \"\"\n      }\n    },\n    {\n      \"column\": \"LSTM\",\n      \"properties\": {\n        \"dtype\": \"number\",\n        \"std\": 0.12471395924973205,\n        \"min\": 0.6084447979141613,\n        \"max\": 0.8855079938112429,\n        \"num_unique_values\": 4,\n        \"samples\": [\n          0.6362521567695935,\n          0.6982097297935274,\n          0.8855079938112429\n        ],\n        \"semantic_type\": \"\",\n        \"description\": \"\"\n      }\n    },\n    {\n      \"column\": \"GRU\",\n      \"properties\": {\n        \"dtype\": \"number\",\n        \"std\": 0.12148828238376316,\n        \"min\": 0.613800504449127,\n        \"max\": 0.887570912841671,\n        \"num_unique_values\": 4,\n        \"samples\": [\n          0.6516072713663624,\n          0.7362330993116303,\n          0.887570912841671\n        ],\n        \"semantic_type\": \"\",\n        \"description\": \"\"\n      }\n    },\n    {\n      \"column\": \"BiLSTM\",\n      \"properties\": {\n        \"dtype\": \"number\",\n        \"std\": 0.12742038573631656,\n        \"min\": 0.6012158146638187,\n        \"max\": 0.8873130479628675,\n        \"num_unique_values\": 4,\n        \"samples\": [\n          0.6363428490874335,\n          0.7130987182111037,\n          0.8873130479628675\n        ],\n        \"semantic_type\": \"\",\n        \"description\": \"\"\n      }\n    }\n  ]\n}"
            }
          },
          "metadata": {},
          "execution_count": 318
        }
      ]
    },
    {
      "cell_type": "markdown",
      "source": [
        "We can conclude that all the models outperformed the multinomial naive bayes. Indeed, this model performs significantly worse across all metrics. Its inability to balance precision, recall, and F1 score makes it the weakest option.  \n",
        "\n",
        "The LSTM performs well overall, demonstrating strong generalization across classes, but its recall is slightly lower than GRU and BiLSTM. It is a robust model but not the best in handling minority classes.\n",
        "The GRU achieves the best accuracy, recall, precision, and macro F1 score, making it the most balanced and effective model across all metrics. It performs particularly well for minority classes.\n",
        "The BiLSTM performs similarly to GRU in terms of accuracy and precision but falls behind in recall and F1 Score Macro. While it leverages bidirectional context effectively, it doesn't generalize as well as the GRU model across all classes.\n",
        "\n",
        "In conclusion, GRU is the best model for this task. The BiLSTM and LSTM are strong alternatives but are slightly less effective at handling the minority classes."
      ],
      "metadata": {
        "id": "9aPt09_3myZr"
      }
    },
    {
      "cell_type": "markdown",
      "source": [
        "# User interface"
      ],
      "metadata": {
        "id": "4aqY_h2I7vOZ"
      }
    },
    {
      "cell_type": "markdown",
      "source": [
        "At the end we tried to classify our own sentences or tokens that are not present in the dataset. There is the possibility to select the model and insert the text."
      ],
      "metadata": {
        "id": "SZJ2GAzPrRBP"
      }
    },
    {
      "cell_type": "code",
      "source": [
        "def load_selected_model(model_type):\n",
        "    if model_type == \"LSTM\":\n",
        "        return load_model(\"/content/lstm-best-model.keras\")\n",
        "    elif model_type == \"BiLSTM\":\n",
        "        return load_model(\"/content/Bilstm-best-model.keras\")\n",
        "    elif model_type == \"GRU\":\n",
        "        return load_model(\"/content/GRU-best-model.keras\")\n",
        "    else:\n",
        "        raise ValueError(\"Model not valid. Select LSTM, BiLSTM o GRU.\")"
      ],
      "metadata": {
        "id": "JZjxm_UF7ufT"
      },
      "execution_count": null,
      "outputs": []
    },
    {
      "cell_type": "code",
      "source": [
        "tweet = input(\"Insert a sentence for the NER: \")\n",
        "tweet_tokens = tokenizer.texts_to_sequences([tweet])\n",
        "\"Emma, Michele and Alberto are studing data visualization and text mining for Andrea Belli exam in Italy.\"\n",
        "\n",
        "max_sequence_len = 28\n",
        "tweet_padded = pad_sequences(tweet_tokens, maxlen=max_sequence_len)\n",
        "\n",
        "model_type = input(\"Select a model (LSTM, BiLSTM, GRU): \")\n",
        "model = load_selected_model(model_type)\n",
        "\n",
        "tokens, _, model_preds = predictions(model, tweet_padded)\n"
      ],
      "metadata": {
        "colab": {
          "base_uri": "https://localhost:8080/"
        },
        "id": "q0asT1kV9you",
        "outputId": "4d69d027-8e72-4b1f-c904-16ab1625aa95"
      },
      "execution_count": null,
      "outputs": [
        {
          "name": "stdout",
          "output_type": "stream",
          "text": [
            "Insert a sentence for the NER: Emma, Michele and Alberto are studing data visualization and text mining for Andrea Belli exam in Italy.\n",
            "Select a model (LSTM, BiLSTM, GRU): LSTM\n"
          ]
        }
      ]
    },
    {
      "cell_type": "code",
      "source": [
        "print(f\"Sentence: {tweet} \\n\")\n",
        "tokens = [tokenizer.index_word[i] for i in tweet_tokens[0]]\n",
        "print(\"TOKEN \\t\\t NER TAG\")\n",
        "for i, j in zip(tokens, model_preds[0]):\n",
        "  print(f\"{i} \\t\\t {j}\")"
      ],
      "metadata": {
        "id": "6lFRIq3rkx61",
        "outputId": "3eff1ce5-7b20-4f39-d0c6-3b457f05327f",
        "colab": {
          "base_uri": "https://localhost:8080/"
        }
      },
      "execution_count": null,
      "outputs": [
        {
          "output_type": "stream",
          "name": "stdout",
          "text": [
            "Sentence: Emma, Michele and Alberto are studing data visualization and text mining for Andrea Belli exam in Italy. \n",
            "\n",
            "TOKEN \t\t NER TAG\n",
            "emma \t\t B-PER\n",
            "<OOV> \t\t O\n",
            "<OOV> \t\t O\n",
            "<OOV> \t\t O\n",
            "<OOV> \t\t O\n",
            "<OOV> \t\t O\n",
            "data \t\t O\n",
            "<OOV> \t\t O\n",
            "<OOV> \t\t O\n",
            "text \t\t O\n",
            "mining \t\t O\n",
            "<OOV> \t\t O\n",
            "andrea \t\t B-PER\n",
            "<OOV> \t\t O\n",
            "exam \t\t O\n",
            "<OOV> \t\t O\n",
            "italy \t\t B-LOC\n"
          ]
        }
      ]
    },
    {
      "cell_type": "markdown",
      "source": [
        "As it possible to see many tokens of the new sentence are \"OOV\". This because the vocabulary of Tokenizer is build on a small dataset. Indeed the vocabulary size is around 14000. So, all the new words are not recognised. This is a huge limitation that should definitely be solved."
      ],
      "metadata": {
        "id": "8U_FIrtnsocf"
      }
    }
  ]
}