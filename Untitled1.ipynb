{
  "nbformat": 4,
  "nbformat_minor": 0,
  "metadata": {
    "colab": {
      "provenance": [],
      "authorship_tag": "ABX9TyPVXrqHVyWwHDZ3rjIim0rI",
      "include_colab_link": true
    },
    "kernelspec": {
      "name": "python3",
      "display_name": "Python 3"
    },
    "language_info": {
      "name": "python"
    }
  },
  "cells": [
    {
      "cell_type": "markdown",
      "metadata": {
        "id": "view-in-github",
        "colab_type": "text"
      },
      "source": [
        "<a href=\"https://colab.research.google.com/github/MicheleGiambelli/PlotTwisters-Project/blob/main/Untitled1.ipynb\" target=\"_parent\"><img src=\"https://colab.research.google.com/assets/colab-badge.svg\" alt=\"Open In Colab\"/></a>"
      ]
    },
    {
      "cell_type": "markdown",
      "source": [
        "# Step preparazione dataset"
      ],
      "metadata": {
        "id": "jNdUGqErajBe"
      }
    },
    {
      "cell_type": "code",
      "execution_count": 1,
      "metadata": {
        "id": "ZHfUGryHRLgI"
      },
      "outputs": [],
      "source": [
        "import pandas as pd"
      ]
    },
    {
      "cell_type": "code",
      "source": [
        "df = pd.read_csv('/file5.txt', header=None, delimiter='\\t', names=['token', 'ner_tag'])"
      ],
      "metadata": {
        "id": "N1mLTH0zRhb-"
      },
      "execution_count": 23,
      "outputs": []
    },
    {
      "cell_type": "code",
      "source": [
        "df2 = pd.read_csv('/file6.txt', header=None, delimiter='\\t', names=['token', 'ner_tag'], skip_blank_lines=False)\n",
        "df2[\"token\"] = df2[\"token\"].fillna(\"end\")"
      ],
      "metadata": {
        "id": "nFlaN2e_RxgP"
      },
      "execution_count": 38,
      "outputs": []
    },
    {
      "cell_type": "code",
      "source": [
        "#Assegna id di frase a file5\n",
        "def is_sentence_end(token):\n",
        "    return token.startswith('http://')\n",
        "\n",
        "sentence_id = 0\n",
        "for idx, row in df.iterrows():\n",
        "    df.loc[idx, 'id'] = sentence_id\n",
        "    if is_sentence_end(str(row['token'])):\n",
        "        sentence_id += 1"
      ],
      "metadata": {
        "id": "7tNDBIBwSW_D"
      },
      "execution_count": 49,
      "outputs": []
    },
    {
      "cell_type": "code",
      "source": [
        "#Assegna id di frase a file6\n",
        "for idx, row in df2.iterrows():\n",
        "  df2.loc[idx, 'id'] = sentence_id\n",
        "  if row['token'] == 'end':\n",
        "    sentence_id += 1\n",
        "\n",
        "df2 = df2[df2[\"token\"] != \"end\"]"
      ],
      "metadata": {
        "id": "9AtuZNZjWqT7"
      },
      "execution_count": 39,
      "outputs": []
    },
    {
      "cell_type": "code",
      "source": [
        "df_merged = pd.concat([df, df2], ignore_index=True)"
      ],
      "metadata": {
        "id": "Rd5cg4OqZsOz"
      },
      "execution_count": 54,
      "outputs": []
    },
    {
      "cell_type": "markdown",
      "source": [
        "# Algoritmo"
      ],
      "metadata": {
        "id": "NwgxQFyyaqA_"
      }
    },
    {
      "cell_type": "code",
      "source": [],
      "metadata": {
        "id": "Niftbny0apMH"
      },
      "execution_count": null,
      "outputs": []
    }
  ]
}