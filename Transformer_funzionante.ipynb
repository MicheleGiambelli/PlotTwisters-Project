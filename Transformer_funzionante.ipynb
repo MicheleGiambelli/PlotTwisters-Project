{
  "nbformat": 4,
  "nbformat_minor": 0,
  "metadata": {
    "colab": {
      "provenance": [],
      "gpuType": "T4",
      "include_colab_link": true
    },
    "kernelspec": {
      "name": "python3",
      "display_name": "Python 3"
    },
    "language_info": {
      "name": "python"
    },
    "widgets": {
      "application/vnd.jupyter.widget-state+json": {
        "42e94595a69c4f4ab52ea02000a952b3": {
          "model_module": "@jupyter-widgets/controls",
          "model_name": "HBoxModel",
          "model_module_version": "1.5.0",
          "state": {
            "_dom_classes": [],
            "_model_module": "@jupyter-widgets/controls",
            "_model_module_version": "1.5.0",
            "_model_name": "HBoxModel",
            "_view_count": null,
            "_view_module": "@jupyter-widgets/controls",
            "_view_module_version": "1.5.0",
            "_view_name": "HBoxView",
            "box_style": "",
            "children": [
              "IPY_MODEL_ea636cae0350404394b2f729e43b279c",
              "IPY_MODEL_0e50197c9f0a4e4c822bb5c131094107",
              "IPY_MODEL_3e74379545a545e888b3a4a4876d31cd"
            ],
            "layout": "IPY_MODEL_8e3ba7d5a8b14e30bc4889ade4a94e59"
          }
        },
        "ea636cae0350404394b2f729e43b279c": {
          "model_module": "@jupyter-widgets/controls",
          "model_name": "HTMLModel",
          "model_module_version": "1.5.0",
          "state": {
            "_dom_classes": [],
            "_model_module": "@jupyter-widgets/controls",
            "_model_module_version": "1.5.0",
            "_model_name": "HTMLModel",
            "_view_count": null,
            "_view_module": "@jupyter-widgets/controls",
            "_view_module_version": "1.5.0",
            "_view_name": "HTMLView",
            "description": "",
            "description_tooltip": null,
            "layout": "IPY_MODEL_722806229962485b95c2ca0b9260614b",
            "placeholder": "​",
            "style": "IPY_MODEL_856bc247bd8f425bb0b02e583b941832",
            "value": "Map: 100%"
          }
        },
        "0e50197c9f0a4e4c822bb5c131094107": {
          "model_module": "@jupyter-widgets/controls",
          "model_name": "FloatProgressModel",
          "model_module_version": "1.5.0",
          "state": {
            "_dom_classes": [],
            "_model_module": "@jupyter-widgets/controls",
            "_model_module_version": "1.5.0",
            "_model_name": "FloatProgressModel",
            "_view_count": null,
            "_view_module": "@jupyter-widgets/controls",
            "_view_module_version": "1.5.0",
            "_view_name": "ProgressView",
            "bar_style": "success",
            "description": "",
            "description_tooltip": null,
            "layout": "IPY_MODEL_46de7390575948f4a67fef7de33ee6de",
            "max": 2993,
            "min": 0,
            "orientation": "horizontal",
            "style": "IPY_MODEL_b80c856284414c209a26c08f1e357238",
            "value": 2993
          }
        },
        "3e74379545a545e888b3a4a4876d31cd": {
          "model_module": "@jupyter-widgets/controls",
          "model_name": "HTMLModel",
          "model_module_version": "1.5.0",
          "state": {
            "_dom_classes": [],
            "_model_module": "@jupyter-widgets/controls",
            "_model_module_version": "1.5.0",
            "_model_name": "HTMLModel",
            "_view_count": null,
            "_view_module": "@jupyter-widgets/controls",
            "_view_module_version": "1.5.0",
            "_view_name": "HTMLView",
            "description": "",
            "description_tooltip": null,
            "layout": "IPY_MODEL_1b86f6e2b41543bb9015dec2ab356524",
            "placeholder": "​",
            "style": "IPY_MODEL_48253af6b4284211ac1348c3788b26d7",
            "value": " 2993/2993 [00:00&lt;00:00, 6734.86 examples/s]"
          }
        },
        "8e3ba7d5a8b14e30bc4889ade4a94e59": {
          "model_module": "@jupyter-widgets/base",
          "model_name": "LayoutModel",
          "model_module_version": "1.2.0",
          "state": {
            "_model_module": "@jupyter-widgets/base",
            "_model_module_version": "1.2.0",
            "_model_name": "LayoutModel",
            "_view_count": null,
            "_view_module": "@jupyter-widgets/base",
            "_view_module_version": "1.2.0",
            "_view_name": "LayoutView",
            "align_content": null,
            "align_items": null,
            "align_self": null,
            "border": null,
            "bottom": null,
            "display": null,
            "flex": null,
            "flex_flow": null,
            "grid_area": null,
            "grid_auto_columns": null,
            "grid_auto_flow": null,
            "grid_auto_rows": null,
            "grid_column": null,
            "grid_gap": null,
            "grid_row": null,
            "grid_template_areas": null,
            "grid_template_columns": null,
            "grid_template_rows": null,
            "height": null,
            "justify_content": null,
            "justify_items": null,
            "left": null,
            "margin": null,
            "max_height": null,
            "max_width": null,
            "min_height": null,
            "min_width": null,
            "object_fit": null,
            "object_position": null,
            "order": null,
            "overflow": null,
            "overflow_x": null,
            "overflow_y": null,
            "padding": null,
            "right": null,
            "top": null,
            "visibility": null,
            "width": null
          }
        },
        "722806229962485b95c2ca0b9260614b": {
          "model_module": "@jupyter-widgets/base",
          "model_name": "LayoutModel",
          "model_module_version": "1.2.0",
          "state": {
            "_model_module": "@jupyter-widgets/base",
            "_model_module_version": "1.2.0",
            "_model_name": "LayoutModel",
            "_view_count": null,
            "_view_module": "@jupyter-widgets/base",
            "_view_module_version": "1.2.0",
            "_view_name": "LayoutView",
            "align_content": null,
            "align_items": null,
            "align_self": null,
            "border": null,
            "bottom": null,
            "display": null,
            "flex": null,
            "flex_flow": null,
            "grid_area": null,
            "grid_auto_columns": null,
            "grid_auto_flow": null,
            "grid_auto_rows": null,
            "grid_column": null,
            "grid_gap": null,
            "grid_row": null,
            "grid_template_areas": null,
            "grid_template_columns": null,
            "grid_template_rows": null,
            "height": null,
            "justify_content": null,
            "justify_items": null,
            "left": null,
            "margin": null,
            "max_height": null,
            "max_width": null,
            "min_height": null,
            "min_width": null,
            "object_fit": null,
            "object_position": null,
            "order": null,
            "overflow": null,
            "overflow_x": null,
            "overflow_y": null,
            "padding": null,
            "right": null,
            "top": null,
            "visibility": null,
            "width": null
          }
        },
        "856bc247bd8f425bb0b02e583b941832": {
          "model_module": "@jupyter-widgets/controls",
          "model_name": "DescriptionStyleModel",
          "model_module_version": "1.5.0",
          "state": {
            "_model_module": "@jupyter-widgets/controls",
            "_model_module_version": "1.5.0",
            "_model_name": "DescriptionStyleModel",
            "_view_count": null,
            "_view_module": "@jupyter-widgets/base",
            "_view_module_version": "1.2.0",
            "_view_name": "StyleView",
            "description_width": ""
          }
        },
        "46de7390575948f4a67fef7de33ee6de": {
          "model_module": "@jupyter-widgets/base",
          "model_name": "LayoutModel",
          "model_module_version": "1.2.0",
          "state": {
            "_model_module": "@jupyter-widgets/base",
            "_model_module_version": "1.2.0",
            "_model_name": "LayoutModel",
            "_view_count": null,
            "_view_module": "@jupyter-widgets/base",
            "_view_module_version": "1.2.0",
            "_view_name": "LayoutView",
            "align_content": null,
            "align_items": null,
            "align_self": null,
            "border": null,
            "bottom": null,
            "display": null,
            "flex": null,
            "flex_flow": null,
            "grid_area": null,
            "grid_auto_columns": null,
            "grid_auto_flow": null,
            "grid_auto_rows": null,
            "grid_column": null,
            "grid_gap": null,
            "grid_row": null,
            "grid_template_areas": null,
            "grid_template_columns": null,
            "grid_template_rows": null,
            "height": null,
            "justify_content": null,
            "justify_items": null,
            "left": null,
            "margin": null,
            "max_height": null,
            "max_width": null,
            "min_height": null,
            "min_width": null,
            "object_fit": null,
            "object_position": null,
            "order": null,
            "overflow": null,
            "overflow_x": null,
            "overflow_y": null,
            "padding": null,
            "right": null,
            "top": null,
            "visibility": null,
            "width": null
          }
        },
        "b80c856284414c209a26c08f1e357238": {
          "model_module": "@jupyter-widgets/controls",
          "model_name": "ProgressStyleModel",
          "model_module_version": "1.5.0",
          "state": {
            "_model_module": "@jupyter-widgets/controls",
            "_model_module_version": "1.5.0",
            "_model_name": "ProgressStyleModel",
            "_view_count": null,
            "_view_module": "@jupyter-widgets/base",
            "_view_module_version": "1.2.0",
            "_view_name": "StyleView",
            "bar_color": null,
            "description_width": ""
          }
        },
        "1b86f6e2b41543bb9015dec2ab356524": {
          "model_module": "@jupyter-widgets/base",
          "model_name": "LayoutModel",
          "model_module_version": "1.2.0",
          "state": {
            "_model_module": "@jupyter-widgets/base",
            "_model_module_version": "1.2.0",
            "_model_name": "LayoutModel",
            "_view_count": null,
            "_view_module": "@jupyter-widgets/base",
            "_view_module_version": "1.2.0",
            "_view_name": "LayoutView",
            "align_content": null,
            "align_items": null,
            "align_self": null,
            "border": null,
            "bottom": null,
            "display": null,
            "flex": null,
            "flex_flow": null,
            "grid_area": null,
            "grid_auto_columns": null,
            "grid_auto_flow": null,
            "grid_auto_rows": null,
            "grid_column": null,
            "grid_gap": null,
            "grid_row": null,
            "grid_template_areas": null,
            "grid_template_columns": null,
            "grid_template_rows": null,
            "height": null,
            "justify_content": null,
            "justify_items": null,
            "left": null,
            "margin": null,
            "max_height": null,
            "max_width": null,
            "min_height": null,
            "min_width": null,
            "object_fit": null,
            "object_position": null,
            "order": null,
            "overflow": null,
            "overflow_x": null,
            "overflow_y": null,
            "padding": null,
            "right": null,
            "top": null,
            "visibility": null,
            "width": null
          }
        },
        "48253af6b4284211ac1348c3788b26d7": {
          "model_module": "@jupyter-widgets/controls",
          "model_name": "DescriptionStyleModel",
          "model_module_version": "1.5.0",
          "state": {
            "_model_module": "@jupyter-widgets/controls",
            "_model_module_version": "1.5.0",
            "_model_name": "DescriptionStyleModel",
            "_view_count": null,
            "_view_module": "@jupyter-widgets/base",
            "_view_module_version": "1.2.0",
            "_view_name": "StyleView",
            "description_width": ""
          }
        },
        "29b3151973924d2e9ab674114a6c985f": {
          "model_module": "@jupyter-widgets/controls",
          "model_name": "HBoxModel",
          "model_module_version": "1.5.0",
          "state": {
            "_dom_classes": [],
            "_model_module": "@jupyter-widgets/controls",
            "_model_module_version": "1.5.0",
            "_model_name": "HBoxModel",
            "_view_count": null,
            "_view_module": "@jupyter-widgets/controls",
            "_view_module_version": "1.5.0",
            "_view_name": "HBoxView",
            "box_style": "",
            "children": [
              "IPY_MODEL_6bd986858b2843d59535c32b510d1e59",
              "IPY_MODEL_740a2ac21ff84462b96a74756fe18f98",
              "IPY_MODEL_673bf4bdeed946c4b9cfaf9c95ef74d1"
            ],
            "layout": "IPY_MODEL_654f0536b88f41c1bea1842fbcd3bba2"
          }
        },
        "6bd986858b2843d59535c32b510d1e59": {
          "model_module": "@jupyter-widgets/controls",
          "model_name": "HTMLModel",
          "model_module_version": "1.5.0",
          "state": {
            "_dom_classes": [],
            "_model_module": "@jupyter-widgets/controls",
            "_model_module_version": "1.5.0",
            "_model_name": "HTMLModel",
            "_view_count": null,
            "_view_module": "@jupyter-widgets/controls",
            "_view_module_version": "1.5.0",
            "_view_name": "HTMLView",
            "description": "",
            "description_tooltip": null,
            "layout": "IPY_MODEL_9ad2e11593b4455fb408e93bfe045954",
            "placeholder": "​",
            "style": "IPY_MODEL_409c455d767f47a39b0f7982b032fa6e",
            "value": "Map: 100%"
          }
        },
        "740a2ac21ff84462b96a74756fe18f98": {
          "model_module": "@jupyter-widgets/controls",
          "model_name": "FloatProgressModel",
          "model_module_version": "1.5.0",
          "state": {
            "_dom_classes": [],
            "_model_module": "@jupyter-widgets/controls",
            "_model_module_version": "1.5.0",
            "_model_name": "FloatProgressModel",
            "_view_count": null,
            "_view_module": "@jupyter-widgets/controls",
            "_view_module_version": "1.5.0",
            "_view_name": "ProgressView",
            "bar_style": "success",
            "description": "",
            "description_tooltip": null,
            "layout": "IPY_MODEL_97ffe2d5da124abeb35ed2aa8704cd93",
            "max": 855,
            "min": 0,
            "orientation": "horizontal",
            "style": "IPY_MODEL_77e313bf05684b588cf0d5a265f665e3",
            "value": 855
          }
        },
        "673bf4bdeed946c4b9cfaf9c95ef74d1": {
          "model_module": "@jupyter-widgets/controls",
          "model_name": "HTMLModel",
          "model_module_version": "1.5.0",
          "state": {
            "_dom_classes": [],
            "_model_module": "@jupyter-widgets/controls",
            "_model_module_version": "1.5.0",
            "_model_name": "HTMLModel",
            "_view_count": null,
            "_view_module": "@jupyter-widgets/controls",
            "_view_module_version": "1.5.0",
            "_view_name": "HTMLView",
            "description": "",
            "description_tooltip": null,
            "layout": "IPY_MODEL_783fa314a1194686b2d052370b4b4db5",
            "placeholder": "​",
            "style": "IPY_MODEL_948b972d967048078e813fba1a6291dc",
            "value": " 855/855 [00:00&lt;00:00, 5658.19 examples/s]"
          }
        },
        "654f0536b88f41c1bea1842fbcd3bba2": {
          "model_module": "@jupyter-widgets/base",
          "model_name": "LayoutModel",
          "model_module_version": "1.2.0",
          "state": {
            "_model_module": "@jupyter-widgets/base",
            "_model_module_version": "1.2.0",
            "_model_name": "LayoutModel",
            "_view_count": null,
            "_view_module": "@jupyter-widgets/base",
            "_view_module_version": "1.2.0",
            "_view_name": "LayoutView",
            "align_content": null,
            "align_items": null,
            "align_self": null,
            "border": null,
            "bottom": null,
            "display": null,
            "flex": null,
            "flex_flow": null,
            "grid_area": null,
            "grid_auto_columns": null,
            "grid_auto_flow": null,
            "grid_auto_rows": null,
            "grid_column": null,
            "grid_gap": null,
            "grid_row": null,
            "grid_template_areas": null,
            "grid_template_columns": null,
            "grid_template_rows": null,
            "height": null,
            "justify_content": null,
            "justify_items": null,
            "left": null,
            "margin": null,
            "max_height": null,
            "max_width": null,
            "min_height": null,
            "min_width": null,
            "object_fit": null,
            "object_position": null,
            "order": null,
            "overflow": null,
            "overflow_x": null,
            "overflow_y": null,
            "padding": null,
            "right": null,
            "top": null,
            "visibility": null,
            "width": null
          }
        },
        "9ad2e11593b4455fb408e93bfe045954": {
          "model_module": "@jupyter-widgets/base",
          "model_name": "LayoutModel",
          "model_module_version": "1.2.0",
          "state": {
            "_model_module": "@jupyter-widgets/base",
            "_model_module_version": "1.2.0",
            "_model_name": "LayoutModel",
            "_view_count": null,
            "_view_module": "@jupyter-widgets/base",
            "_view_module_version": "1.2.0",
            "_view_name": "LayoutView",
            "align_content": null,
            "align_items": null,
            "align_self": null,
            "border": null,
            "bottom": null,
            "display": null,
            "flex": null,
            "flex_flow": null,
            "grid_area": null,
            "grid_auto_columns": null,
            "grid_auto_flow": null,
            "grid_auto_rows": null,
            "grid_column": null,
            "grid_gap": null,
            "grid_row": null,
            "grid_template_areas": null,
            "grid_template_columns": null,
            "grid_template_rows": null,
            "height": null,
            "justify_content": null,
            "justify_items": null,
            "left": null,
            "margin": null,
            "max_height": null,
            "max_width": null,
            "min_height": null,
            "min_width": null,
            "object_fit": null,
            "object_position": null,
            "order": null,
            "overflow": null,
            "overflow_x": null,
            "overflow_y": null,
            "padding": null,
            "right": null,
            "top": null,
            "visibility": null,
            "width": null
          }
        },
        "409c455d767f47a39b0f7982b032fa6e": {
          "model_module": "@jupyter-widgets/controls",
          "model_name": "DescriptionStyleModel",
          "model_module_version": "1.5.0",
          "state": {
            "_model_module": "@jupyter-widgets/controls",
            "_model_module_version": "1.5.0",
            "_model_name": "DescriptionStyleModel",
            "_view_count": null,
            "_view_module": "@jupyter-widgets/base",
            "_view_module_version": "1.2.0",
            "_view_name": "StyleView",
            "description_width": ""
          }
        },
        "97ffe2d5da124abeb35ed2aa8704cd93": {
          "model_module": "@jupyter-widgets/base",
          "model_name": "LayoutModel",
          "model_module_version": "1.2.0",
          "state": {
            "_model_module": "@jupyter-widgets/base",
            "_model_module_version": "1.2.0",
            "_model_name": "LayoutModel",
            "_view_count": null,
            "_view_module": "@jupyter-widgets/base",
            "_view_module_version": "1.2.0",
            "_view_name": "LayoutView",
            "align_content": null,
            "align_items": null,
            "align_self": null,
            "border": null,
            "bottom": null,
            "display": null,
            "flex": null,
            "flex_flow": null,
            "grid_area": null,
            "grid_auto_columns": null,
            "grid_auto_flow": null,
            "grid_auto_rows": null,
            "grid_column": null,
            "grid_gap": null,
            "grid_row": null,
            "grid_template_areas": null,
            "grid_template_columns": null,
            "grid_template_rows": null,
            "height": null,
            "justify_content": null,
            "justify_items": null,
            "left": null,
            "margin": null,
            "max_height": null,
            "max_width": null,
            "min_height": null,
            "min_width": null,
            "object_fit": null,
            "object_position": null,
            "order": null,
            "overflow": null,
            "overflow_x": null,
            "overflow_y": null,
            "padding": null,
            "right": null,
            "top": null,
            "visibility": null,
            "width": null
          }
        },
        "77e313bf05684b588cf0d5a265f665e3": {
          "model_module": "@jupyter-widgets/controls",
          "model_name": "ProgressStyleModel",
          "model_module_version": "1.5.0",
          "state": {
            "_model_module": "@jupyter-widgets/controls",
            "_model_module_version": "1.5.0",
            "_model_name": "ProgressStyleModel",
            "_view_count": null,
            "_view_module": "@jupyter-widgets/base",
            "_view_module_version": "1.2.0",
            "_view_name": "StyleView",
            "bar_color": null,
            "description_width": ""
          }
        },
        "783fa314a1194686b2d052370b4b4db5": {
          "model_module": "@jupyter-widgets/base",
          "model_name": "LayoutModel",
          "model_module_version": "1.2.0",
          "state": {
            "_model_module": "@jupyter-widgets/base",
            "_model_module_version": "1.2.0",
            "_model_name": "LayoutModel",
            "_view_count": null,
            "_view_module": "@jupyter-widgets/base",
            "_view_module_version": "1.2.0",
            "_view_name": "LayoutView",
            "align_content": null,
            "align_items": null,
            "align_self": null,
            "border": null,
            "bottom": null,
            "display": null,
            "flex": null,
            "flex_flow": null,
            "grid_area": null,
            "grid_auto_columns": null,
            "grid_auto_flow": null,
            "grid_auto_rows": null,
            "grid_column": null,
            "grid_gap": null,
            "grid_row": null,
            "grid_template_areas": null,
            "grid_template_columns": null,
            "grid_template_rows": null,
            "height": null,
            "justify_content": null,
            "justify_items": null,
            "left": null,
            "margin": null,
            "max_height": null,
            "max_width": null,
            "min_height": null,
            "min_width": null,
            "object_fit": null,
            "object_position": null,
            "order": null,
            "overflow": null,
            "overflow_x": null,
            "overflow_y": null,
            "padding": null,
            "right": null,
            "top": null,
            "visibility": null,
            "width": null
          }
        },
        "948b972d967048078e813fba1a6291dc": {
          "model_module": "@jupyter-widgets/controls",
          "model_name": "DescriptionStyleModel",
          "model_module_version": "1.5.0",
          "state": {
            "_model_module": "@jupyter-widgets/controls",
            "_model_module_version": "1.5.0",
            "_model_name": "DescriptionStyleModel",
            "_view_count": null,
            "_view_module": "@jupyter-widgets/base",
            "_view_module_version": "1.2.0",
            "_view_name": "StyleView",
            "description_width": ""
          }
        },
        "327de6ef6e19467f838653905c84e7f7": {
          "model_module": "@jupyter-widgets/controls",
          "model_name": "HBoxModel",
          "model_module_version": "1.5.0",
          "state": {
            "_dom_classes": [],
            "_model_module": "@jupyter-widgets/controls",
            "_model_module_version": "1.5.0",
            "_model_name": "HBoxModel",
            "_view_count": null,
            "_view_module": "@jupyter-widgets/controls",
            "_view_module_version": "1.5.0",
            "_view_name": "HBoxView",
            "box_style": "",
            "children": [
              "IPY_MODEL_4ec4faa8730645dab372a3e11339c991",
              "IPY_MODEL_42b0068eddfc4c9983effc036f7145f4",
              "IPY_MODEL_74b5c3291a414aa985a4f37f7f73bd0f"
            ],
            "layout": "IPY_MODEL_038d48705319477fb39ff0fb4557ea04"
          }
        },
        "4ec4faa8730645dab372a3e11339c991": {
          "model_module": "@jupyter-widgets/controls",
          "model_name": "HTMLModel",
          "model_module_version": "1.5.0",
          "state": {
            "_dom_classes": [],
            "_model_module": "@jupyter-widgets/controls",
            "_model_module_version": "1.5.0",
            "_model_name": "HTMLModel",
            "_view_count": null,
            "_view_module": "@jupyter-widgets/controls",
            "_view_module_version": "1.5.0",
            "_view_name": "HTMLView",
            "description": "",
            "description_tooltip": null,
            "layout": "IPY_MODEL_abd124939fb34a7cae818613baa701f3",
            "placeholder": "​",
            "style": "IPY_MODEL_60a5e1ea5d4b4810a2f4219d95c7c419",
            "value": "Map: 100%"
          }
        },
        "42b0068eddfc4c9983effc036f7145f4": {
          "model_module": "@jupyter-widgets/controls",
          "model_name": "FloatProgressModel",
          "model_module_version": "1.5.0",
          "state": {
            "_dom_classes": [],
            "_model_module": "@jupyter-widgets/controls",
            "_model_module_version": "1.5.0",
            "_model_name": "FloatProgressModel",
            "_view_count": null,
            "_view_module": "@jupyter-widgets/controls",
            "_view_module_version": "1.5.0",
            "_view_name": "ProgressView",
            "bar_style": "success",
            "description": "",
            "description_tooltip": null,
            "layout": "IPY_MODEL_5237738af01e4cd89447f6423f4c65c0",
            "max": 428,
            "min": 0,
            "orientation": "horizontal",
            "style": "IPY_MODEL_d3b3a14d64514d5bb8395b84cbe82ebd",
            "value": 428
          }
        },
        "74b5c3291a414aa985a4f37f7f73bd0f": {
          "model_module": "@jupyter-widgets/controls",
          "model_name": "HTMLModel",
          "model_module_version": "1.5.0",
          "state": {
            "_dom_classes": [],
            "_model_module": "@jupyter-widgets/controls",
            "_model_module_version": "1.5.0",
            "_model_name": "HTMLModel",
            "_view_count": null,
            "_view_module": "@jupyter-widgets/controls",
            "_view_module_version": "1.5.0",
            "_view_name": "HTMLView",
            "description": "",
            "description_tooltip": null,
            "layout": "IPY_MODEL_2d2399aa23364cd88360e32d564477c6",
            "placeholder": "​",
            "style": "IPY_MODEL_c986cf1bc7824900a0d9494a87e32fa3",
            "value": " 428/428 [00:00&lt;00:00, 5053.39 examples/s]"
          }
        },
        "038d48705319477fb39ff0fb4557ea04": {
          "model_module": "@jupyter-widgets/base",
          "model_name": "LayoutModel",
          "model_module_version": "1.2.0",
          "state": {
            "_model_module": "@jupyter-widgets/base",
            "_model_module_version": "1.2.0",
            "_model_name": "LayoutModel",
            "_view_count": null,
            "_view_module": "@jupyter-widgets/base",
            "_view_module_version": "1.2.0",
            "_view_name": "LayoutView",
            "align_content": null,
            "align_items": null,
            "align_self": null,
            "border": null,
            "bottom": null,
            "display": null,
            "flex": null,
            "flex_flow": null,
            "grid_area": null,
            "grid_auto_columns": null,
            "grid_auto_flow": null,
            "grid_auto_rows": null,
            "grid_column": null,
            "grid_gap": null,
            "grid_row": null,
            "grid_template_areas": null,
            "grid_template_columns": null,
            "grid_template_rows": null,
            "height": null,
            "justify_content": null,
            "justify_items": null,
            "left": null,
            "margin": null,
            "max_height": null,
            "max_width": null,
            "min_height": null,
            "min_width": null,
            "object_fit": null,
            "object_position": null,
            "order": null,
            "overflow": null,
            "overflow_x": null,
            "overflow_y": null,
            "padding": null,
            "right": null,
            "top": null,
            "visibility": null,
            "width": null
          }
        },
        "abd124939fb34a7cae818613baa701f3": {
          "model_module": "@jupyter-widgets/base",
          "model_name": "LayoutModel",
          "model_module_version": "1.2.0",
          "state": {
            "_model_module": "@jupyter-widgets/base",
            "_model_module_version": "1.2.0",
            "_model_name": "LayoutModel",
            "_view_count": null,
            "_view_module": "@jupyter-widgets/base",
            "_view_module_version": "1.2.0",
            "_view_name": "LayoutView",
            "align_content": null,
            "align_items": null,
            "align_self": null,
            "border": null,
            "bottom": null,
            "display": null,
            "flex": null,
            "flex_flow": null,
            "grid_area": null,
            "grid_auto_columns": null,
            "grid_auto_flow": null,
            "grid_auto_rows": null,
            "grid_column": null,
            "grid_gap": null,
            "grid_row": null,
            "grid_template_areas": null,
            "grid_template_columns": null,
            "grid_template_rows": null,
            "height": null,
            "justify_content": null,
            "justify_items": null,
            "left": null,
            "margin": null,
            "max_height": null,
            "max_width": null,
            "min_height": null,
            "min_width": null,
            "object_fit": null,
            "object_position": null,
            "order": null,
            "overflow": null,
            "overflow_x": null,
            "overflow_y": null,
            "padding": null,
            "right": null,
            "top": null,
            "visibility": null,
            "width": null
          }
        },
        "60a5e1ea5d4b4810a2f4219d95c7c419": {
          "model_module": "@jupyter-widgets/controls",
          "model_name": "DescriptionStyleModel",
          "model_module_version": "1.5.0",
          "state": {
            "_model_module": "@jupyter-widgets/controls",
            "_model_module_version": "1.5.0",
            "_model_name": "DescriptionStyleModel",
            "_view_count": null,
            "_view_module": "@jupyter-widgets/base",
            "_view_module_version": "1.2.0",
            "_view_name": "StyleView",
            "description_width": ""
          }
        },
        "5237738af01e4cd89447f6423f4c65c0": {
          "model_module": "@jupyter-widgets/base",
          "model_name": "LayoutModel",
          "model_module_version": "1.2.0",
          "state": {
            "_model_module": "@jupyter-widgets/base",
            "_model_module_version": "1.2.0",
            "_model_name": "LayoutModel",
            "_view_count": null,
            "_view_module": "@jupyter-widgets/base",
            "_view_module_version": "1.2.0",
            "_view_name": "LayoutView",
            "align_content": null,
            "align_items": null,
            "align_self": null,
            "border": null,
            "bottom": null,
            "display": null,
            "flex": null,
            "flex_flow": null,
            "grid_area": null,
            "grid_auto_columns": null,
            "grid_auto_flow": null,
            "grid_auto_rows": null,
            "grid_column": null,
            "grid_gap": null,
            "grid_row": null,
            "grid_template_areas": null,
            "grid_template_columns": null,
            "grid_template_rows": null,
            "height": null,
            "justify_content": null,
            "justify_items": null,
            "left": null,
            "margin": null,
            "max_height": null,
            "max_width": null,
            "min_height": null,
            "min_width": null,
            "object_fit": null,
            "object_position": null,
            "order": null,
            "overflow": null,
            "overflow_x": null,
            "overflow_y": null,
            "padding": null,
            "right": null,
            "top": null,
            "visibility": null,
            "width": null
          }
        },
        "d3b3a14d64514d5bb8395b84cbe82ebd": {
          "model_module": "@jupyter-widgets/controls",
          "model_name": "ProgressStyleModel",
          "model_module_version": "1.5.0",
          "state": {
            "_model_module": "@jupyter-widgets/controls",
            "_model_module_version": "1.5.0",
            "_model_name": "ProgressStyleModel",
            "_view_count": null,
            "_view_module": "@jupyter-widgets/base",
            "_view_module_version": "1.2.0",
            "_view_name": "StyleView",
            "bar_color": null,
            "description_width": ""
          }
        },
        "2d2399aa23364cd88360e32d564477c6": {
          "model_module": "@jupyter-widgets/base",
          "model_name": "LayoutModel",
          "model_module_version": "1.2.0",
          "state": {
            "_model_module": "@jupyter-widgets/base",
            "_model_module_version": "1.2.0",
            "_model_name": "LayoutModel",
            "_view_count": null,
            "_view_module": "@jupyter-widgets/base",
            "_view_module_version": "1.2.0",
            "_view_name": "LayoutView",
            "align_content": null,
            "align_items": null,
            "align_self": null,
            "border": null,
            "bottom": null,
            "display": null,
            "flex": null,
            "flex_flow": null,
            "grid_area": null,
            "grid_auto_columns": null,
            "grid_auto_flow": null,
            "grid_auto_rows": null,
            "grid_column": null,
            "grid_gap": null,
            "grid_row": null,
            "grid_template_areas": null,
            "grid_template_columns": null,
            "grid_template_rows": null,
            "height": null,
            "justify_content": null,
            "justify_items": null,
            "left": null,
            "margin": null,
            "max_height": null,
            "max_width": null,
            "min_height": null,
            "min_width": null,
            "object_fit": null,
            "object_position": null,
            "order": null,
            "overflow": null,
            "overflow_x": null,
            "overflow_y": null,
            "padding": null,
            "right": null,
            "top": null,
            "visibility": null,
            "width": null
          }
        },
        "c986cf1bc7824900a0d9494a87e32fa3": {
          "model_module": "@jupyter-widgets/controls",
          "model_name": "DescriptionStyleModel",
          "model_module_version": "1.5.0",
          "state": {
            "_model_module": "@jupyter-widgets/controls",
            "_model_module_version": "1.5.0",
            "_model_name": "DescriptionStyleModel",
            "_view_count": null,
            "_view_module": "@jupyter-widgets/base",
            "_view_module_version": "1.2.0",
            "_view_name": "StyleView",
            "description_width": ""
          }
        }
      }
    },
    "accelerator": "GPU"
  },
  "cells": [
    {
      "cell_type": "markdown",
      "metadata": {
        "id": "view-in-github",
        "colab_type": "text"
      },
      "source": [
        "<a href=\"https://colab.research.google.com/github/MicheleGiambelli/PlotTwisters-Project/blob/main/Transformer_funzionante.ipynb\" target=\"_parent\"><img src=\"https://colab.research.google.com/assets/colab-badge.svg\" alt=\"Open In Colab\"/></a>"
      ]
    },
    {
      "cell_type": "markdown",
      "source": [
        "# **Loading of required libraries**"
      ],
      "metadata": {
        "id": "A09-g-0QhqxH"
      }
    },
    {
      "cell_type": "code",
      "source": [
        "import pandas as pd\n",
        "import numpy as np\n",
        "import string\n",
        "import torch\n",
        "import matplotlib.pyplot as plt\n",
        "import seaborn as sns\n",
        "import warnings\n",
        "warnings.filterwarnings('ignore')\n",
        "\n",
        "!pip install transformers datasets evaluate\n",
        "!pip install transformers datasets evaluate seqeval\n",
        "\n",
        "import os\n",
        "\n",
        "\n",
        "from transformers import AutoTokenizer, AutoModelForTokenClassification, Trainer, TrainingArguments, DataCollatorForTokenClassification, pipeline\n",
        "from tensorflow.keras.callbacks import ModelCheckpoint, EarlyStopping\n",
        "from datasets import Dataset, DatasetDict\n",
        "import evaluate\n",
        "from sklearn.model_selection import train_test_split\n",
        "\n",
        "import spacy\n",
        "from collections import Counter, defaultdict\n",
        "from wordcloud import WordCloud, STOPWORDS\n",
        "import plotly.express as px\n",
        "import networkx as nx\n",
        "from PIL import Image\n",
        "import random\n",
        "from itertools import combinations\n",
        "from scipy.interpolate import make_interp_spline\n",
        "from numpy.random import seed\n",
        "from sklearn.metrics import confusion_matrix, ConfusionMatrixDisplay\n",
        "import matplotlib.pyplot as plt\n",
        "\n"
      ],
      "metadata": {
        "colab": {
          "base_uri": "https://localhost:8080/"
        },
        "collapsed": true,
        "id": "M2OQAw6jtPOJ",
        "outputId": "23bc551c-9a42-4ced-9fc3-1bff74b5a967"
      },
      "execution_count": 1,
      "outputs": [
        {
          "output_type": "stream",
          "name": "stdout",
          "text": [
            "Requirement already satisfied: transformers in /usr/local/lib/python3.10/dist-packages (4.46.2)\n",
            "Collecting datasets\n",
            "  Downloading datasets-3.1.0-py3-none-any.whl.metadata (20 kB)\n",
            "Collecting evaluate\n",
            "  Downloading evaluate-0.4.3-py3-none-any.whl.metadata (9.2 kB)\n",
            "Requirement already satisfied: filelock in /usr/local/lib/python3.10/dist-packages (from transformers) (3.16.1)\n",
            "Requirement already satisfied: huggingface-hub<1.0,>=0.23.2 in /usr/local/lib/python3.10/dist-packages (from transformers) (0.26.2)\n",
            "Requirement already satisfied: numpy>=1.17 in /usr/local/lib/python3.10/dist-packages (from transformers) (1.26.4)\n",
            "Requirement already satisfied: packaging>=20.0 in /usr/local/lib/python3.10/dist-packages (from transformers) (24.2)\n",
            "Requirement already satisfied: pyyaml>=5.1 in /usr/local/lib/python3.10/dist-packages (from transformers) (6.0.2)\n",
            "Requirement already satisfied: regex!=2019.12.17 in /usr/local/lib/python3.10/dist-packages (from transformers) (2024.9.11)\n",
            "Requirement already satisfied: requests in /usr/local/lib/python3.10/dist-packages (from transformers) (2.32.3)\n",
            "Requirement already satisfied: safetensors>=0.4.1 in /usr/local/lib/python3.10/dist-packages (from transformers) (0.4.5)\n",
            "Requirement already satisfied: tokenizers<0.21,>=0.20 in /usr/local/lib/python3.10/dist-packages (from transformers) (0.20.3)\n",
            "Requirement already satisfied: tqdm>=4.27 in /usr/local/lib/python3.10/dist-packages (from transformers) (4.66.6)\n",
            "Requirement already satisfied: pyarrow>=15.0.0 in /usr/local/lib/python3.10/dist-packages (from datasets) (17.0.0)\n",
            "Collecting dill<0.3.9,>=0.3.0 (from datasets)\n",
            "  Downloading dill-0.3.8-py3-none-any.whl.metadata (10 kB)\n",
            "Requirement already satisfied: pandas in /usr/local/lib/python3.10/dist-packages (from datasets) (2.2.2)\n",
            "Collecting xxhash (from datasets)\n",
            "  Downloading xxhash-3.5.0-cp310-cp310-manylinux_2_17_x86_64.manylinux2014_x86_64.whl.metadata (12 kB)\n",
            "Collecting multiprocess<0.70.17 (from datasets)\n",
            "  Downloading multiprocess-0.70.16-py310-none-any.whl.metadata (7.2 kB)\n",
            "Collecting fsspec<=2024.9.0,>=2023.1.0 (from fsspec[http]<=2024.9.0,>=2023.1.0->datasets)\n",
            "  Downloading fsspec-2024.9.0-py3-none-any.whl.metadata (11 kB)\n",
            "Requirement already satisfied: aiohttp in /usr/local/lib/python3.10/dist-packages (from datasets) (3.11.2)\n",
            "Requirement already satisfied: aiohappyeyeballs>=2.3.0 in /usr/local/lib/python3.10/dist-packages (from aiohttp->datasets) (2.4.3)\n",
            "Requirement already satisfied: aiosignal>=1.1.2 in /usr/local/lib/python3.10/dist-packages (from aiohttp->datasets) (1.3.1)\n",
            "Requirement already satisfied: attrs>=17.3.0 in /usr/local/lib/python3.10/dist-packages (from aiohttp->datasets) (24.2.0)\n",
            "Requirement already satisfied: frozenlist>=1.1.1 in /usr/local/lib/python3.10/dist-packages (from aiohttp->datasets) (1.5.0)\n",
            "Requirement already satisfied: multidict<7.0,>=4.5 in /usr/local/lib/python3.10/dist-packages (from aiohttp->datasets) (6.1.0)\n",
            "Requirement already satisfied: propcache>=0.2.0 in /usr/local/lib/python3.10/dist-packages (from aiohttp->datasets) (0.2.0)\n",
            "Requirement already satisfied: yarl<2.0,>=1.17.0 in /usr/local/lib/python3.10/dist-packages (from aiohttp->datasets) (1.17.2)\n",
            "Requirement already satisfied: async-timeout<6.0,>=4.0 in /usr/local/lib/python3.10/dist-packages (from aiohttp->datasets) (4.0.3)\n",
            "Requirement already satisfied: typing-extensions>=3.7.4.3 in /usr/local/lib/python3.10/dist-packages (from huggingface-hub<1.0,>=0.23.2->transformers) (4.12.2)\n",
            "Requirement already satisfied: charset-normalizer<4,>=2 in /usr/local/lib/python3.10/dist-packages (from requests->transformers) (3.4.0)\n",
            "Requirement already satisfied: idna<4,>=2.5 in /usr/local/lib/python3.10/dist-packages (from requests->transformers) (3.10)\n",
            "Requirement already satisfied: urllib3<3,>=1.21.1 in /usr/local/lib/python3.10/dist-packages (from requests->transformers) (2.2.3)\n",
            "Requirement already satisfied: certifi>=2017.4.17 in /usr/local/lib/python3.10/dist-packages (from requests->transformers) (2024.8.30)\n",
            "Requirement already satisfied: python-dateutil>=2.8.2 in /usr/local/lib/python3.10/dist-packages (from pandas->datasets) (2.8.2)\n",
            "Requirement already satisfied: pytz>=2020.1 in /usr/local/lib/python3.10/dist-packages (from pandas->datasets) (2024.2)\n",
            "Requirement already satisfied: tzdata>=2022.7 in /usr/local/lib/python3.10/dist-packages (from pandas->datasets) (2024.2)\n",
            "Requirement already satisfied: six>=1.5 in /usr/local/lib/python3.10/dist-packages (from python-dateutil>=2.8.2->pandas->datasets) (1.16.0)\n",
            "Downloading datasets-3.1.0-py3-none-any.whl (480 kB)\n",
            "\u001b[2K   \u001b[90m━━━━━━━━━━━━━━━━━━━━━━━━━━━━━━━━━━━━━━━━\u001b[0m \u001b[32m480.6/480.6 kB\u001b[0m \u001b[31m16.0 MB/s\u001b[0m eta \u001b[36m0:00:00\u001b[0m\n",
            "\u001b[?25hDownloading evaluate-0.4.3-py3-none-any.whl (84 kB)\n",
            "\u001b[2K   \u001b[90m━━━━━━━━━━━━━━━━━━━━━━━━━━━━━━━━━━━━━━━━\u001b[0m \u001b[32m84.0/84.0 kB\u001b[0m \u001b[31m6.7 MB/s\u001b[0m eta \u001b[36m0:00:00\u001b[0m\n",
            "\u001b[?25hDownloading dill-0.3.8-py3-none-any.whl (116 kB)\n",
            "\u001b[2K   \u001b[90m━━━━━━━━━━━━━━━━━━━━━━━━━━━━━━━━━━━━━━━━\u001b[0m \u001b[32m116.3/116.3 kB\u001b[0m \u001b[31m3.6 MB/s\u001b[0m eta \u001b[36m0:00:00\u001b[0m\n",
            "\u001b[?25hDownloading fsspec-2024.9.0-py3-none-any.whl (179 kB)\n",
            "\u001b[2K   \u001b[90m━━━━━━━━━━━━━━━━━━━━━━━━━━━━━━━━━━━━━━━━\u001b[0m \u001b[32m179.3/179.3 kB\u001b[0m \u001b[31m4.8 MB/s\u001b[0m eta \u001b[36m0:00:00\u001b[0m\n",
            "\u001b[?25hDownloading multiprocess-0.70.16-py310-none-any.whl (134 kB)\n",
            "\u001b[2K   \u001b[90m━━━━━━━━━━━━━━━━━━━━━━━━━━━━━━━━━━━━━━━━\u001b[0m \u001b[32m134.8/134.8 kB\u001b[0m \u001b[31m8.0 MB/s\u001b[0m eta \u001b[36m0:00:00\u001b[0m\n",
            "\u001b[?25hDownloading xxhash-3.5.0-cp310-cp310-manylinux_2_17_x86_64.manylinux2014_x86_64.whl (194 kB)\n",
            "\u001b[2K   \u001b[90m━━━━━━━━━━━━━━━━━━━━━━━━━━━━━━━━━━━━━━━━\u001b[0m \u001b[32m194.1/194.1 kB\u001b[0m \u001b[31m6.3 MB/s\u001b[0m eta \u001b[36m0:00:00\u001b[0m\n",
            "\u001b[?25hInstalling collected packages: xxhash, fsspec, dill, multiprocess, datasets, evaluate\n",
            "  Attempting uninstall: fsspec\n",
            "    Found existing installation: fsspec 2024.10.0\n",
            "    Uninstalling fsspec-2024.10.0:\n",
            "      Successfully uninstalled fsspec-2024.10.0\n",
            "\u001b[31mERROR: pip's dependency resolver does not currently take into account all the packages that are installed. This behaviour is the source of the following dependency conflicts.\n",
            "gcsfs 2024.10.0 requires fsspec==2024.10.0, but you have fsspec 2024.9.0 which is incompatible.\u001b[0m\u001b[31m\n",
            "\u001b[0mSuccessfully installed datasets-3.1.0 dill-0.3.8 evaluate-0.4.3 fsspec-2024.9.0 multiprocess-0.70.16 xxhash-3.5.0\n",
            "Requirement already satisfied: transformers in /usr/local/lib/python3.10/dist-packages (4.46.2)\n",
            "Requirement already satisfied: datasets in /usr/local/lib/python3.10/dist-packages (3.1.0)\n",
            "Requirement already satisfied: evaluate in /usr/local/lib/python3.10/dist-packages (0.4.3)\n",
            "Collecting seqeval\n",
            "  Downloading seqeval-1.2.2.tar.gz (43 kB)\n",
            "\u001b[2K     \u001b[90m━━━━━━━━━━━━━━━━━━━━━━━━━━━━━━━━━━━━━━━━\u001b[0m \u001b[32m43.6/43.6 kB\u001b[0m \u001b[31m3.2 MB/s\u001b[0m eta \u001b[36m0:00:00\u001b[0m\n",
            "\u001b[?25h  Preparing metadata (setup.py) ... \u001b[?25l\u001b[?25hdone\n",
            "Requirement already satisfied: filelock in /usr/local/lib/python3.10/dist-packages (from transformers) (3.16.1)\n",
            "Requirement already satisfied: huggingface-hub<1.0,>=0.23.2 in /usr/local/lib/python3.10/dist-packages (from transformers) (0.26.2)\n",
            "Requirement already satisfied: numpy>=1.17 in /usr/local/lib/python3.10/dist-packages (from transformers) (1.26.4)\n",
            "Requirement already satisfied: packaging>=20.0 in /usr/local/lib/python3.10/dist-packages (from transformers) (24.2)\n",
            "Requirement already satisfied: pyyaml>=5.1 in /usr/local/lib/python3.10/dist-packages (from transformers) (6.0.2)\n",
            "Requirement already satisfied: regex!=2019.12.17 in /usr/local/lib/python3.10/dist-packages (from transformers) (2024.9.11)\n",
            "Requirement already satisfied: requests in /usr/local/lib/python3.10/dist-packages (from transformers) (2.32.3)\n",
            "Requirement already satisfied: safetensors>=0.4.1 in /usr/local/lib/python3.10/dist-packages (from transformers) (0.4.5)\n",
            "Requirement already satisfied: tokenizers<0.21,>=0.20 in /usr/local/lib/python3.10/dist-packages (from transformers) (0.20.3)\n",
            "Requirement already satisfied: tqdm>=4.27 in /usr/local/lib/python3.10/dist-packages (from transformers) (4.66.6)\n",
            "Requirement already satisfied: pyarrow>=15.0.0 in /usr/local/lib/python3.10/dist-packages (from datasets) (17.0.0)\n",
            "Requirement already satisfied: dill<0.3.9,>=0.3.0 in /usr/local/lib/python3.10/dist-packages (from datasets) (0.3.8)\n",
            "Requirement already satisfied: pandas in /usr/local/lib/python3.10/dist-packages (from datasets) (2.2.2)\n",
            "Requirement already satisfied: xxhash in /usr/local/lib/python3.10/dist-packages (from datasets) (3.5.0)\n",
            "Requirement already satisfied: multiprocess<0.70.17 in /usr/local/lib/python3.10/dist-packages (from datasets) (0.70.16)\n",
            "Requirement already satisfied: fsspec<=2024.9.0,>=2023.1.0 in /usr/local/lib/python3.10/dist-packages (from fsspec[http]<=2024.9.0,>=2023.1.0->datasets) (2024.9.0)\n",
            "Requirement already satisfied: aiohttp in /usr/local/lib/python3.10/dist-packages (from datasets) (3.11.2)\n",
            "Requirement already satisfied: scikit-learn>=0.21.3 in /usr/local/lib/python3.10/dist-packages (from seqeval) (1.5.2)\n",
            "Requirement already satisfied: aiohappyeyeballs>=2.3.0 in /usr/local/lib/python3.10/dist-packages (from aiohttp->datasets) (2.4.3)\n",
            "Requirement already satisfied: aiosignal>=1.1.2 in /usr/local/lib/python3.10/dist-packages (from aiohttp->datasets) (1.3.1)\n",
            "Requirement already satisfied: attrs>=17.3.0 in /usr/local/lib/python3.10/dist-packages (from aiohttp->datasets) (24.2.0)\n",
            "Requirement already satisfied: frozenlist>=1.1.1 in /usr/local/lib/python3.10/dist-packages (from aiohttp->datasets) (1.5.0)\n",
            "Requirement already satisfied: multidict<7.0,>=4.5 in /usr/local/lib/python3.10/dist-packages (from aiohttp->datasets) (6.1.0)\n",
            "Requirement already satisfied: propcache>=0.2.0 in /usr/local/lib/python3.10/dist-packages (from aiohttp->datasets) (0.2.0)\n",
            "Requirement already satisfied: yarl<2.0,>=1.17.0 in /usr/local/lib/python3.10/dist-packages (from aiohttp->datasets) (1.17.2)\n",
            "Requirement already satisfied: async-timeout<6.0,>=4.0 in /usr/local/lib/python3.10/dist-packages (from aiohttp->datasets) (4.0.3)\n",
            "Requirement already satisfied: typing-extensions>=3.7.4.3 in /usr/local/lib/python3.10/dist-packages (from huggingface-hub<1.0,>=0.23.2->transformers) (4.12.2)\n",
            "Requirement already satisfied: charset-normalizer<4,>=2 in /usr/local/lib/python3.10/dist-packages (from requests->transformers) (3.4.0)\n",
            "Requirement already satisfied: idna<4,>=2.5 in /usr/local/lib/python3.10/dist-packages (from requests->transformers) (3.10)\n",
            "Requirement already satisfied: urllib3<3,>=1.21.1 in /usr/local/lib/python3.10/dist-packages (from requests->transformers) (2.2.3)\n",
            "Requirement already satisfied: certifi>=2017.4.17 in /usr/local/lib/python3.10/dist-packages (from requests->transformers) (2024.8.30)\n",
            "Requirement already satisfied: scipy>=1.6.0 in /usr/local/lib/python3.10/dist-packages (from scikit-learn>=0.21.3->seqeval) (1.13.1)\n",
            "Requirement already satisfied: joblib>=1.2.0 in /usr/local/lib/python3.10/dist-packages (from scikit-learn>=0.21.3->seqeval) (1.4.2)\n",
            "Requirement already satisfied: threadpoolctl>=3.1.0 in /usr/local/lib/python3.10/dist-packages (from scikit-learn>=0.21.3->seqeval) (3.5.0)\n",
            "Requirement already satisfied: python-dateutil>=2.8.2 in /usr/local/lib/python3.10/dist-packages (from pandas->datasets) (2.8.2)\n",
            "Requirement already satisfied: pytz>=2020.1 in /usr/local/lib/python3.10/dist-packages (from pandas->datasets) (2024.2)\n",
            "Requirement already satisfied: tzdata>=2022.7 in /usr/local/lib/python3.10/dist-packages (from pandas->datasets) (2024.2)\n",
            "Requirement already satisfied: six>=1.5 in /usr/local/lib/python3.10/dist-packages (from python-dateutil>=2.8.2->pandas->datasets) (1.16.0)\n",
            "Building wheels for collected packages: seqeval\n",
            "  Building wheel for seqeval (setup.py) ... \u001b[?25l\u001b[?25hdone\n",
            "  Created wheel for seqeval: filename=seqeval-1.2.2-py3-none-any.whl size=16161 sha256=6b2c660b9fef5d721d59a5accbc948f15cfb8cfb807eec4dc46450fbe7a1f61b\n",
            "  Stored in directory: /root/.cache/pip/wheels/1a/67/4a/ad4082dd7dfc30f2abfe4d80a2ed5926a506eb8a972b4767fa\n",
            "Successfully built seqeval\n",
            "Installing collected packages: seqeval\n",
            "Successfully installed seqeval-1.2.2\n"
          ]
        }
      ]
    },
    {
      "cell_type": "markdown",
      "source": [
        "# **Loading data**"
      ],
      "metadata": {
        "id": "kbzqTRkfq7Fh"
      }
    },
    {
      "cell_type": "markdown",
      "source": [
        "In the following we have implemented the steps already in the **DEA file**, we have included some comments but for further clarification it is recommended to read the mentioned file.\n",
        "\n",
        "The changes from the initial file begin with the split of the dataset (see scripts below)\n",
        "\n",
        "\n",
        "Here in the below are read text rows containing tokens and NER tags, assigning a unique ID to each sentence. We remove empty or invalid rows, concatenating the data into a single clean DataFrame and convert IDs to integers, preparing the dataset for later processing."
      ],
      "metadata": {
        "id": "_ayMu4ZaijEo"
      }
    },
    {
      "cell_type": "code",
      "source": [
        "def file_to_dataframe(file_path):\n",
        "    data = []\n",
        "    with open(file_path, 'r') as file:\n",
        "        lines = file.readlines()  # Leggi tutte le righe del file\n",
        "        for i, line in enumerate(lines):\n",
        "            line = line.strip()  # Rimuove spazi e newline extra\n",
        "            if not line:  # Linea vuota, segna come fine frase\n",
        "                data.append((\"end\", \"end\"))\n",
        "                continue\n",
        "\n",
        "            # Controlla se la riga contiene '\\t' per separare token e tag\n",
        "            if '\\t' in line:\n",
        "                parts = line.split('\\t')\n",
        "                if len(parts) == 2:  # La riga è valida con 2 parti\n",
        "                    token, ner_tag = parts\n",
        "                    data.append((token, ner_tag))\n",
        "                else:  # Riga malformata\n",
        "                    print(f\"Riga malformata alla linea {i + 1}: {line}\")\n",
        "            else:  # Riga senza '\\t'\n",
        "                print(f\"Riga senza tabulazione alla linea {i + 1}: {line}\")\n",
        "                # data.append((\"end\", \"end\"))\n",
        "\n",
        "    return pd.DataFrame(data, columns=['token', 'ner_tag'])\n",
        "\n",
        "# Converte entrambi i file in DataFrame\n",
        "df1 = file_to_dataframe('sample_data/file5.txt')\n",
        "df2 = file_to_dataframe('sample_data/file5.txt')\n",
        "\n",
        "\n",
        "# Assegna id di frase a file6\n",
        "sentence_id = 0\n",
        "for idx, row in df1.iterrows():\n",
        "  df1.loc[idx, 'id'] = sentence_id\n",
        "  if row['token'] == 'end' and row[\"ner_tag\"]==\"end\":\n",
        "    sentence_id += 1\n",
        "\n",
        "for idx, row in df2.iterrows():\n",
        "  df2.loc[idx, 'id'] = sentence_id\n",
        "  if row['token'] == 'end' and row[\"ner_tag\"]==\"end\":\n",
        "    sentence_id += 1\n",
        "\n",
        "\n",
        "df1 = df1[df1[\"ner_tag\"] != \"end\"]\n",
        "df2 = df2[df2[\"ner_tag\"] != \"end\"]\n",
        "\n",
        "combined_df = pd.concat([df1, df2], ignore_index=True)\n",
        "\n",
        "# Convertire la colonna id da float a int\n",
        "combined_df['id'] = combined_df['id'].astype(int)\n",
        "\n",
        "\n",
        "combined_df = combined_df.dropna(subset=['token']).reset_index(drop=True) # con questo medodo possiamo rimuovere le righe del dataframe il cui valore è mancante\n",
        "\n",
        "# Verifichiamo la presenza di righe vuote (serve più avanti per un problema al codice altrimenti)\n",
        "invalid_tokens = combined_df[~combined_df['token'].apply(lambda x: isinstance(x, str))]\n",
        "\n",
        "# Eliminare le righe con valori non stringa nella colonna 'token'\n",
        "combined_df = combined_df[combined_df['token'].apply(lambda x: isinstance(x, str))].reset_index(drop=True)"
      ],
      "metadata": {
        "id": "kVwwBzpcxTbc"
      },
      "execution_count": 28,
      "outputs": []
    },
    {
      "cell_type": "markdown",
      "source": [
        "We used ***SpaCy*** with the pre-trained *en_core_web_sm* template to identify and remove stopwords and punctuation (except @) from the dataset. We implemented a function to clean tokens, remove empty rows, retweets (“rt”) and non-string values."
      ],
      "metadata": {
        "id": "SCoPpSeErds7"
      }
    },
    {
      "cell_type": "code",
      "execution_count": 29,
      "metadata": {
        "id": "QuRYwbRmtEds"
      },
      "outputs": [],
      "source": [
        "# Modello di lingua inglese di Spacy\n",
        "nlp = spacy.load('en_core_web_sm')  # en_core_web_sm è un modello pre addestrato di spacy (small model).\n",
        "stopwords = nlp.Defaults.stop_words\n",
        "# Punteggiatura da rimuovere eslusa @\n",
        "punctuation = set(string.punctuation) - {'@'}\n",
        "\n",
        "# Funzione per eliminare stopwords e punteggiatura\n",
        "def remove_stopwords_and_punctuation(df):\n",
        "    df['token_cleaned'] = df['token'].apply(lambda x: x if x.lower() not in stopwords and x not in punctuation else '') # se è un carattere da rimuovere si crea riga vuota\n",
        "    df = df[df['token_cleaned'] != '']  # Rimuove le righe con token vuoti\n",
        "    return df.drop(columns=['token']).rename(columns={'token_cleaned': 'token'}) # si toglie la vecchia colonna \"token\" e si cambia il nome della nuova colonna \"toen_cleaned\" con \"token\"\n",
        "\n",
        "# Applicare la funzione al dataset combinato\n",
        "combined_df = remove_stopwords_and_punctuation(combined_df)\n",
        "\n",
        "# Elimina le righe in cui il token è \"rt\"\n",
        "combined_df = combined_df[combined_df['token'] != 'rt']  # \"rt\" sta per retweet\n",
        "\n",
        "# Reset dell'indice per un DataFrame pulito (siccome prima abbiamo eliminato righe)\n",
        "combined_df.reset_index(drop=True, inplace=True)\n",
        "\n",
        "# Rimuovere eventuali NaN o valori non stringa nella colonna \"token\"\n",
        "combined_df = combined_df.dropna(subset=['token']).reset_index(drop=True)\n",
        "combined_df = combined_df[combined_df['token'].apply(lambda x: isinstance(x, str))].reset_index(drop=True) # manteniamo solo i valori stringa e togliamo il resto"
      ]
    },
    {
      "cell_type": "markdown",
      "source": [
        "This is where the changes from the DEA file begin.\n",
        "\n",
        "Let's now divide our *combine_df* into *training* (70%), *test* (10% ) and *validation* (20%) such that *tokens* with the same sentence *id* shall remain in the same order and in the same dataset."
      ],
      "metadata": {
        "id": "4lChJTGJHCGl"
      }
    },
    {
      "cell_type": "code",
      "source": [
        "# Dividere il dataset in train, validation e test\n",
        "unique_ids = combined_df['id'].unique()\n",
        "# seed(42) inutile perchè abbiamo già random_state=42 alla riga sotto\n",
        "shuffled_ids = pd.Series(unique_ids).sample(frac=1, random_state=42).values\n",
        "train_ids, temp_ids = train_test_split(shuffled_ids, test_size=0.3, random_state=42)\n",
        "val_ids, test_ids = train_test_split(temp_ids, test_size=1/3, random_state=42)\n",
        "train_df = combined_df[combined_df['id'].isin(train_ids)]\n",
        "val_df = combined_df[combined_df['id'].isin(val_ids)]\n",
        "test_df = combined_df[combined_df['id'].isin(test_ids)]"
      ],
      "metadata": {
        "id": "Qd8tk6MgG9j0"
      },
      "execution_count": 30,
      "outputs": []
    },
    {
      "cell_type": "markdown",
      "source": [
        "# **NER-TAG Classification with Transformers**"
      ],
      "metadata": {
        "id": "HsyNcgcXIyCo"
      }
    },
    {
      "cell_type": "markdown",
      "source": [
        "We defined a path so that we could save the model later (in case we were not using Google Colab)."
      ],
      "metadata": {
        "id": "2AkUegOzLpg0"
      }
    },
    {
      "cell_type": "code",
      "source": [
        "# Per salvataggio modello (codice datato, più avanti lo miglioro, non lo tolgo altrimenti devo fare fine-tuning di nuovo)\n",
        "save_directory = r'C:\\Users\\capel\\OneDrive\\Desktop\\Data Visualization and Text Mining\\Assignment'\n",
        "if not os.path.exists(save_directory):\n",
        "    os.makedirs(save_directory)"
      ],
      "metadata": {
        "id": "lFPjMhvgL0fP"
      },
      "execution_count": 31,
      "outputs": []
    },
    {
      "cell_type": "markdown",
      "source": [
        "To prevent the occurrence of a request for an authentication API key to wandb we wrote this line of code.     "
      ],
      "metadata": {
        "id": "r3LgCNNFMjut"
      }
    },
    {
      "cell_type": "code",
      "source": [
        "# Disabilitare wandb per evitare richieste di API key\n",
        "os.environ[\"WANDB_DISABLED\"] = \"true\"   # Disabilitare wandb (Weights and Biases): evita richieste di autenticazione a Weights and Biases, uno strumento di monitoraggio delle esperienze di machine learning.\n"
      ],
      "metadata": {
        "id": "JM5Cm9wMMkOx"
      },
      "execution_count": 32,
      "outputs": []
    },
    {
      "cell_type": "markdown",
      "source": [
        "## **Mapping NER labels to unique IDs**\n"
      ],
      "metadata": {
        "id": "KD0l2wu7Kqe3"
      }
    },
    {
      "cell_type": "markdown",
      "source": [
        "After identifying all unique NER labels in the data we created two map dictionaries:\n",
        "- ***tag2id***: associates each NER label with a unique numeric ID\n",
        "- ***id2tag***: this does the reverse (numeric ID to NER label).\n",
        "\n",
        "Finally, we apply the tag2id mapping to the three datasets thereby replacing the NER labels with their respective numeric IDs to make the data compatible with the *Hugging* *Face* model."
      ],
      "metadata": {
        "id": "8amtA92rNdSN"
      }
    },
    {
      "cell_type": "code",
      "source": [
        "# step 1: Mappare le etichette NER a ID unici\n",
        "all_df = pd.concat([train_df, val_df, test_df])                     # si poteva utilizzare direttamente combined_df\n",
        "unique_tags = all_df['ner_tag'].unique().tolist()                   # .tolist() converte l'array NumPy restituito da .unique() in una lista Python.\n",
        "tag2id = {tag: idx for idx, tag in enumerate(unique_tags)}          # dizionario in cui la chiave è il NER e il valore è un numero\n",
        "id2tag = {idx: tag for tag, idx in tag2id.items()}                  # viceversa\n",
        "train_df['ner_tag_id'] = train_df['ner_tag'].map(tag2id)            # ogni NER viene sostituito dal corrispondente id numerico presente nel dizionario tag2id\n",
        "val_df['ner_tag_id'] = val_df['ner_tag'].map(tag2id)\n",
        "test_df['ner_tag_id'] = test_df['ner_tag'].map(tag2id)"
      ],
      "metadata": {
        "id": "rNr8vmPIG_Y0"
      },
      "execution_count": 33,
      "outputs": []
    },
    {
      "cell_type": "markdown",
      "source": [
        "## **Preparing Data for Hugging Face**"
      ],
      "metadata": {
        "id": "9bkfYrWKOW1w"
      }
    },
    {
      "cell_type": "markdown",
      "source": [
        "\n",
        "The multiple datasets are reorganized using Pandas *groupby*. The data are grouped by sentence by ID, aggregating tokens and NER numeric labels into lists. This format is required for Hugging Face, since models like BERT work on sentence-level input.\n",
        "\n",
        "In the end, we get three DataFrames (train, val, test), each with one row per complete sentence and its columns with associated tokens and tags."
      ],
      "metadata": {
        "id": "cLPvg17nMtCy"
      }
    },
    {
      "cell_type": "code",
      "source": [
        "####   *step 2: Preparare i dati per Hugging Face**  ########\n",
        "\n",
        "# Raggruppare i token e le etichette per frase utilizzando 'id' come identificatore siccome  modelli tipo BERT operano su frasi complete.\n",
        "def group_data(df):\n",
        "    return df.groupby('id').agg({'token': list, 'ner_tag_id': list}).reset_index()\n",
        "\n",
        "train_dataset = group_data(train_df)\n",
        "val_dataset = group_data(val_df)\n",
        "test_dataset = group_data(test_df)"
      ],
      "metadata": {
        "id": "1xOqCpwtMtL1"
      },
      "execution_count": 34,
      "outputs": []
    },
    {
      "cell_type": "markdown",
      "source": [
        "## **Ensuring the proper alignment between tokens and labels**"
      ],
      "metadata": {
        "id": "HEMrZ5YROsIz"
      }
    },
    {
      "cell_type": "markdown",
      "source": [
        "To be on the safe side, we double checked that the previous step was successful i.e., we checked that the number of tokens and NER labels for each phrase in the three datasets are aligned. The function uses *.str.len()* from Pandas to compare the length of the token lists and labels in each row of the DataFrame. If there are mismatches, the problematic sentences will be printed, otherwise the check passes successfully."
      ],
      "metadata": {
        "id": "DlX1NNQTOsTg"
      }
    },
    {
      "cell_type": "code",
      "source": [
        "####   **step 3: Verificare l'allineamento tra token e etichette**   #####\n",
        "\n",
        "def check_token_label_alignment(df_grouped):\n",
        "    misaligned = df_grouped[\n",
        "        df_grouped['token'].str.len() != df_grouped['ner_tag_id'].str.len()\n",
        "    ]\n",
        "    if not misaligned.empty:\n",
        "        print(\"Frasi con disallineamento tra token e etichette:\")\n",
        "        print(misaligned)\n",
        "    return misaligned.empty\n",
        "\n",
        "assert check_token_label_alignment(train_dataset), \"Disallineamento nel train set\"\n",
        "assert check_token_label_alignment(val_dataset), \"Disallineamento nel validation set\"\n",
        "assert check_token_label_alignment(test_dataset), \"Disallineamento nel test set\""
      ],
      "metadata": {
        "id": "ML1qcgvROsdG"
      },
      "execution_count": 35,
      "outputs": []
    },
    {
      "cell_type": "markdown",
      "source": [
        "## **Creating the datasets for Hugging Face**"
      ],
      "metadata": {
        "id": "lCS0h_xkQA85"
      }
    },
    {
      "cell_type": "markdown",
      "source": [
        "Training, validation, and test datasets are converted from Pandas DataFrame format to Hugging Face's Dataset format using the *Dataset.from_pandas()* function.  Finally, the three datasets are grouped into a DatasetDict object, which organizes the data into a single structure, facilitating access and integration with the Hugging Face API."
      ],
      "metadata": {
        "id": "mOX_0XTBQBEo"
      }
    },
    {
      "cell_type": "code",
      "source": [
        "####    *step 4: Creare i dataset per Hugging Face*    #####\n",
        "\n",
        "train_dataset = Dataset.from_pandas(train_dataset)  # siccome hugging face utilizza specifici formati utilizziamo \"Dataset\" per convertire un DataFrame Pandas in un formato compatibile\n",
        "val_dataset = Dataset.from_pandas(val_dataset)\n",
        "test_dataset = Dataset.from_pandas(test_dataset)\n",
        "\n",
        "datasets = DatasetDict({   # raggruppiamo tutto insieme per facilita l'uso delle API di hugging face.\n",
        "    'train': train_dataset,\n",
        "    'validation': val_dataset,\n",
        "    'test': test_dataset\n",
        "})"
      ],
      "metadata": {
        "id": "pOYT8bVRQBOG"
      },
      "execution_count": 36,
      "outputs": []
    },
    {
      "cell_type": "markdown",
      "source": [
        "## **Loading the tokenizer and the pre-trained model**"
      ],
      "metadata": {
        "id": "26irRfyQQrqq"
      }
    },
    {
      "cell_type": "markdown",
      "source": [
        "- **Pre-trained model**: The model selected is “***distilbert-base-cased***,” a lightweight version of BERT (Bidirectional Encoder Representations from Transformers) designed to be faster and less memory-intensive than the full BERT. It is case-sensitive. An interesting aspect of this tokenizer is its large vocabulary size, which exceeds 28,000 tokens. This wide coverage allows the tokenizer to represent a wide variety of words, characters and sub-words, thus ensuring excellent generalization capability even on complex or non-standardized texts.\n",
        "\n",
        "- **Tokenizer**: The ***AutoTokenizer.from_pretrained()*** function automatically loads the tokenizer associated with the pre-trained template.\n",
        "The tokenizer is responsible for splitting the text into tokens and mapping them to numeric IDs compatible with the template. It also handles the addition of special tokens (e.g., [CLS], [SEP]) and padding/truncation.\n",
        "\n",
        "- **Purpose**: The pre-trained model serves as the base and is adapted (fine-tuned) to the specific data of our NER project.\n",
        "\n",
        "Some additional information on ***distilbert-base-cased*** can be found at the following link:\n",
        "\n",
        " https://huggingface.co/distilbert/distilbert-base-cased\n",
        "\n",
        "\n",
        "Below we cite some of the features of the model.\n",
        "- Distillation loss: the model was trained to return the same probabilities as the BERT base model.\n",
        "- Masked language modeling (MLM): this is part of the original training loss of the BERT base model. When taking a sentence, the model randomly masks 15% of the words in the input then run the entire masked sentence through the model and has to predict the masked words. This is different from traditional recurrent neural networks (RNNs) that usually see the words one after the other, or from autoregressive models like GPT which internally mask the future tokens. It allows the model to learn a bidirectional representation of the sentence.\n",
        "- Cosine embedding loss: the model was also trained to generate hidden states as close as possible as the BERT base model.\n",
        "\n",
        "- Even if the training data used for this model could be characterized as fairly neutral, this model can have biased predictions. It also inherits some of the bias of its teacher model.\n",
        "- DistilBERT pretrained on the same data as BERT, which is BookCorpus, a dataset consisting of 11,038 unpublished books and English Wikipedia (excluding lists, tables and headers).\n",
        "- Small size: DistilBERT has about 40 percent fewer parameters than basic BERT.\n",
        "- Performance: Despite being smaller, DistilBERT maintains about 97% of BERT's performance on several NLP benchmarks.\n",
        "- Advantages:\n",
        "  1. Computational efficiency:Requires less memory and computational resources.\n",
        "  2. Speed: Faster during both training and inference.\n",
        "  3. Suitable for resource-limited environments: Ideal for applications that need lightweight models.\n"
      ],
      "metadata": {
        "id": "_HA89qFKQrwh"
      }
    },
    {
      "cell_type": "code",
      "source": [
        "####  **step 5: Caricare il tokenizer e il modello pre-addestrato**  #######\n",
        "\n",
        "model_name = \"distilbert-base-cased\"                   # Modello leggero e case-sensitive\n",
        "tokenizer = AutoTokenizer.from_pretrained(model_name)  # AutoModelForTokenClassification è il modello pre-addestrato, configurato per il task di token classification (NER).\n",
        "model = AutoModelForTokenClassification.from_pretrained(\n",
        "    model_name, num_labels=len(tag2id)                 # specificare il numero di token unici con num_labels=len(tag2id)\n",
        ")\n"
      ],
      "metadata": {
        "id": "XwYRPv-iQr6O",
        "outputId": "6c402090-861b-47ca-c538-454d2a82bd67",
        "colab": {
          "base_uri": "https://localhost:8080/"
        }
      },
      "execution_count": 37,
      "outputs": [
        {
          "output_type": "stream",
          "name": "stderr",
          "text": [
            "Some weights of DistilBertForTokenClassification were not initialized from the model checkpoint at distilbert-base-cased and are newly initialized: ['classifier.bias', 'classifier.weight']\n",
            "You should probably TRAIN this model on a down-stream task to be able to use it for predictions and inference.\n"
          ]
        }
      ]
    },
    {
      "cell_type": "markdown",
      "source": [
        "## **Tokenization and label alignment**"
      ],
      "metadata": {
        "id": "y-P3lTrRSGsa"
      }
    },
    {
      "cell_type": "markdown",
      "source": [
        "The *tokenize_and_align_labels* function tokenizes sequences using the Hugging Face tokenizer, maintaining alignment between generated tokens and NER labels. Main tokens retain their original labels, while special tokens and sub-tokens are ignored by assigning -100. Tokenization includes padding to equalize sequences to a maximum length of 28 tokens (which would be the maximum length of a sentence in our dataset) . The function is applied to the datasets using *datasets.map()*, removing unnecessary columns and producing training-ready datasets."
      ],
      "metadata": {
        "id": "nFrSNezQSGyT"
      }
    },
    {
      "cell_type": "code",
      "source": [
        "####   **step 6: Tokenizzazione e allineamento delle etichette**   ######\n",
        "\n",
        "def tokenize_and_align_labels(examples):\n",
        "    tokenized_inputs = tokenizer(\n",
        "        examples['token'],\n",
        "        is_split_into_words=True,  # token già divisi in parole (e non frasi)\n",
        "        truncation=True,           # troncare token che superano la lunghezza massima (non ci dovrebbero essere token da 65 in ogni caso)\n",
        "        padding='max_length',      # ricordarsi: il padding è una tecnica utilizzata per gestire input di lunghezza differente. aggiunge token speciali ([PAD]) alle sequenze più corte per uniformarne la lunghezza.\n",
        "        max_length=28              # Lunghezza massima pari a 28\n",
        "    )\n",
        "\n",
        "    labels = []\n",
        "    for i, label in enumerate(examples['ner_tag_id']):\n",
        "        word_ids = tokenized_inputs.word_ids(batch_index=i) # restituisce None per i token speciali come [PAD], [CLS] e [SEP]\n",
        "                                                            # ogni elemento della lista rappresenta l'indice della parola originale a cui il token appartiene oppure None\n",
        "        label_ids = []\n",
        "        previous_word_idx = None\n",
        "        for word_idx in word_ids:\n",
        "            if word_idx is None:                   # si controlla token speciali tipo [CLS], [SEP] e nel caso gli si assegna un etichetta particolare per ignorarli\n",
        "                label_ids.append(-100)\n",
        "            elif word_idx != previous_word_idx:\n",
        "                label_ids.append(label[word_idx])  # Token principali\n",
        "            else:                                  # Gestisce i sotto-token, cioè i token che appartengono alla stessa parola (per sicurezza)\n",
        "                label_ids.append(-100)             # Sotto-token\n",
        "            previous_word_idx = word_idx\n",
        "        labels.append(label_ids)\n",
        "\n",
        "    tokenized_inputs[\"labels\"] = labels\n",
        "    return tokenized_inputs\n",
        "\n",
        "# Applicare la tokenizzazione ai dataset\n",
        "print(\"Tokenizzazione in corso...\")\n",
        "tokenized_datasets = datasets.map(\n",
        "    tokenize_and_align_labels,                    # è la funzione definita prima\n",
        "    batched=True,                                 # più frasi in contemporanea\n",
        "    remove_columns=['id', 'token', 'ner_tag_id']\n",
        ")\n"
      ],
      "metadata": {
        "id": "0Nsfy7IKSG8x",
        "outputId": "6a965b02-935d-4694-e28b-5a9e49d28f0b",
        "colab": {
          "base_uri": "https://localhost:8080/",
          "height": 130,
          "referenced_widgets": [
            "42e94595a69c4f4ab52ea02000a952b3",
            "ea636cae0350404394b2f729e43b279c",
            "0e50197c9f0a4e4c822bb5c131094107",
            "3e74379545a545e888b3a4a4876d31cd",
            "8e3ba7d5a8b14e30bc4889ade4a94e59",
            "722806229962485b95c2ca0b9260614b",
            "856bc247bd8f425bb0b02e583b941832",
            "46de7390575948f4a67fef7de33ee6de",
            "b80c856284414c209a26c08f1e357238",
            "1b86f6e2b41543bb9015dec2ab356524",
            "48253af6b4284211ac1348c3788b26d7",
            "29b3151973924d2e9ab674114a6c985f",
            "6bd986858b2843d59535c32b510d1e59",
            "740a2ac21ff84462b96a74756fe18f98",
            "673bf4bdeed946c4b9cfaf9c95ef74d1",
            "654f0536b88f41c1bea1842fbcd3bba2",
            "9ad2e11593b4455fb408e93bfe045954",
            "409c455d767f47a39b0f7982b032fa6e",
            "97ffe2d5da124abeb35ed2aa8704cd93",
            "77e313bf05684b588cf0d5a265f665e3",
            "783fa314a1194686b2d052370b4b4db5",
            "948b972d967048078e813fba1a6291dc",
            "327de6ef6e19467f838653905c84e7f7",
            "4ec4faa8730645dab372a3e11339c991",
            "42b0068eddfc4c9983effc036f7145f4",
            "74b5c3291a414aa985a4f37f7f73bd0f",
            "038d48705319477fb39ff0fb4557ea04",
            "abd124939fb34a7cae818613baa701f3",
            "60a5e1ea5d4b4810a2f4219d95c7c419",
            "5237738af01e4cd89447f6423f4c65c0",
            "d3b3a14d64514d5bb8395b84cbe82ebd",
            "2d2399aa23364cd88360e32d564477c6",
            "c986cf1bc7824900a0d9494a87e32fa3"
          ]
        }
      },
      "execution_count": 38,
      "outputs": [
        {
          "output_type": "stream",
          "name": "stdout",
          "text": [
            "Tokenizzazione in corso...\n"
          ]
        },
        {
          "output_type": "display_data",
          "data": {
            "text/plain": [
              "Map:   0%|          | 0/2993 [00:00<?, ? examples/s]"
            ],
            "application/vnd.jupyter.widget-view+json": {
              "version_major": 2,
              "version_minor": 0,
              "model_id": "42e94595a69c4f4ab52ea02000a952b3"
            }
          },
          "metadata": {}
        },
        {
          "output_type": "display_data",
          "data": {
            "text/plain": [
              "Map:   0%|          | 0/855 [00:00<?, ? examples/s]"
            ],
            "application/vnd.jupyter.widget-view+json": {
              "version_major": 2,
              "version_minor": 0,
              "model_id": "29b3151973924d2e9ab674114a6c985f"
            }
          },
          "metadata": {}
        },
        {
          "output_type": "display_data",
          "data": {
            "text/plain": [
              "Map:   0%|          | 0/428 [00:00<?, ? examples/s]"
            ],
            "application/vnd.jupyter.widget-view+json": {
              "version_major": 2,
              "version_minor": 0,
              "model_id": "327de6ef6e19467f838653905c84e7f7"
            }
          },
          "metadata": {}
        }
      ]
    },
    {
      "cell_type": "markdown",
      "source": [
        "## **Preparing for training**"
      ],
      "metadata": {
        "id": "rXk24Kp8S1Tp"
      }
    },
    {
      "cell_type": "markdown",
      "source": [
        "**Data Collator**: Hugging Face's *DataCollatorForTokenClassification* is used to handle dynamic padding during batch creation. This ensures that all sequences in a batch have the same length as the longest token, improving efficiency and memory management. testo in corsivo\n",
        "\n",
        "We also computed some metrics to evaluate model performance. This is done by converting probabilistic model predictions to final labels using *np.argmax*.\n",
        "Excluding tokens with -100 label to focus only on relevant tokens.\n",
        "To compute the metrix we used ***seqeval***  that is specific for NER tasks; the metrixs are:\n",
        "- Precision: Percentage of correct entities among those predicted.\n",
        "- Recall: Percentage of correct entities among those present.\n",
        "- F1-Score: Harmonic mean between precision and recall.\n",
        "- Accuracy: Percentage of tokens classified correctly.\n"
      ],
      "metadata": {
        "id": "Uel6QIMTS1aB"
      }
    },
    {
      "cell_type": "code",
      "source": [
        "### **step 7: Preparare per l'addestramento**  ######\n",
        "\n",
        "data_collator = DataCollatorForTokenClassification(tokenizer)  # Data Collator: gestisce il padding dinamico durante la creazione dei batch, in modo che ogni batch sia della stessa lunghezza del token più lungo presente. Questo aumenta l'efficienza e la gestione della memoria.\n",
        "\n",
        "# Definire la funzione per calcolare le metriche\n",
        "def compute_metrics(p):\n",
        "    predictions, labels = p                                    # Rappresenta le predizioni del modello e le etichette vere\n",
        "    predictions = np.argmax(predictions, axis=2)               # Converte le predizioni probabilistiche del modello in etichette finali\n",
        "\n",
        "    true_predictions = [\n",
        "        [id2tag[pred] for (pred, label_id) in zip(prediction, label) if label_id != -100]    # escludiamo i lable -100 ovvero caratteri speciali\n",
        "        for prediction, label in zip(predictions, labels)\n",
        "    ]\n",
        "    true_labels = [\n",
        "        [id2tag[label_id] for (pred, label_id) in zip(prediction, label) if label_id != -100]\n",
        "        for prediction, label in zip(predictions, labels)\n",
        "    ]\n",
        "\n",
        "    # Sequeval per il calcolo delle metriche\n",
        "    seqeval = evaluate.load(\"seqeval\")                       # SEQUEVAL:  è una libreria Python progettata per calcolare metriche di valutazione per il NER.\n",
        "    results = seqeval.compute(predictions=true_predictions, references=true_labels)\n",
        "    return {\n",
        "        \"precision\": results.get(\"overall_precision\", 0.0),  #  Percentuale di entità rilevate correttamente rispetto a tutte quelle predette.\n",
        "        \"recall\": results.get(\"overall_recall\", 0.0),        # Percentuale di entità rilevate correttamente rispetto a tutte quelle effettivamente presenti.\n",
        "        \"f1\": results.get(\"overall_f1\", 0.0),                # Media armonica tra precisione e richiamo\n",
        "        \"accuracy\": results.get(\"overall_accuracy\", 0.0),    # Percentuale di token classificati correttamente (nel validation)\n",
        "\n",
        "    }"
      ],
      "metadata": {
        "id": "Qb5vtZfQS1po"
      },
      "execution_count": 39,
      "outputs": []
    },
    {
      "cell_type": "markdown",
      "source": [
        "## **Setting the training parameters**"
      ],
      "metadata": {
        "id": "_u782RGqURnD"
      }
    },
    {
      "cell_type": "markdown",
      "source": [
        "We defined the training parameters using ***TrainingArguments*** from Hugging Face. Among them, we specified:\n",
        "\n",
        "- The directory where we want to save the model.\n",
        "- The number of training epochs (3).\n",
        "- The batch size for both training and evaluation.\n",
        "- The evaluation and saving strategy (at each epoch).\n",
        "- The logging every 50 steps to monitor progress.\n",
        "- The automatic loading of the best model at the end of training.\n",
        "- The use of mixed-precision calculations (FP16) if we have a GPU with CUDA support, to optimize performance and memory."
      ],
      "metadata": {
        "id": "HVV3OGhZURrO"
      }
    },
    {
      "cell_type": "code",
      "source": [
        "##    **step 8: Impostare i parametri di addestramento* ######à\n",
        "\n",
        "training_args = TrainingArguments(\n",
        "    output_dir=save_directory,        # Directory in cui vorrei salvare il modello (definita in precedenza)\n",
        "    num_train_epochs=20,               # il modello farà (potenzialmente) 20 volte il giro del trainig set\n",
        "    per_device_train_batch_size=32,   # numero di campioni processati in parallelo durante l'addestramento e la valutazione.\n",
        "    per_device_eval_batch_size=32,\n",
        "    evaluation_strategy=\"epoch\",      # valutare il modello al termine di ogni epoca\n",
        "    save_strategy=\"epoch\",\n",
        "    logging_dir='./logs',\n",
        "    logging_steps=50,                # Specifica dove salvare i log e ogni quanti step loggare le informazioni di addestramento (50 dovrebbe essere la prassi)\n",
        "    load_best_model_at_end=True,     # Dopo l'addestramento, carica automaticamente il modello con le migliori prestazioni sulla validation set\n",
        "    report_to=\"none\",\n",
        "    fp16=torch.cuda.is_available(),  # Utilizza calcoli a precisione mista (FP16) se una GPU con supporto CUDA è disponibile, per migliorare la velocità e ridurre il consumo di memoria.\n",
        ")\n"
      ],
      "metadata": {
        "id": "3jrWpouFUR4C"
      },
      "execution_count": 40,
      "outputs": []
    },
    {
      "cell_type": "markdown",
      "source": [
        "## **Creating the trainer**"
      ],
      "metadata": {
        "id": "JhHYYtNqVWlh"
      }
    },
    {
      "cell_type": "markdown",
      "source": [
        "Prior to creating the trainer, we decided to implement **Early Stopping**. It is a technique used to improve the efficiency and effectiveness of model training. It is used to monitor the model's performance on the validation set during training, stopping the process if no significant improvement in metrics is observed for a number of consecutive epochs. This prevents the model from continuing to train unnecessarily, saving computational time and preventing overfitting, which is when the model overfits the training data and loses generalization to the test data.\n",
        "\n",
        "We decided to implement Early Stopping for two main reasons:\n",
        "\n",
        "- Avoiding overtraining (overfitting): By stopping training when performance on the validation set stops improving, we reduce the risk of the model learning specific details of the training set at the expense of generalization.\n",
        "- Optimizing computational resources: Since training can be a long and intensive process, Early Stopping allows us to end training once the best possible result is achieved, saving time and resources."
      ],
      "metadata": {
        "id": "4Q2cGH7nr-HP"
      }
    },
    {
      "cell_type": "code",
      "source": [
        "# Early Stopping\n",
        "from transformers import EarlyStoppingCallback\n",
        "\n",
        "early_stopping = EarlyStoppingCallback(\n",
        "    early_stopping_patience=2,       # Numero di epoche senza miglioramento prima di fermare\n",
        "    early_stopping_threshold=0.01,  # Miglioramento minimo richiesto per continuare\n",
        ")"
      ],
      "metadata": {
        "id": "LZ-sdUvwrnpd"
      },
      "execution_count": 41,
      "outputs": []
    },
    {
      "cell_type": "markdown",
      "source": [
        "We created a trainer using Hugging Face's ***Trainer*** class, which simplifies model training and evaluation. Specifically:\n",
        "\n",
        "- We passed the pre-trained model and previously defined training parameters.\n",
        "- We specified the already tokenized training and validation datasets.\n",
        "- The *tokenizer* and *data_collator* are used to properly handle batch and padding.\n",
        "- The *compute_metrics* function computes evaluation metrics specific to the NER task.\n",
        "- The trainer handles loss automatically, excluding tokens with a -100 label (like padding), making the training process more efficient."
      ],
      "metadata": {
        "id": "qcFuTh71VWsh"
      }
    },
    {
      "cell_type": "code",
      "source": [
        "#####  **step 9: Creare il trainer**  ######\n",
        "\n",
        "trainer = Trainer(                                    # \"Trainer\" in hugging face che include una variante della Cross Entropy Loss la quale ignora automaticamente i token con etichetta -100 (quindi ad esempio i padding)\n",
        "    model=model,                                      # modello pre addestrato\n",
        "    args=training_args,\n",
        "    train_dataset=tokenized_datasets['train'],        # TRAINING SET UTILIZZATO QUI, ricordarsi che contiene sequenze di stringe e -100\n",
        "    eval_dataset=tokenized_datasets['validation'],    # VALIDATION SET UTILIZZATO QUI\n",
        "    tokenizer=tokenizer,\n",
        "    data_collator=data_collator,\n",
        "    compute_metrics=compute_metrics,\n",
        "    callbacks=[early_stopping],\n",
        ")"
      ],
      "metadata": {
        "id": "NbShktObVW1m"
      },
      "execution_count": 42,
      "outputs": []
    },
    {
      "cell_type": "markdown",
      "source": [
        "## **Initiating training**"
      ],
      "metadata": {
        "id": "b8rwkbUuV9jl"
      }
    },
    {
      "cell_type": "markdown",
      "source": [
        "We started training the model using the ***.train()*** method of the Trainer. This step uses the previously defined parameters, the tokenized datasets, and the pre-trained model. During training, the trainer automatically handles batch splitting, loss calculation and optimization, recording progress and saving the best model at the end of each epoch."
      ],
      "metadata": {
        "id": "HWlCgWqaV9mX"
      }
    },
    {
      "cell_type": "code",
      "source": [
        "###  step 10: Avviare l'addestramento  ###\n",
        "\n",
        "print(\"Inizio dell'addestramento...\")\n",
        "trainer.train()"
      ],
      "metadata": {
        "colab": {
          "base_uri": "https://localhost:8080/",
          "height": 284
        },
        "id": "16bYjotv0MMi",
        "outputId": "e2fafe23-f4a9-45e3-dba9-2bfdfd28f8e7"
      },
      "execution_count": 43,
      "outputs": [
        {
          "output_type": "stream",
          "name": "stdout",
          "text": [
            "Inizio dell'addestramento...\n"
          ]
        },
        {
          "output_type": "display_data",
          "data": {
            "text/plain": [
              "<IPython.core.display.HTML object>"
            ],
            "text/html": [
              "\n",
              "    <div>\n",
              "      \n",
              "      <progress value='470' max='1880' style='width:300px; height:20px; vertical-align: middle;'></progress>\n",
              "      [ 470/1880 01:05 < 03:16, 7.18 it/s, Epoch 5/20]\n",
              "    </div>\n",
              "    <table border=\"1\" class=\"dataframe\">\n",
              "  <thead>\n",
              " <tr style=\"text-align: left;\">\n",
              "      <th>Epoch</th>\n",
              "      <th>Training Loss</th>\n",
              "      <th>Validation Loss</th>\n",
              "      <th>Precision</th>\n",
              "      <th>Recall</th>\n",
              "      <th>F1</th>\n",
              "      <th>Accuracy</th>\n",
              "    </tr>\n",
              "  </thead>\n",
              "  <tbody>\n",
              "    <tr>\n",
              "      <td>1</td>\n",
              "      <td>0.784000</td>\n",
              "      <td>0.195953</td>\n",
              "      <td>0.822513</td>\n",
              "      <td>0.770647</td>\n",
              "      <td>0.795736</td>\n",
              "      <td>0.934044</td>\n",
              "    </tr>\n",
              "    <tr>\n",
              "      <td>2</td>\n",
              "      <td>0.143500</td>\n",
              "      <td>0.128656</td>\n",
              "      <td>0.871179</td>\n",
              "      <td>0.890625</td>\n",
              "      <td>0.880795</td>\n",
              "      <td>0.961575</td>\n",
              "    </tr>\n",
              "    <tr>\n",
              "      <td>3</td>\n",
              "      <td>0.064900</td>\n",
              "      <td>0.104300</td>\n",
              "      <td>0.905577</td>\n",
              "      <td>0.915179</td>\n",
              "      <td>0.910352</td>\n",
              "      <td>0.971271</td>\n",
              "    </tr>\n",
              "    <tr>\n",
              "      <td>4</td>\n",
              "      <td>0.033300</td>\n",
              "      <td>0.095762</td>\n",
              "      <td>0.926519</td>\n",
              "      <td>0.935826</td>\n",
              "      <td>0.931149</td>\n",
              "      <td>0.976179</td>\n",
              "    </tr>\n",
              "    <tr>\n",
              "      <td>5</td>\n",
              "      <td>0.022800</td>\n",
              "      <td>0.102502</td>\n",
              "      <td>0.925538</td>\n",
              "      <td>0.936384</td>\n",
              "      <td>0.930929</td>\n",
              "      <td>0.977496</td>\n",
              "    </tr>\n",
              "  </tbody>\n",
              "</table><p>"
            ]
          },
          "metadata": {}
        },
        {
          "output_type": "execute_result",
          "data": {
            "text/plain": [
              "TrainOutput(global_step=470, training_loss=0.1592775932017793, metrics={'train_runtime': 65.2354, 'train_samples_per_second': 917.599, 'train_steps_per_second': 28.819, 'total_flos': 106935959712120.0, 'train_loss': 0.1592775932017793, 'epoch': 5.0})"
            ]
          },
          "metadata": {},
          "execution_count": 43
        }
      ]
    },
    {
      "cell_type": "markdown",
      "source": [
        "**Metrics by Epoch during Training**:\n",
        "In the table, we can see the progress of the model in terms of loss and evaluation metrics during the three training epochs.\n",
        "\n",
        "1. **Training Loss and Validation Loss**:\n",
        "\n",
        "Training Loss and Validation Loss progressively decrease for each epoch. This indicates that the model is improving its ability to learn patterns from the data, reducing both the error on the training data and the error on the validation data. A consistent decrease in Validation Loss suggests that the model is not overfitting, but is generalizing well on unseen data.\n",
        "\n",
        "2. **Precision, Recall, F1, and Accuracy**:\n",
        "\n",
        "- Precision: Represents the percentage of correct predictions among all predictions made. We see that precision improves from 0.802 in the first epoch to 0.889 in the third epoch.\n",
        "\n",
        "- Recall: It indicates the percentage of correct entities that the model was able to detect. Recall also increases from 0.765 to 0.898, indicating that the model was able to recognize more entities correctly as training progressed.\n",
        "\n",
        "- F1 Score: The harmonic mean of precision and recall, representing a good compromise between the two metrics.\n",
        "\n",
        "- Accuracy: The overall Accuracy goes up showing a steady increase in the accuracy of the model.\n",
        "\n",
        "Overall, we can see that the values of all metrics improve during the three epochs, indicating that the model was able to learn and improve effectively."
      ],
      "metadata": {
        "id": "NiY94rCIXfzU"
      }
    },
    {
      "cell_type": "markdown",
      "source": [
        "## **Saving the model**"
      ],
      "metadata": {
        "id": "2JiZF08aZpyL"
      }
    },
    {
      "cell_type": "markdown",
      "source": [
        "Below we have given the option of saving the model in two different ways depending on whether you use Colab or Visual Studio Code."
      ],
      "metadata": {
        "id": "DvmoWlgEZp_W"
      }
    },
    {
      "cell_type": "code",
      "source": [
        "#### **step 12: Salvare il modello addestrato**  ####\n",
        "\n",
        "#questo codice è utile per salvare il modello sul pc se non si sta usando colab\n",
        "#trainer.save_model(save_directory)\n",
        "#tokenizer.save_pretrained(save_directory)\n",
        "\n",
        "\n",
        "####### SALVARE IL MODELLO  sul drive  #######\n",
        "\n",
        "from google.colab import drive\n",
        "drive.mount('/content/drive')\n",
        "\n",
        "save_directory = '/content/drive/MyDrive/Assignment'\n",
        "if not os.path.exists(save_directory):\n",
        "    os.makedirs(save_directory)\n",
        "\n",
        "model.save_pretrained(save_directory)\n",
        "tokenizer.save_pretrained(save_directory)\n",
        "print(f\"Modello e tokenizer salvati correttamente nella directory: {save_directory}\")"
      ],
      "metadata": {
        "colab": {
          "base_uri": "https://localhost:8080/"
        },
        "id": "49RQMvvevzUk",
        "outputId": "828372d5-a696-4c23-90d7-9ccf2395b30d"
      },
      "execution_count": 44,
      "outputs": [
        {
          "output_type": "stream",
          "name": "stdout",
          "text": [
            "Drive already mounted at /content/drive; to attempt to forcibly remount, call drive.mount(\"/content/drive\", force_remount=True).\n",
            "Modello e tokenizer salvati correttamente nella directory: /content/drive/MyDrive/Assignment\n"
          ]
        }
      ]
    },
    {
      "cell_type": "markdown",
      "source": [
        "## **Appraising the fine-tuned model on the various sets**"
      ],
      "metadata": {
        "id": "5ArUW3NpYOfI"
      }
    },
    {
      "cell_type": "markdown",
      "source": [
        "We wanted to evaluate the performance of the model on the validation and test datasets using the *.evaluate()* method.\n",
        "\n",
        "In detail:\n",
        "\n",
        "- Evaluation on the validation set: We computed metrics to monitor how the model performs on unseen data during training.\n",
        "- Evaluation on the test set: We computed the final metrics to measure the overall performance of the model.\n",
        "\n",
        "We collected the key metrics (loss, precision, recall, F1-score, and accuracy) and organized them in a Pandas DataFrame for clear visualization. This allows us to easily compare the results between the validation set and the test set."
      ],
      "metadata": {
        "id": "clPmWKkUYOm8"
      }
    },
    {
      "cell_type": "code",
      "source": [
        "#### step 11: Valutare il modello sui vari set  ####\n",
        "\n",
        "# Specifica la directory dove abbiamo salvato il modello\n",
        "save_directory = '/content/drive/MyDrive/Assignment'\n",
        "\n",
        "# Carica il modello fine-tunato\n",
        "model_fine_tuned = AutoModelForTokenClassification.from_pretrained(save_directory)\n",
        "\n",
        "# Crea un Trainer per il modello fine-tunato\n",
        "trainer_fine_tuned = Trainer(\n",
        "    model=model_fine_tuned,  # Modello fine-tunato\n",
        "    args=training_args,      # Argomenti di addestramento già definiti\n",
        "    train_dataset=tokenized_datasets['train'],\n",
        "    eval_dataset=tokenized_datasets['validation'],\n",
        "    tokenizer=tokenizer,\n",
        "    data_collator=data_collator,\n",
        "    compute_metrics=compute_metrics,\n",
        ")\n",
        "\n",
        "# Valutare il modello fine-tunato sul set di validazione\n",
        "print(\"Valutazione del modello fine-tunato sul validation set...\")\n",
        "validation_metrics_fine_tuned = trainer_fine_tuned.evaluate(tokenized_datasets['validation'])\n",
        "print(\"Metriche sul validation set (modello fine-tunato):\")\n",
        "print(validation_metrics_fine_tuned)\n",
        "\n",
        "# Valutare il modello fine-tunato sul set di test\n",
        "print(\"Valutazione del modello fine-tunato sul test set...\")\n",
        "test_metrics_fine_tuned = trainer_fine_tuned.evaluate(tokenized_datasets['test'])\n",
        "print(\"Metriche sul test set (modello fine-tunato):\")\n",
        "print(test_metrics_fine_tuned)\n",
        "\n",
        "# Raccolta metriche\n",
        "data_fine_tuned = {\n",
        "    \"Set\": [\"Validation\", \"Test\"],\n",
        "    \"Loss\": [validation_metrics_fine_tuned['eval_loss'], test_metrics_fine_tuned['eval_loss']],\n",
        "    \"Precision\": [validation_metrics_fine_tuned.get('eval_precision', 0.0), test_metrics_fine_tuned.get('eval_precision', 0.0)],\n",
        "    \"Recall\": [validation_metrics_fine_tuned.get('eval_recall', 0.0), test_metrics_fine_tuned.get('eval_recall', 0.0)],\n",
        "    \"F1\": [validation_metrics_fine_tuned.get('eval_f1', 0.0), test_metrics_fine_tuned.get('eval_f1', 0.0)],\n",
        "    \"Accuracy\": [validation_metrics_fine_tuned.get('eval_accuracy', 0.0), test_metrics_fine_tuned.get('eval_accuracy', 0.0)]\n",
        "}\n",
        "\n",
        "# Creazione di un DataFrame Pandas per creare tabella leggibile\n",
        "metrics_df_fine_tuned = pd.DataFrame(data_fine_tuned)\n",
        "print(\"\\nTabella riassuntiva delle metriche per il modello fine-tunato:\")\n",
        "print(metrics_df_fine_tuned)\n"
      ],
      "metadata": {
        "colab": {
          "base_uri": "https://localhost:8080/",
          "height": 248
        },
        "id": "OwDAnCXVAqhe",
        "outputId": "326e8bf0-af21-4c5c-9eae-5a2687b4857c"
      },
      "execution_count": 45,
      "outputs": [
        {
          "output_type": "stream",
          "name": "stdout",
          "text": [
            "Valutazione del modello fine-tunato sul validation set...\n"
          ]
        },
        {
          "output_type": "display_data",
          "data": {
            "text/plain": [
              "<IPython.core.display.HTML object>"
            ],
            "text/html": [
              "\n",
              "    <div>\n",
              "      \n",
              "      <progress value='41' max='27' style='width:300px; height:20px; vertical-align: middle;'></progress>\n",
              "      [27/27 00:01]\n",
              "    </div>\n",
              "    "
            ]
          },
          "metadata": {}
        },
        {
          "output_type": "stream",
          "name": "stdout",
          "text": [
            "Metriche sul validation set (modello fine-tunato):\n",
            "{'eval_loss': 0.09576234966516495, 'eval_model_preparation_time': 0.0017, 'eval_precision': 0.9265193370165746, 'eval_recall': 0.9358258928571429, 'eval_f1': 0.9311493614658524, 'eval_accuracy': 0.9761790758917883, 'eval_runtime': 1.3493, 'eval_samples_per_second': 633.655, 'eval_steps_per_second': 20.01}\n",
            "Valutazione del modello fine-tunato sul test set...\n",
            "Metriche sul test set (modello fine-tunato):\n",
            "{'eval_loss': 0.1058788150548935, 'eval_model_preparation_time': 0.0017, 'eval_precision': 0.9223638470451911, 'eval_recall': 0.9191685912240185, 'eval_f1': 0.9207634470792365, 'eval_accuracy': 0.9729858952904614, 'eval_runtime': 0.9764, 'eval_samples_per_second': 438.353, 'eval_steps_per_second': 14.339}\n",
            "\n",
            "Tabella riassuntiva delle metriche per il modello fine-tunato:\n",
            "          Set      Loss  Precision    Recall        F1  Accuracy\n",
            "0  Validation  0.095762   0.926519  0.935826  0.931149  0.976179\n",
            "1        Test  0.105879   0.922364  0.919169  0.920763  0.972986\n"
          ]
        }
      ]
    },
    {
      "cell_type": "markdown",
      "source": [
        "#### **Summary Table of Metrics for Validation and Testing**\n",
        "\n",
        "In the table, metrics calculated on the validation and test sets after the completion of the three training epochs are represented.\n",
        "\n",
        "***Validation Set:*** The values suggest that the model was able to generalize quite well, with good precision and recall.\n",
        "\n",
        "\n",
        "***Test Set:***  Values very similar to validation.\n",
        "\n",
        "\n",
        "Overall Interpretation:\n",
        "- In general, we observe that the model shows good results on both validation and test data. The relatively high accuracy and F1 score suggest that the model has learned to recognize named entities reliably and that the risk of overfitting is low.\n",
        "- The relatively high Recall compared to Precision suggests that the model is rather “inclusive,” trying to identify most entities, although this means that it may occasionally make less accurate predictions (i.e., predict an entity where there is none).\n",
        "- Consistency between validation and test metrics is a good sign, indicating that the model has sufficient generalization ability on data never seen before, without having learned too specific patterns of the training set."
      ],
      "metadata": {
        "id": "UXac_vjkDkK4"
      }
    },
    {
      "cell_type": "markdown",
      "source": [
        "#### **Confusion matrix**"
      ],
      "metadata": {
        "id": "DH0Z0F7dvsRt"
      }
    },
    {
      "cell_type": "markdown",
      "source": [
        "We decided to create the confusion matrix to analyze in detail how the model predicts different NER tags compared to the actual tags.\n",
        "This helps us easily identify areas where the model makes mistakes."
      ],
      "metadata": {
        "id": "XT33TGFuvxx0"
      }
    },
    {
      "cell_type": "code",
      "source": [
        "# Funzione per calcolare le predizioni e le etichette vere dal validation set\n",
        "def get_predictions_and_labels(trainer, dataset):\n",
        "    # Ottieni predizioni dal modello\n",
        "    predictions, labels, _ = trainer.predict(dataset)\n",
        "\n",
        "    # Converti le predizioni probabilistiche in etichette\n",
        "    predictions = np.argmax(predictions, axis=2)\n",
        "\n",
        "    # Filtra i token speciali (-100) dalle etichette\n",
        "    true_labels = [\n",
        "        [label for label in label_seq if label != -100]\n",
        "        for label_seq in labels\n",
        "    ]\n",
        "    pred_labels = [\n",
        "        [pred for pred, label in zip(pred_seq, label_seq) if label != -100]\n",
        "        for pred_seq, label_seq in zip(predictions, labels)\n",
        "    ]\n",
        "\n",
        "    # Appiattisci le liste per calcolare la matrice di confusione\n",
        "    true_labels = [item for sublist in true_labels for item in sublist]\n",
        "    pred_labels = [item for sublist in pred_labels for item in sublist]\n",
        "\n",
        "    return true_labels, pred_labels\n",
        "\n",
        "# Ottieni le etichette vere e predette dal validation set\n",
        "true_labels, pred_labels = get_predictions_and_labels(trainer_fine_tuned, tokenized_datasets['test'])\n",
        "\n",
        "# Calcola la matrice di confusione\n",
        "conf_matrix = confusion_matrix(true_labels, pred_labels, labels=list(tag2id.values()))\n",
        "\n",
        "# Mappa gli ID delle etichette ai nomi dei tag NER\n",
        "labels = [id2tag[id_] for id_ in tag2id.values()]\n",
        "\n",
        "# Visualizza la matrice di confusione\n",
        "plt.figure(figsize=(10, 8))\n",
        "disp = ConfusionMatrixDisplay(confusion_matrix=conf_matrix, display_labels=labels)\n",
        "disp.plot(cmap='Blues', xticks_rotation=45)\n",
        "plt.title(\"Confusion Matrix\")\n",
        "plt.show()\n"
      ],
      "metadata": {
        "colab": {
          "base_uri": "https://localhost:8080/",
          "height": 517
        },
        "id": "ci1_jCL5uzAG",
        "outputId": "e69704a9-b9dc-453d-98df-c49ba50dac2d"
      },
      "execution_count": 46,
      "outputs": [
        {
          "output_type": "display_data",
          "data": {
            "text/plain": [
              "<IPython.core.display.HTML object>"
            ],
            "text/html": []
          },
          "metadata": {}
        },
        {
          "output_type": "display_data",
          "data": {
            "text/plain": [
              "<Figure size 1000x800 with 0 Axes>"
            ]
          },
          "metadata": {}
        },
        {
          "output_type": "display_data",
          "data": {
            "text/plain": [
              "<Figure size 640x480 with 2 Axes>"
            ],
            "image/png": "[encoded data removed]"
          },
          "metadata": {}
        }
      ]
    },
    {
      "cell_type": "markdown",
      "source": [
        "From the confusion matrix, the following key points are observed:\n",
        "\n",
        "- Class “O” has the highest number of correct predictions (2972), indicating that the model is effective in recognizing tokens that do not belong to any entity.\n",
        "- The classes “B-PER” and “I-PER” show good performance with 333 and 149 correct predictions, respectively, but there are some confusions with other classes, such as “B-ORG.”\n",
        "- “B-LOC” and ‘I-ORG’ are two other well-predicted classes, with 232 and 87 correct predictions respectively.\n",
        "- The “I-LOC” and “B-ORG” classes show some confounding, with few errors distributed among neighboring classes.\n",
        "\n",
        "In general, the model shows a good level of accuracy on the main classes, but some confounding suggests that the training data could be improved or that it would be useful to add additional features to better distinguish similar tags."
      ],
      "metadata": {
        "id": "M__-Hlfk0dmg"
      }
    },
    {
      "cell_type": "markdown",
      "source": [
        "# **Testing the NER label prediction model**\n",
        "\n"
      ],
      "metadata": {
        "id": "fShR92jfeS1f"
      }
    },
    {
      "cell_type": "markdown",
      "source": [
        "We decided to test the model on ner tag predictions on both the pretrained non-fine-tuned and fine-tuned models.\n",
        "\n",
        "Lets' start with the the pretrained fine-tuned model.  \n",
        "\n",
        "We loaded the fine-tuned model and tokenizer from the ./sample_data directory. The predict_ner function allows us to tokenize a sentence, obtain predictions from the model, and reconstruct words with their respective NER labels, ignoring special tokens. Finally, we tested the model on novel sentences to verify its ability to correctly identify and classify entities such as proper names, places, and organizations."
      ],
      "metadata": {
        "id": "XGoUONhSa1Ca"
      }
    },
    {
      "cell_type": "code",
      "source": [
        "# Specificare la directory dove sono salvati i file (\"./sample_data\" è la mia ad esmpio)\n",
        "model_directory = \"/content/drive/MyDrive/Assignment\"\n",
        "\n",
        "# Caricare il modello fine-tunato e il tokenizer\n",
        "model = AutoModelForTokenClassification.from_pretrained(model_directory)  # Carica il modello fine-tunato\n",
        "                                                                          # config: Per configurare il modello.\n",
        "                                                                          # model.safetensors: Per caricare i pesi addestrati.\n",
        "                                                                          # tokenizer_config, special_tokens_map, vocab: Per configurare il tokenizer e mappare i token ai rispettivi ID\n",
        "tokenizer = AutoTokenizer.from_pretrained(model_directory)                # Carica il tokenizer\n",
        "\n",
        "# Funzione di predizione\n",
        "def predict_ner(sentence):\n",
        "    # Tokenizzare la frase\n",
        "    inputs = tokenizer.encode_plus(\n",
        "        sentence,\n",
        "        return_tensors='pt',             # Restituisce l'output come tensori PyTorch\n",
        "        is_split_into_words=False,       # Input è una frase completa\n",
        "        truncation=True,\n",
        "        max_length=65                    # Lunghezza max usata durante l'addestramento\n",
        "    )\n",
        "    input_ids = inputs['input_ids']\n",
        "\n",
        "    model.eval()                         # Modello in modalità valutazione per evitare modifiche ai pesi\n",
        "\n",
        "    # Ottenere le predizioni\n",
        "    with torch.no_grad():                # Disabilita il calcolo del gradiente\n",
        "        outputs = model(**inputs)       # Si ottengono i logits\n",
        "    predictions = torch.argmax(outputs.logits, dim=2)[0].numpy()    # Per ogni token si seleziona l'indice della classe con la probabilità più alta\n",
        "\n",
        "    # Convertire input_ids in token\n",
        "    tokens = tokenizer.convert_ids_to_tokens(input_ids[0])\n",
        "\n",
        "    # Ricostruire le parole dai sub-token e assegnare le etichette\n",
        "    words = []\n",
        "    labels = []\n",
        "    for idx, (token, pred) in enumerate(zip(tokens, predictions)):\n",
        "        if token in [tokenizer.cls_token, tokenizer.sep_token, tokenizer.pad_token]:\n",
        "            continue\n",
        "        if token.startswith('##'):\n",
        "            words[-1] += token[2:]\n",
        "        else:\n",
        "            words.append(token)\n",
        "            labels.append(id2tag[pred])\n",
        "\n",
        "    # Stampare le parole e le relative etichette\n",
        "    print(\"\\nPredizione:\")\n",
        "    print(\"Parola\\tEtichetta\")\n",
        "    for word, label in zip(words, labels):\n",
        "        print(f\"{word}\\t{label}\")\n",
        "\n",
        "\n",
        "print(\"\\nEsempio di predizione:\")\n",
        "test_sentence = \"let's see if the predictions of @Plottwisters are correct and look if Emma has done a great job here in milan.\"\n",
        "predict_ner(test_sentence)\n",
        "test_sentence = \"Hi Emma in Milan, !!! America, Obama, Trump and NATO @Plottwister is predicting pretty well.\"\n",
        "predict_ner(test_sentence)\n"
      ],
      "metadata": {
        "colab": {
          "base_uri": "https://localhost:8080/"
        },
        "id": "DVShVUrcaREr",
        "outputId": "6f2e4480-1acc-4dfe-d876-f10095b4a235"
      },
      "execution_count": 47,
      "outputs": [
        {
          "output_type": "stream",
          "name": "stdout",
          "text": [
            "\n",
            "Esempio di predizione:\n",
            "\n",
            "Predizione:\n",
            "Parola\tEtichetta\n",
            "let\tO\n",
            "'\tO\n",
            "s\tO\n",
            "see\tO\n",
            "if\tO\n",
            "the\tO\n",
            "predictions\tO\n",
            "of\tO\n",
            "@\tB-PER\n",
            "Plottwisters\tB-PER\n",
            "are\tO\n",
            "correct\tO\n",
            "and\tO\n",
            "look\tO\n",
            "if\tO\n",
            "Emma\tB-PER\n",
            "has\tO\n",
            "done\tO\n",
            "a\tO\n",
            "great\tO\n",
            "job\tO\n",
            "here\tO\n",
            "in\tO\n",
            "milan\tB-LOC\n",
            ".\tO\n",
            "\n",
            "Predizione:\n",
            "Parola\tEtichetta\n",
            "Hi\tO\n",
            "Emma\tB-PER\n",
            "in\tO\n",
            "Milan\tB-LOC\n",
            ",\tO\n",
            "!\tO\n",
            "!\tO\n",
            "!\tO\n",
            "America\tB-LOC\n",
            ",\tO\n",
            "Obama\tB-PER\n",
            ",\tO\n",
            "Trump\tB-PER\n",
            "and\tO\n",
            "NATO\tB-ORG\n",
            "@\tB-PER\n",
            "Plottwister\tB-PER\n",
            "is\tO\n",
            "predicting\tO\n",
            "pretty\tO\n",
            "well\tO\n",
            ".\tB-LOC\n"
          ]
        }
      ]
    },
    {
      "cell_type": "markdown",
      "source": [
        "We then used the same approach for the non-fine-tuned model"
      ],
      "metadata": {
        "id": "CppaA1OBbRCX"
      }
    },
    {
      "cell_type": "code",
      "source": [
        "####  TESTIAMO IL MODELLO  (ma sul modello di hugging face e non sul modello fine-tunato, dopo lo farò pure su quello), è una prova   ########\n",
        "\n",
        "def predict_ner(sentence):\n",
        "    # Tokenizzare la frase (ovvero trasforma ogni parola in un ID numerico.)\n",
        "    inputs = tokenizer.encode_plus(\n",
        "        sentence,\n",
        "        return_tensors='pt',             # Restituisce l'output come tensori PyTorch\n",
        "        is_split_into_words=False,       # input è una frase cimpleta\n",
        "        truncation=True,\n",
        "        max_length=65                    # lunghezza max usata durante l'addestramento\n",
        "    )\n",
        "    input_ids = inputs['input_ids']\n",
        "\n",
        "\n",
        "    model.eval()                         # modello in modalità valutazione per evitare modifiche dei pesi\n",
        "\n",
        "    # Ottenere le predizioni\n",
        "    with torch.no_grad():                # Disabilita il calcolo del gradiente\n",
        "        outputs = model(input_ids)       # si ottengono i logits che sono le probabilità non normalizzate per ogni token e per ogni classe NER\n",
        "                                         # qua utilizzo il modello addestrato prima\n",
        "    predictions = torch.argmax(outputs.logits, dim=2)[0].numpy()    # Per ogni token si seleziona l'indice della classe con la probabilità più alta\n",
        "\n",
        "    # Convertire input_ids in token\n",
        "    tokens = tokenizer.convert_ids_to_tokens(input_ids[0])\n",
        "\n",
        "    # Ricostruire le parole dai sub-token e assegnare le etichette\n",
        "    words = []\n",
        "    labels = []\n",
        "    for idx, (token, pred) in enumerate(zip(tokens, predictions)):\n",
        "        if token in [tokenizer.cls_token, tokenizer.sep_token, tokenizer.pad_token]:\n",
        "            continue  # Ignora token speciali\n",
        "        if token.startswith('##'):\n",
        "            words[-1] += token[2:]\n",
        "        else:\n",
        "            words.append(token)\n",
        "            labels.append(id2tag[pred])\n",
        "\n",
        "    # Stampare le parole e le relative etichette\n",
        "    print(\"\\nPredizione:\")\n",
        "    print(\"Parola\\tEtichetta\")\n",
        "    for word, label in zip(words, labels):\n",
        "        print(f\"{word}\\t{label}\")"
      ],
      "metadata": {
        "id": "0z3B6Lq6d437"
      },
      "execution_count": null,
      "outputs": []
    },
    {
      "cell_type": "code",
      "source": [
        "###  Esempi di predizione   ###\n",
        "print(\"\\nEsempio di predizione:\")\n",
        "test_sentence = \"let's see if the predictions of @Plottwisters are correct and look if Emma has done a great job here in milan.\"\n",
        "predict_ner(test_sentence)"
      ],
      "metadata": {
        "colab": {
          "base_uri": "https://localhost:8080/"
        },
        "id": "ZWmgBiUJ02q3",
        "outputId": "3e0f09be-009e-4e63-96bb-13c65be2b935"
      },
      "execution_count": null,
      "outputs": [
        {
          "output_type": "stream",
          "name": "stdout",
          "text": [
            "\n",
            "Esempio di predizione:\n",
            "\n",
            "Predizione:\n",
            "Parola\tEtichetta\n",
            "let\tO\n",
            "'\tO\n",
            "s\tO\n",
            "see\tO\n",
            "if\tO\n",
            "the\tO\n",
            "predictions\tO\n",
            "of\tO\n",
            "@\tB-PER\n",
            "Plottwisters\tB-PER\n",
            "are\tO\n",
            "correct\tO\n",
            "and\tO\n",
            "look\tO\n",
            "if\tO\n",
            "Emma\tB-PER\n",
            "has\tO\n",
            "done\tO\n",
            "a\tO\n",
            "great\tO\n",
            "job\tO\n",
            "here\tO\n",
            "in\tO\n",
            "milan\tB-LOC\n",
            ".\tO\n"
          ]
        }
      ]
    },
    {
      "cell_type": "markdown",
      "source": [
        "We can see that both models make accurate and precise predictions."
      ],
      "metadata": {
        "id": "A3owti64bZht"
      }
    }
  ]
}